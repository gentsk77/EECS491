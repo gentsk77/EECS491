{
 "cells": [
  {
   "cell_type": "markdown",
   "metadata": {},
   "source": [
    "# Building Belief Networks with `pgmpy`"
   ]
  },
  {
   "cell_type": "markdown",
   "metadata": {},
   "source": [
    "In this notebook we will use the [`pgmpy` python package](http://pgmpy.org) to build belief networks.  See the website for detailed installation instructions, but basically:\n",
    "\n",
    "```bash\n",
    "$ pip3 install -r requirements.txt\n",
    "$ pip3 install pgmpy\n",
    "```\n",
    "\n",
    "where the `requirements.txt` file (obtained from the github source [here](https://github.com/pgmpy/pgmpy/blob/dev/requirements.txt)) is a list of the `pgmpy` package dependencies that must also be installed.\n",
    "\n",
    "See [the docs](http://pgmpy.org) for reference or [these notebooks](https://github.com/pgmpy/pgmpy_notebook/tree/master/notebooks) and [these examples](https://github.com/pgmpy/pgmpy/tree/dev/examples) from the `pgmpy` github site (although several aren't finished).  We will cover the basics here."
   ]
  },
  {
   "cell_type": "markdown",
   "metadata": {},
   "source": [
    "## Example 1: Inspector Clouseau"
   ]
  },
  {
   "cell_type": "markdown",
   "metadata": {},
   "source": [
    "Here we re-do the Inspector Clouseau example from Barber, but this time by constructing a belief network.\n",
    "\n",
    ">**Barber Example 1.3 (Inspector Clouseau)**\n",
    ">\n",
    ">Inspector Clouseau arrives at the scene of a crime. The victim lies dead in the room and the inspector quickly ﬁnds the murder weapon, a Knife (`K`). The Butler (`B`) and Maid (`M`) are his main suspects. The inspector has a prior belief of 0.8 that the Butler is the murderer, and a prior belief of 0.2 that the Maid is the murderer. These probabilities are independent in the sense that $p(B, M) = p(B)p(M)$. (It is possible that both the Butler and the Maid murdered the victim or neither). The inspector’s *prior* criminal knowledge can be formulated mathematically as follows.\n",
    "\n",
    "(Here we use short-hand notation, e.g. $p(B)$ means the (*a priori*) probability that the butler is the murder, $p(K|B,\\lnot M$ means the probability that the knife was used given that the butler was the murder and the maid was not.)\n",
    ">\n",
    ">$$\n",
    "\\begin{align}\n",
    "p(B) & = 0.6 \\\\\n",
    "p(M) & = 0.2 \\\\\n",
    "p(M, B) & = p(M)p(B)\n",
    "\\end{align}\n",
    "$$\n",
    ">\n",
    ">$$\n",
    "\\begin{align}\n",
    "p(K | \\lnot B, \\lnot M) & = 0.3 \\\\\n",
    "p(K | \\lnot B, M) & = 0.2 \\\\\n",
    "p(K | B, \\lnot M) & = 0.6 \\\\\n",
    "p(K | B, M) & = 0.1\n",
    "\\end{align}\n",
    "$$\n",
    ">\n",
    ">Assuming the knife is the murder weapon, what is the probability that the Butler is the murderer?"
   ]
  },
  {
   "cell_type": "markdown",
   "metadata": {},
   "source": [
    "We can solve this by creating a Bayesian network using the `pgmpy` package.  First, we import it:"
   ]
  },
  {
   "cell_type": "code",
   "execution_count": 1,
   "metadata": {},
   "outputs": [],
   "source": [
    "from pgmpy.models import BayesianModel\n",
    "from pgmpy.factors.discrete import TabularCPD"
   ]
  },
  {
   "cell_type": "markdown",
   "metadata": {},
   "source": [
    "### Build Up Network"
   ]
  },
  {
   "cell_type": "markdown",
   "metadata": {},
   "source": [
    "In `pgmpy`, a belief network is specified by variables and their conditional probabilities. To build the model, you describe the structure of network by defining nodes and links in a directed graph, and then assign the conditional probabilities (or priors) for each variable."
   ]
  },
  {
   "cell_type": "code",
   "execution_count": 2,
   "metadata": {},
   "outputs": [],
   "source": [
    "model = BayesianModel([('B', 'K'), ('M', 'K')])\n",
    "\n",
    "# define p(B) and p(M) \n",
    "# variable_card is cardinality = 2 for true|false\n",
    "# values are defined in numeric order p(x_i = [false, true]), ie  [0, 1]\n",
    "priorB = TabularCPD(variable='B', variable_card=2, values=[[0.4, 0.6]])\n",
    "priorM = TabularCPD(variable='M', variable_card=2, values=[[0.8, 0.2]])\n",
    "\n",
    "# define p(K|B,M)\n",
    "# Variables cycle in numerical order of evidence values,\n",
    "# ie BM = 00, 01, 10, 11 for each value of K.\n",
    "cpdK = TabularCPD(variable='K', variable_card=2, \n",
    "    evidence=['B', 'M'], evidence_card=[2, 2],\n",
    "    values=[[0.7, 0.8, 0.4, 0.9], \n",
    "            [0.3, 0.2, 0.6, 0.1]])\n",
    "\n",
    "# add probabilities to model\n",
    "model.add_cpds(priorB, priorM, cpdK)"
   ]
  },
  {
   "cell_type": "markdown",
   "metadata": {},
   "source": [
    "The `check_model` function check structure and values consistency. For example, it will give an error if the probabilities don't sum to one."
   ]
  },
  {
   "cell_type": "code",
   "execution_count": 3,
   "metadata": {},
   "outputs": [
    {
     "data": {
      "text/plain": [
       "True"
      ]
     },
     "execution_count": 3,
     "metadata": {},
     "output_type": "execute_result"
    }
   ],
   "source": [
    "model.check_model()"
   ]
  },
  {
   "cell_type": "markdown",
   "metadata": {},
   "source": [
    "#### Two methods for plotting\n",
    "\n",
    "1. Using [`networkx`](https://networkx.github.io/documentation/networkx-1.9/index.html) and [pyplot](https://matplotlib.org/api/pyplot_api.html) packages.  This plots directly from model."
   ]
  },
  {
   "cell_type": "code",
   "execution_count": 4,
   "metadata": {},
   "outputs": [
    {
     "ename": "ImportError",
     "evalue": "cannot import name _path",
     "output_type": "error",
     "traceback": [
      "\u001b[1;31m\u001b[0m",
      "\u001b[1;31mImportError\u001b[0mTraceback (most recent call last)",
      "\u001b[1;32m<ipython-input-4-4e3f9009258c>\u001b[0m in \u001b[0;36m<module>\u001b[1;34m()\u001b[0m\n\u001b[0;32m      1\u001b[0m \u001b[1;31m# TODO: Improve the layout and style\u001b[0m\u001b[1;33m\u001b[0m\u001b[1;33m\u001b[0m\u001b[0m\n\u001b[0;32m      2\u001b[0m \u001b[1;32mimport\u001b[0m \u001b[0mnetworkx\u001b[0m \u001b[1;32mas\u001b[0m \u001b[0mnx\u001b[0m\u001b[1;33m\u001b[0m\u001b[0m\n\u001b[1;32m----> 3\u001b[1;33m \u001b[1;32mimport\u001b[0m \u001b[0mmatplotlib\u001b[0m\u001b[1;33m.\u001b[0m\u001b[0mpyplot\u001b[0m \u001b[1;32mas\u001b[0m \u001b[0mplt\u001b[0m\u001b[1;33m\u001b[0m\u001b[0m\n\u001b[0m\u001b[0;32m      4\u001b[0m \u001b[0mnx\u001b[0m\u001b[1;33m.\u001b[0m\u001b[0mdraw\u001b[0m\u001b[1;33m(\u001b[0m\u001b[0mmodel\u001b[0m\u001b[1;33m,\u001b[0m \u001b[0mwith_labels\u001b[0m\u001b[1;33m=\u001b[0m\u001b[0mTrue\u001b[0m\u001b[1;33m)\u001b[0m\u001b[1;33m\u001b[0m\u001b[0m\n\u001b[0;32m      5\u001b[0m \u001b[0mplt\u001b[0m\u001b[1;33m.\u001b[0m\u001b[0mshow\u001b[0m\u001b[1;33m(\u001b[0m\u001b[1;33m)\u001b[0m\u001b[1;33m\u001b[0m\u001b[0m\n",
      "\u001b[1;32mC:\\ProgramData\\Anaconda3\\lib\\site-packages\\matplotlib\\pyplot.py\u001b[0m in \u001b[0;36m<module>\u001b[1;34m()\u001b[0m\n\u001b[0;32m     29\u001b[0m \u001b[1;32mfrom\u001b[0m \u001b[0mcycler\u001b[0m \u001b[1;32mimport\u001b[0m \u001b[0mcycler\u001b[0m\u001b[1;33m\u001b[0m\u001b[0m\n\u001b[0;32m     30\u001b[0m \u001b[1;32mimport\u001b[0m \u001b[0mmatplotlib\u001b[0m\u001b[1;33m\u001b[0m\u001b[0m\n\u001b[1;32m---> 31\u001b[1;33m \u001b[1;32mimport\u001b[0m \u001b[0mmatplotlib\u001b[0m\u001b[1;33m.\u001b[0m\u001b[0mcolorbar\u001b[0m\u001b[1;33m\u001b[0m\u001b[0m\n\u001b[0m\u001b[0;32m     32\u001b[0m \u001b[1;32mfrom\u001b[0m \u001b[0mmatplotlib\u001b[0m \u001b[1;32mimport\u001b[0m \u001b[0mstyle\u001b[0m\u001b[1;33m\u001b[0m\u001b[0m\n\u001b[0;32m     33\u001b[0m \u001b[1;32mfrom\u001b[0m \u001b[0mmatplotlib\u001b[0m \u001b[1;32mimport\u001b[0m \u001b[0m_pylab_helpers\u001b[0m\u001b[1;33m,\u001b[0m \u001b[0minteractive\u001b[0m\u001b[1;33m\u001b[0m\u001b[0m\n",
      "\u001b[1;32mC:\\ProgramData\\Anaconda3\\lib\\site-packages\\matplotlib\\colorbar.py\u001b[0m in \u001b[0;36m<module>\u001b[1;34m()\u001b[0m\n\u001b[0;32m     30\u001b[0m \u001b[1;33m\u001b[0m\u001b[0m\n\u001b[0;32m     31\u001b[0m \u001b[1;32mimport\u001b[0m \u001b[0mmatplotlib\u001b[0m \u001b[1;32mas\u001b[0m \u001b[0mmpl\u001b[0m\u001b[1;33m\u001b[0m\u001b[0m\n\u001b[1;32m---> 32\u001b[1;33m \u001b[1;32mimport\u001b[0m \u001b[0mmatplotlib\u001b[0m\u001b[1;33m.\u001b[0m\u001b[0martist\u001b[0m \u001b[1;32mas\u001b[0m \u001b[0mmartist\u001b[0m\u001b[1;33m\u001b[0m\u001b[0m\n\u001b[0m\u001b[0;32m     33\u001b[0m \u001b[1;32mimport\u001b[0m \u001b[0mmatplotlib\u001b[0m\u001b[1;33m.\u001b[0m\u001b[0mcbook\u001b[0m \u001b[1;32mas\u001b[0m \u001b[0mcbook\u001b[0m\u001b[1;33m\u001b[0m\u001b[0m\n\u001b[0;32m     34\u001b[0m \u001b[1;32mimport\u001b[0m \u001b[0mmatplotlib\u001b[0m\u001b[1;33m.\u001b[0m\u001b[0mcollections\u001b[0m \u001b[1;32mas\u001b[0m \u001b[0mcollections\u001b[0m\u001b[1;33m\u001b[0m\u001b[0m\n",
      "\u001b[1;32mC:\\ProgramData\\Anaconda3\\lib\\site-packages\\matplotlib\\artist.py\u001b[0m in \u001b[0;36m<module>\u001b[1;34m()\u001b[0m\n\u001b[0;32m     14\u001b[0m \u001b[1;32mimport\u001b[0m \u001b[0mmatplotlib\u001b[0m\u001b[1;33m\u001b[0m\u001b[0m\n\u001b[0;32m     15\u001b[0m \u001b[1;32mfrom\u001b[0m \u001b[1;33m.\u001b[0m \u001b[1;32mimport\u001b[0m \u001b[0mcbook\u001b[0m\u001b[1;33m,\u001b[0m \u001b[0mdocstring\u001b[0m\u001b[1;33m,\u001b[0m \u001b[0mrcParams\u001b[0m\u001b[1;33m\u001b[0m\u001b[0m\n\u001b[1;32m---> 16\u001b[1;33m \u001b[1;32mfrom\u001b[0m \u001b[1;33m.\u001b[0m\u001b[0mpath\u001b[0m \u001b[1;32mimport\u001b[0m \u001b[0mPath\u001b[0m\u001b[1;33m\u001b[0m\u001b[0m\n\u001b[0m\u001b[0;32m     17\u001b[0m from .transforms import (Bbox, IdentityTransform, Transform, TransformedBbox,\n\u001b[0;32m     18\u001b[0m                          TransformedPatchPath, TransformedPath)\n",
      "\u001b[1;32mC:\\ProgramData\\Anaconda3\\lib\\site-packages\\matplotlib\\path.py\u001b[0m in \u001b[0;36m<module>\u001b[1;34m()\u001b[0m\n\u001b[0;32m     19\u001b[0m \u001b[1;32mimport\u001b[0m \u001b[0mnumpy\u001b[0m \u001b[1;32mas\u001b[0m \u001b[0mnp\u001b[0m\u001b[1;33m\u001b[0m\u001b[0m\n\u001b[0;32m     20\u001b[0m \u001b[1;33m\u001b[0m\u001b[0m\n\u001b[1;32m---> 21\u001b[1;33m \u001b[1;32mfrom\u001b[0m \u001b[1;33m.\u001b[0m \u001b[1;32mimport\u001b[0m \u001b[0m_path\u001b[0m\u001b[1;33m,\u001b[0m \u001b[0mrcParams\u001b[0m\u001b[1;33m\u001b[0m\u001b[0m\n\u001b[0m\u001b[0;32m     22\u001b[0m from .cbook import (_to_unmasked_float_array, simple_linear_interpolation,\n\u001b[0;32m     23\u001b[0m                     maxdict)\n",
      "\u001b[1;31mImportError\u001b[0m: cannot import name _path"
     ]
    }
   ],
   "source": [
    "# TODO: Improve the layout and style\n",
    "import networkx as nx\n",
    "import matplotlib.pyplot as plt\n",
    "nx.draw(model, with_labels=True)\n",
    "plt.show()"
   ]
  },
  {
   "cell_type": "markdown",
   "metadata": {},
   "source": [
    "2. Use the [graphviz](https://github.com/xflr6/graphviz) package, which produces a nice layout by default, but you have to define the graph separately."
   ]
  },
  {
   "cell_type": "code",
   "execution_count": 5,
   "metadata": {},
   "outputs": [
    {
     "data": {
      "image/svg+xml": [
       "<?xml version=\"1.0\" encoding=\"UTF-8\" standalone=\"no\"?>\r\n",
       "<!DOCTYPE svg PUBLIC \"-//W3C//DTD SVG 1.1//EN\"\r\n",
       " \"http://www.w3.org/Graphics/SVG/1.1/DTD/svg11.dtd\">\r\n",
       "<!-- Generated by graphviz version 2.38.0 (20140413.2041)\r\n",
       " -->\r\n",
       "<!-- Title: %3 Pages: 1 -->\r\n",
       "<svg width=\"150pt\" height=\"116pt\"\r\n",
       " viewBox=\"0.00 0.00 149.74 116.00\" xmlns=\"http://www.w3.org/2000/svg\" xmlns:xlink=\"http://www.w3.org/1999/xlink\">\r\n",
       "<g id=\"graph0\" class=\"graph\" transform=\"scale(1 1) rotate(0) translate(4 112)\">\r\n",
       "<title>%3</title>\r\n",
       "<polygon fill=\"white\" stroke=\"none\" points=\"-4,4 -4,-112 145.745,-112 145.745,4 -4,4\"/>\r\n",
       "<!-- B -->\r\n",
       "<g id=\"node1\" class=\"node\"><title>B</title>\r\n",
       "<ellipse fill=\"none\" stroke=\"black\" cx=\"32.4971\" cy=\"-90\" rx=\"32.4942\" ry=\"18\"/>\r\n",
       "<text text-anchor=\"middle\" x=\"32.4971\" y=\"-86.3\" font-family=\"Times New Roman,serif\" font-size=\"14.00\">Butler</text>\r\n",
       "</g>\r\n",
       "<!-- K -->\r\n",
       "<g id=\"node3\" class=\"node\"><title>K</title>\r\n",
       "<ellipse fill=\"none\" stroke=\"black\" cx=\"72.4971\" cy=\"-18\" rx=\"30.5947\" ry=\"18\"/>\r\n",
       "<text text-anchor=\"middle\" x=\"72.4971\" y=\"-14.3\" font-family=\"Times New Roman,serif\" font-size=\"14.00\">Knife</text>\r\n",
       "</g>\r\n",
       "<!-- B&#45;&gt;K -->\r\n",
       "<g id=\"edge1\" class=\"edge\"><title>B&#45;&gt;K</title>\r\n",
       "<path fill=\"none\" stroke=\"black\" d=\"M41.9766,-72.411C46.7588,-64.0421 52.6629,-53.7098 58.0001,-44.3698\"/>\r\n",
       "<polygon fill=\"black\" stroke=\"black\" points=\"61.1631,-45.8889 63.0857,-35.4699 55.0854,-42.4159 61.1631,-45.8889\"/>\r\n",
       "</g>\r\n",
       "<!-- M -->\r\n",
       "<g id=\"node2\" class=\"node\"><title>M</title>\r\n",
       "<ellipse fill=\"none\" stroke=\"black\" cx=\"112.497\" cy=\"-90\" rx=\"29.4969\" ry=\"18\"/>\r\n",
       "<text text-anchor=\"middle\" x=\"112.497\" y=\"-86.3\" font-family=\"Times New Roman,serif\" font-size=\"14.00\">Maid</text>\r\n",
       "</g>\r\n",
       "<!-- M&#45;&gt;K -->\r\n",
       "<g id=\"edge2\" class=\"edge\"><title>M&#45;&gt;K</title>\r\n",
       "<path fill=\"none\" stroke=\"black\" d=\"M103.22,-72.7646C98.4424,-64.4043 92.5062,-54.0159 87.1291,-44.6059\"/>\r\n",
       "<polygon fill=\"black\" stroke=\"black\" points=\"90.0022,-42.5793 82.0019,-35.6334 83.9245,-46.0523 90.0022,-42.5793\"/>\r\n",
       "</g>\r\n",
       "</g>\r\n",
       "</svg>\r\n"
      ],
      "text/plain": [
       "<graphviz.dot.Digraph at 0x18b35710>"
      ]
     },
     "execution_count": 5,
     "metadata": {},
     "output_type": "execute_result"
    }
   ],
   "source": [
    "# TODO: Can we plot with graphviz using model directly?\n",
    "\n",
    "from graphviz import Digraph\n",
    "\n",
    "dot = Digraph()\n",
    "dot.node('B', 'Butler') # variable name, label\n",
    "dot.node('M', 'Maid')\n",
    "dot.node('K', 'Knife')\n",
    "dot.edges(['BK', 'MK'])\n",
    "# render inline\n",
    "dot\n",
    "\n",
    "# Or print to a pdf:\n",
    "#print(dot.source)\n",
    "#dot.render(\"Clouseau\", view=True)"
   ]
  },
  {
   "cell_type": "markdown",
   "metadata": {},
   "source": [
    "#### Displaying the conditional probability tables"
   ]
  },
  {
   "cell_type": "markdown",
   "metadata": {},
   "source": [
    "We can also display the conditional probability tables, which we can verify match the definitions above.  Note that in `pgmpy`, the rows are the states of the variable and and colums are the states of evidence variables.  $P(K|B,M)$ is shown below.  Note that the variables of the CDF are in the rows and the conditioned variables are in the columns."
   ]
  },
  {
   "cell_type": "code",
   "execution_count": 6,
   "metadata": {},
   "outputs": [
    {
     "name": "stdout",
     "output_type": "stream",
     "text": [
      "+-----+-----+-----+-----+-----+\n",
      "| B   | B_0 | B_0 | B_1 | B_1 |\n",
      "+-----+-----+-----+-----+-----+\n",
      "| M   | M_0 | M_1 | M_0 | M_1 |\n",
      "+-----+-----+-----+-----+-----+\n",
      "| K_0 | 0.7 | 0.8 | 0.4 | 0.9 |\n",
      "+-----+-----+-----+-----+-----+\n",
      "| K_1 | 0.3 | 0.2 | 0.6 | 0.1 |\n",
      "+-----+-----+-----+-----+-----+\n"
     ]
    }
   ],
   "source": [
    "print(model.get_cpds('K'))"
   ]
  },
  {
   "cell_type": "markdown",
   "metadata": {},
   "source": [
    "We can also print the probabilities for the other variables.  Here there are no conditioned variables."
   ]
  },
  {
   "cell_type": "code",
   "execution_count": 16,
   "metadata": {},
   "outputs": [
    {
     "name": "stdout",
     "output_type": "stream",
     "text": [
      "+-----+-----+\n",
      "| B_0 | 0.4 |\n",
      "+-----+-----+\n",
      "| B_1 | 0.6 |\n",
      "+-----+-----+\n"
     ]
    }
   ],
   "source": [
    "print(model.get_cpds('B'))"
   ]
  },
  {
   "cell_type": "code",
   "execution_count": 17,
   "metadata": {},
   "outputs": [
    {
     "name": "stdout",
     "output_type": "stream",
     "text": [
      "+-----+-----+\n",
      "| M_0 | 0.8 |\n",
      "+-----+-----+\n",
      "| M_1 | 0.2 |\n",
      "+-----+-----+\n"
     ]
    }
   ],
   "source": [
    "print(model.get_cpds('M'))"
   ]
  },
  {
   "cell_type": "markdown",
   "metadata": {},
   "source": [
    "### Inference in Belief Networks"
   ]
  },
  {
   "cell_type": "markdown",
   "metadata": {},
   "source": [
    "From Barber, we can solve for a query pdf such as $p(B|K)$ using variable elimination as follows:\n",
    "\n",
    "$$\n",
    "\\begin{align}\n",
    "p(B|K) & = \\sum_{m} p(B,m|K) \\\\\n",
    "       & = \\sum_{m} \\frac{p(B,m,K)}{p(K)} \\\\\n",
    "       & = \\frac{p(B) \\sum_{m} p(K|B,m)p(m)}{\\sum_{b} p(b) \\sum_{m} p(K|b,m) p(m)}\n",
    "\\end{align}\n",
    "$$\n",
    "\n",
    "Note how the summation variables are lowercase versions of the random variables to keep them distinct.  The capital variables are set from $p(B|K)$, but the summation variables are $b$ and $m$, which sum over the domains of $B$ and $M$ (which here are the same).  Filling in the values above,  we get\n",
    "\n",
    "$$\n",
    "\\begin{align}\n",
    "       & = \\dfrac{0.6 \\times (0.2 \\times 0.1 + 0.8 \\times 0.6)}{0.6 \\times (0.2 \\times 0.1 + 0.8 \\times 0.6) + 0.4 \\times (0.2 \\times 0.2 + 0.8 \\times 0.3)} \\\\\n",
    "       & \\approx 0.73\n",
    "\\end{align}\n",
    "$$"
   ]
  },
  {
   "cell_type": "markdown",
   "metadata": {},
   "source": [
    "To solve for $p(B|K = \\textsf{true})$ using variable elimination with `pgmpy`:"
   ]
  },
  {
   "cell_type": "code",
   "execution_count": 8,
   "metadata": {},
   "outputs": [
    {
     "name": "stdout",
     "output_type": "stream",
     "text": [
      "+-----+----------+\n",
      "| B   |   phi(B) |\n",
      "|-----+----------|\n",
      "| B_0 |   0.2718 |\n",
      "| B_1 |   0.7282 |\n",
      "+-----+----------+\n"
     ]
    }
   ],
   "source": [
    "from pgmpy.inference import VariableElimination\n",
    "\n",
    "inference = VariableElimination(model)\n",
    "print(inference.query(['B'], evidence={'K' : 1}) ['B'])"
   ]
  },
  {
   "cell_type": "markdown",
   "metadata": {},
   "source": [
    "We can see that the result is return as a dictionary with a single key 'B':"
   ]
  },
  {
   "cell_type": "code",
   "execution_count": 9,
   "metadata": {},
   "outputs": [
    {
     "data": {
      "text/plain": [
       "{'B': <DiscreteFactor representing phi(B:2) at 0x18bd2978L>}"
      ]
     },
     "execution_count": 9,
     "metadata": {},
     "output_type": "execute_result"
    }
   ],
   "source": [
    "inference.query(['B'], evidence={'K' : 1})"
   ]
  },
  {
   "cell_type": "markdown",
   "metadata": {},
   "source": [
    "We can easily compute the probability for the other suspect $p(M|K)$"
   ]
  },
  {
   "cell_type": "code",
   "execution_count": 10,
   "metadata": {},
   "outputs": [
    {
     "name": "stdout",
     "output_type": "stream",
     "text": [
      "+-----+----------+\n",
      "| M   |   phi(M) |\n",
      "|-----+----------|\n",
      "| M_0 |   0.9320 |\n",
      "| M_1 |   0.0680 |\n",
      "+-----+----------+\n"
     ]
    }
   ],
   "source": [
    "print(inference.query(['M'], evidence={'K' : 1}) ['M'])"
   ]
  },
  {
   "cell_type": "markdown",
   "metadata": {},
   "source": [
    "We can also add evidence. For example if we know that the maid could not have been present, then $p(B|K=\\textsf{true}, M=\\textsf{false})$"
   ]
  },
  {
   "cell_type": "code",
   "execution_count": 21,
   "metadata": {},
   "outputs": [
    {
     "name": "stdout",
     "output_type": "stream",
     "text": [
      "+-----+----------+\n",
      "| B   |   phi(B) |\n",
      "+=====+==========+\n",
      "| B_0 |   0.2500 |\n",
      "+-----+----------+\n",
      "| B_1 |   0.7500 |\n",
      "+-----+----------+\n"
     ]
    }
   ],
   "source": [
    "print(inference.query(['B'], evidence={'K' : 1, 'M' : 0})['B'])"
   ]
  },
  {
   "cell_type": "markdown",
   "metadata": {},
   "source": [
    "Which seems odd.  How can the probability that the butler is the murder go *down* when we learn that the maid could not have been present?  We can check the equations.\n",
    "\n",
    "$$\n",
    "\\begin{align}\n",
    "p(B | K,M) & = \\frac{p(B,M,K)}{p(K, M)} \\\\\n",
    "       & = \\frac{p(K | B,M) p(B) P(M)}{p(M)\\sum_{b} p(K|b,M) p(b)}\n",
    "\\end{align}\n",
    "$$\n",
    "\n"
   ]
  },
  {
   "cell_type": "markdown",
   "metadata": {},
   "source": [
    "First we need to know the basics of defining and manipulating probability distributions in `pgmpy`."
   ]
  },
  {
   "cell_type": "code",
   "execution_count": 22,
   "metadata": {},
   "outputs": [
    {
     "name": "stdout",
     "output_type": "stream",
     "text": [
      "+------+-----------+\n",
      "| x1   |   phi(x1) |\n",
      "+======+===========+\n",
      "| x1_0 |    0.4000 |\n",
      "+------+-----------+\n",
      "| x1_1 |    0.6000 |\n",
      "+------+-----------+\n"
     ]
    }
   ],
   "source": [
    "from pgmpy.factors.discrete import DiscreteFactor\n",
    "# DiscreteFactor(variables, cardinality, values)\n",
    "phi1 = DiscreteFactor(['x1'], [2], [0.4, 0.6])\n",
    "print(phi1)"
   ]
  },
  {
   "cell_type": "code",
   "execution_count": 23,
   "metadata": {},
   "outputs": [
    {
     "name": "stdout",
     "output_type": "stream",
     "text": [
      "+------+-----------+\n",
      "| x2   |   phi(x2) |\n",
      "+======+===========+\n",
      "| x2_0 |    0.3000 |\n",
      "+------+-----------+\n",
      "| x2_1 |    0.7000 |\n",
      "+------+-----------+\n"
     ]
    }
   ],
   "source": [
    "phi2 = DiscreteFactor(['x2'], [2], [0.3, 0.7])\n",
    "print(phi2)"
   ]
  },
  {
   "cell_type": "code",
   "execution_count": 24,
   "metadata": {},
   "outputs": [
    {
     "name": "stdout",
     "output_type": "stream",
     "text": [
      "+------+------+--------------+\n",
      "| x1   | x2   |   phi(x1,x2) |\n",
      "+======+======+==============+\n",
      "| x1_0 | x2_0 |       0.1200 |\n",
      "+------+------+--------------+\n",
      "| x1_0 | x2_1 |       0.2800 |\n",
      "+------+------+--------------+\n",
      "| x1_1 | x2_0 |       0.1800 |\n",
      "+------+------+--------------+\n",
      "| x1_1 | x2_1 |       0.4200 |\n",
      "+------+------+--------------+\n"
     ]
    },
    {
     "name": "stderr",
     "output_type": "stream",
     "text": [
      "/anaconda3/lib/python3.6/site-packages/pgmpy/factors/discrete/DiscreteFactor.py:586: FutureWarning: Using a non-tuple sequence for multidimensional indexing is deprecated; use `arr[tuple(seq)]` instead of `arr[seq]`. In the future this will be interpreted as an array index, `arr[np.array(seq)]`, which will result either in an error or a different result.\n",
      "  phi.values = phi.values[slice_]\n"
     ]
    }
   ],
   "source": [
    "phi3=phi1.product(phi2, inplace=False) # inplace means make copy, don't overwrite\n",
    "print(phi3)"
   ]
  },
  {
   "cell_type": "code",
   "execution_count": 25,
   "metadata": {},
   "outputs": [
    {
     "name": "stdout",
     "output_type": "stream",
     "text": [
      "+------+-----+\n",
      "| x1_0 | 0.4 |\n",
      "+------+-----+\n",
      "| x1_1 | 0.6 |\n",
      "+------+-----+\n"
     ]
    }
   ],
   "source": [
    "from pgmpy.factors.discrete import TabularCPD\n",
    "px1 = TabularCPD('x1', 2, [[0.4, 0.6]])\n",
    "#Or with keywords:\n",
    "#px1 = TabularCPD(variable='x1', variable_card=2, values=[[0.4, 0.6]])\n",
    "print(px1)"
   ]
  },
  {
   "cell_type": "code",
   "execution_count": 26,
   "metadata": {},
   "outputs": [
    {
     "name": "stdout",
     "output_type": "stream",
     "text": [
      "+------+-----+\n",
      "| x2_0 | 0.3 |\n",
      "+------+-----+\n",
      "| x2_1 | 0.7 |\n",
      "+------+-----+\n"
     ]
    }
   ],
   "source": [
    "px2 = TabularCPD('x2', 2, [[0.3, 0.7]])\n",
    "print(px2)"
   ]
  },
  {
   "cell_type": "code",
   "execution_count": null,
   "metadata": {},
   "outputs": [],
   "source": [
    "print(px1.product(px2, inplace=False))"
   ]
  },
  {
   "cell_type": "markdown",
   "metadata": {},
   "source": [
    "So we can compute the product of the distributions in the numerator, to get the unnormalized values of $p(B | K,M)$"
   ]
  },
  {
   "cell_type": "code",
   "execution_count": 27,
   "metadata": {},
   "outputs": [
    {
     "name": "stdout",
     "output_type": "stream",
     "text": [
      "+-----+-----+-----+-----+-----+\n",
      "| B   | B_0 | B_0 | B_1 | B_1 |\n",
      "+-----+-----+-----+-----+-----+\n",
      "| M   | M_0 | M_1 | M_0 | M_1 |\n",
      "+-----+-----+-----+-----+-----+\n",
      "| K_0 | 0.7 | 0.8 | 0.4 | 0.9 |\n",
      "+-----+-----+-----+-----+-----+\n",
      "| K_1 | 0.3 | 0.2 | 0.6 | 0.1 |\n",
      "+-----+-----+-----+-----+-----+\n",
      "+-----+-----+\n",
      "| B_0 | 0.4 |\n",
      "+-----+-----+\n",
      "| B_1 | 0.6 |\n",
      "+-----+-----+\n",
      "+-----+-----+\n",
      "| M_0 | 0.8 |\n",
      "+-----+-----+\n",
      "| M_1 | 0.2 |\n",
      "+-----+-----+\n"
     ]
    }
   ],
   "source": [
    "print(model.get_cpds('K'))\n",
    "print(model.get_cpds('B'))\n",
    "print(model.get_cpds('M'))"
   ]
  },
  {
   "cell_type": "code",
   "execution_count": 28,
   "metadata": {},
   "outputs": [
    {
     "name": "stdout",
     "output_type": "stream",
     "text": [
      "+-----+---------------------+---------------------+\n",
      "| M   | M_0                 | M_1                 |\n",
      "+-----+---------------------+---------------------+\n",
      "| B_0 | 0.32000000000000006 | 0.08000000000000002 |\n",
      "+-----+---------------------+---------------------+\n",
      "| B_1 | 0.48                | 0.12                |\n",
      "+-----+---------------------+---------------------+\n"
     ]
    }
   ],
   "source": [
    "pB = model.get_cpds('B')\n",
    "pM = model.get_cpds('M')\n",
    "print(pB.product(pM, inplace=False))"
   ]
  },
  {
   "cell_type": "code",
   "execution_count": 29,
   "metadata": {},
   "outputs": [
    {
     "name": "stdout",
     "output_type": "stream",
     "text": [
      "+-----+---------------------+---------------------+------+------+\n",
      "| B   | B_0                 | B_0                 | B_1  | B_1  |\n",
      "+-----+---------------------+---------------------+------+------+\n",
      "| M   | M_0                 | M_1                 | M_0  | M_1  |\n",
      "+-----+---------------------+---------------------+------+------+\n",
      "| K_0 | 0.27999999999999997 | 0.32000000000000006 | 0.24 | 0.54 |\n",
      "+-----+---------------------+---------------------+------+------+\n",
      "| K_1 | 0.12                | 0.08000000000000002 | 0.36 | 0.06 |\n",
      "+-----+---------------------+---------------------+------+------+\n"
     ]
    }
   ],
   "source": [
    "pKgBM = model.get_cpds('K')\n",
    "print(pKgBM.product(pB, inplace=False))"
   ]
  },
  {
   "cell_type": "code",
   "execution_count": 30,
   "metadata": {},
   "outputs": [
    {
     "name": "stdout",
     "output_type": "stream",
     "text": [
      "+-----+---------------------+----------------------+-------+---------------------+\n",
      "| B   | B_0                 | B_0                  | B_1   | B_1                 |\n",
      "+-----+---------------------+----------------------+-------+---------------------+\n",
      "| M   | M_0                 | M_1                  | M_0   | M_1                 |\n",
      "+-----+---------------------+----------------------+-------+---------------------+\n",
      "| K_0 | 0.22399999999999998 | 0.06400000000000002  | 0.192 | 0.10800000000000001 |\n",
      "+-----+---------------------+----------------------+-------+---------------------+\n",
      "| K_1 | 0.096               | 0.016000000000000004 | 0.288 | 0.012               |\n",
      "+-----+---------------------+----------------------+-------+---------------------+\n"
     ]
    }
   ],
   "source": [
    "print(pKgBM.product(pB, inplace=False).product(pM, inplace=False))"
   ]
  },
  {
   "cell_type": "markdown",
   "metadata": {},
   "source": [
    "The probability that neither of the suspects is the murderer can be computed by computing $p(B, M | K)$.  First we derive the theoretical solution using variable elimination.\n",
    "\n",
    "$$\n",
    "\\begin{align}\n",
    "p(B,M|K) & = \\frac{p(B,M,K)}{p(K)} \\\\\n",
    "&= \\frac{p(K|B,M)P(B)P(M)}{\\sum_{b,m} p(K|b,m)P(b)P(m)}\n",
    "\\end{align}\n",
    "$$"
   ]
  },
  {
   "cell_type": "markdown",
   "metadata": {},
   "source": [
    "So, all we have to do is compute the numerator, which we can do directly from the model, and normalize it.  What we want to do get the product of the three distributions in the numerator, and then normalize the result."
   ]
  },
  {
   "cell_type": "code",
   "execution_count": null,
   "metadata": {},
   "outputs": [],
   "source": [
    "model.get_cpds('K').values"
   ]
  },
  {
   "cell_type": "code",
   "execution_count": null,
   "metadata": {},
   "outputs": [],
   "source": [
    "print(model.get_cpds('K'))"
   ]
  },
  {
   "cell_type": "code",
   "execution_count": null,
   "metadata": {},
   "outputs": [],
   "source": [
    "pKgBM = model.get_cpds('K').values\n",
    "for b in [1, 2]:\n",
    "    for m in [1, 2]:\n",
    "        for k in [1, 2]:\n",
    "            pBMgK[b][m][k] = "
   ]
  },
  {
   "cell_type": "code",
   "execution_count": 31,
   "metadata": {},
   "outputs": [
    {
     "data": {
      "text/plain": [
       "{'B': <DiscreteFactor representing phi(B:2) at 0x1a2773a2e8>,\n",
       " 'M': <DiscreteFactor representing phi(M:2) at 0x1a2773a748>}"
      ]
     },
     "execution_count": 31,
     "metadata": {},
     "output_type": "execute_result"
    }
   ],
   "source": [
    "inference.query(['B', 'M'], evidence={'K' : 1})"
   ]
  },
  {
   "cell_type": "code",
   "execution_count": 32,
   "metadata": {},
   "outputs": [
    {
     "data": {
      "text/plain": [
       "<DiscreteFactor representing phi(B:2) at 0x1a2773a710>"
      ]
     },
     "execution_count": 32,
     "metadata": {},
     "output_type": "execute_result"
    }
   ],
   "source": [
    "# This does not do what we want, which is to \n",
    "# compute the joint probability p(B, M | K)\n",
    "inference.query(['B', 'M'], evidence={'K' : 1})['B']"
   ]
  },
  {
   "cell_type": "code",
   "execution_count": 33,
   "metadata": {},
   "outputs": [
    {
     "name": "stdout",
     "output_type": "stream",
     "text": [
      "+-----+----------+\n",
      "| B   |   phi(B) |\n",
      "+=====+==========+\n",
      "| B_0 |   0.2718 |\n",
      "+-----+----------+\n",
      "| B_1 |   0.7282 |\n",
      "+-----+----------+\n",
      "+-----+----------+\n",
      "| M   |   phi(M) |\n",
      "+=====+==========+\n",
      "| M_0 |   0.9320 |\n",
      "+-----+----------+\n",
      "| M_1 |   0.0680 |\n",
      "+-----+----------+\n"
     ]
    }
   ],
   "source": [
    "# TODO: How do we print a probability table from a dictionary?\n",
    "print(inference.query(['B', 'M'], evidence={'K' : 1})['B'])\n",
    "print(inference.query(['B', 'M'], evidence={'K' : 1})['M'])"
   ]
  },
  {
   "cell_type": "markdown",
   "metadata": {},
   "source": [
    "### Explaining away\n",
    "\n",
    "Here we illustrate the concept of *explaining away* with the wet grass example."
   ]
  },
  {
   "cell_type": "code",
   "execution_count": null,
   "metadata": {},
   "outputs": [],
   "source": []
  }
 ],
 "metadata": {
  "kernelspec": {
   "display_name": "Python 2",
   "language": "python",
   "name": "python2"
  },
  "language_info": {
   "codemirror_mode": {
    "name": "ipython",
    "version": 2
   },
   "file_extension": ".py",
   "mimetype": "text/x-python",
   "name": "python",
   "nbconvert_exporter": "python",
   "pygments_lexer": "ipython2",
   "version": "2.7.15"
  },
  "toc": {
   "base_numbering": 1,
   "nav_menu": {},
   "number_sections": false,
   "sideBar": true,
   "skip_h1_title": false,
   "title_cell": "Table of Contents",
   "title_sidebar": "Contents",
   "toc_cell": false,
   "toc_position": {},
   "toc_section_display": true,
   "toc_window_display": false
  }
 },
 "nbformat": 4,
 "nbformat_minor": 2
}
