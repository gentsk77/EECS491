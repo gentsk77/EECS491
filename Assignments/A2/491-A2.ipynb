{
 "cells": [
  {
   "cell_type": "markdown",
   "metadata": {},
   "source": [
    "## EECS 491 Assignment 2\n",
    "\n",
    "Due Mon Mar 4 before midnight. 100 points total.\n",
    "\n",
    "### Submitting assignments to Canvas\n",
    "\n",
    "- For jupyter notebooks, submit the .ipynb file and a pdf or html export of the notebook.  Make sure the output represents the latest state of your notebook.  If you use interactive plots, make sure the output for the static file is representative of the points you wish to make.  If your are not using notebooks, writeup your assignment using latex and submit a pdf with your code.  The writeup should include relevant code with description if it can fit on a page.  Do not include binaries or large data files.\n",
    "\n",
    "- Use the following format for filenames:\n",
    "  - `EECS491-A2-yourcaseid.ipynb`\n",
    "  - `EECS491-A2-yourcaseid.pdf`\n",
    "\n",
    "- If you have more than these two files, put all your files in a directory named `EECS491-A2-yourcaseid`. Then zip the directory and submit it with the name `EECS491-A2-yourcaseid.zip`.  Do not use other compression formats."
   ]
  },
  {
   "cell_type": "markdown",
   "metadata": {},
   "source": [
    "### Q1. Conditional Independence (10 pts)\n",
    "\n",
    "Consider the following Bayes net."
   ]
  },
  {
   "cell_type": "code",
   "execution_count": 9,
   "metadata": {},
   "outputs": [
    {
     "data": {
      "text/plain": [
       "TikzPictures.TikzPicture(\"\\\\graph [layered layout, ] {\\n1/\\\"a\\\" [],\\n2/\\\"b\\\" [],\\n3/\\\"c\\\" [],\\n4/\\\"d\\\" [],\\n5/\\\"e\\\" [],\\n;\\n1 -> [,] 3;\\n2 -> [,] 3;\\n3 -> [,] 4;\\n3 -> [,] 5;\\n};\\n\", \"\", \"\\\\usepackage{fontspec}\\n\\\\setmainfont{Latin Modern Math}\\n\\\\usetikzlibrary{graphs}\\n\\\\usetikzlibrary{graphdrawing}\\n\\n% from: https://tex.stackexchange.com/questions/453132/fresh-install-of-tl2018-no-tikz-graph-drawing-libraries-found\\n\\\\usepackage{luacode}\\n\\\\begin{luacode*}\\n\\tfunction pgf_lookup_and_require(name)\\n\\tlocal sep = package.config:sub(1,1)\\n\\tlocal function lookup(name)\\n\\tlocal sub = name:gsub('%.',sep)  \\n\\tif kpse.find_file(sub, 'lua') then\\n\\trequire(name)\\n\\telseif kpse.find_file(sub, 'clua') then\\n\\tcollectgarbage('stop') \\n\\trequire(name)\\n\\tcollectgarbage('restart')\\n\\telse\\n\\treturn false\\n\\tend\\n\\treturn true\\n\\tend\\n\\treturn\\n\\tlookup('pgf.gd.' .. name .. '.library') or\\n\\tlookup('pgf.gd.' .. name) or\\n\\tlookup(name .. '.library') or\\n\\tlookup(name) \\n\\tend\\n\\\\end{luacode*}\\n\\n\\\\usegdlibrary{layered}\", true)"
      ]
     },
     "execution_count": 9,
     "metadata": {},
     "output_type": "execute_result"
    },
    {
     "name": "stdout",
     "output_type": "stream",
     "text": [
      "! Package fontspec Error: The font \"LatinModernMath\" cannot be found.\r\n",
      "\r\n",
      "For immediate help type H <return>.\r\n",
      " ...                                              \r\n",
      "                                                  \r\n",
      "l.4 \\usetikzlibrary\r\n",
      "                 {graphs}\r\n"
     ]
    }
   ],
   "source": [
    "using TikzGraphs, LightGraphs\n",
    "g = DiGraph(5)\n",
    "add_edge!(g, 1, 3); add_edge!(g, 2, 3); add_edge!(g, 3, 4); add_edge!(g, 3, 5)\n",
    "TikzGraphs.plot(g, [\"a\", \"b\", \"c\", \"d\", \"e\"])"
   ]
  },
  {
   "cell_type": "markdown",
   "metadata": {},
   "source": [
    "1.1. (5 pts) Show that $a$ is independent of $b$ given no other infomration, i.e.\n",
    "$$\n",
    "a \\perp b\\, |\\, \\varnothing\n",
    "$$\n",
    "\n",
    "1.2. (5 pts) Prove or disprove the following using basic probability (i.e. not using d-separation)\n",
    "$$\n",
    "a \\perp b\\, |\\, e\n",
    "$$"
   ]
  },
  {
   "cell_type": "markdown",
   "metadata": {},
   "source": [
    "### Q2. Conditional Independence and Causality (5 pts)\n",
    "\n",
    "Consider the following model"
   ]
  },
  {
   "cell_type": "code",
   "execution_count": 10,
   "metadata": {},
   "outputs": [
    {
     "data": {
      "text/plain": [
       "TikzPictures.TikzPicture(\"\\\\graph [layered layout, ] {\\n1/\\\"a\\\" [],\\n2/\\\"b\\\" [],\\n3/\\\"c\\\" [],\\n;\\n1 -> [,] 2;\\n1 -> [,] 3;\\n};\\n\", \"font=\\\\large\", \"\\\\usepackage{fontspec}\\n\\\\setmainfont{Latin Modern Math}\\n\\\\usetikzlibrary{graphs}\\n\\\\usetikzlibrary{graphdrawing}\\n\\n% from: https://tex.stackexchange.com/questions/453132/fresh-install-of-tl2018-no-tikz-graph-drawing-libraries-found\\n\\\\usepackage{luacode}\\n\\\\begin{luacode*}\\n\\tfunction pgf_lookup_and_require(name)\\n\\tlocal sep = package.config:sub(1,1)\\n\\tlocal function lookup(name)\\n\\tlocal sub = name:gsub('%.',sep)  \\n\\tif kpse.find_file(sub, 'lua') then\\n\\trequire(name)\\n\\telseif kpse.find_file(sub, 'clua') then\\n\\tcollectgarbage('stop') \\n\\trequire(name)\\n\\tcollectgarbage('restart')\\n\\telse\\n\\treturn false\\n\\tend\\n\\treturn true\\n\\tend\\n\\treturn\\n\\tlookup('pgf.gd.' .. name .. '.library') or\\n\\tlookup('pgf.gd.' .. name) or\\n\\tlookup(name .. '.library') or\\n\\tlookup(name) \\n\\tend\\n\\\\end{luacode*}\\n\\n\\\\usegdlibrary{layered}\", true)"
      ]
     },
     "execution_count": 10,
     "metadata": {},
     "output_type": "execute_result"
    },
    {
     "name": "stdout",
     "output_type": "stream",
     "text": [
      "! Package fontspec Error: The font \"LatinModernMath\" cannot be found.\r\n",
      "\r\n",
      "For immediate help type H <return>.\r\n",
      " ...                                              \r\n",
      "                                                  \r\n",
      "l.4 \\usetikzlibrary\r\n",
      "                 {graphs}\r\n"
     ]
    }
   ],
   "source": [
    "g = DiGraph(3)\n",
    "add_edge!(g, 1, 2); add_edge!(g, 1, 3)\n",
    "TikzGraphs.plot(g, [\"a\", \"b\", \"c\"], options=\"font=\\\\large\")"
   ]
  },
  {
   "cell_type": "markdown",
   "metadata": {},
   "source": [
    "Show that this causal relationship suggested by the arrows does not necessarily hold, because the identical distribution can be represented by a model defined by different conditional distributions.  What conditional independence assumption does this model make?"
   ]
  },
  {
   "cell_type": "markdown",
   "metadata": {},
   "source": [
    "### Q3. Model Complexity, Free Parameters, and Simplifying Assumptions (20 pts)\n",
    "\n",
    "3.1. (5 pts) Consider a general probability distribution with $N$ variables $x_1 \\ldots x_N$ each of which can have $K$ values. What is the expression for the joint distribution in terms of conditional probabilities?\n",
    "\n",
    "3.2. (5 pts) What is the total number of free-paramters requried to specify this model?  (Note: the term \"free parameter\" means a parameter that is unconstrained.  For example a Beroulli distribution to describe a coin flip has one free parameter $\\theta$ to describe, say, the probability of heads; the probability of tails must be $1-\\theta$, because the probability is constrained to sum to one.)\n",
    "\n",
    "3.3. (5 pts) Now suppose that the complexity of the model is constrained, so that each variable depends on (at most) $m$ other variables and is conditionally independent of the rest, i.e. each node has $m$ parents and there are $m$ root nodes.  How many parameters are required to define this model?\n",
    "\n",
    "3.4. (5 pts) Let us make one more simplifying assumption, which is that in addition to depending on only $m$ variables, the conditional probability is described by a noisy-OR function (see Q3).  What is the expression for the number of parameters in this case?"
   ]
  },
  {
   "cell_type": "markdown",
   "metadata": {},
   "source": [
    "### Q4. Models of Conditional Probability (20 pts)\n",
    "\n",
    "In Bayesian networks (or directed acyclic graphical models), the joint probability distribution is factored into the product of conditional probability distributions\n",
    "\n",
    "$$\n",
    "p(x) = \\prod_{i=1}^N p(x_i|\\textrm{pa}(x_i))\n",
    "$$"
   ]
  },
  {
   "cell_type": "markdown",
   "metadata": {},
   "source": [
    "As we used the previous problem, a simplifying assumption for the conditional probability is noisy-OR model\n",
    "\n",
    "$$\n",
    "p(x_i | \\textrm{pa}({x_i})) = 1 - (1 - \\mu_{i0}) \\prod_{\\normalsize j \\in \\textrm{pa}(x_i)}(1 - \\mu_{ij})^{x_j}\n",
    "$$\n",
    "\n",
    "where $j$ is an index over the parents of $x_i$.  Note that the exponent $x_j$ is either 0 or 1 so the term is either 1 or $1-\\mu_{ij}$ depending on the state of the parent $x_j$."
   ]
  },
  {
   "cell_type": "markdown",
   "metadata": {},
   "source": [
    "4.1 (5 pts) Show that the noisy-OR function can be interpreted as a \"soft\" (i.e. probabilistic) form of the logical OR function, i.e. the function gives $x_i = 1$ whenever at least one of the parents is 1.\n",
    "\n",
    "4.2 (5 pts) What is the interpretation of $\\mu_{i0}$? Provide a clear explanation."
   ]
  },
  {
   "cell_type": "markdown",
   "metadata": {},
   "source": [
    "Another choice for the conditional probability is a sigmoid function\n",
    "\n",
    "$$\n",
    "p(x_i | \\textrm{pa}({x_i})) = \\sigma\n",
    "\\left(\n",
    "w_{i0} + \\sum_{\\normalsize j \\in \\textrm{pa}(x_i)} w_{ij} x_j\n",
    "\\right)\\,, \\quad \\textrm{where} \\;\n",
    "\\sigma(a) = \\frac{1}{1+e^{-a}}\n",
    "$$\n",
    "\n",
    "where $\\sigma (a)$ is the logistic sigmoid function."
   ]
  },
  {
   "cell_type": "markdown",
   "metadata": {},
   "source": [
    "4.3 (5 pts) Contrast the noisy-OR function and the sigmoid mathematically.  Is one more general than the other?  Can each compute unique functions?"
   ]
  },
  {
   "cell_type": "markdown",
   "metadata": {},
   "source": [
    "4.4 (5 pts) Think of two examples, one for the noisy-OR and one for the sigmoid, that contrast the way these functions model the conditional dependencies.  Explain how each is appropriately modeled by one function but not the other."
   ]
  },
  {
   "cell_type": "markdown",
   "metadata": {},
   "source": [
    "### Q5. Car Troubles (Barber Exercise 3.6) (25 pts)\n",
    "\n",
    "5.1 (10 pts) Calculate the $p(f=\\textsf{empty} | s=\\textsf{no})$, the probability of the fuel tank being empty given that the car does not start.  Do this \"by hand\", i.e in manner similar to the **Inference** section in Barber 3.1.1.  Use the probabilities given in the exercise.  Show your work.\n",
    "\n",
    "5.2 (5 pts) Implement this network using a toolbox for probabilistic models (e.g. `pgmpy` or `BayesNets.jl`). Use this to verify that your derivation and calculations are correct for the previous problem.\n",
    "\n",
    "5.3 (10 pts) Suppose you have loaned this car to a friend. They call call you and announce, \"the car won't start\".  Illustrate your diagnostic and inference process by using the model to show how your beliefs change as you ask questions.  Your friend can only tell you the states of $t$ and $g$ (and you already know $s$).  Use two different scenarios."
   ]
  },
  {
   "cell_type": "markdown",
   "metadata": {},
   "source": [
    "### Exploration (20 pts)\n"
   ]
  },
  {
   "cell_type": "markdown",
   "metadata": {},
   "source": [
    "Like in the first assignment, in this problems, you have more lattiude and are meant to do creative exploration.  Like before you don't need to write a book chapter, but the intention is for you to go beyond what's been covered above.\n",
    "\n",
    "Implement a belief network of your own choosing or design.  It should be more complex that the examples above.  It should be discrete (we will cover continous models later). Use the model to illustrate deductive inference problems.\n",
    "\n",
    "The grading is necessarily subjective, but here is a rubric:\n",
    "- Was scenario you are trying to model clearly described? (5 pts)\n",
    "- Were the variables and states well-chosen and clearly explained? (5 pts)\n",
    "- How well did the examples to illustrate the model? (5 pts)\n",
    "- Did the model go beyond or is distinct from what was already convered in the questions above? For example, larger numbers of nodes with more complex interactions or more variable states or using simplifying assumptions for conditional probabilities like noisy-OR, etc. (5 pts)\n"
   ]
  },
  {
   "cell_type": "code",
   "execution_count": null,
   "metadata": {},
   "outputs": [],
   "source": []
  }
 ],
 "metadata": {
  "kernelspec": {
   "display_name": "Julia 1.0.3",
   "language": "julia",
   "name": "julia-1.0"
  },
  "language_info": {
   "file_extension": ".jl",
   "mimetype": "application/julia",
   "name": "julia",
   "version": "1.0.3"
  }
 },
 "nbformat": 4,
 "nbformat_minor": 2
}
