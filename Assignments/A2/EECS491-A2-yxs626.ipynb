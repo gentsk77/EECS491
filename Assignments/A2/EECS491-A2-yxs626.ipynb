{
 "cells": [
  {
   "cell_type": "markdown",
   "metadata": {},
   "source": [
    "## EECS 491 Assignment 1\n",
    "Yue Shu"
   ]
  },
  {
   "cell_type": "markdown",
   "metadata": {},
   "source": [
    "# Q1. Conditional Independence\n",
    "Consider the following Bayes net,\n",
    "![problem 1 image](Images/p1.png)"
   ]
  },
  {
   "cell_type": "markdown",
   "metadata": {},
   "source": [
    "## 1.1\n",
    "**Show that $a$ is independent of $b$ given no other infomration, i.e.\n",
    "$$ a \\perp b\\, |\\, \\varnothing $$**\n"
   ]
  },
  {
   "cell_type": "markdown",
   "metadata": {},
   "source": [
    "*Proof:* \n",
    "\n",
    "  To prove that $ a \\perp b\\, |\\, \\varnothing $, we need to show that: \n",
    "  $$p(a)\\,p(b) = p(a,b)$$  \n",
    "  According to the DAG above,  \n",
    "  $$ p(a,b) = \\sum_c p(c|a,b) \\, p(a) \\, p(b) $$\n",
    "  $$ p(a,b) = p(a) \\, p(b) \\, \\sum_c p(c|a,b) $$  \n",
    "  And since $ \\sum _c p(c|a,b) = 1$, we may conclude that  \n",
    "  $$ p(a,b) = p(a) \\, p(b)$$  \n",
    "  And therefore, \n",
    "  $$ a \\perp b\\, |\\, \\varnothing $$"
   ]
  },
  {
   "cell_type": "markdown",
   "metadata": {},
   "source": [
    "## 1.2 \n",
    "**Prove or disprove the following using basic probability (i.e. not using d-separation)\n",
    "$$\n",
    "a \\perp b\\, |\\, e\n",
    "$$**"
   ]
  },
  {
   "cell_type": "markdown",
   "metadata": {},
   "source": []
  },
  {
   "cell_type": "markdown",
   "metadata": {},
   "source": []
  },
  {
   "cell_type": "markdown",
   "metadata": {},
   "source": []
  },
  {
   "cell_type": "markdown",
   "metadata": {},
   "source": []
  },
  {
   "cell_type": "markdown",
   "metadata": {},
   "source": []
  },
  {
   "cell_type": "markdown",
   "metadata": {},
   "source": []
  }
 ],
 "metadata": {
  "kernelspec": {
   "display_name": "Python 3",
   "language": "python",
   "name": "python3"
  },
  "language_info": {
   "codemirror_mode": {
    "name": "ipython",
    "version": 3
   },
   "file_extension": ".py",
   "mimetype": "text/x-python",
   "name": "python",
   "nbconvert_exporter": "python",
   "pygments_lexer": "ipython3",
   "version": "3.7.0"
  }
 },
 "nbformat": 4,
 "nbformat_minor": 2
}
