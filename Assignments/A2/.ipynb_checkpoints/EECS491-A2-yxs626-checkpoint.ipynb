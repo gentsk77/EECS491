{
 "cells": [
  {
   "cell_type": "markdown",
   "metadata": {},
   "source": [
    "## EECS 491 Assignment 2\n",
    "  Yue Shu  \n",
    "  Spring 2019  \n",
    "  Prof. Lewicki  "
   ]
  },
  {
   "cell_type": "markdown",
   "metadata": {},
   "source": [
    "# Q1. Conditional Independence\n",
    "Consider the following Bayes net,\n",
    "![problem 1 image](Images/p1.png)"
   ]
  },
  {
   "cell_type": "markdown",
   "metadata": {},
   "source": [
    "## 1.1\n",
    "**Show that $a$ is independent of $b$ given no other infomration, i.e.\n",
    "$$ a \\perp b\\, |\\, \\varnothing $$**\n"
   ]
  },
  {
   "cell_type": "markdown",
   "metadata": {},
   "source": [
    "*Proof:* \n",
    "\n",
    "  To prove that $ a \\perp b\\, |\\, \\varnothing $, we need to show that: \n",
    "  $$p(a)\\,p(b) = p(a,b)$$  \n",
    "  According to the DAG above,  \n",
    "  $$ p(a,b) = \\sum_c p(c|a,b) \\, p(a) \\, p(b) $$\n",
    "  $$ p(a,b) = p(a) \\, p(b) \\, \\sum_c p(c|a,b) $$  \n",
    "  And since $ \\sum _c p(c|a,b) = 1$, we may conclude that  \n",
    "  $$ p(a,b) = p(a) \\, p(b)$$  \n",
    "  And therefore, \n",
    "  $$ a \\perp b\\, |\\, \\varnothing $$"
   ]
  },
  {
   "cell_type": "markdown",
   "metadata": {},
   "source": [
    "## 1.2 \n",
    "**Prove or disprove the following using basic probability (i.e. not using d-separation)\n",
    "$$\n",
    "a \\perp b\\, |\\, e\n",
    "$$**"
   ]
  },
  {
   "cell_type": "markdown",
   "metadata": {},
   "source": [
    "*Disproof:* \n",
    "\n",
    "  To disprove that  $ a \\perp b | e $, we need to show that $ p(a|e) \\, p(b|e) \\neq p(a,b|e) $.  \n",
    "  According to Bayes Rule and the DAG above, \n",
    "  $$ p(a,b|e) = \\frac{p(a,b,e)}{p(e)} = \\frac{1}{p(e)} \\sum_{c} p(e|c) \\, p(c|a,b) \\, p(a) \\, p(b) $$  \n",
    "  Since \n",
    "  $$ p(a|e) \\, p(b|e) \\neq \\frac{1}{p(e)} \\sum_{c} p(e|c) \\, p(c|a,b) \\, p(a) \\, p(b) $$  \n",
    "  We may conclude that \n",
    "  $$ p(a|e) \\, p(b|e) \\neq p(a,b|e) $$  \n",
    "  And therefore,  \n",
    "  $$a \\not\\!\\perp\\!\\!\\!\\perp b | e$$\n"
   ]
  },
  {
   "cell_type": "markdown",
   "metadata": {},
   "source": [
    "# Q2. Conditional Independence and Causality\n",
    "\n",
    "Consider the following model\n",
    "![problem 2 image](Images/p2.png)"
   ]
  },
  {
   "cell_type": "markdown",
   "metadata": {},
   "source": [
    "**Show that this causal relationship suggested by the arrows does not necessarily hold, because the identical distribution can be represented by a model defined by different conditional distributions.  What conditional independence assumption does this model make?**"
   ]
  },
  {
   "cell_type": "markdown",
   "metadata": {},
   "source": [
    "The causal relationship suggested by the arrows does not necessarily hold because the either the arrow from $a$ to $b$ or the arrow from $a$ to $c$ can be reversed, while the original conditional independence assumption remains the same. For example, the below model represents the alternative possibility: \n",
    "\n",
    "[b] --> [a] --> [c]\n",
    "\n",
    "The conditional independence assumption of the model above is same as the original model, which is $b$ and $c$ are conditionally independent given $a$. "
   ]
  },
  {
   "cell_type": "markdown",
   "metadata": {},
   "source": [
    "# Q3. Model Complexity, Free Parameters, and Simplifying Assumptions"
   ]
  },
  {
   "cell_type": "markdown",
   "metadata": {},
   "source": [
    "## 3.1\n",
    "\n",
    "**Consider a general probability distribution with $N$ variables $x_1 \\ldots x_N$ each of which can have $K$ values. What is the expression for the joint distribution in terms of conditional probabilities?**"
   ]
  },
  {
   "cell_type": "markdown",
   "metadata": {},
   "source": [
    "The joint distribution can be expressed as below, where $parents(x_i)$ denotes the cause of $x_i$ with the specific value corresponding to it: \n",
    "\n",
    "$$p(x_1, \\, x_2, \\, ..., \\, x_N) = \\prod_{i = 1}^{N} p(x_i |\\, parents(x_i)) $$\n",
    "$$p(x_1, \\, x_2, \\, ..., \\, x_N) = \\prod_{i = 1}^{N} p(x_i | \\, x_{1}, \\, ..., \\, x_{i - 1})$$"
   ]
  },
  {
   "cell_type": "markdown",
   "metadata": {},
   "source": [
    "## 3.2\n",
    "\n",
    "**What is the total number of free-paramters requried to specify this model?  (Note: the term \"free parameter\" means a parameter that is unconstrained.  For example a Beroulli distribution to describe a coin flip has one free parameter $\\theta$ to describe, say, the probability of heads; the probability of tails must be $1-\\theta$, because the probability is constrained to sum to one.)**"
   ]
  },
  {
   "cell_type": "markdown",
   "metadata": {},
   "source": [
    "  There are k possible values for each distinct N variables, so we would need $k^N$ parameters to represent all of the probabilities of the model. However, since the probabilities must sum to 1, the value of the last parameter can be calculated by substracting the sum of the first $k^N - 1$ parameters from 1.  \n",
    "  Therefore, there is a total of $k^N - 1$ free-parameters to specify the model."
   ]
  },
  {
   "cell_type": "markdown",
   "metadata": {},
   "source": [
    "## 3.3 \n",
    "\n",
    "**Now suppose that the complexity of the model is constrained, so that each variable depends on (at most) $m$ other variables and is conditionally independent of the rest, i.e. each node has $m$ parents and there are $m$ root nodes.  How many parameters are required to define this model?**"
   ]
  },
  {
   "cell_type": "markdown",
   "metadata": {},
   "source": [
    "  Since now each variable has at most $m$ parents, where there are $m$ variables as the root nodes, there are a total of $m + 1$ \"root nodes\" each corresponding to $m$ parent nodes to be specified in order to define the model.  \n",
    "  Therefore, we need (at most) a total of $(m + 1)  k^{m} - 1$ parameters to define the model.  "
   ]
  },
  {
   "cell_type": "markdown",
   "metadata": {},
   "source": [
    "## 3.4 \n",
    "\n",
    "**Let us make one more simplifying assumption, which is that in addition to depending on only $m$ variables, the conditional probability is described by a noisy-OR function (see Q3).  What is the expression for the number of parameters in this case?**"
   ]
  },
  {
   "cell_type": "markdown",
   "metadata": {},
   "source": [
    "From the noisy-OR function in Q4 below, we can conclude that we only need to specify the entry of variable $x_i$ as well as at most $m$ of its parents in order to define the model. \n",
    "$$ p(x_i | \\textrm{pa}({x_i})) = 1 - (1 - \\mu_{i0}) \\prod_{\\normalsize j \\in \\textrm{pa}(x_i)}(1 - \\mu_{ij})^{x_j} $$\n",
    "Therefore, the expression for the number of parameters $n$ in this case is $n \\leq m + 1$."
   ]
  },
  {
   "cell_type": "markdown",
   "metadata": {},
   "source": [
    "# Q4. Models of Conditional Probability\n",
    "\n",
    "**In Bayesian networks (or directed acyclic graphical models), the joint probability distribution is factored into the product of conditional probability distributions**\n",
    "\n",
    "$$\n",
    "p(x) = \\prod_{i=1}^N p(x_i|\\textrm{pa}(x_i))\n",
    "$$\n",
    "\n",
    "**As we used the previous problem, a simplifying assumption for the conditional probability is noisy-OR model**\n",
    "\n",
    "$$\n",
    "p(x_i | \\textrm{pa}({x_i})) = 1 - (1 - \\mu_{i0}) \\prod_{\\normalsize j \\in \\textrm{pa}(x_i)}(1 - \\mu_{ij})^{x_j}\n",
    "$$\n",
    "\n",
    "**where $j$ is an index over the parents of $x_i$.  Note that the exponent $x_j$ is either 0 or 1 so the term is either 1 or $1-\\mu_{ij}$ depending on the state of the parent $x_j$.**"
   ]
  },
  {
   "cell_type": "markdown",
   "metadata": {},
   "source": [
    "## 4.1\n",
    "**Show that the noisy-OR function can be interpreted as a \"soft\" (i.e. probabilistic) form of the logical OR function, i.e. the function gives $x_i = 1$ whenever at least one of the parents is 1.**"
   ]
  },
  {
   "cell_type": "markdown",
   "metadata": {},
   "source": [
    "  If at least one of the parents is 1, say, $\\mu_{ij} = 1$, then according to the given equation above,   \n",
    "$$ p(x_i | \\textrm{pa}({x_i})) = 1 - (1 - \\mu_{i0}) \\prod_{\\normalsize j \\in \\textrm{pa}(x_i)}(1 - \\mu_{ij})^{x_j} $$\n",
    "$$ p(x_i | \\textrm{pa}({x_i})) = 1 - (1 - \\mu_{i0}) * 0 = 1 - 0 = 1$$\n",
    "  And this is also same for all the rest of the parents of $x_i$ because of the $\\prod_{\\normalsize j \\in \\textrm{pa}(x_i)}(1 - \\mu_{ij})^{x_j}$ component in the equation.  \n",
    "  Therefore, the noisy-OR function can be interpreted as a \"soft\" form of the logical OR function. "
   ]
  },
  {
   "cell_type": "markdown",
   "metadata": {},
   "source": [
    "## 4.2 \n",
    "**What is the interpretation of $\\mu_{i0}$? Provide a clear explanation.**"
   ]
  },
  {
   "cell_type": "markdown",
   "metadata": {},
   "source": [
    "  $\\mu_{i0}$ can be considered as a probabilistic parameter for $x_i$, which represents the stand alone probability for $x_i$ itself when it does not have any parents. \n",
    "  To make better sense of that, let's suppose that $x_i$ is independent on all of the other events in the model, which denotes $x_j = 0$, and thus \n",
    "  $$\\prod_{\\normalsize j \\in \\textrm{pa}(x_i)}(1 - \\mu_{ij})^{x_j} = 1$$  \n",
    "  And the final expression of $x_i$ in terms of all of its \"parents\" (which don't necessarily exist) will become \n",
    "  $$ p(x_i | \\textrm{pa}({x_i})) = 1 - (1 - \\mu_{i0})$$\n",
    "  Without the existence of $\\mu_{i0}$, the final outcome of $x_i$ would be 0, which wouldn't make so much sense in this case, where the probability of a completely independent event should just be the probability of itself.   \n",
    "  Therefore, by applying the parameter $\\mu_{i0}$, we could make the result less \"absolute\" and the final result we have for the given scenario above will become $$ p(x_i | \\textrm{pa}({x_i})) = 1 - (1 - \\mu_{i0}) = \\mu_{i0}$$"
   ]
  },
  {
   "cell_type": "markdown",
   "metadata": {},
   "source": []
  },
  {
   "cell_type": "markdown",
   "metadata": {},
   "source": []
  },
  {
   "cell_type": "markdown",
   "metadata": {},
   "source": []
  },
  {
   "cell_type": "markdown",
   "metadata": {},
   "source": []
  },
  {
   "cell_type": "markdown",
   "metadata": {},
   "source": []
  },
  {
   "cell_type": "markdown",
   "metadata": {},
   "source": []
  }
 ],
 "metadata": {
  "kernelspec": {
   "display_name": "Python 3",
   "language": "python",
   "name": "python3"
  },
  "language_info": {
   "codemirror_mode": {
    "name": "ipython",
    "version": 3
   },
   "file_extension": ".py",
   "mimetype": "text/x-python",
   "name": "python",
   "nbconvert_exporter": "python",
   "pygments_lexer": "ipython3",
   "version": "3.7.1"
  }
 },
 "nbformat": 4,
 "nbformat_minor": 2
}
