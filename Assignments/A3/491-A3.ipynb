{
 "cells": [
  {
   "cell_type": "markdown",
   "metadata": {},
   "source": [
    "## EECS 491 Assignment 3\n",
    "\n",
    "Due Fri Mar 22 before midnight. 100 points total.\n",
    "\n",
    "### Submitting assignments to Canvas\n",
    "\n",
    "- For jupyter notebooks, submit the .ipynb file and a pdf or html export of the notebook.  Make sure the output represents the latest state of your notebook.  If you use interactive plots, make sure the output for the static file is representative of the points you wish to make.  If your are not using notebooks, writeup your assignment using latex and submit a pdf with your code.  The writeup should include relevant code with description if it can fit on a page.  Do not include binaries or large data files.\n",
    "\n",
    "- Use the following format for filenames:\n",
    "  - `EECS491-A3-yourcaseid.ipynb`\n",
    "  - `EECS491-A3-yourcaseid.pdf`\n",
    "\n",
    "- If you have more than these two files, put all your files in a directory named `EECS491-A3-yourcaseid`. Then zip the directory and submit it with the name `EECS491-A3-yourcaseid.zip`.  Do not use other compression formats."
   ]
  },
  {
   "cell_type": "markdown",
   "metadata": {},
   "source": [
    "### Exercise 1. MRFs and Images Denoising (40 points)\n",
    "\n",
    "In this problem, you will implement the image de-noising example using a Markov Random Field (MRF).  This material on MRFs is covered in the textbook (Barber) in chapter 4.2.5. The lecture and this problem is based on the presentation in Bishop in chapter 8.3, which is available online.\n",
    "\n",
    "As discussed in class, energy function for this MRF is\n",
    "\n",
    "$$ E(\\mathbf{x}, \\mathbf{y}) = h \\sum_i x_i - \\beta \\sum_{i,j} x_i x_j - \\eta \\sum_i x_i y_i $$\n",
    "\n",
    "where the binary variables $x_i$ represent the unknown, noise-free image pixels, which are binary, i.e. black or white.  The variables $y_i$ represent the observed noisy pixels, i.e. the pixel could randomly change from black ($=-1$) to white ($=+1$) or vice-versa.  \n",
    "\n",
    "The corresponding joint probability distribution over the variables is\n",
    "\n",
    "$$ p(\\mathbf{x},\\mathbf{y}) = \\frac{1}{Z} \\exp \\left[ -E(\\mathbf{x},\\mathbf{y}) \\right] $$"
   ]
  },
  {
   "cell_type": "markdown",
   "metadata": {},
   "source": [
    "1.1 (5 pts) Derive the equation that specifies the change in the energy equation when one variable changes state."
   ]
  },
  {
   "cell_type": "markdown",
   "metadata": {},
   "source": [
    "1.2 (10 pts) Write a program to iteratively (or in random order) update the state variables to minimize the energy (maximize the probability).  Explain your code.  Show that the update algorithm minimizes the energy $E(\\mathbf{x}, \\mathbf{y})$."
   ]
  },
  {
   "cell_type": "markdown",
   "metadata": {},
   "source": [
    "1.3 (10 pts) Illustrate the model by plot of the image as it is being de-noised at the beginning, middle, and end of the updating.  Choose images that aren't too high resolution so that the individual pixels are visible as squaures.  You may also do a live plot in a notebook to show it updating continuously, but make sure you have the static plots too in case the dynamic plot has portability issues."
   ]
  },
  {
   "cell_type": "markdown",
   "metadata": {},
   "source": [
    "1.4 (5 pts) Experiment with different settings of the energy equation parameters and explain your results."
   ]
  },
  {
   "cell_type": "markdown",
   "metadata": {},
   "source": [
    "1.5 (10 pts)  Generalize the energy equation so that the model considers more that just pairs of pixels.  Explain your rationale behind this new model. Illustrate it with denoising examples (other types of images) with are not well-handled by the previous model."
   ]
  },
  {
   "cell_type": "markdown",
   "metadata": {},
   "source": [
    "### Exercise 2. Graphical Representation (15 points)"
   ]
  },
  {
   "cell_type": "code",
   "execution_count": 1,
   "metadata": {},
   "outputs": [
    {
     "data": {
      "image/svg+xml": [
       "<?xml version=\"1.0\" encoding=\"UTF-8\"?>\n",
       "<svg xmlns=\"http://www.w3.org/2000/svg\" xmlns:xlink=\"http://www.w3.org/1999/xlink\" width=\"92.639pt\" height=\"92.639pt\" viewBox=\"0 0 92.639 92.639\" version=\"1.1\">\n",
       "<defs>\n",
       "<g>\n",
       "<symbol overflow=\"visible\" id=\"glyph-1549643500644564-0-0\">\n",
       "<path style=\"stroke:none;\" d=\"\"/>\n",
       "</symbol>\n",
       "<symbol overflow=\"visible\" id=\"glyph-1549643500644564-0-1\">\n",
       "<path style=\"stroke:none;\" d=\"M 5.765625 -1.0625 L 5.765625 -1.734375 L 5.46875 -1.734375 L 5.46875 -1.0625 C 5.46875 -0.375 5.171875 -0.296875 5.046875 -0.296875 C 4.65625 -0.296875 4.609375 -0.84375 4.609375 -0.890625 L 4.609375 -3.28125 C 4.609375 -3.796875 4.609375 -4.25 4.171875 -4.703125 C 3.703125 -5.15625 3.109375 -5.359375 2.53125 -5.359375 C 1.546875 -5.359375 0.734375 -4.796875 0.734375 -4 C 0.734375 -3.640625 0.96875 -3.4375 1.28125 -3.4375 C 1.609375 -3.4375 1.828125 -3.6875 1.828125 -4 C 1.828125 -4.140625 1.765625 -4.53125 1.21875 -4.546875 C 1.546875 -4.953125 2.125 -5.09375 2.515625 -5.09375 C 3.09375 -5.09375 3.78125 -4.625 3.78125 -3.5625 L 3.78125 -3.125 C 3.171875 -3.078125 2.328125 -3.046875 1.578125 -2.6875 C 0.6875 -2.28125 0.375 -1.65625 0.375 -1.140625 C 0.375 -0.171875 1.546875 0.125 2.296875 0.125 C 3.078125 0.125 3.640625 -0.34375 3.859375 -0.90625 C 3.90625 -0.4375 4.234375 0.078125 4.796875 0.078125 C 5.046875 0.078125 5.765625 -0.09375 5.765625 -1.0625 Z M 3.78125 -1.671875 C 3.78125 -0.53125 2.921875 -0.125 2.375 -0.125 C 1.796875 -0.125 1.296875 -0.546875 1.296875 -1.140625 C 1.296875 -1.8125 1.8125 -2.796875 3.78125 -2.875 Z M 3.78125 -1.671875 \"/>\n",
       "</symbol>\n",
       "<symbol overflow=\"visible\" id=\"glyph-1549643500644564-0-2\">\n",
       "<path style=\"stroke:none;\" d=\"M 6.234375 -2.578125 C 6.234375 -4.09375 5.0625 -5.28125 3.6875 -5.28125 C 2.765625 -5.28125 2.25 -4.71875 2.0625 -4.5 L 2.0625 -8.296875 L 0.328125 -8.15625 L 0.328125 -7.796875 C 1.171875 -7.796875 1.265625 -7.703125 1.265625 -7.125 L 1.265625 0 L 1.5625 0 L 2 -0.734375 C 2.171875 -0.46875 2.671875 0.125 3.5625 0.125 C 4.984375 0.125 6.234375 -1.046875 6.234375 -2.578125 Z M 5.234375 -2.59375 C 5.234375 -2.15625 5.21875 -1.4375 4.859375 -0.890625 C 4.609375 -0.53125 4.15625 -0.125 3.515625 -0.125 C 2.96875 -0.125 2.546875 -0.421875 2.265625 -0.859375 C 2.09375 -1.109375 2.09375 -1.140625 2.09375 -1.359375 L 2.09375 -3.828125 C 2.09375 -4.046875 2.09375 -4.0625 2.21875 -4.25 C 2.6875 -4.921875 3.34375 -5.015625 3.640625 -5.015625 C 4.171875 -5.015625 4.609375 -4.703125 4.890625 -4.25 C 5.203125 -3.765625 5.234375 -3.078125 5.234375 -2.59375 Z M 5.234375 -2.59375 \"/>\n",
       "</symbol>\n",
       "<symbol overflow=\"visible\" id=\"glyph-1549643500644564-0-3\">\n",
       "<path style=\"stroke:none;\" d=\"M 4.953125 -1.421875 C 4.953125 -1.546875 4.84375 -1.546875 4.8125 -1.546875 C 4.703125 -1.546875 4.671875 -1.5 4.65625 -1.421875 C 4.296875 -0.3125 3.53125 -0.171875 3.078125 -0.171875 C 2.453125 -0.171875 1.40625 -0.6875 1.40625 -2.609375 C 1.40625 -4.546875 2.375 -5.0625 3.015625 -5.0625 C 3.125 -5.0625 3.875 -5.046875 4.296875 -4.609375 C 3.796875 -4.578125 3.734375 -4.21875 3.734375 -4.0625 C 3.734375 -3.75 3.9375 -3.515625 4.28125 -3.515625 C 4.59375 -3.515625 4.828125 -3.71875 4.828125 -4.078125 C 4.828125 -4.890625 3.921875 -5.359375 3 -5.359375 C 1.5 -5.359375 0.40625 -4.0625 0.40625 -2.578125 C 0.40625 -1.046875 1.59375 0.125 2.96875 0.125 C 4.578125 0.125 4.953125 -1.296875 4.953125 -1.421875 Z M 4.953125 -1.421875 \"/>\n",
       "</symbol>\n",
       "<symbol overflow=\"visible\" id=\"glyph-1549643500644564-0-4\">\n",
       "<path style=\"stroke:none;\" d=\"M 6.296875 0 L 6.296875 -0.375 C 5.46875 -0.375 5.359375 -0.453125 5.359375 -1.046875 L 5.359375 -8.296875 L 3.640625 -8.15625 L 3.640625 -7.796875 C 4.484375 -7.796875 4.578125 -7.703125 4.578125 -7.125 L 4.578125 -4.546875 C 4.234375 -4.96875 3.71875 -5.28125 3.078125 -5.28125 C 1.65625 -5.28125 0.40625 -4.109375 0.40625 -2.5625 C 0.40625 -1.046875 1.578125 0.125 2.9375 0.125 C 3.703125 0.125 4.25 -0.28125 4.546875 -0.65625 L 4.546875 0.125 Z M 4.546875 -1.40625 C 4.546875 -1.1875 4.546875 -1.171875 4.40625 -0.96875 C 4.046875 -0.390625 3.515625 -0.125 3 -0.125 C 2.46875 -0.125 2.03125 -0.4375 1.75 -0.890625 C 1.4375 -1.390625 1.40625 -2.0625 1.40625 -2.5625 C 1.40625 -3 1.421875 -3.71875 1.765625 -4.25 C 2.015625 -4.625 2.46875 -5.015625 3.125 -5.015625 C 3.53125 -5.015625 4.046875 -4.84375 4.40625 -4.296875 C 4.546875 -4.09375 4.546875 -4.078125 4.546875 -3.859375 Z M 4.546875 -1.40625 \"/>\n",
       "</symbol>\n",
       "<symbol overflow=\"visible\" id=\"glyph-1549643500644564-0-5\">\n",
       "<path style=\"stroke:none;\" d=\"M 4.953125 -1.421875 C 4.953125 -1.546875 4.859375 -1.5625 4.8125 -1.5625 C 4.703125 -1.5625 4.671875 -1.5 4.65625 -1.40625 C 4.234375 -0.171875 3.15625 -0.171875 3.03125 -0.171875 C 2.4375 -0.171875 1.953125 -0.53125 1.6875 -0.96875 C 1.328125 -1.546875 1.328125 -2.328125 1.328125 -2.765625 L 4.65625 -2.765625 C 4.921875 -2.765625 4.953125 -2.765625 4.953125 -3.015625 C 4.953125 -4.203125 4.3125 -5.359375 2.828125 -5.359375 C 1.4375 -5.359375 0.328125 -4.125 0.328125 -2.625 C 0.328125 -1.03125 1.59375 0.125 2.96875 0.125 C 4.421875 0.125 4.953125 -1.1875 4.953125 -1.421875 Z M 4.171875 -3.015625 L 1.34375 -3.015625 C 1.40625 -4.796875 2.421875 -5.09375 2.828125 -5.09375 C 4.046875 -5.09375 4.171875 -3.484375 4.171875 -3.015625 Z M 4.171875 -3.015625 \"/>\n",
       "</symbol>\n",
       "<symbol overflow=\"visible\" id=\"glyph-1549643500644564-0-6\">\n",
       "<path style=\"stroke:none;\" d=\"M 4.265625 -7.59375 C 4.265625 -8.03125 3.828125 -8.421875 3.1875 -8.421875 C 2.359375 -8.421875 1.34375 -7.796875 1.34375 -6.53125 L 1.34375 -5.15625 L 0.390625 -5.15625 L 0.390625 -4.78125 L 1.34375 -4.78125 L 1.34375 -0.90625 C 1.34375 -0.375 1.203125 -0.375 0.40625 -0.375 L 0.40625 0 L 1.765625 -0.03125 C 2.25 -0.03125 2.8125 -0.03125 3.28125 0 L 3.28125 -0.375 L 3.03125 -0.375 C 2.15625 -0.375 2.125 -0.5 2.125 -0.9375 L 2.125 -4.78125 L 3.484375 -4.78125 L 3.484375 -5.15625 L 2.09375 -5.15625 L 2.09375 -6.53125 C 2.09375 -7.59375 2.671875 -8.15625 3.1875 -8.15625 C 3.234375 -8.15625 3.40625 -8.15625 3.578125 -8.078125 C 3.4375 -8.03125 3.234375 -7.875 3.234375 -7.578125 C 3.234375 -7.296875 3.421875 -7.0625 3.734375 -7.0625 C 4.09375 -7.0625 4.265625 -7.296875 4.265625 -7.59375 Z M 4.265625 -7.59375 \"/>\n",
       "</symbol>\n",
       "<symbol overflow=\"visible\" id=\"glyph-1549643500644564-0-7\">\n",
       "<path style=\"stroke:none;\" d=\"M 5.796875 -4.828125 C 5.796875 -5.03125 5.65625 -5.421875 5.1875 -5.421875 C 4.953125 -5.421875 4.421875 -5.34375 3.921875 -4.859375 C 3.421875 -5.25 2.921875 -5.28125 2.65625 -5.28125 C 1.546875 -5.28125 0.71875 -4.453125 0.71875 -3.53125 C 0.71875 -3.015625 0.984375 -2.5625 1.28125 -2.3125 C 1.125 -2.125 0.90625 -1.734375 0.90625 -1.3125 C 0.90625 -0.9375 1.0625 -0.484375 1.4375 -0.25 C 0.71875 -0.046875 0.328125 0.46875 0.328125 0.9375 C 0.328125 1.8125 1.515625 2.46875 2.96875 2.46875 C 4.390625 2.46875 5.625 1.859375 5.625 0.921875 C 5.625 0.5 5.46875 -0.109375 4.859375 -0.4375 C 4.21875 -0.78125 3.53125 -0.78125 2.796875 -0.78125 C 2.5 -0.78125 1.984375 -0.78125 1.90625 -0.78125 C 1.515625 -0.84375 1.265625 -1.203125 1.265625 -1.59375 C 1.265625 -1.640625 1.265625 -1.90625 1.46875 -2.15625 C 1.9375 -1.8125 2.421875 -1.78125 2.65625 -1.78125 C 3.765625 -1.78125 4.59375 -2.609375 4.59375 -3.53125 C 4.59375 -3.96875 4.40625 -4.40625 4.09375 -4.6875 C 4.53125 -5.09375 4.953125 -5.15625 5.171875 -5.15625 C 5.171875 -5.15625 5.265625 -5.15625 5.296875 -5.140625 C 5.15625 -5.09375 5.109375 -4.953125 5.109375 -4.8125 C 5.109375 -4.609375 5.265625 -4.46875 5.453125 -4.46875 C 5.5625 -4.46875 5.796875 -4.546875 5.796875 -4.828125 Z M 3.6875 -3.53125 C 3.6875 -3.21875 3.6875 -2.828125 3.5 -2.53125 C 3.40625 -2.390625 3.125 -2.0625 2.65625 -2.0625 C 1.609375 -2.0625 1.609375 -3.25 1.609375 -3.53125 C 1.609375 -3.84375 1.625 -4.234375 1.8125 -4.53125 C 1.90625 -4.671875 2.171875 -5.015625 2.65625 -5.015625 C 3.6875 -5.015625 3.6875 -3.8125 3.6875 -3.53125 Z M 5.015625 0.9375 C 5.015625 1.59375 4.15625 2.1875 2.984375 2.1875 C 1.78125 2.1875 0.953125 1.578125 0.953125 0.9375 C 0.953125 0.390625 1.40625 -0.046875 1.9375 -0.078125 L 2.640625 -0.078125 C 3.671875 -0.078125 5.015625 -0.078125 5.015625 0.9375 Z M 5.015625 0.9375 \"/>\n",
       "</symbol>\n",
       "<symbol overflow=\"visible\" id=\"glyph-1549643500644564-0-8\">\n",
       "<path style=\"stroke:none;\" d=\"M 6.390625 0 L 6.390625 -0.375 C 5.765625 -0.375 5.46875 -0.375 5.46875 -0.734375 L 5.46875 -3.015625 C 5.46875 -4.046875 5.46875 -4.40625 5.09375 -4.84375 C 4.921875 -5.046875 4.53125 -5.28125 3.84375 -5.28125 C 2.828125 -5.28125 2.3125 -4.5625 2.109375 -4.140625 L 2.109375 -8.296875 L 0.375 -8.15625 L 0.375 -7.796875 C 1.21875 -7.796875 1.3125 -7.703125 1.3125 -7.125 L 1.3125 -0.90625 C 1.3125 -0.375 1.1875 -0.375 0.375 -0.375 L 0.375 0 L 1.734375 -0.03125 L 3.078125 0 L 3.078125 -0.375 C 2.265625 -0.375 2.140625 -0.375 2.140625 -0.90625 L 2.140625 -3.109375 C 2.140625 -4.34375 2.984375 -5.015625 3.75 -5.015625 C 4.5 -5.015625 4.640625 -4.375 4.640625 -3.6875 L 4.640625 -0.90625 C 4.640625 -0.375 4.5 -0.375 3.703125 -0.375 L 3.703125 0 L 5.0625 -0.03125 Z M 6.390625 0 \"/>\n",
       "</symbol>\n",
       "</g>\n",
       "<clipPath id=\"clip-1549643500644564-1\">\n",
       "  <path d=\"M 57 23 L 92.640625 23 L 92.640625 70 L 57 70 Z M 57 23 \"/>\n",
       "</clipPath>\n",
       "<clipPath id=\"clip-1549643500644564-2\">\n",
       "  <path d=\"M 0 57 L 36 57 L 36 92.640625 L 0 92.640625 Z M 0 57 \"/>\n",
       "</clipPath>\n",
       "<clipPath id=\"clip-1549643500644564-3\">\n",
       "  <path d=\"M 23 57 L 70 57 L 70 92.640625 L 23 92.640625 Z M 23 57 \"/>\n",
       "</clipPath>\n",
       "<clipPath id=\"clip-1549643500644564-4\">\n",
       "  <path d=\"M 57 57 L 92.640625 57 L 92.640625 92.640625 L 57 92.640625 Z M 57 57 \"/>\n",
       "</clipPath>\n",
       "</defs>\n",
       "<g id=\"surface1\">\n",
       "<path style=\"fill:none;stroke-width:0.79701;stroke-linecap:butt;stroke-linejoin:miter;stroke:rgb(0%,0%,0%);stroke-opacity:1;stroke-miterlimit:10;\" d=\"M 62.93075 102.046312 C 62.93075 108.624437 57.598719 113.952562 51.0245 113.952562 C 44.450281 113.952562 39.11825 108.624437 39.11825 102.046312 C 39.11825 95.472094 44.450281 90.143969 51.0245 90.143969 C 57.598719 90.143969 62.93075 95.472094 62.93075 102.046312 Z M 62.93075 102.046312 \" transform=\"matrix(1,0,0,-1,-21.712,114.351)\"/>\n",
       "<g style=\"fill:rgb(0%,0%,0%);fill-opacity:1;\">\n",
       "  <use xlink:href=\"#glyph-1549643500644564-0-1\" x=\"26.323\" y=\"14.916\"/>\n",
       "</g>\n",
       "<path style=\"fill:none;stroke-width:0.79701;stroke-linecap:butt;stroke-linejoin:miter;stroke:rgb(0%,0%,0%);stroke-opacity:1;stroke-miterlimit:10;\" d=\"M 96.946375 102.046312 C 96.946375 108.624437 91.614344 113.952562 85.040125 113.952562 C 78.465906 113.952562 73.133875 108.624437 73.133875 102.046312 C 73.133875 95.472094 78.465906 90.143969 85.040125 90.143969 C 91.614344 90.143969 96.946375 95.472094 96.946375 102.046312 Z M 96.946375 102.046312 \" transform=\"matrix(1,0,0,-1,-21.712,114.351)\"/>\n",
       "<g style=\"fill:rgb(0%,0%,0%);fill-opacity:1;\">\n",
       "  <use xlink:href=\"#glyph-1549643500644564-0-2\" x=\"60.004\" y=\"16.386\"/>\n",
       "</g>\n",
       "<path style=\"fill:none;stroke-width:0.79701;stroke-linecap:butt;stroke-linejoin:miter;stroke:rgb(0%,0%,0%);stroke-opacity:1;stroke-miterlimit:10;\" d=\"M 45.922938 68.030687 C 45.922938 74.608812 40.590906 79.936937 34.016688 79.936937 C 27.442469 79.936937 22.110437 74.608812 22.110437 68.030687 C 22.110437 61.456469 27.442469 56.128344 34.016688 56.128344 C 40.590906 56.128344 45.922938 61.456469 45.922938 68.030687 Z M 45.922938 68.030687 \" transform=\"matrix(1,0,0,-1,-21.712,114.351)\"/>\n",
       "<g style=\"fill:rgb(0%,0%,0%);fill-opacity:1;\">\n",
       "  <use xlink:href=\"#glyph-1549643500644564-0-3\" x=\"9.65\" y=\"48.932\"/>\n",
       "</g>\n",
       "<path style=\"fill:none;stroke-width:0.79701;stroke-linecap:butt;stroke-linejoin:miter;stroke:rgb(0%,0%,0%);stroke-opacity:1;stroke-miterlimit:10;\" d=\"M 79.938563 68.030687 C 79.938563 74.608812 74.606531 79.936937 68.032313 79.936937 C 61.458094 79.936937 56.126063 74.608812 56.126063 68.030687 C 56.126063 61.456469 61.458094 56.128344 68.032313 56.128344 C 74.606531 56.128344 79.938563 61.456469 79.938563 68.030687 Z M 79.938563 68.030687 \" transform=\"matrix(1,0,0,-1,-21.712,114.351)\"/>\n",
       "<g style=\"fill:rgb(0%,0%,0%);fill-opacity:1;\">\n",
       "  <use xlink:href=\"#glyph-1549643500644564-0-4\" x=\"42.996\" y=\"50.402\"/>\n",
       "</g>\n",
       "<g clip-path=\"url(#clip-1549643500644564-1)\" clip-rule=\"nonzero\">\n",
       "<path style=\"fill:none;stroke-width:0.79701;stroke-linecap:butt;stroke-linejoin:miter;stroke:rgb(0%,0%,0%);stroke-opacity:1;stroke-miterlimit:10;\" d=\"M 113.954188 68.030687 C 113.954188 74.608812 108.622156 79.936937 102.047938 79.936937 C 95.473719 79.936937 90.141688 74.608812 90.141688 68.030687 C 90.141688 61.456469 95.473719 56.128344 102.047938 56.128344 C 108.622156 56.128344 113.954188 61.456469 113.954188 68.030687 Z M 113.954188 68.030687 \" transform=\"matrix(1,0,0,-1,-21.712,114.351)\"/>\n",
       "</g>\n",
       "<g style=\"fill:rgb(0%,0%,0%);fill-opacity:1;\">\n",
       "  <use xlink:href=\"#glyph-1549643500644564-0-5\" x=\"77.681\" y=\"48.932\"/>\n",
       "</g>\n",
       "<g clip-path=\"url(#clip-1549643500644564-2)\" clip-rule=\"nonzero\">\n",
       "<path style=\"fill:none;stroke-width:0.79701;stroke-linecap:butt;stroke-linejoin:miter;stroke:rgb(0%,0%,0%);stroke-opacity:1;stroke-miterlimit:10;\" d=\"M 45.922938 34.015062 C 45.922938 40.593187 40.590906 45.921312 34.016688 45.921312 C 27.442469 45.921312 22.110437 40.593187 22.110437 34.015062 C 22.110437 27.440844 27.442469 22.108812 34.016688 22.108812 C 40.590906 22.108812 45.922938 27.440844 45.922938 34.015062 Z M 45.922938 34.015062 \" transform=\"matrix(1,0,0,-1,-21.712,114.351)\"/>\n",
       "</g>\n",
       "<g style=\"fill:rgb(0%,0%,0%);fill-opacity:1;\">\n",
       "  <use xlink:href=\"#glyph-1549643500644564-0-6\" x=\"10.475\" y=\"84.549\"/>\n",
       "</g>\n",
       "<g clip-path=\"url(#clip-1549643500644564-3)\" clip-rule=\"nonzero\">\n",
       "<path style=\"fill:none;stroke-width:0.79701;stroke-linecap:butt;stroke-linejoin:miter;stroke:rgb(0%,0%,0%);stroke-opacity:1;stroke-miterlimit:10;\" d=\"M 79.938563 34.015062 C 79.938563 40.593187 74.606531 45.921312 68.032313 45.921312 C 61.458094 45.921312 56.126063 40.593187 56.126063 34.015062 C 56.126063 27.440844 61.458094 22.108812 68.032313 22.108812 C 74.606531 22.108812 79.938563 27.440844 79.938563 34.015062 Z M 79.938563 34.015062 \" transform=\"matrix(1,0,0,-1,-21.712,114.351)\"/>\n",
       "</g>\n",
       "<g style=\"fill:rgb(0%,0%,0%);fill-opacity:1;\">\n",
       "  <use xlink:href=\"#glyph-1549643500644564-0-7\" x=\"43.331\" y=\"81.811\"/>\n",
       "</g>\n",
       "<g clip-path=\"url(#clip-1549643500644564-4)\" clip-rule=\"nonzero\">\n",
       "<path style=\"fill:none;stroke-width:0.79701;stroke-linecap:butt;stroke-linejoin:miter;stroke:rgb(0%,0%,0%);stroke-opacity:1;stroke-miterlimit:10;\" d=\"M 113.954188 34.015062 C 113.954188 40.593187 108.622156 45.921312 102.047938 45.921312 C 95.473719 45.921312 90.141688 40.593187 90.141688 34.015062 C 90.141688 27.440844 95.473719 22.108812 102.047938 22.108812 C 108.622156 22.108812 113.954188 27.440844 113.954188 34.015062 Z M 113.954188 34.015062 \" transform=\"matrix(1,0,0,-1,-21.712,114.351)\"/>\n",
       "</g>\n",
       "<g style=\"fill:rgb(0%,0%,0%);fill-opacity:1;\">\n",
       "  <use xlink:href=\"#glyph-1549643500644564-0-8\" x=\"77.012\" y=\"84.483\"/>\n",
       "</g>\n",
       "<path style=\"fill:none;stroke-width:0.79701;stroke-linecap:butt;stroke-linejoin:miter;stroke:rgb(0%,0%,0%);stroke-opacity:1;stroke-miterlimit:10;\" d=\"M 45.49325 90.987719 L 41.657313 83.311937 \" transform=\"matrix(1,0,0,-1,-21.712,114.351)\"/>\n",
       "<path style=\" stroke:none;fill-rule:nonzero;fill:rgb(0%,0%,0%);fill-opacity:1;\" d=\"M 17.851562 35.226562 C 18.703125 34.101562 20.410156 32.4375 21.921875 31.449219 L 18.433594 29.703125 C 18.546875 31.503906 18.238281 33.871094 17.851562 35.226562 \"/>\n",
       "<path style=\"fill:none;stroke-width:0.79701;stroke-linecap:butt;stroke-linejoin:miter;stroke:rgb(0%,0%,0%);stroke-opacity:1;stroke-miterlimit:10;\" d=\"M 56.587 90.987719 L 60.3995 83.354906 \" transform=\"matrix(1,0,0,-1,-21.712,114.351)\"/>\n",
       "<path style=\" stroke:none;fill-rule:nonzero;fill:rgb(0%,0%,0%);fill-opacity:1;\" d=\"M 40.777344 35.183594 C 40.390625 33.828125 40.082031 31.460938 40.199219 29.660156 L 36.710938 31.402344 C 38.222656 32.390625 39.925781 34.058594 40.777344 35.183594 \"/>\n",
       "<path style=\"fill:none;stroke-width:0.79701;stroke-linecap:butt;stroke-linejoin:miter;stroke:rgb(0%,0%,0%);stroke-opacity:1;stroke-miterlimit:10;\" d=\"M 79.501063 90.94475 L 75.672938 83.292406 \" transform=\"matrix(1,0,0,-1,-21.712,114.351)\"/>\n",
       "<path style=\" stroke:none;fill-rule:nonzero;fill:rgb(0%,0%,0%);fill-opacity:1;\" d=\"M 51.875 35.226562 C 52.722656 34.109375 54.421875 32.449219 55.929688 31.460938 L 52.453125 29.722656 C 52.570312 31.519531 52.261719 33.875 51.875 35.226562 \"/>\n",
       "<path style=\"fill:none;stroke-width:0.79701;stroke-linecap:butt;stroke-linejoin:miter;stroke:rgb(0%,0%,0%);stroke-opacity:1;stroke-miterlimit:10;\" d=\"M 90.614344 90.987719 L 94.422938 83.354906 \" transform=\"matrix(1,0,0,-1,-21.712,114.351)\"/>\n",
       "<path style=\" stroke:none;fill-rule:nonzero;fill:rgb(0%,0%,0%);fill-opacity:1;\" d=\"M 74.804688 35.183594 C 74.417969 33.828125 74.109375 31.460938 74.226562 29.660156 L 70.734375 31.402344 C 72.246094 32.390625 73.949219 34.058594 74.804688 35.183594 \"/>\n",
       "<path style=\"fill:none;stroke-width:0.79701;stroke-linecap:butt;stroke-linejoin:miter;stroke:rgb(0%,0%,0%);stroke-opacity:1;stroke-miterlimit:10;\" d=\"M 34.028406 55.659594 L 34.0245 51.06975 \" transform=\"matrix(1,0,0,-1,-21.712,114.351)\"/>\n",
       "<path style=\" stroke:none;fill-rule:nonzero;fill:rgb(0%,0%,0%);fill-opacity:1;\" d=\"M 12.3125 67.941406 C 12.574219 66.5625 13.351562 64.316406 14.257812 62.761719 L 10.371094 62.761719 C 11.277344 64.316406 12.054688 66.5625 12.3125 67.941406 \"/>\n",
       "<path style=\"fill:none;stroke-width:0.79701;stroke-linecap:butt;stroke-linejoin:miter;stroke:rgb(0%,0%,0%);stroke-opacity:1;stroke-miterlimit:10;\" d=\"M 68.05575 55.659594 L 68.051844 51.06975 \" transform=\"matrix(1,0,0,-1,-21.712,114.351)\"/>\n",
       "<path style=\" stroke:none;fill-rule:nonzero;fill:rgb(0%,0%,0%);fill-opacity:1;\" d=\"M 46.339844 67.941406 C 46.597656 66.5625 47.375 64.316406 48.285156 62.761719 L 44.398438 62.761719 C 45.304688 64.316406 46.078125 66.558594 46.339844 67.941406 \"/>\n",
       "<path style=\"fill:none;stroke-width:0.79701;stroke-linecap:butt;stroke-linejoin:miter;stroke:rgb(0%,0%,0%);stroke-opacity:1;stroke-miterlimit:10;\" d=\"M 76.848719 59.253344 L 89.962 46.140062 \" transform=\"matrix(1,0,0,-1,-21.712,114.351)\"/>\n",
       "<path style=\" stroke:none;fill-rule:nonzero;fill:rgb(0%,0%,0%);fill-opacity:1;\" d=\"M 71.5625 71.527344 C 70.761719 70.359375 69.71875 68.214844 69.261719 66.464844 L 66.5 69.226562 C 68.246094 69.683594 70.394531 70.726562 71.5625 71.527344 \"/>\n",
       "</g>\n",
       "</svg>\n",
       "\n"
      ],
      "text/plain": [
       "TikzPicture(L\"$ % latex/TikZ code\n",
       "% define styles\n",
       "\\tikzstyle{every node} = [draw, circle, minimum size=7mm]\n",
       "\\tikzset{>=latex}\n",
       "% add nodes\n",
       "\\foreach \\n/\\x/\\y in {a/1.5/3, b/2.5/3, c/1/2, d/2/2, e/3/2, f/1/1, g/2/1, h/3/1}\n",
       "    \\node (\\n) at (\\x,\\y) {\\n};\n",
       "% draw links\n",
       "\\foreach \\from/\\to in {a/c, a/d, b/d, b/e, c/f, d/g, d/h}\n",
       "    \\draw [->] (\\from) -- (\\to);\n",
       "$\", \"thick, scale=1.2, transform shape\", \"\", true)"
      ]
     },
     "execution_count": 1,
     "metadata": {},
     "output_type": "execute_result"
    }
   ],
   "source": [
    "using TikzPictures\n",
    "\n",
    "# manual layout: straightforward, predictable\n",
    "g = TikzPicture(L\"\"\" % latex/TikZ code\n",
    "% define styles\n",
    "\\tikzstyle{every node} = [draw, circle, minimum size=7mm]\n",
    "\\tikzset{>=latex}\n",
    "% add nodes\n",
    "\\foreach \\n/\\x/\\y in {a/1.5/3, b/2.5/3, c/1/2, d/2/2, e/3/2, f/1/1, g/2/1, h/3/1}\n",
    "    \\node (\\n) at (\\x,\\y) {\\n};\n",
    "% draw links\n",
    "\\foreach \\from/\\to in {a/c, a/d, b/d, b/e, c/f, d/g, d/h}\n",
    "    \\draw [->] (\\from) -- (\\to);\n",
    "\"\"\", options=\"thick, scale=1.2, transform shape\")"
   ]
  },
  {
   "cell_type": "markdown",
   "metadata": {},
   "source": [
    "2.1 (5 pts) For the Bayesian network show above, draw the corresponding Markov Random Field (MRF), and write out the joint probability using potential functions.  You do not need to specify the functions themselves, only which arguments they take."
   ]
  },
  {
   "cell_type": "markdown",
   "metadata": {},
   "source": [
    "2.2 (5 pts) Now specify the Bayes net as a factor graph.  Again write the expression for the joint probability, but using factor functions."
   ]
  },
  {
   "cell_type": "markdown",
   "metadata": {},
   "source": [
    "2.3 (5 pts) Express the following Bayes net (from the sprinkler example) in two different factor graphs.  For each network, write the factors as a function of the conditional probabilties and specify the joint probability."
   ]
  },
  {
   "cell_type": "code",
   "execution_count": 2,
   "metadata": {},
   "outputs": [
    {
     "data": {
      "image/svg+xml": [
       "<?xml version=\"1.0\" encoding=\"UTF-8\"?>\n",
       "<svg xmlns=\"http://www.w3.org/2000/svg\" xmlns:xlink=\"http://www.w3.org/1999/xlink\" width=\"58.624pt\" height=\"58.624pt\" viewBox=\"0 0 58.624 58.624\" version=\"1.1\">\n",
       "<defs>\n",
       "<g>\n",
       "<symbol overflow=\"visible\" id=\"glyph-1549643500644565-0-0\">\n",
       "<path style=\"stroke:none;\" d=\"\"/>\n",
       "</symbol>\n",
       "<symbol overflow=\"visible\" id=\"glyph-1549643500644565-0-1\">\n",
       "<path style=\"stroke:none;\" d=\"M 5.96875 -2.21875 C 5.96875 -3.421875 5.171875 -4.40625 4.171875 -4.640625 L 2.640625 -5.015625 C 1.90625 -5.1875 1.4375 -5.828125 1.4375 -6.53125 C 1.4375 -7.359375 2.078125 -8.09375 3.015625 -8.09375 C 5.015625 -8.09375 5.265625 -6.125 5.34375 -5.59375 C 5.359375 -5.515625 5.359375 -5.453125 5.484375 -5.453125 C 5.640625 -5.453125 5.640625 -5.515625 5.640625 -5.734375 L 5.640625 -8.140625 C 5.640625 -8.34375 5.640625 -8.421875 5.515625 -8.421875 C 5.421875 -8.421875 5.421875 -8.421875 5.328125 -8.265625 L 4.90625 -7.59375 C 4.546875 -7.9375 4.0625 -8.421875 3 -8.421875 C 1.671875 -8.421875 0.671875 -7.375 0.671875 -6.109375 C 0.671875 -5.109375 1.296875 -4.25 2.234375 -3.921875 C 2.359375 -3.875 2.96875 -3.734375 3.8125 -3.53125 C 4.140625 -3.4375 4.5 -3.359375 4.828125 -2.921875 C 5.078125 -2.609375 5.203125 -2.21875 5.203125 -1.8125 C 5.203125 -0.96875 4.609375 -0.109375 3.59375 -0.109375 C 3.25 -0.109375 2.34375 -0.171875 1.703125 -0.75 C 1.015625 -1.40625 0.984375 -2.15625 0.96875 -2.59375 C 0.953125 -2.71875 0.859375 -2.71875 0.828125 -2.71875 C 0.671875 -2.71875 0.671875 -2.625 0.671875 -2.421875 L 0.671875 -0.03125 C 0.671875 0.171875 0.671875 0.265625 0.796875 0.265625 C 0.890625 0.265625 0.890625 0.234375 0.984375 0.109375 C 0.984375 0.109375 1.015625 0.0625 1.40625 -0.578125 C 1.78125 -0.171875 2.546875 0.265625 3.609375 0.265625 C 5.015625 0.265625 5.96875 -0.90625 5.96875 -2.21875 Z M 5.96875 -2.21875 \"/>\n",
       "</symbol>\n",
       "<symbol overflow=\"visible\" id=\"glyph-1549643500644565-0-2\">\n",
       "<path style=\"stroke:none;\" d=\"M 8.75 -1.046875 C 8.75 -1.125 8.75 -1.25 8.59375 -1.25 C 8.46875 -1.25 8.46875 -1.140625 8.453125 -1.0625 C 8.375 -0.21875 7.953125 0 7.65625 0 C 7.078125 0 6.984375 -0.609375 6.8125 -1.71875 L 6.65625 -2.671875 C 6.4375 -3.4375 5.859375 -3.84375 5.203125 -4.0625 C 6.359375 -4.34375 7.296875 -5.078125 7.296875 -6.015625 C 7.296875 -7.15625 5.921875 -8.15625 4.171875 -8.15625 L 0.421875 -8.15625 L 0.421875 -7.796875 L 0.703125 -7.796875 C 1.625 -7.796875 1.65625 -7.65625 1.65625 -7.234375 L 1.65625 -0.9375 C 1.65625 -0.5 1.625 -0.375 0.703125 -0.375 L 0.421875 -0.375 L 0.421875 0 C 0.84375 -0.03125 1.703125 -0.03125 2.15625 -0.03125 C 2.625 -0.03125 3.484375 -0.03125 3.90625 0 L 3.90625 -0.375 L 3.625 -0.375 C 2.703125 -0.375 2.671875 -0.5 2.671875 -0.9375 L 2.671875 -3.953125 L 4.046875 -3.953125 C 4.25 -3.953125 4.75 -3.953125 5.15625 -3.546875 C 5.625 -3.125 5.625 -2.75 5.625 -1.953125 C 5.625 -1.171875 5.625 -0.6875 6.109375 -0.234375 C 6.59375 0.1875 7.25 0.265625 7.609375 0.265625 C 8.546875 0.265625 8.75 -0.71875 8.75 -1.046875 Z M 6.0625 -6.015625 C 6.0625 -5.1875 5.765625 -4.21875 4 -4.21875 L 2.671875 -4.21875 L 2.671875 -7.3125 C 2.671875 -7.59375 2.671875 -7.734375 2.9375 -7.765625 C 3.0625 -7.796875 3.40625 -7.796875 3.640625 -7.796875 C 4.71875 -7.796875 6.0625 -7.75 6.0625 -6.015625 Z M 6.0625 -6.015625 \"/>\n",
       "</symbol>\n",
       "<symbol overflow=\"visible\" id=\"glyph-1549643500644565-0-3\">\n",
       "<path style=\"stroke:none;\" d=\"M 8.1875 -5.40625 L 7.953125 -8.09375 L 0.65625 -8.09375 L 0.4375 -5.40625 L 0.734375 -5.40625 C 0.890625 -7.328125 1.078125 -7.71875 2.875 -7.71875 C 3.09375 -7.71875 3.40625 -7.71875 3.53125 -7.703125 C 3.78125 -7.65625 3.78125 -7.515625 3.78125 -7.25 L 3.78125 -0.9375 C 3.78125 -0.53125 3.78125 -0.375 2.515625 -0.375 L 2.046875 -0.375 L 2.046875 0 C 2.53125 -0.03125 3.75 -0.03125 4.296875 -0.03125 C 4.859375 -0.03125 6.078125 -0.03125 6.578125 0 L 6.578125 -0.375 L 6.09375 -0.375 C 4.84375 -0.375 4.84375 -0.53125 4.84375 -0.9375 L 4.84375 -7.25 C 4.84375 -7.484375 4.84375 -7.65625 5.0625 -7.703125 C 5.1875 -7.71875 5.515625 -7.71875 5.734375 -7.71875 C 7.546875 -7.71875 7.71875 -7.328125 7.890625 -5.40625 Z M 8.1875 -5.40625 \"/>\n",
       "</symbol>\n",
       "<symbol overflow=\"visible\" id=\"glyph-1549643500644565-0-4\">\n",
       "<path style=\"stroke:none;\" d=\"M 5.5625 -7.796875 L 5.5625 -8.15625 L 4.015625 -8.125 C 3.515625 -8.125 2.46875 -8.125 2.015625 -8.15625 L 2.015625 -7.796875 L 2.4375 -7.796875 C 3.609375 -7.796875 3.609375 -7.640625 3.609375 -7.21875 L 3.609375 -1.765625 C 3.609375 -0.671875 3.015625 0 2.375 0 C 2.3125 0 1.5 0 1.0625 -0.6875 C 1.6875 -0.6875 1.828125 -1.046875 1.828125 -1.359375 C 1.828125 -1.796875 1.5 -2.03125 1.15625 -2.03125 C 0.890625 -2.03125 0.484375 -1.859375 0.484375 -1.34375 C 0.484375 -0.453125 1.34375 0.265625 2.40625 0.265625 C 3.625 0.265625 4.5 -0.578125 4.625 -1.46875 C 4.640625 -1.5625 4.640625 -1.59375 4.640625 -2 L 4.640625 -7.296875 C 4.640625 -7.796875 4.8125 -7.796875 5.5625 -7.796875 Z M 5.5625 -7.796875 \"/>\n",
       "</symbol>\n",
       "</g>\n",
       "<clipPath id=\"clip-1549643500644565-1\">\n",
       "  <path d=\"M 23 0 L 58.625 0 L 58.625 36 L 23 36 Z M 23 0 \"/>\n",
       "</clipPath>\n",
       "<clipPath id=\"clip-1549643500644565-2\">\n",
       "  <path d=\"M 0 23 L 36 23 L 36 58.625 L 0 58.625 Z M 0 23 \"/>\n",
       "</clipPath>\n",
       "<clipPath id=\"clip-1549643500644565-3\">\n",
       "  <path d=\"M 23 23 L 58.625 23 L 58.625 58.625 L 23 58.625 Z M 23 23 \"/>\n",
       "</clipPath>\n",
       "</defs>\n",
       "<g id=\"surface1\">\n",
       "<path style=\"fill:none;stroke-width:0.79701;stroke-linecap:butt;stroke-linejoin:miter;stroke:rgb(0%,0%,0%);stroke-opacity:1;stroke-miterlimit:10;\" d=\"M 11.906937 -0.0006875 C 11.906937 6.573531 6.574906 11.905563 0.0006875 11.905563 C -6.573531 11.905563 -11.905563 6.573531 -11.905563 -0.0006875 C -11.905563 -6.574906 -6.573531 -11.906937 0.0006875 -11.906937 C 6.574906 -11.906937 11.906937 -6.574906 11.906937 -0.0006875 Z M 11.906937 -0.0006875 \" transform=\"matrix(1,0,0,-1,12.304,12.304)\"/>\n",
       "<g style=\"fill:rgb(0%,0%,0%);fill-opacity:1;\">\n",
       "  <use xlink:href=\"#glyph-1549643500644565-0-1\" x=\"8.98\" y=\"16.387\"/>\n",
       "</g>\n",
       "<g clip-path=\"url(#clip-1549643500644565-1)\" clip-rule=\"nonzero\">\n",
       "<path style=\"fill:none;stroke-width:0.79701;stroke-linecap:butt;stroke-linejoin:miter;stroke:rgb(0%,0%,0%);stroke-opacity:1;stroke-miterlimit:10;\" d=\"M 45.922562 -0.0006875 C 45.922562 6.573531 40.590531 11.905563 34.016312 11.905563 C 27.442094 11.905563 22.110062 6.573531 22.110062 -0.0006875 C 22.110062 -6.574906 27.442094 -11.906937 34.016312 -11.906937 C 40.590531 -11.906937 45.922562 -6.574906 45.922562 -0.0006875 Z M 45.922562 -0.0006875 \" transform=\"matrix(1,0,0,-1,12.304,12.304)\"/>\n",
       "</g>\n",
       "<g style=\"fill:rgb(0%,0%,0%);fill-opacity:1;\">\n",
       "  <use xlink:href=\"#glyph-1549643500644565-0-2\" x=\"41.92\" y=\"16.256\"/>\n",
       "</g>\n",
       "<g clip-path=\"url(#clip-1549643500644565-2)\" clip-rule=\"nonzero\">\n",
       "<path style=\"fill:none;stroke-width:0.79701;stroke-linecap:butt;stroke-linejoin:miter;stroke:rgb(0%,0%,0%);stroke-opacity:1;stroke-miterlimit:10;\" d=\"M 11.906937 -34.016312 C 11.906937 -27.442094 6.574906 -22.110062 0.0006875 -22.110062 C -6.573531 -22.110062 -11.905563 -27.442094 -11.905563 -34.016312 C -11.905563 -40.590531 -6.573531 -45.922562 0.0006875 -45.922562 C 6.574906 -45.922562 11.906937 -40.590531 11.906937 -34.016312 Z M 11.906937 -34.016312 \" transform=\"matrix(1,0,0,-1,12.304,12.304)\"/>\n",
       "</g>\n",
       "<g style=\"fill:rgb(0%,0%,0%);fill-opacity:1;\">\n",
       "  <use xlink:href=\"#glyph-1549643500644565-0-3\" x=\"7.988\" y=\"50.367\"/>\n",
       "</g>\n",
       "<g clip-path=\"url(#clip-1549643500644565-3)\" clip-rule=\"nonzero\">\n",
       "<path style=\"fill:none;stroke-width:0.79701;stroke-linecap:butt;stroke-linejoin:miter;stroke:rgb(0%,0%,0%);stroke-opacity:1;stroke-miterlimit:10;\" d=\"M 45.922562 -34.016312 C 45.922562 -27.442094 40.590531 -22.110062 34.016312 -22.110062 C 27.442094 -22.110062 22.110062 -27.442094 22.110062 -34.016312 C 22.110062 -40.590531 27.442094 -45.922562 34.016312 -45.922562 C 40.590531 -45.922562 45.922562 -40.590531 45.922562 -34.016312 Z M 45.922562 -34.016312 \" transform=\"matrix(1,0,0,-1,12.304,12.304)\"/>\n",
       "</g>\n",
       "<g style=\"fill:rgb(0%,0%,0%);fill-opacity:1;\">\n",
       "  <use xlink:href=\"#glyph-1549643500644565-0-4\" x=\"43.247\" y=\"50.271\"/>\n",
       "</g>\n",
       "<path style=\"fill:none;stroke-width:0.79701;stroke-linecap:butt;stroke-linejoin:miter;stroke:rgb(0%,0%,0%);stroke-opacity:1;stroke-miterlimit:10;\" d=\"M 0.0006875 -12.387406 L 0.0006875 -16.973344 \" transform=\"matrix(1,0,0,-1,12.304,12.304)\"/>\n",
       "<path style=\" stroke:none;fill-rule:nonzero;fill:rgb(0%,0%,0%);fill-opacity:1;\" d=\"M 12.304688 33.941406 C 12.5625 32.558594 13.339844 30.3125 14.246094 28.761719 L 10.359375 28.761719 C 11.269531 30.3125 12.046875 32.558594 12.304688 33.941406 \"/>\n",
       "<path style=\"fill:none;stroke-width:0.79701;stroke-linecap:butt;stroke-linejoin:miter;stroke:rgb(0%,0%,0%);stroke-opacity:1;stroke-miterlimit:10;\" d=\"M 25.223344 -8.801469 L 12.098344 -21.926469 \" transform=\"matrix(1,0,0,-1,12.304,12.304)\"/>\n",
       "<path style=\" stroke:none;fill-rule:nonzero;fill:rgb(0%,0%,0%);fill-opacity:1;\" d=\"M 21.105469 37.523438 C 22.265625 36.730469 24.402344 35.695312 26.144531 35.234375 L 23.394531 32.488281 C 22.9375 34.230469 21.898438 36.367188 21.105469 37.523438 \"/>\n",
       "<path style=\"fill:none;stroke-width:0.79701;stroke-linecap:butt;stroke-linejoin:miter;stroke:rgb(0%,0%,0%);stroke-opacity:1;stroke-miterlimit:10;\" d=\"M 34.028031 -12.387406 L 34.028031 -16.973344 \" transform=\"matrix(1,0,0,-1,12.304,12.304)\"/>\n",
       "<path style=\" stroke:none;fill-rule:nonzero;fill:rgb(0%,0%,0%);fill-opacity:1;\" d=\"M 46.328125 33.941406 C 46.589844 32.558594 47.367188 30.3125 48.273438 28.761719 L 44.386719 28.757812 C 45.292969 30.3125 46.070312 32.558594 46.328125 33.941406 \"/>\n",
       "</g>\n",
       "</svg>\n",
       "\n"
      ],
      "text/plain": [
       "TikzPicture(L\"$\\graph [simple, grow down, branch right, edges={>=latex},\n",
       "        nodes={draw, circle, minimum size=7mm} ] {\n",
       "    {S,R} -> {T,J}, R -> T\n",
       "};\n",
       "$\", \"thick, scale=1.2, transform shape\", \"\\\\usetikzlibrary{graphs}\", true)"
      ]
     },
     "execution_count": 2,
     "metadata": {},
     "output_type": "execute_result"
    }
   ],
   "source": [
    "# automatic layout: usually more concise and compact but not always predictable\n",
    "g = TikzPicture(L\"\"\"\n",
    "\\graph [simple, grow down, branch right, edges={>=latex},\n",
    "        nodes={draw, circle, minimum size=7mm} ] {\n",
    "    {S,R} -> {T,J}, R -> T\n",
    "};\n",
    "\"\"\", options=\"thick, scale=1.2, transform shape\", \n",
    "    preamble=\"\\\\usetikzlibrary{graphs}\")"
   ]
  },
  {
   "cell_type": "markdown",
   "metadata": {},
   "source": [
    "### Exercise 3. The Sum Product Algorithm (25 pts)"
   ]
  },
  {
   "cell_type": "markdown",
   "metadata": {},
   "source": [
    "Consider the following factor graph."
   ]
  },
  {
   "cell_type": "code",
   "execution_count": 3,
   "metadata": {},
   "outputs": [
    {
     "data": {
      "image/svg+xml": [
       "<?xml version=\"1.0\" encoding=\"UTF-8\"?>\n",
       "<svg xmlns=\"http://www.w3.org/2000/svg\" xmlns:xlink=\"http://www.w3.org/1999/xlink\" width=\"160.67pt\" height=\"75.576pt\" viewBox=\"0 0 160.67 75.576\" version=\"1.1\">\n",
       "<defs>\n",
       "<g>\n",
       "<symbol overflow=\"visible\" id=\"glyph-1549643500644566-0-0\">\n",
       "<path style=\"stroke:none;\" d=\"\"/>\n",
       "</symbol>\n",
       "<symbol overflow=\"visible\" id=\"glyph-1549643500644566-0-1\">\n",
       "<path style=\"stroke:none;\" d=\"M 5.765625 -1.0625 L 5.765625 -1.734375 L 5.46875 -1.734375 L 5.46875 -1.0625 C 5.46875 -0.375 5.171875 -0.296875 5.046875 -0.296875 C 4.65625 -0.296875 4.609375 -0.84375 4.609375 -0.890625 L 4.609375 -3.28125 C 4.609375 -3.796875 4.609375 -4.25 4.171875 -4.703125 C 3.703125 -5.15625 3.109375 -5.359375 2.53125 -5.359375 C 1.546875 -5.359375 0.734375 -4.796875 0.734375 -4 C 0.734375 -3.640625 0.96875 -3.4375 1.28125 -3.4375 C 1.609375 -3.4375 1.828125 -3.6875 1.828125 -4 C 1.828125 -4.140625 1.765625 -4.53125 1.21875 -4.546875 C 1.546875 -4.953125 2.125 -5.09375 2.515625 -5.09375 C 3.09375 -5.09375 3.78125 -4.625 3.78125 -3.5625 L 3.78125 -3.125 C 3.171875 -3.078125 2.328125 -3.046875 1.578125 -2.6875 C 0.6875 -2.28125 0.375 -1.65625 0.375 -1.140625 C 0.375 -0.171875 1.546875 0.125 2.296875 0.125 C 3.078125 0.125 3.640625 -0.34375 3.859375 -0.90625 C 3.90625 -0.4375 4.234375 0.078125 4.796875 0.078125 C 5.046875 0.078125 5.765625 -0.09375 5.765625 -1.0625 Z M 3.78125 -1.671875 C 3.78125 -0.53125 2.921875 -0.125 2.375 -0.125 C 1.796875 -0.125 1.296875 -0.546875 1.296875 -1.140625 C 1.296875 -1.8125 1.8125 -2.796875 3.78125 -2.875 Z M 3.78125 -1.671875 \"/>\n",
       "</symbol>\n",
       "<symbol overflow=\"visible\" id=\"glyph-1549643500644566-0-2\">\n",
       "<path style=\"stroke:none;\" d=\"M 6.234375 -2.578125 C 6.234375 -4.09375 5.0625 -5.28125 3.6875 -5.28125 C 2.765625 -5.28125 2.25 -4.71875 2.0625 -4.5 L 2.0625 -8.296875 L 0.328125 -8.15625 L 0.328125 -7.796875 C 1.171875 -7.796875 1.265625 -7.703125 1.265625 -7.125 L 1.265625 0 L 1.5625 0 L 2 -0.734375 C 2.171875 -0.46875 2.671875 0.125 3.5625 0.125 C 4.984375 0.125 6.234375 -1.046875 6.234375 -2.578125 Z M 5.234375 -2.59375 C 5.234375 -2.15625 5.21875 -1.4375 4.859375 -0.890625 C 4.609375 -0.53125 4.15625 -0.125 3.515625 -0.125 C 2.96875 -0.125 2.546875 -0.421875 2.265625 -0.859375 C 2.09375 -1.109375 2.09375 -1.140625 2.09375 -1.359375 L 2.09375 -3.828125 C 2.09375 -4.046875 2.09375 -4.0625 2.21875 -4.25 C 2.6875 -4.921875 3.34375 -5.015625 3.640625 -5.015625 C 4.171875 -5.015625 4.609375 -4.703125 4.890625 -4.25 C 5.203125 -3.765625 5.234375 -3.078125 5.234375 -2.59375 Z M 5.234375 -2.59375 \"/>\n",
       "</symbol>\n",
       "<symbol overflow=\"visible\" id=\"glyph-1549643500644566-0-3\">\n",
       "<path style=\"stroke:none;\" d=\"M 4.953125 -1.421875 C 4.953125 -1.546875 4.84375 -1.546875 4.8125 -1.546875 C 4.703125 -1.546875 4.671875 -1.5 4.65625 -1.421875 C 4.296875 -0.3125 3.53125 -0.171875 3.078125 -0.171875 C 2.453125 -0.171875 1.40625 -0.6875 1.40625 -2.609375 C 1.40625 -4.546875 2.375 -5.0625 3.015625 -5.0625 C 3.125 -5.0625 3.875 -5.046875 4.296875 -4.609375 C 3.796875 -4.578125 3.734375 -4.21875 3.734375 -4.0625 C 3.734375 -3.75 3.9375 -3.515625 4.28125 -3.515625 C 4.59375 -3.515625 4.828125 -3.71875 4.828125 -4.078125 C 4.828125 -4.890625 3.921875 -5.359375 3 -5.359375 C 1.5 -5.359375 0.40625 -4.0625 0.40625 -2.578125 C 0.40625 -1.046875 1.59375 0.125 2.96875 0.125 C 4.578125 0.125 4.953125 -1.296875 4.953125 -1.421875 Z M 4.953125 -1.421875 \"/>\n",
       "</symbol>\n",
       "<symbol overflow=\"visible\" id=\"glyph-1549643500644566-0-4\">\n",
       "<path style=\"stroke:none;\" d=\"M 6.296875 0 L 6.296875 -0.375 C 5.46875 -0.375 5.359375 -0.453125 5.359375 -1.046875 L 5.359375 -8.296875 L 3.640625 -8.15625 L 3.640625 -7.796875 C 4.484375 -7.796875 4.578125 -7.703125 4.578125 -7.125 L 4.578125 -4.546875 C 4.234375 -4.96875 3.71875 -5.28125 3.078125 -5.28125 C 1.65625 -5.28125 0.40625 -4.109375 0.40625 -2.5625 C 0.40625 -1.046875 1.578125 0.125 2.9375 0.125 C 3.703125 0.125 4.25 -0.28125 4.546875 -0.65625 L 4.546875 0.125 Z M 4.546875 -1.40625 C 4.546875 -1.1875 4.546875 -1.171875 4.40625 -0.96875 C 4.046875 -0.390625 3.515625 -0.125 3 -0.125 C 2.46875 -0.125 2.03125 -0.4375 1.75 -0.890625 C 1.4375 -1.390625 1.40625 -2.0625 1.40625 -2.5625 C 1.40625 -3 1.421875 -3.71875 1.765625 -4.25 C 2.015625 -4.625 2.46875 -5.015625 3.125 -5.015625 C 3.53125 -5.015625 4.046875 -4.84375 4.40625 -4.296875 C 4.546875 -4.09375 4.546875 -4.078125 4.546875 -3.859375 Z M 4.546875 -1.40625 \"/>\n",
       "</symbol>\n",
       "<symbol overflow=\"visible\" id=\"glyph-1549643500644566-1-0\">\n",
       "<path style=\"stroke:none;\" d=\"\"/>\n",
       "</symbol>\n",
       "<symbol overflow=\"visible\" id=\"glyph-1549643500644566-1-1\">\n",
       "<path style=\"stroke:none;\" d=\"M 4.390625 -4.78125 L 5.421875 -4.78125 C 5.65625 -4.78125 5.765625 -4.78125 5.765625 -5.015625 C 5.765625 -5.15625 5.65625 -5.15625 5.453125 -5.15625 L 4.453125 -5.15625 L 4.703125 -6.515625 C 4.75 -6.765625 4.921875 -7.609375 5 -7.75 C 5.109375 -7.984375 5.3125 -8.15625 5.5625 -8.15625 C 5.609375 -8.15625 5.921875 -8.15625 6.140625 -7.953125 C 5.625 -7.90625 5.5 -7.484375 5.5 -7.296875 C 5.5 -7.03125 5.71875 -6.890625 5.9375 -6.890625 C 6.25 -6.890625 6.59375 -7.140625 6.59375 -7.609375 C 6.59375 -8.15625 6.046875 -8.421875 5.5625 -8.421875 C 5.15625 -8.421875 4.40625 -8.21875 4.046875 -7.03125 C 3.96875 -6.78125 3.9375 -6.65625 3.640625 -5.15625 L 2.828125 -5.15625 C 2.59375 -5.15625 2.46875 -5.15625 2.46875 -4.921875 C 2.46875 -4.78125 2.5625 -4.78125 2.796875 -4.78125 L 3.578125 -4.78125 L 2.6875 -0.0625 C 2.46875 1.09375 2.265625 2.1875 1.65625 2.1875 C 1.609375 2.1875 1.296875 2.1875 1.078125 1.96875 C 1.625 1.9375 1.734375 1.5 1.734375 1.328125 C 1.734375 1.046875 1.515625 0.90625 1.296875 0.90625 C 0.984375 0.90625 0.640625 1.171875 0.640625 1.625 C 0.640625 2.15625 1.15625 2.453125 1.65625 2.453125 C 2.3125 2.453125 2.78125 1.75 3 1.296875 C 3.375 0.53125 3.65625 -0.90625 3.671875 -0.984375 Z M 4.390625 -4.78125 \"/>\n",
       "</symbol>\n",
       "<symbol overflow=\"visible\" id=\"glyph-1549643500644566-2-0\">\n",
       "<path style=\"stroke:none;\" d=\"\"/>\n",
       "</symbol>\n",
       "<symbol overflow=\"visible\" id=\"glyph-1549643500644566-2-1\">\n",
       "<path style=\"stroke:none;\" d=\"M 2.8125 -5.328125 C 2.8125 -5.546875 2.78125 -5.5625 2.546875 -5.5625 C 2.015625 -5.03125 1.25 -5.03125 0.90625 -5.03125 L 0.90625 -4.71875 C 1.109375 -4.71875 1.671875 -4.71875 2.125 -4.953125 L 2.125 -0.6875 C 2.125 -0.40625 2.125 -0.296875 1.296875 -0.296875 L 0.96875 -0.296875 L 0.96875 0 C 1.125 -0.015625 2.15625 -0.03125 2.46875 -0.03125 C 2.71875 -0.03125 3.78125 -0.015625 3.96875 0 L 3.96875 -0.296875 L 3.640625 -0.296875 C 2.8125 -0.296875 2.8125 -0.40625 2.8125 -0.6875 Z M 2.8125 -5.328125 \"/>\n",
       "</symbol>\n",
       "<symbol overflow=\"visible\" id=\"glyph-1549643500644566-2-2\">\n",
       "<path style=\"stroke:none;\" d=\"M 4.234375 -1.53125 L 3.9375 -1.53125 C 3.921875 -1.34375 3.828125 -0.84375 3.734375 -0.765625 C 3.65625 -0.71875 3.015625 -0.71875 2.890625 -0.71875 L 1.359375 -0.71875 C 2.234375 -1.484375 2.53125 -1.71875 3.03125 -2.125 C 3.65625 -2.609375 4.234375 -3.125 4.234375 -3.921875 C 4.234375 -4.9375 3.34375 -5.5625 2.265625 -5.5625 C 1.234375 -5.5625 0.53125 -4.828125 0.53125 -4.0625 C 0.53125 -3.640625 0.890625 -3.59375 0.96875 -3.59375 C 1.171875 -3.59375 1.421875 -3.734375 1.421875 -4.03125 C 1.421875 -4.1875 1.359375 -4.484375 0.921875 -4.484375 C 1.1875 -5.078125 1.75 -5.265625 2.140625 -5.265625 C 2.984375 -5.265625 3.421875 -4.609375 3.421875 -3.921875 C 3.421875 -3.203125 2.890625 -2.625 2.625 -2.3125 L 0.609375 -0.328125 C 0.53125 -0.25 0.53125 -0.234375 0.53125 0 L 3.984375 0 Z M 4.234375 -1.53125 \"/>\n",
       "</symbol>\n",
       "</g>\n",
       "<clipPath id=\"clip-1549643500644566-1\">\n",
       "  <path d=\"M 57 40 L 104 40 L 104 75.574219 L 57 75.574219 Z M 57 40 \"/>\n",
       "</clipPath>\n",
       "<clipPath id=\"clip-1549643500644566-2\">\n",
       "  <path d=\"M 125 40 L 160.671875 40 L 160.671875 75.574219 L 125 75.574219 Z M 125 40 \"/>\n",
       "</clipPath>\n",
       "</defs>\n",
       "<g id=\"surface1\">\n",
       "<path style=\"fill:none;stroke-width:0.79701;stroke-linecap:butt;stroke-linejoin:miter;stroke:rgb(0%,0%,0%);stroke-opacity:1;stroke-miterlimit:10;\" d=\"M 45.922938 68.034094 C 45.922938 74.608312 40.590906 79.936437 34.016688 79.936437 C 27.442469 79.936437 22.110437 74.608312 22.110437 68.034094 C 22.110437 61.455969 27.442469 56.127844 34.016688 56.127844 C 40.590906 56.127844 45.922938 61.455969 45.922938 68.034094 Z M 45.922938 68.034094 \" transform=\"matrix(1,0,0,-1,-21.712,97.288)\"/>\n",
       "<g style=\"fill:rgb(0%,0%,0%);fill-opacity:1;\">\n",
       "  <use xlink:href=\"#glyph-1549643500644566-0-1\" x=\"9.315\" y=\"31.869\"/>\n",
       "</g>\n",
       "<path style=\"fill:none;stroke-width:0.79701;stroke-linecap:butt;stroke-linejoin:miter;stroke:rgb(0%,0%,0%);stroke-opacity:1;stroke-miterlimit:10;\" d=\"M 113.954188 68.034094 C 113.954188 74.608312 108.622156 79.936437 102.047938 79.936437 C 95.473719 79.936437 90.141688 74.608312 90.141688 68.034094 C 90.141688 61.455969 95.473719 56.127844 102.047938 56.127844 C 108.622156 56.127844 113.954188 61.455969 113.954188 68.034094 Z M 113.954188 68.034094 \" transform=\"matrix(1,0,0,-1,-21.712,97.288)\"/>\n",
       "<g style=\"fill:rgb(0%,0%,0%);fill-opacity:1;\">\n",
       "  <use xlink:href=\"#glyph-1549643500644566-0-2\" x=\"77.012\" y=\"33.339\"/>\n",
       "</g>\n",
       "<g clip-path=\"url(#clip-1549643500644566-1)\" clip-rule=\"nonzero\">\n",
       "<path style=\"fill:none;stroke-width:0.79701;stroke-linecap:butt;stroke-linejoin:miter;stroke:rgb(0%,0%,0%);stroke-opacity:1;stroke-miterlimit:10;\" d=\"M 113.954188 34.014562 C 113.954188 40.592687 108.622156 45.920812 102.047938 45.920812 C 95.473719 45.920812 90.141688 40.592687 90.141688 34.014562 C 90.141688 27.440344 95.473719 22.112219 102.047938 22.112219 C 108.622156 22.112219 113.954188 27.440344 113.954188 34.014562 Z M 113.954188 34.014562 \" transform=\"matrix(1,0,0,-1,-21.712,97.288)\"/>\n",
       "</g>\n",
       "<g style=\"fill:rgb(0%,0%,0%);fill-opacity:1;\">\n",
       "  <use xlink:href=\"#glyph-1549643500644566-0-3\" x=\"77.681\" y=\"65.884\"/>\n",
       "</g>\n",
       "<g clip-path=\"url(#clip-1549643500644566-2)\" clip-rule=\"nonzero\">\n",
       "<path style=\"fill:none;stroke-width:0.79701;stroke-linecap:butt;stroke-linejoin:miter;stroke:rgb(0%,0%,0%);stroke-opacity:1;stroke-miterlimit:10;\" d=\"M 181.985437 34.014562 C 181.985437 40.592687 176.657312 45.920812 170.079187 45.920812 C 163.504969 45.920812 158.172937 40.592687 158.172937 34.014562 C 158.172937 27.440344 163.504969 22.112219 170.079187 22.112219 C 176.657312 22.112219 181.985437 27.440344 181.985437 34.014562 Z M 181.985437 34.014562 \" transform=\"matrix(1,0,0,-1,-21.712,97.288)\"/>\n",
       "</g>\n",
       "<g style=\"fill:rgb(0%,0%,0%);fill-opacity:1;\">\n",
       "  <use xlink:href=\"#glyph-1549643500644566-0-4\" x=\"145.043\" y=\"67.355\"/>\n",
       "</g>\n",
       "<path style=\"fill-rule:nonzero;fill:rgb(75%,75%,75%);fill-opacity:1;stroke-width:0.79701;stroke-linecap:butt;stroke-linejoin:miter;stroke:rgb(0%,0%,0%);stroke-opacity:1;stroke-miterlimit:10;\" d=\"M 72.794031 72.795812 L 63.270594 72.795812 L 63.270594 63.268469 L 72.794031 63.268469 Z M 72.794031 72.795812 \" transform=\"matrix(1,0,0,-1,-21.712,97.288)\"/>\n",
       "<g style=\"fill:rgb(0%,0%,0%);fill-opacity:1;\">\n",
       "  <use xlink:href=\"#glyph-1549643500644566-1-1\" x=\"40.725\" y=\"14.894\"/>\n",
       "</g>\n",
       "<g style=\"fill:rgb(0%,0%,0%);fill-opacity:1;\">\n",
       "  <use xlink:href=\"#glyph-1549643500644566-2-1\" x=\"46.5774\" y=\"16.688\"/>\n",
       "</g>\n",
       "<path style=\"fill-rule:nonzero;fill:rgb(75%,75%,75%);fill-opacity:1;stroke-width:0.79701;stroke-linecap:butt;stroke-linejoin:miter;stroke:rgb(0%,0%,0%);stroke-opacity:1;stroke-miterlimit:10;\" d=\"M 140.825281 38.776281 L 131.301844 38.776281 L 131.301844 29.252844 L 140.825281 29.252844 Z M 140.825281 38.776281 \" transform=\"matrix(1,0,0,-1,-21.712,97.288)\"/>\n",
       "<g style=\"fill:rgb(0%,0%,0%);fill-opacity:1;\">\n",
       "  <use xlink:href=\"#glyph-1549643500644566-1-1\" x=\"108.769\" y=\"48.916\"/>\n",
       "</g>\n",
       "<g style=\"fill:rgb(0%,0%,0%);fill-opacity:1;\">\n",
       "  <use xlink:href=\"#glyph-1549643500644566-2-2\" x=\"114.6226\" y=\"50.71\"/>\n",
       "</g>\n",
       "<path style=\"fill:none;stroke-width:0.79701;stroke-linecap:butt;stroke-linejoin:miter;stroke:rgb(0%,0%,0%);stroke-opacity:1;stroke-miterlimit:10;\" d=\"M 46.407313 68.053625 L 63.090906 68.045812 \" transform=\"matrix(1,0,0,-1,-21.712,97.288)\"/>\n",
       "<path style=\"fill:none;stroke-width:0.79701;stroke-linecap:butt;stroke-linejoin:miter;stroke:rgb(0%,0%,0%);stroke-opacity:1;stroke-miterlimit:10;\" d=\"M 73.001063 68.049719 L 89.68075 68.049719 \" transform=\"matrix(1,0,0,-1,-21.712,97.288)\"/>\n",
       "<path style=\"fill:none;stroke-width:0.79701;stroke-linecap:butt;stroke-linejoin:miter;stroke:rgb(0%,0%,0%);stroke-opacity:1;stroke-miterlimit:10;\" d=\"M 73.001063 63.1005 L 93.2745 42.823156 \" transform=\"matrix(1,0,0,-1,-21.712,97.288)\"/>\n",
       "<path style=\"fill:none;stroke-width:0.79701;stroke-linecap:butt;stroke-linejoin:miter;stroke:rgb(0%,0%,0%);stroke-opacity:1;stroke-miterlimit:10;\" d=\"M 114.454188 34.026281 L 131.137781 34.022375 \" transform=\"matrix(1,0,0,-1,-21.712,97.288)\"/>\n",
       "<path style=\"fill:none;stroke-width:0.79701;stroke-linecap:butt;stroke-linejoin:miter;stroke:rgb(0%,0%,0%);stroke-opacity:1;stroke-miterlimit:10;\" d=\"M 141.044031 34.026281 L 157.727625 34.026281 \" transform=\"matrix(1,0,0,-1,-21.712,97.288)\"/>\n",
       "</g>\n",
       "</svg>\n",
       "\n"
      ],
      "text/plain": [
       "TikzPicture(L\"% define node styles\n",
       "\\tikzstyle{every node}  = [draw, circle, minimum size=7mm]\n",
       "\\tikzstyle{every label} = [draw=none, inner sep=0pt]\n",
       "\\tikzstyle{factor}      = [draw, rectangle, scale=0.4, fill=black!25]\n",
       "\n",
       "% (Aside: Why can we add spaces here, but not in the first graph??)\n",
       "% variable nodes\n",
       "\\foreach \\v/\\x/\\y in {a/1/2, b/3/2, c/3/1, d/5/1}\n",
       "    \\node (\\v) at (\\x,\\y) {\\v};\n",
       "\n",
       "% factor nodes\n",
       "\\foreach \\n/\\x/\\y/\\pos in {1/2/2/above, 2/4/1/above}\n",
       "    \\node [factor, label=\\pos:$f_\\n$] (f\\n) at (\\x,\\y) {};\n",
       "\n",
       "% edges\n",
       "\\foreach \\from/\\to in {a/f1, f1/b, f1/c, c/f2, f2/d}\n",
       "    \\draw (\\from) -- (\\to);\n",
       "\", \"thick, scale=1.2, transform shape\", \"\", true)"
      ]
     },
     "execution_count": 3,
     "metadata": {},
     "output_type": "execute_result"
    }
   ],
   "source": [
    "g = TikzPicture(L\"\"\"\n",
    "% define node styles\n",
    "\\tikzstyle{every node}  = [draw, circle, minimum size=7mm]\n",
    "\\tikzstyle{every label} = [draw=none, inner sep=0pt]\n",
    "\\tikzstyle{factor}      = [draw, rectangle, scale=0.4, fill=black!25]\n",
    "\n",
    "% (Aside: Why can we add blank lines here, but not in the first graph??)\n",
    "% variable nodes\n",
    "\\foreach \\v/\\x/\\y in {a/1/2, b/3/2, c/3/1, d/5/1}\n",
    "    \\node (\\v) at (\\x,\\y) {\\v};\n",
    "\n",
    "% factor nodes\n",
    "\\foreach \\n/\\x/\\y/\\pos in {1/2/2/above, 2/4/1/above}\n",
    "    \\node [factor, label=\\pos:$f_\\n$] (f\\n) at (\\x,\\y) {};\n",
    "\n",
    "% edges\n",
    "\\foreach \\from/\\to in {a/f1, f1/b, f1/c, c/f2, f2/d}\n",
    "    \\draw (\\from) -- (\\to);\n",
    "\"\"\", options=\"thick, scale=1.2, transform shape\")"
   ]
  },
  {
   "cell_type": "markdown",
   "metadata": {},
   "source": [
    "3.1 (10 pts) Apply the sum-product algorithm to compute the all messages when none of the variables are known."
   ]
  },
  {
   "cell_type": "markdown",
   "metadata": {},
   "source": [
    "3.2 (5 pts) Compute the marginal probability $p(c)$, expressing it in terms of the messages you derived in the previous question."
   ]
  },
  {
   "cell_type": "markdown",
   "metadata": {},
   "source": [
    "3.3 (5 pts) Verify that the marginal is the correct expression substituting in the message definitions."
   ]
  },
  {
   "cell_type": "markdown",
   "metadata": {},
   "source": [
    "Now consider adding a loop to the graph."
   ]
  },
  {
   "cell_type": "code",
   "execution_count": 4,
   "metadata": {},
   "outputs": [
    {
     "data": {
      "image/svg+xml": [
       "<?xml version=\"1.0\" encoding=\"UTF-8\"?>\n",
       "<svg xmlns=\"http://www.w3.org/2000/svg\" xmlns:xlink=\"http://www.w3.org/1999/xlink\" width=\"160.67pt\" height=\"75.576pt\" viewBox=\"0 0 160.67 75.576\" version=\"1.1\">\n",
       "<defs>\n",
       "<g>\n",
       "<symbol overflow=\"visible\" id=\"glyph-1549643500644567-0-0\">\n",
       "<path style=\"stroke:none;\" d=\"\"/>\n",
       "</symbol>\n",
       "<symbol overflow=\"visible\" id=\"glyph-1549643500644567-0-1\">\n",
       "<path style=\"stroke:none;\" d=\"M 5.765625 -1.0625 L 5.765625 -1.734375 L 5.46875 -1.734375 L 5.46875 -1.0625 C 5.46875 -0.375 5.171875 -0.296875 5.046875 -0.296875 C 4.65625 -0.296875 4.609375 -0.84375 4.609375 -0.890625 L 4.609375 -3.28125 C 4.609375 -3.796875 4.609375 -4.25 4.171875 -4.703125 C 3.703125 -5.15625 3.109375 -5.359375 2.53125 -5.359375 C 1.546875 -5.359375 0.734375 -4.796875 0.734375 -4 C 0.734375 -3.640625 0.96875 -3.4375 1.28125 -3.4375 C 1.609375 -3.4375 1.828125 -3.6875 1.828125 -4 C 1.828125 -4.140625 1.765625 -4.53125 1.21875 -4.546875 C 1.546875 -4.953125 2.125 -5.09375 2.515625 -5.09375 C 3.09375 -5.09375 3.78125 -4.625 3.78125 -3.5625 L 3.78125 -3.125 C 3.171875 -3.078125 2.328125 -3.046875 1.578125 -2.6875 C 0.6875 -2.28125 0.375 -1.65625 0.375 -1.140625 C 0.375 -0.171875 1.546875 0.125 2.296875 0.125 C 3.078125 0.125 3.640625 -0.34375 3.859375 -0.90625 C 3.90625 -0.4375 4.234375 0.078125 4.796875 0.078125 C 5.046875 0.078125 5.765625 -0.09375 5.765625 -1.0625 Z M 3.78125 -1.671875 C 3.78125 -0.53125 2.921875 -0.125 2.375 -0.125 C 1.796875 -0.125 1.296875 -0.546875 1.296875 -1.140625 C 1.296875 -1.8125 1.8125 -2.796875 3.78125 -2.875 Z M 3.78125 -1.671875 \"/>\n",
       "</symbol>\n",
       "<symbol overflow=\"visible\" id=\"glyph-1549643500644567-0-2\">\n",
       "<path style=\"stroke:none;\" d=\"M 6.234375 -2.578125 C 6.234375 -4.09375 5.0625 -5.28125 3.6875 -5.28125 C 2.765625 -5.28125 2.25 -4.71875 2.0625 -4.5 L 2.0625 -8.296875 L 0.328125 -8.15625 L 0.328125 -7.796875 C 1.171875 -7.796875 1.265625 -7.703125 1.265625 -7.125 L 1.265625 0 L 1.5625 0 L 2 -0.734375 C 2.171875 -0.46875 2.671875 0.125 3.5625 0.125 C 4.984375 0.125 6.234375 -1.046875 6.234375 -2.578125 Z M 5.234375 -2.59375 C 5.234375 -2.15625 5.21875 -1.4375 4.859375 -0.890625 C 4.609375 -0.53125 4.15625 -0.125 3.515625 -0.125 C 2.96875 -0.125 2.546875 -0.421875 2.265625 -0.859375 C 2.09375 -1.109375 2.09375 -1.140625 2.09375 -1.359375 L 2.09375 -3.828125 C 2.09375 -4.046875 2.09375 -4.0625 2.21875 -4.25 C 2.6875 -4.921875 3.34375 -5.015625 3.640625 -5.015625 C 4.171875 -5.015625 4.609375 -4.703125 4.890625 -4.25 C 5.203125 -3.765625 5.234375 -3.078125 5.234375 -2.59375 Z M 5.234375 -2.59375 \"/>\n",
       "</symbol>\n",
       "<symbol overflow=\"visible\" id=\"glyph-1549643500644567-0-3\">\n",
       "<path style=\"stroke:none;\" d=\"M 4.953125 -1.421875 C 4.953125 -1.546875 4.84375 -1.546875 4.8125 -1.546875 C 4.703125 -1.546875 4.671875 -1.5 4.65625 -1.421875 C 4.296875 -0.3125 3.53125 -0.171875 3.078125 -0.171875 C 2.453125 -0.171875 1.40625 -0.6875 1.40625 -2.609375 C 1.40625 -4.546875 2.375 -5.0625 3.015625 -5.0625 C 3.125 -5.0625 3.875 -5.046875 4.296875 -4.609375 C 3.796875 -4.578125 3.734375 -4.21875 3.734375 -4.0625 C 3.734375 -3.75 3.9375 -3.515625 4.28125 -3.515625 C 4.59375 -3.515625 4.828125 -3.71875 4.828125 -4.078125 C 4.828125 -4.890625 3.921875 -5.359375 3 -5.359375 C 1.5 -5.359375 0.40625 -4.0625 0.40625 -2.578125 C 0.40625 -1.046875 1.59375 0.125 2.96875 0.125 C 4.578125 0.125 4.953125 -1.296875 4.953125 -1.421875 Z M 4.953125 -1.421875 \"/>\n",
       "</symbol>\n",
       "<symbol overflow=\"visible\" id=\"glyph-1549643500644567-0-4\">\n",
       "<path style=\"stroke:none;\" d=\"M 6.296875 0 L 6.296875 -0.375 C 5.46875 -0.375 5.359375 -0.453125 5.359375 -1.046875 L 5.359375 -8.296875 L 3.640625 -8.15625 L 3.640625 -7.796875 C 4.484375 -7.796875 4.578125 -7.703125 4.578125 -7.125 L 4.578125 -4.546875 C 4.234375 -4.96875 3.71875 -5.28125 3.078125 -5.28125 C 1.65625 -5.28125 0.40625 -4.109375 0.40625 -2.5625 C 0.40625 -1.046875 1.578125 0.125 2.9375 0.125 C 3.703125 0.125 4.25 -0.28125 4.546875 -0.65625 L 4.546875 0.125 Z M 4.546875 -1.40625 C 4.546875 -1.1875 4.546875 -1.171875 4.40625 -0.96875 C 4.046875 -0.390625 3.515625 -0.125 3 -0.125 C 2.46875 -0.125 2.03125 -0.4375 1.75 -0.890625 C 1.4375 -1.390625 1.40625 -2.0625 1.40625 -2.5625 C 1.40625 -3 1.421875 -3.71875 1.765625 -4.25 C 2.015625 -4.625 2.46875 -5.015625 3.125 -5.015625 C 3.53125 -5.015625 4.046875 -4.84375 4.40625 -4.296875 C 4.546875 -4.09375 4.546875 -4.078125 4.546875 -3.859375 Z M 4.546875 -1.40625 \"/>\n",
       "</symbol>\n",
       "<symbol overflow=\"visible\" id=\"glyph-1549643500644567-1-0\">\n",
       "<path style=\"stroke:none;\" d=\"\"/>\n",
       "</symbol>\n",
       "<symbol overflow=\"visible\" id=\"glyph-1549643500644567-1-1\">\n",
       "<path style=\"stroke:none;\" d=\"M 4.390625 -4.78125 L 5.421875 -4.78125 C 5.65625 -4.78125 5.765625 -4.78125 5.765625 -5.015625 C 5.765625 -5.15625 5.65625 -5.15625 5.453125 -5.15625 L 4.453125 -5.15625 L 4.703125 -6.515625 C 4.75 -6.765625 4.921875 -7.609375 5 -7.75 C 5.109375 -7.984375 5.3125 -8.15625 5.5625 -8.15625 C 5.609375 -8.15625 5.921875 -8.15625 6.140625 -7.953125 C 5.625 -7.90625 5.5 -7.484375 5.5 -7.296875 C 5.5 -7.03125 5.71875 -6.890625 5.9375 -6.890625 C 6.25 -6.890625 6.59375 -7.140625 6.59375 -7.609375 C 6.59375 -8.15625 6.046875 -8.421875 5.5625 -8.421875 C 5.15625 -8.421875 4.40625 -8.21875 4.046875 -7.03125 C 3.96875 -6.78125 3.9375 -6.65625 3.640625 -5.15625 L 2.828125 -5.15625 C 2.59375 -5.15625 2.46875 -5.15625 2.46875 -4.921875 C 2.46875 -4.78125 2.5625 -4.78125 2.796875 -4.78125 L 3.578125 -4.78125 L 2.6875 -0.0625 C 2.46875 1.09375 2.265625 2.1875 1.65625 2.1875 C 1.609375 2.1875 1.296875 2.1875 1.078125 1.96875 C 1.625 1.9375 1.734375 1.5 1.734375 1.328125 C 1.734375 1.046875 1.515625 0.90625 1.296875 0.90625 C 0.984375 0.90625 0.640625 1.171875 0.640625 1.625 C 0.640625 2.15625 1.15625 2.453125 1.65625 2.453125 C 2.3125 2.453125 2.78125 1.75 3 1.296875 C 3.375 0.53125 3.65625 -0.90625 3.671875 -0.984375 Z M 4.390625 -4.78125 \"/>\n",
       "</symbol>\n",
       "<symbol overflow=\"visible\" id=\"glyph-1549643500644567-2-0\">\n",
       "<path style=\"stroke:none;\" d=\"\"/>\n",
       "</symbol>\n",
       "<symbol overflow=\"visible\" id=\"glyph-1549643500644567-2-1\">\n",
       "<path style=\"stroke:none;\" d=\"M 2.8125 -5.328125 C 2.8125 -5.546875 2.78125 -5.5625 2.546875 -5.5625 C 2.015625 -5.03125 1.25 -5.03125 0.90625 -5.03125 L 0.90625 -4.71875 C 1.109375 -4.71875 1.671875 -4.71875 2.125 -4.953125 L 2.125 -0.6875 C 2.125 -0.40625 2.125 -0.296875 1.296875 -0.296875 L 0.96875 -0.296875 L 0.96875 0 C 1.125 -0.015625 2.15625 -0.03125 2.46875 -0.03125 C 2.71875 -0.03125 3.78125 -0.015625 3.96875 0 L 3.96875 -0.296875 L 3.640625 -0.296875 C 2.8125 -0.296875 2.8125 -0.40625 2.8125 -0.6875 Z M 2.8125 -5.328125 \"/>\n",
       "</symbol>\n",
       "<symbol overflow=\"visible\" id=\"glyph-1549643500644567-2-2\">\n",
       "<path style=\"stroke:none;\" d=\"M 4.234375 -1.53125 L 3.9375 -1.53125 C 3.921875 -1.34375 3.828125 -0.84375 3.734375 -0.765625 C 3.65625 -0.71875 3.015625 -0.71875 2.890625 -0.71875 L 1.359375 -0.71875 C 2.234375 -1.484375 2.53125 -1.71875 3.03125 -2.125 C 3.65625 -2.609375 4.234375 -3.125 4.234375 -3.921875 C 4.234375 -4.9375 3.34375 -5.5625 2.265625 -5.5625 C 1.234375 -5.5625 0.53125 -4.828125 0.53125 -4.0625 C 0.53125 -3.640625 0.890625 -3.59375 0.96875 -3.59375 C 1.171875 -3.59375 1.421875 -3.734375 1.421875 -4.03125 C 1.421875 -4.1875 1.359375 -4.484375 0.921875 -4.484375 C 1.1875 -5.078125 1.75 -5.265625 2.140625 -5.265625 C 2.984375 -5.265625 3.421875 -4.609375 3.421875 -3.921875 C 3.421875 -3.203125 2.890625 -2.625 2.625 -2.3125 L 0.609375 -0.328125 C 0.53125 -0.25 0.53125 -0.234375 0.53125 0 L 3.984375 0 Z M 4.234375 -1.53125 \"/>\n",
       "</symbol>\n",
       "</g>\n",
       "<clipPath id=\"clip-1549643500644567-1\">\n",
       "  <path d=\"M 57 40 L 104 40 L 104 75.574219 L 57 75.574219 Z M 57 40 \"/>\n",
       "</clipPath>\n",
       "<clipPath id=\"clip-1549643500644567-2\">\n",
       "  <path d=\"M 125 40 L 160.671875 40 L 160.671875 75.574219 L 125 75.574219 Z M 125 40 \"/>\n",
       "</clipPath>\n",
       "</defs>\n",
       "<g id=\"surface1\">\n",
       "<path style=\"fill:none;stroke-width:0.79701;stroke-linecap:butt;stroke-linejoin:miter;stroke:rgb(0%,0%,0%);stroke-opacity:1;stroke-miterlimit:10;\" d=\"M 45.922938 68.034094 C 45.922938 74.608312 40.590906 79.936437 34.016688 79.936437 C 27.442469 79.936437 22.110437 74.608312 22.110437 68.034094 C 22.110437 61.455969 27.442469 56.127844 34.016688 56.127844 C 40.590906 56.127844 45.922938 61.455969 45.922938 68.034094 Z M 45.922938 68.034094 \" transform=\"matrix(1,0,0,-1,-21.712,97.288)\"/>\n",
       "<g style=\"fill:rgb(0%,0%,0%);fill-opacity:1;\">\n",
       "  <use xlink:href=\"#glyph-1549643500644567-0-1\" x=\"9.315\" y=\"31.869\"/>\n",
       "</g>\n",
       "<path style=\"fill:none;stroke-width:0.79701;stroke-linecap:butt;stroke-linejoin:miter;stroke:rgb(0%,0%,0%);stroke-opacity:1;stroke-miterlimit:10;\" d=\"M 113.954188 68.034094 C 113.954188 74.608312 108.622156 79.936437 102.047938 79.936437 C 95.473719 79.936437 90.141688 74.608312 90.141688 68.034094 C 90.141688 61.455969 95.473719 56.127844 102.047938 56.127844 C 108.622156 56.127844 113.954188 61.455969 113.954188 68.034094 Z M 113.954188 68.034094 \" transform=\"matrix(1,0,0,-1,-21.712,97.288)\"/>\n",
       "<g style=\"fill:rgb(0%,0%,0%);fill-opacity:1;\">\n",
       "  <use xlink:href=\"#glyph-1549643500644567-0-2\" x=\"77.012\" y=\"33.339\"/>\n",
       "</g>\n",
       "<g clip-path=\"url(#clip-1549643500644567-1)\" clip-rule=\"nonzero\">\n",
       "<path style=\"fill:none;stroke-width:0.79701;stroke-linecap:butt;stroke-linejoin:miter;stroke:rgb(0%,0%,0%);stroke-opacity:1;stroke-miterlimit:10;\" d=\"M 113.954188 34.014562 C 113.954188 40.592687 108.622156 45.920812 102.047938 45.920812 C 95.473719 45.920812 90.141688 40.592687 90.141688 34.014562 C 90.141688 27.440344 95.473719 22.112219 102.047938 22.112219 C 108.622156 22.112219 113.954188 27.440344 113.954188 34.014562 Z M 113.954188 34.014562 \" transform=\"matrix(1,0,0,-1,-21.712,97.288)\"/>\n",
       "</g>\n",
       "<g style=\"fill:rgb(0%,0%,0%);fill-opacity:1;\">\n",
       "  <use xlink:href=\"#glyph-1549643500644567-0-3\" x=\"77.681\" y=\"65.884\"/>\n",
       "</g>\n",
       "<g clip-path=\"url(#clip-1549643500644567-2)\" clip-rule=\"nonzero\">\n",
       "<path style=\"fill:none;stroke-width:0.79701;stroke-linecap:butt;stroke-linejoin:miter;stroke:rgb(0%,0%,0%);stroke-opacity:1;stroke-miterlimit:10;\" d=\"M 181.985437 34.014562 C 181.985437 40.592687 176.657312 45.920812 170.079187 45.920812 C 163.504969 45.920812 158.172937 40.592687 158.172937 34.014562 C 158.172937 27.440344 163.504969 22.112219 170.079187 22.112219 C 176.657312 22.112219 181.985437 27.440344 181.985437 34.014562 Z M 181.985437 34.014562 \" transform=\"matrix(1,0,0,-1,-21.712,97.288)\"/>\n",
       "</g>\n",
       "<g style=\"fill:rgb(0%,0%,0%);fill-opacity:1;\">\n",
       "  <use xlink:href=\"#glyph-1549643500644567-0-4\" x=\"145.043\" y=\"67.355\"/>\n",
       "</g>\n",
       "<path style=\"fill-rule:nonzero;fill:rgb(75%,75%,75%);fill-opacity:1;stroke-width:0.79701;stroke-linecap:butt;stroke-linejoin:miter;stroke:rgb(0%,0%,0%);stroke-opacity:1;stroke-miterlimit:10;\" d=\"M 72.794031 72.795812 L 63.270594 72.795812 L 63.270594 63.268469 L 72.794031 63.268469 Z M 72.794031 72.795812 \" transform=\"matrix(1,0,0,-1,-21.712,97.288)\"/>\n",
       "<g style=\"fill:rgb(0%,0%,0%);fill-opacity:1;\">\n",
       "  <use xlink:href=\"#glyph-1549643500644567-1-1\" x=\"40.725\" y=\"14.894\"/>\n",
       "</g>\n",
       "<g style=\"fill:rgb(0%,0%,0%);fill-opacity:1;\">\n",
       "  <use xlink:href=\"#glyph-1549643500644567-2-1\" x=\"46.5774\" y=\"16.688\"/>\n",
       "</g>\n",
       "<path style=\"fill-rule:nonzero;fill:rgb(75%,75%,75%);fill-opacity:1;stroke-width:0.79701;stroke-linecap:butt;stroke-linejoin:miter;stroke:rgb(0%,0%,0%);stroke-opacity:1;stroke-miterlimit:10;\" d=\"M 140.825281 38.776281 L 131.301844 38.776281 L 131.301844 29.252844 L 140.825281 29.252844 Z M 140.825281 38.776281 \" transform=\"matrix(1,0,0,-1,-21.712,97.288)\"/>\n",
       "<g style=\"fill:rgb(0%,0%,0%);fill-opacity:1;\">\n",
       "  <use xlink:href=\"#glyph-1549643500644567-1-1\" x=\"108.769\" y=\"48.916\"/>\n",
       "</g>\n",
       "<g style=\"fill:rgb(0%,0%,0%);fill-opacity:1;\">\n",
       "  <use xlink:href=\"#glyph-1549643500644567-2-2\" x=\"114.6226\" y=\"50.71\"/>\n",
       "</g>\n",
       "<path style=\"fill:none;stroke-width:0.79701;stroke-linecap:butt;stroke-linejoin:miter;stroke:rgb(0%,0%,0%);stroke-opacity:1;stroke-miterlimit:10;\" d=\"M 46.407313 68.053625 L 63.090906 68.045812 \" transform=\"matrix(1,0,0,-1,-21.712,97.288)\"/>\n",
       "<path style=\"fill:none;stroke-width:0.79701;stroke-linecap:butt;stroke-linejoin:miter;stroke:rgb(0%,0%,0%);stroke-opacity:1;stroke-miterlimit:10;\" d=\"M 73.001063 68.049719 L 89.68075 68.049719 \" transform=\"matrix(1,0,0,-1,-21.712,97.288)\"/>\n",
       "<path style=\"fill:none;stroke-width:0.79701;stroke-linecap:butt;stroke-linejoin:miter;stroke:rgb(0%,0%,0%);stroke-opacity:1;stroke-miterlimit:10;\" d=\"M 110.86825 59.25675 L 131.145594 38.9755 \" transform=\"matrix(1,0,0,-1,-21.712,97.288)\"/>\n",
       "<path style=\"fill:none;stroke-width:0.79701;stroke-linecap:butt;stroke-linejoin:miter;stroke:rgb(0%,0%,0%);stroke-opacity:1;stroke-miterlimit:10;\" d=\"M 73.001063 63.1005 L 93.2745 42.823156 \" transform=\"matrix(1,0,0,-1,-21.712,97.288)\"/>\n",
       "<path style=\"fill:none;stroke-width:0.79701;stroke-linecap:butt;stroke-linejoin:miter;stroke:rgb(0%,0%,0%);stroke-opacity:1;stroke-miterlimit:10;\" d=\"M 114.454188 34.026281 L 131.137781 34.022375 \" transform=\"matrix(1,0,0,-1,-21.712,97.288)\"/>\n",
       "<path style=\"fill:none;stroke-width:0.79701;stroke-linecap:butt;stroke-linejoin:miter;stroke:rgb(0%,0%,0%);stroke-opacity:1;stroke-miterlimit:10;\" d=\"M 141.044031 34.026281 L 157.727625 34.026281 \" transform=\"matrix(1,0,0,-1,-21.712,97.288)\"/>\n",
       "</g>\n",
       "</svg>\n",
       "\n"
      ],
      "text/plain": [
       "TikzPicture(L\"% define node styles\n",
       "\\tikzstyle{every node}  = [draw, circle, minimum size=7mm]\n",
       "\\tikzstyle{every label} = [draw=none, inner sep=0pt]\n",
       "\\tikzstyle{factor}      = [draw, rectangle, scale=0.4, fill=black!25]\n",
       "\n",
       "% (Aside: Why can we add spaces here, but not above??)\n",
       "% variable nodes\n",
       "\\foreach \\v/\\x/\\y in {a/1/2, b/3/2, c/3/1, d/5/1}\n",
       "    \\node (\\v) at (\\x,\\y) {\\v};\n",
       "\n",
       "% factor nodes\n",
       "\\foreach \\n/\\x/\\y/\\pos in {1/2/2/above, 2/4/1/above}\n",
       "    \\node [factor, label=\\pos:$f_\\n$] (f\\n) at (\\x,\\y) {};\n",
       "\n",
       "% edges\n",
       "\\foreach \\from/\\to in {a/f1, f1/b, b/f2, f1/c, c/f2, f2/d}\n",
       "    \\draw (\\from) -- (\\to);\n",
       "\", \"thick, scale=1.2, transform shape\", \"\", true)"
      ]
     },
     "execution_count": 4,
     "metadata": {},
     "output_type": "execute_result"
    }
   ],
   "source": [
    "g = TikzPicture(L\"\"\"\n",
    "% define node styles\n",
    "\\tikzstyle{every node}  = [draw, circle, minimum size=7mm]\n",
    "\\tikzstyle{every label} = [draw=none, inner sep=0pt]\n",
    "\\tikzstyle{factor}      = [draw, rectangle, scale=0.4, fill=black!25]\n",
    "\n",
    "% (Aside: Why can we add spaces here, but not above??)\n",
    "% variable nodes\n",
    "\\foreach \\v/\\x/\\y in {a/1/2, b/3/2, c/3/1, d/5/1}\n",
    "    \\node (\\v) at (\\x,\\y) {\\v};\n",
    "\n",
    "% factor nodes\n",
    "\\foreach \\n/\\x/\\y/\\pos in {1/2/2/above, 2/4/1/above}\n",
    "    \\node [factor, label=\\pos:$f_\\n$] (f\\n) at (\\x,\\y) {};\n",
    "\n",
    "% edges\n",
    "\\foreach \\from/\\to in {a/f1, f1/b, b/f2, f1/c, c/f2, f2/d}\n",
    "    \\draw (\\from) -- (\\to);\n",
    "\"\"\", options=\"thick, scale=1.2, transform shape\")"
   ]
  },
  {
   "cell_type": "markdown",
   "metadata": {},
   "source": [
    "3.4 (5 pts) Explore the consequences of applying the sum-product algorithm to this graph. Can the algorithm still be applied?"
   ]
  },
  {
   "cell_type": "markdown",
   "metadata": {},
   "source": [
    "### Exploration (20 points)\n",
    "\n",
    "Select a topic from the readings (Barber chapters 4 and 5, Murphy chapters 19 and 20, or Bishop Chapter 8) and write your own exercise.  It should aim to teach or explore a concept you don't understand or found interesting.  Like before, you don't do an excessive amount of work.  This isn't a project.  Aim for something worth about 20 points, i.e. about half as much work has exercise 1 or a little more work than exercise 2.\n",
    "\n",
    "Grading rubric:\n",
    "- Clarity of explanation. Could another student read and do this? (5 pts)\n",
    "- Novelty or distinctness. Does it complement or go beyond what was covered above? (5 pts)\n",
    "- Does the exercise teach something about the concept(s)? (5 pts)\n",
    "- How deeply does it explore the concept(s)? (5 pts)"
   ]
  },
  {
   "cell_type": "code",
   "execution_count": null,
   "metadata": {},
   "outputs": [],
   "source": []
  }
 ],
 "metadata": {
  "kernelspec": {
   "display_name": "Julia 1.1.0",
   "language": "julia",
   "name": "julia-1.1"
  },
  "language_info": {
   "file_extension": ".jl",
   "mimetype": "application/julia",
   "name": "julia",
   "version": "1.1.0"
  },
  "toc": {
   "base_numbering": 1,
   "nav_menu": {},
   "number_sections": false,
   "sideBar": true,
   "skip_h1_title": false,
   "title_cell": "Table of Contents",
   "title_sidebar": "Contents",
   "toc_cell": false,
   "toc_position": {},
   "toc_section_display": true,
   "toc_window_display": false
  }
 },
 "nbformat": 4,
 "nbformat_minor": 2
}
