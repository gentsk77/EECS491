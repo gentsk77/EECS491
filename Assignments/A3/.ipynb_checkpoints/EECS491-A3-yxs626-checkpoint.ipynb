{
 "cells": [
  {
   "cell_type": "markdown",
   "metadata": {},
   "source": [
    "## EECS 491 Assignment 3\n",
    "\n",
    "  Yue Shu  \n",
    "  Spring 2019  \n",
    "  Prof. Lewicki  "
   ]
  },
  {
   "cell_type": "markdown",
   "metadata": {},
   "source": [
    "# Exercise 1. MRFs and Images Denoising\n",
    "\n",
    "In this problem, you will implement the image de-noising example using a Markov Random Field (MRF).  This material on MRFs is covered in the textbook (Barber) in chapter 4.2.5. The lecture and this problem is based on the presentation in Bishop in chapter 8.3, which is available online.\n",
    "\n",
    "As discussed in class, energy function for this MRF is\n",
    "\n",
    "$$ E(\\mathbf{x}, \\mathbf{y}) = h \\sum_i x_i - \\beta \\sum_{i,j} x_i x_j - \\eta \\sum_i x_i y_i $$\n",
    "\n",
    "where the binary variables $x_i$ represent the unknown, noise-free image pixels, which are binary, i.e. black or white.  The variables $y_i$ represent the observed noisy pixels, i.e. the pixel could randomly change from black ($=-1$) to white ($=+1$) or vice-versa.  \n",
    "\n",
    "The corresponding joint probability distribution over the variables is\n",
    "\n",
    "$$ p(\\mathbf{x},\\mathbf{y}) = \\frac{1}{Z} \\exp \\left[ -E(\\mathbf{x},\\mathbf{y}) \\right] $$\n",
    "\n",
    "## 1.1 Derive the equation that specifies the change in the energy equation when one variable changes state."
   ]
  },
  {
   "cell_type": "markdown",
   "metadata": {},
   "source": [
    "Started with the original energy function equation $E$, we have: \n",
    "\n",
    "$$ E(\\mathbf{x}, \\mathbf{y}) = h \\sum_i x_i - \\beta \\sum_{i,j} x_i x_j - \\eta \\sum_i x_i y_i $$\n",
    "\n",
    "  Now let $x_k'$ denote the state of $x_k$ after changing, and $E'$ denotes the new energy equation.\n",
    "  Since each pixel of the image we're discussing here is a binary variable, we may simply assume that the change of one variable is either from $+1$ to $-1$ or vice-versa. By flipping the state of $x_i$, we simply flip by sign and thus obtain $x_i' = -x_i$.\n",
    "\n",
    "  Therefore, to calculate the difference in the energy equation, we simply substract $E'$ from $E$ as below:\n",
    "\n",
    "  $$ E' - E =    E(\\mathbf{x}', \\mathbf{y}) -   E(\\mathbf{x}, \\mathbf{y}) $$ \n",
    "  $$ =  h * (x_0 + ... + x_k' + ... + x_n) - \\beta * (x_0x_1 + ... + x_0x_k' + ... + x_0x_n + ... + x_k'x_0 + ... + x_k'x_n + ... $$\n",
    "  $$ + x_nx_0 + ... + x_nx_k' + ... + x_nx_{n-1}) - \\eta * (x_0y_0 + ... + x_k'y_k + ... + x_ny_n) $$\n",
    "  $$ - (h * (x_0 + ... + x_k + ... + x_n) - \\beta * (x_0x_1 + ... + x_0x_k + ... + x_0x_n + ... + x_kx_0 + ... + x_kx_n + ... $$\n",
    "  $$ + x_nx_0 + ... + x_nx_k + ... + x_nx_{n-1}) - \\eta * (x_0y_0 + ... + x_ky_k + ... + x_ny_n)) $$\n",
    "  $$ = h * (x_0 + ... - x_k + ... + x_n) - \\beta * (x_0x_1 + ... - x_0x_k + ... + x_0x_n + ... - x_kx_0 + ... - x_kx_n + ... $$\n",
    "  $$ + x_nx_0 + ... - x_nx_k + ... + x_nx_{n-1}) - \\eta * (x_0y_0 + ... - x_ky_k + ... + x_ny_n) $$\n",
    "  $$ - (h * (x_0 + ... + x_k + ... + x_n) - \\beta * (x_0x_1 + ... + x_0x_k + ... + x_0x_n + ... + x_kx_0 + ... + x_kx_n + ... $$\n",
    "  $$ + x_nx_0 + ... + x_nx_k + ... + x_nx_{n-1}) - \\eta * (x_0y_0 + ... + x_ky_k + ... + x_ny_n)) $$\n",
    "  $$ E' - E = -2hx_k + 2\\beta (2 \\sum_{j \\in nbr(k)} x_j x_k) + 2 \\eta x_k y_k = -2hx_k + 4\\beta \\sum_{j \\in nbr(k)} x_j x_k + 2 \\eta x_k y_k\n",
    "  $$\n",
    "\n",
    "And the final equation $E' - E$ that specifies the change in the energy equation when one variable $x_k$ changes state is:\n",
    "\n",
    "$$ E' - E = -2hx_k + 4\\beta \\sum_{j \\in nbr(k)} x_j x_k + 2 \\eta x_k y_k $$"
   ]
  },
  {
   "cell_type": "markdown",
   "metadata": {},
   "source": [
    "## 1.2  Write a program to iteratively (or in random order) update the state variables to minimize the energy (maximize the probability).  Explain your code.  Show that the update algorithm minimizes the energy $E(\\mathbf{x}, \\mathbf{y})$."
   ]
  },
  {
   "cell_type": "markdown",
   "metadata": {},
   "source": [
    "First of all let's define the function to calculate the energy difference. For future convenience, I make the output of the function an array that can also tell me the index `k` of the pixel under changing. \n",
    "\n",
    "  `pixels`: an array indicating the pixel of our image  \n",
    "  `nbr`: an array indicating $x_j$  \n",
    "  `k`: the index of $x_k$  \n",
    "  `yk`: the original observation of $x_k$  \n",
    "  `h`, `beta`, `eta`: the parameters  "
   ]
  },
  {
   "cell_type": "code",
   "execution_count": 1,
   "metadata": {},
   "outputs": [],
   "source": [
    "def energy_diff (pixels, nbr, k, yk, h, beta, eta):\n",
    "    output = [0, k]\n",
    "    sum_xjxk = 0\n",
    "    i = 0\n",
    "    ## calculating the sum of all xjxk\n",
    "    for xj in nbr:\n",
    "        sum_xjxk += xj * pixels[k]\n",
    "        i+= 1\n",
    "    output[0] += - 2 * h * pixels[k] + 4 * beta * sum_xjxk + 2 * eta * pixels[k] * yk\n",
    "    return output"
   ]
  },
  {
   "cell_type": "markdown",
   "metadata": {},
   "source": [
    "We also need a helper method to retrieve the neighbours of the pixel we are trying to flip. To eliminate unnecessary edge cases, we may just assume the smallest size of the image is 3x3.\n",
    "\n",
    "  `width`: the width of the input image  \n",
    "  `height`: the height of the input image  "
   ]
  },
  {
   "cell_type": "code",
   "execution_count": 2,
   "metadata": {},
   "outputs": [],
   "source": [
    "def get_nbr (pixels, k, width, height):\n",
    "    ## the height of k in 2D matrix\n",
    "    i = k / width\n",
    "    ## the width of k in 2D matrix\n",
    "    j = k % width\n",
    "    ## corners\n",
    "    if i == 0 and j == 0:\n",
    "        return [pixels[k + 1], pixels[width]]\n",
    "    elif i == 0 and j == width - 1:\n",
    "        return [pixels[k - 1], pixels[k + width]]\n",
    "    elif i == height - 1 and j == 0:\n",
    "        return [pixels[k + 1], pixels[k - width]]\n",
    "    elif i == height - 1 and j == width - 1:\n",
    "        return [pixels[k - 1], pixels[k - width]]\n",
    "    ## edges\n",
    "    elif i == 0:\n",
    "        return [pixels[k + width], pixels[k + 1], pixels[k - 1]]\n",
    "    elif i == height - 1:\n",
    "        return [pixels[k - width], pixels[k + 1], pixels[k - 1]]\n",
    "    elif j == 0:\n",
    "        return [pixels[k + 1], pixels[k + width], pixels[k - width]]\n",
    "    elif j == width - 1:\n",
    "        return [pixels[k - 1], pixels[k + width], pixels[k - width]]\n",
    "    # body\n",
    "    else:\n",
    "        return [pixels[k + 1], pixels[k - 1], pixels[k + width], pixels[k - width]]"
   ]
  },
  {
   "cell_type": "markdown",
   "metadata": {},
   "source": [
    "Now we can go ahead and setup our algorithm. \n",
    "\n",
    "  I'll implement with a simplified version of simulated annealing algorithm we covered in EECS391, with our energy difference function as the heuristic.   \n",
    "  So when the energy difference is negative, which means the energy is decreasing, we just accept the result and keep descenting; when the energy difference is positive, we accept the result with a probability less than 1.  "
   ]
  },
  {
   "cell_type": "code",
   "execution_count": 3,
   "metadata": {},
   "outputs": [],
   "source": [
    "import math\n",
    "import random\n",
    "\n",
    "## a helper to determine the probability of acceptance\n",
    "def accept (delta, T):\n",
    "    ## have a buffer to prevent math overflow\n",
    "    return math.exp( - delta / T)\n",
    "\n",
    "## simulated annealing algorithm\n",
    "def anneal(pixels, dim, param_anneal, param_energy):\n",
    "    \n",
    "    ## setting up the parameters\n",
    "    T = param_anneal[0]\n",
    "    T_min = param_anneal[1]\n",
    "    alpha = param_anneal[2]\n",
    "    \n",
    "    h = param_energy[0]\n",
    "    beta = param_energy[1]\n",
    "    eta = param_energy[2]\n",
    "    \n",
    "    width = dim[0]\n",
    "    height = dim[1]\n",
    "    \n",
    "    ## the result we want\n",
    "    output = pixels[:]\n",
    "    \n",
    "    ## continue annealing as long as the temperature is higher than the terminate value\n",
    "    while T > T_min:\n",
    "        ## randomly pick an index k from the pixels\n",
    "        k = random.randint(0, len(output) - 1)\n",
    "        ## retrieve the neighbours of k\n",
    "        nbr = get_nbr(output, k, width, height)\n",
    "        diff = energy_diff(output, nbr, k, pixels[k], h, beta, eta)\n",
    "        ap = accept(diff[0], T)\n",
    "        if ap > random.random():\n",
    "            output[k] = 0 - output[k]\n",
    "        T = T * alpha\n",
    "    return output"
   ]
  },
  {
   "cell_type": "markdown",
   "metadata": {},
   "source": [
    "Finally let's have a wrapper method to also compute the finalized energy $E(\\mathbf{x}, \\mathbf{y})$:"
   ]
  },
  {
   "cell_type": "code",
   "execution_count": 4,
   "metadata": {},
   "outputs": [],
   "source": [
    "def __MRF_denoise__ (pixels, dim, param_anneal, param_energy):\n",
    "    ## take the output of simulated annealing\n",
    "    output = anneal(p, dim, param_anneal, param_energy)\n",
    "    \n",
    "    ## setup parameters\n",
    "    h = param_energy[0]\n",
    "    beta = param_energy[1]\n",
    "    eta = param_energy[2]\n",
    "    \n",
    "    width = dim[0]\n",
    "    height = dim[1]\n",
    "    \n",
    "    ## the sum variables we need for computing the energy equation\n",
    "    sum_xi = 0\n",
    "    sum_xixj = 0\n",
    "    sum_xiyi = 0\n",
    "    \n",
    "    ## compute sum of xi\n",
    "    for xi in output:\n",
    "        sum_xi += xi\n",
    "    \n",
    "    ## compute sum of xiyi\n",
    "    i = 0\n",
    "    for xi in output:\n",
    "        sum_xiyi += xi * (pixels[i])\n",
    "        i += 1\n",
    "    \n",
    "    ## compute sum of xixj\n",
    "    i = 0\n",
    "    for xi in output: \n",
    "        for xj in get_nbr(output, i, width, height):\n",
    "            sum_xixj += xi * xj\n",
    "        i += 1\n",
    "    \n",
    "    return h * sum_xi - beta * sum_xixj - eta * sum_xiyi"
   ]
  },
  {
   "cell_type": "markdown",
   "metadata": {},
   "source": [
    "  According to simulated annealing algorithm, if given appropriate heuristic, the final energy we get should always end at the global optimal, aka the min energy.  \n",
    "  However, there does exist some uncertainty in real life practice, where there is no guarantee to always get the most optimal answer. We can first have a really simple example to test our output:"
   ]
  },
  {
   "cell_type": "code",
   "execution_count": 5,
   "metadata": {},
   "outputs": [
    {
     "data": {
      "text/plain": [
       "[-1, -1, -1, -1, -1, -1, -1, -1, -1]"
      ]
     },
     "execution_count": 5,
     "metadata": {},
     "output_type": "execute_result"
    }
   ],
   "source": [
    "param_anneal = [1, 0.001, 0.999]\n",
    "param_energy = [0, 1, 2.1]\n",
    "## assuming the noise is around 10%, and this is supposed to be a very simplified 3x3 all-white image \n",
    "p = [-1,-1,-1,1,-1,-1,-1,-1,-1]\n",
    "dim = [3, 3]\n",
    "anneal(p, dim, param_anneal, param_energy)"
   ]
  },
  {
   "cell_type": "code",
   "execution_count": 6,
   "metadata": {},
   "outputs": [
    {
     "data": {
      "text/plain": [
       "-38.7"
      ]
     },
     "execution_count": 6,
     "metadata": {},
     "output_type": "execute_result"
    }
   ],
   "source": [
    "__MRF_denoise__(p, dim, param_anneal, param_energy)"
   ]
  },
  {
   "cell_type": "markdown",
   "metadata": {},
   "source": [
    "  According to the output above, we can see that the final output in this case is just the local minimum.  \n",
    "  Feel free to try the output, it should return the same results each time. We can practice on some more complexed images in the next part.  "
   ]
  },
  {
   "cell_type": "markdown",
   "metadata": {},
   "source": [
    "## 1.3 Illustrate the model by plot of the image as it is being de-noised at the beginning, middle, and end of the updating.  Choose images that aren't too high resolution so that the individual pixels are visible as squaures.  You may also do a live plot in a notebook to show it updating continuously, but make sure you have the static plots too in case the dynamic plot has portability issues."
   ]
  },
  {
   "cell_type": "markdown",
   "metadata": {},
   "source": [
    "To demonstrate this part, I will be using the a txt file `pepe.txt` as the input pixels. The image was found online and converted to binary pixels via https://www.dcode.fr/binary-image. The original text file has all `black` pixels as `0` and `white` pixels `1`. We may change that to what we need later on. \n",
    "\n",
    "Let's start with importing the pixel and inspect the initial image:"
   ]
  },
  {
   "cell_type": "code",
   "execution_count": 7,
   "metadata": {},
   "outputs": [],
   "source": [
    "from PIL import Image\n",
    "from numpy import *\n",
    "import numpy as np\n",
    "np.set_printoptions(threshold=np.inf)\n",
    "\n",
    "## import the primitive pixel file, get total length\n",
    "with open(\"pepe.txt\") as t:\n",
    "    text = t.read()\n",
    "    \n",
    "## the dimensions of the image\n",
    "width = 0\n",
    "height = 0\n",
    "pixels = []\n",
    "\n",
    "## import as 1D array\n",
    "with open(\"pepe.txt\") as txt:\n",
    "    for char in range(len(text)):\n",
    "        letter = txt.read(1)\n",
    "        if letter.isdigit():\n",
    "            pixels.append(int(letter))\n",
    "        elif letter == '\\n':\n",
    "            height += 1\n",
    "\n",
    "pixels = array(pixels)\n",
    "width = len(pixels) / height\n",
    "\n",
    "## create image with Pillow\n",
    "img = Image.new('1', (width, height))\n",
    "pixel = img.load()\n",
    "\n",
    "## pass pixels in the 1D array over the pixel of the image\n",
    "index = 0\n",
    "for i in range(height):\n",
    "    for j in range(width):\n",
    "        pixel[j, i] = pixels[index]\n",
    "        index += 1\n",
    "        \n",
    "img.show()\n",
    "img.save('goodpepe.png')"
   ]
  },
  {
   "cell_type": "markdown",
   "metadata": {},
   "source": [
    "![original pepe image](goodpepe.png)\n",
    "Alright, now we have our original sad pepe. The next step is to read from the image and do the denoising. We want to arbitrarily flip some bits to make sure we have the \"noises\" in the image. Suppose we are having a noise rate of at most 10% of total pixels!"
   ]
  },
  {
   "cell_type": "code",
   "execution_count": 8,
   "metadata": {},
   "outputs": [
    {
     "name": "stdout",
     "output_type": "stream",
     "text": [
      "1\n"
     ]
    }
   ],
   "source": [
    "## Our good pepe\n",
    "pic = Image.open('goodpepe.png')\n",
    "## make sure this is a binary image\n",
    "print pic.mode\n",
    "pix = pic.load()\n",
    "\n",
    "## the observed pixel array with noises\n",
    "observe = []\n",
    "## total number of noises allowed, in this case is 0.1 * total pixels \n",
    "max_noises = int(0.1 * len(pixels))\n",
    "## index of noise pixels\n",
    "noise = []\n",
    "\n",
    "## first append the pixels as usual\n",
    "index = 0\n",
    "for i in range(height):\n",
    "    for j in range(width):\n",
    "        ## to make sure we have +1 for whites and -1 for blacks\n",
    "        observe.append(int(pix[j, i] / 255) * 2 - 1)\n",
    "        \n",
    "## we allow repeated indices in this case, since the noise won't always be exactly 10% in real life\n",
    "for i in range(max_noises):\n",
    "    noise.append(random.randint(0, len(pixels) - 1))\n",
    "      \n",
    "## flip the bits!\n",
    "for pix in noise:\n",
    "    observe[pix] = 0 - observe[pix]\n",
    "    \n",
    "observe = array(observe)"
   ]
  },
  {
   "cell_type": "markdown",
   "metadata": {},
   "source": [
    "Now let's take a look the image with noises:"
   ]
  },
  {
   "cell_type": "code",
   "execution_count": 9,
   "metadata": {},
   "outputs": [],
   "source": [
    "## create image with Pillow\n",
    "badimg = Image.new('1', (width, height))\n",
    "badpixel = badimg.load()\n",
    "\n",
    "## pass pixels in the 1D array over the pixel of the image\n",
    "index = 0\n",
    "for i in range(height):\n",
    "    for j in range(width):\n",
    "        badpixel[j, i] = observe[index]\n",
    "        index += 1\n",
    "        \n",
    "badimg.show()\n",
    "badimg.save('badpepe.png')"
   ]
  },
  {
   "cell_type": "markdown",
   "metadata": {},
   "source": [
    "![noisy pepe image](badpepe.png)\n",
    "\n",
    "Awesome, we have the ugly pepe as expected. Don't feel bad about pepe, let's take a look at how our MRF denoising algorithm can change the situation.\n",
    "\n",
    "To make sure we can also see the image in the middle of the updating, let's first make a few modification on our MRF method from the previous part. What we will do is to break the simulated annealing to two steps, from the original temperature to the half, take a look at the result, and then continue to go from the half to the min temperature. "
   ]
  },
  {
   "cell_type": "code",
   "execution_count": 10,
   "metadata": {},
   "outputs": [],
   "source": [
    "def show_denoise (pixels, dim, param_anneal, param_energy, imgname):\n",
    "    \n",
    "    width = dim[0]\n",
    "    height = dim[1]\n",
    "    \n",
    "    output = anneal(observe, dim, param_anneal, param_energy)\n",
    "    \n",
    "    ## create image with Pillow\n",
    "    betterimg = Image.new('1', (width, height))\n",
    "    betterpixel = betterimg.load()\n",
    "\n",
    "    ## pass pixels in the 1D array over the pixel of the image\n",
    "    index = 0\n",
    "    for i in range(height):\n",
    "        for j in range(width):\n",
    "            betterpixel[j, i] = output[index]\n",
    "            index += 1\n",
    "        \n",
    "    betterimg.show()\n",
    "    betterimg.save(imgname)\n",
    "    \n",
    "    ## setup parameters\n",
    "    h = param_energy[0]\n",
    "    beta = param_energy[1]\n",
    "    eta = param_energy[2]\n",
    "\n",
    "    ## the sum variables we need for computing the energy equation\n",
    "    sum_xi = 0\n",
    "    sum_xixj = 0\n",
    "    sum_xiyi = 0\n",
    "    \n",
    "    ## compute sum of xi\n",
    "    for xi in output:\n",
    "        sum_xi += xi\n",
    "    \n",
    "    ## compute sum of xiyi\n",
    "    i = 0\n",
    "    for xi in output:\n",
    "        sum_xiyi += xi * (pixels[i])\n",
    "        i += 1\n",
    "    \n",
    "    ## compute sum of xixj\n",
    "    i = 0\n",
    "    for xi in output: \n",
    "        for xj in get_nbr(output, i, width, height):\n",
    "            sum_xixj += xi * xj\n",
    "        i += 1\n",
    "    result =  h * sum_xi - beta * sum_xixj - eta * sum_xiyi\n",
    "    print 'The global minimum is: '  \n",
    "    print result\n",
    "    return output"
   ]
  },
  {
   "cell_type": "code",
   "execution_count": 11,
   "metadata": {},
   "outputs": [
    {
     "name": "stdout",
     "output_type": "stream",
     "text": [
      "The global minimum is: \n",
      "-6416.0\n"
     ]
    }
   ],
   "source": [
    "dimpepe = [width, height]\n",
    "param_first = [1, (1 + 0.01) / 2, 0.99]\n",
    "param_energy = [0, 1, 2.1]\n",
    "## Half of the updating\n",
    "betterpixel = show_denoise(observe, dimpepe, param_first, param_energy, 'betterpepe.png')"
   ]
  },
  {
   "cell_type": "markdown",
   "metadata": {},
   "source": [
    "Let's take a look at our pepe half way through the updating:\n",
    "![better pepe image](betterpepe.png)\n",
    "\n",
    "At least it looks better isn't it"
   ]
  },
  {
   "cell_type": "code",
   "execution_count": 17,
   "metadata": {},
   "outputs": [
    {
     "name": "stdout",
     "output_type": "stream",
     "text": [
      "The global minimum is: \n",
      "-7616.0\n"
     ]
    }
   ],
   "source": [
    "## notice: can sometimes have math out of range error due to difference value overflow.\n",
    "## under such condition, just rerun the cell a couple of times and it should be good\n",
    "param_second = [(1 + 0.01) / 2, 0.01, 0.99]\n",
    "## Updating completely done\n",
    "newpixel = show_denoise(betterpixel, dimpepe, param_second, param_energy, 'sadpepe.png')"
   ]
  },
  {
   "cell_type": "markdown",
   "metadata": {},
   "source": [
    "![sad pepe image](sadpepe.png)\n",
    "Finally we have the pepe after the whole updating. Actually I'm not sure if it's just me or the pepe really seems sader than the original image. We also lost some important details of the pepe. \n",
    "\n",
    "Anyways, our algorithm works, and that's the most important. "
   ]
  },
  {
   "cell_type": "code",
   "execution_count": null,
   "metadata": {},
   "outputs": [],
   "source": []
  },
  {
   "cell_type": "code",
   "execution_count": null,
   "metadata": {},
   "outputs": [],
   "source": []
  }
 ],
 "metadata": {
  "kernelspec": {
   "display_name": "Python 2",
   "language": "python",
   "name": "python2"
  },
  "language_info": {
   "codemirror_mode": {
    "name": "ipython",
    "version": 2
   },
   "file_extension": ".py",
   "mimetype": "text/x-python",
   "name": "python",
   "nbconvert_exporter": "python",
   "pygments_lexer": "ipython2",
   "version": "2.7.15"
  }
 },
 "nbformat": 4,
 "nbformat_minor": 2
}
