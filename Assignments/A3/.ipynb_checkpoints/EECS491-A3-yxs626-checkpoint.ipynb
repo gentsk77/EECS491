{
 "cells": [
  {
   "cell_type": "markdown",
   "metadata": {},
   "source": [
    "## EECS 491 Assignment 3\n",
    "\n",
    "  Yue Shu  \n",
    "  Spring 2019  \n",
    "  Prof. Lewicki  "
   ]
  },
  {
   "cell_type": "markdown",
   "metadata": {},
   "source": [
    "# Exercise 1. MRFs and Images Denoising\n",
    "\n",
    "In this problem, you will implement the image de-noising example using a Markov Random Field (MRF).  This material on MRFs is covered in the textbook (Barber) in chapter 4.2.5. The lecture and this problem is based on the presentation in Bishop in chapter 8.3, which is available online.\n",
    "\n",
    "As discussed in class, energy function for this MRF is\n",
    "\n",
    "$$ E(\\mathbf{x}, \\mathbf{y}) = h \\sum_i x_i - \\beta \\sum_{i,j} x_i x_j - \\eta \\sum_i x_i y_i $$\n",
    "\n",
    "where the binary variables $x_i$ represent the unknown, noise-free image pixels, which are binary, i.e. black or white.  The variables $y_i$ represent the observed noisy pixels, i.e. the pixel could randomly change from black ($=-1$) to white ($=+1$) or vice-versa.  \n",
    "\n",
    "The corresponding joint probability distribution over the variables is\n",
    "\n",
    "$$ p(\\mathbf{x},\\mathbf{y}) = \\frac{1}{Z} \\exp \\left[ -E(\\mathbf{x},\\mathbf{y}) \\right] $$\n",
    "\n",
    "## 1.1 Derive the equation that specifies the change in the energy equation when one variable changes state."
   ]
  },
  {
   "cell_type": "markdown",
   "metadata": {},
   "source": [
    "Started with the original energy function equation $E$, we have: \n",
    "\n",
    "$$ E(\\mathbf{x}, \\mathbf{y}) = h \\sum_i x_i - \\beta \\sum_{i,j} x_i x_j - \\eta \\sum_i x_i y_i $$\n",
    "\n",
    "  Now let $x_k'$ denote the state of $x_k$ after changing, and $E'$ denotes the new energy equation.\n",
    "  Since each pixel of the image we're discussing here is a binary variable, we may simply assume that the change of one variable is either from $+1$ to $-1$ or vice-versa. By flipping the state of $x_i$, we simply flip by sign and thus obtain $x_i' = -x_i$.\n",
    "\n",
    "  Therefore, to calculate the difference in the energy equation, we simply substract $E'$ from $E$ as below:\n",
    "\n",
    "  $$ E' - E =    E(\\mathbf{x}', \\mathbf{y}) -   E(\\mathbf{x}, \\mathbf{y}) $$ \n",
    "  $$ =  h * (x_0 + ... + x_k' + ... + x_n) - \\beta * (x_0x_1 + ... + x_0x_k' + ... + x_0x_n + ... + x_k'x_0 + ... + x_k'x_n + ... $$\n",
    "  $$ + x_nx_0 + ... + x_nx_k' + ... + x_nx_{n-1}) - \\eta * (x_0y_0 + ... + x_k'y_k + ... + x_ny_n) $$\n",
    "  $$ - (h * (x_0 + ... + x_k + ... + x_n) - \\beta * (x_0x_1 + ... + x_0x_k + ... + x_0x_n + ... + x_kx_0 + ... + x_kx_n + ... $$\n",
    "  $$ + x_nx_0 + ... + x_nx_k + ... + x_nx_{n-1}) - \\eta * (x_0y_0 + ... + x_ky_k + ... + x_ny_n)) $$\n",
    "  $$ = h * (x_0 + ... - x_k + ... + x_n) - \\beta * (x_0x_1 + ... - x_0x_k + ... + x_0x_n + ... - x_kx_0 + ... - x_kx_n + ... $$\n",
    "  $$ + x_nx_0 + ... - x_nx_k + ... + x_nx_{n-1}) - \\eta * (x_0y_0 + ... - x_ky_k + ... + x_ny_n) $$\n",
    "  $$ - (h * (x_0 + ... + x_k + ... + x_n) - \\beta * (x_0x_1 + ... + x_0x_k + ... + x_0x_n + ... + x_kx_0 + ... + x_kx_n + ... $$\n",
    "  $$ + x_nx_0 + ... + x_nx_k + ... + x_nx_{n-1}) - \\eta * (x_0y_0 + ... + x_ky_k + ... + x_ny_n)) $$\n",
    "  $$ E' - E = -2hx_k + 2\\beta (2 \\sum_{j \\in nbr(k)} x_j x_k) + 2 \\eta x_k y_k = -2hx_k + 4\\beta \\sum_{j \\in nbr(k)} x_j x_k + 2 \\eta x_k y_k\n",
    "  $$\n",
    "\n",
    "And the final equation $E' - E$ that specifies the change in the energy equation when one variable $x_k$ changes state is:\n",
    "\n",
    "$$ E' - E = -2hx_k + 4\\beta \\sum_{j \\in nbr(k)} x_j x_k + 2 \\eta x_k y_k $$"
   ]
  },
  {
   "cell_type": "markdown",
   "metadata": {},
   "source": [
    "## 1.2  Write a program to iteratively (or in random order) update the state variables to minimize the energy (maximize the probability).  Explain your code.  Show that the update algorithm minimizes the energy $E(\\mathbf{x}, \\mathbf{y})$."
   ]
  },
  {
   "cell_type": "markdown",
   "metadata": {},
   "source": [
    "First of all let's define the function to calculate the energy difference. For future convenience, I make the output of the function an array that can also tell me the index `k` of the pixel under changing. \n",
    "\n",
    "  `pixels`: an array indicating the pixel of our image  \n",
    "  `nbr`: an array indicating $x_j$  \n",
    "  `k`: the index of $x_k$  \n",
    "  `yk`: the original observation of $x_k$  \n",
    "  `h`, `beta`, `eta`: the parameters  "
   ]
  },
  {
   "cell_type": "code",
   "execution_count": 1,
   "metadata": {},
   "outputs": [],
   "source": [
    "def energy_diff (pixels, nbr, k, yk, h, beta, eta):\n",
    "    output = [0, k]\n",
    "    sum_xjxk = 0\n",
    "    i = 0\n",
    "    ## calculating the sum of all xjxk\n",
    "    for xj in nbr:\n",
    "        sum_xjxk += xj * pixels[k]\n",
    "        i+= 1\n",
    "    output[0] += - 2 * h * pixels[k] + 4 * beta * sum_xjxk + 2 * eta * pixels[k] * yk\n",
    "    return output"
   ]
  },
  {
   "cell_type": "markdown",
   "metadata": {},
   "source": [
    "We also need a helper method to retrieve the neighbours of the pixel we are trying to flip. To eliminate unnecessary edge cases, we may just assume the smallest size of the image is 3x3.\n",
    "\n",
    "  `width`: the width of the input image  \n",
    "  `height`: the height of the input image  "
   ]
  },
  {
   "cell_type": "code",
   "execution_count": 2,
   "metadata": {},
   "outputs": [],
   "source": [
    "def get_nbr (pixels, k, width, height):\n",
    "    ## the height of k in 2D matrix\n",
    "    i = k / width\n",
    "    ## the width of k in 2D matrix\n",
    "    j = k % width\n",
    "    ## corners\n",
    "    if i == 0 and j == 0:\n",
    "        return [pixels[k + 1], pixels[width]]\n",
    "    elif i == 0 and j == width - 1:\n",
    "        return [pixels[k - 1], pixels[k + width]]\n",
    "    elif i == height - 1 and j == 0:\n",
    "        return [pixels[k + 1], pixels[k - width]]\n",
    "    elif i == height - 1 and j == width - 1:\n",
    "        return [pixels[k - 1], pixels[k - width]]\n",
    "    ## edges\n",
    "    elif i == 0:\n",
    "        return [pixels[k + width], pixels[k + 1], pixels[k - 1]]\n",
    "    elif i == height - 1:\n",
    "        return [pixels[k - width], pixels[k + 1], pixels[k - 1]]\n",
    "    elif j == 0:\n",
    "        return [pixels[k + 1], pixels[k + width], pixels[k - width]]\n",
    "    elif j == width - 1:\n",
    "        return [pixels[k - 1], pixels[k + width], pixels[k - width]]\n",
    "    # body\n",
    "    else:\n",
    "        return [pixels[k + 1], pixels[k - 1], pixels[k + width], pixels[k - width]]"
   ]
  },
  {
   "cell_type": "markdown",
   "metadata": {},
   "source": [
    "Now we can go ahead and setup our algorithm. \n",
    "\n",
    "  I'll implement with a simplified version of simulated annealing algorithm we covered in EECS391, with our energy difference function as the heuristic.   \n",
    "  So when the energy difference is negative, which means the energy is decreasing, we just accept the result and keep descenting; when the energy difference is positive, we accept the result with a probability less than 1.  "
   ]
  },
  {
   "cell_type": "code",
   "execution_count": 3,
   "metadata": {},
   "outputs": [],
   "source": [
    "import math\n",
    "import random\n",
    "\n",
    "## a helper to determine the probability of acceptance\n",
    "def accept (delta, T):\n",
    "    ## have a buffer to prevent math overflow\n",
    "    return math.exp( - delta / T)\n",
    "\n",
    "## simulated annealing algorithm\n",
    "def anneal(pixels, dim, param_anneal, param_energy):\n",
    "    \n",
    "    ## setting up the parameters\n",
    "    T = param_anneal[0]\n",
    "    T_min = param_anneal[1]\n",
    "    alpha = param_anneal[2]\n",
    "    \n",
    "    h = param_energy[0]\n",
    "    beta = param_energy[1]\n",
    "    eta = param_energy[2]\n",
    "    \n",
    "    width = dim[0]\n",
    "    height = dim[1]\n",
    "    \n",
    "    ## the result we want\n",
    "    output = pixels[:]\n",
    "    \n",
    "    ## continue annealing as long as the temperature is higher than the terminate value\n",
    "    while T > T_min:\n",
    "        ## randomly pick an index k from the pixels\n",
    "        k = random.randint(0, len(output) - 1)\n",
    "        ## retrieve the neighbours of k\n",
    "        nbr = get_nbr(output, k, width, height)\n",
    "        diff = energy_diff(output, nbr, k, pixels[k], h, beta, eta)\n",
    "        ap = accept(diff[0], T)\n",
    "        if ap > random.random():\n",
    "            output[k] = 0 - output[k]\n",
    "        T = T * alpha\n",
    "    return output"
   ]
  },
  {
   "cell_type": "markdown",
   "metadata": {},
   "source": [
    "Finally let's have a wrapper method to also compute the finalized energy $E(\\mathbf{x}, \\mathbf{y})$:"
   ]
  },
  {
   "cell_type": "code",
   "execution_count": 4,
   "metadata": {},
   "outputs": [],
   "source": [
    "def __MRF_denoise__ (pixels, dim, param_anneal, param_energy):\n",
    "    ## take the output of simulated annealing\n",
    "    output = anneal(pixels, dim, param_anneal, param_energy)\n",
    "    \n",
    "    ## setup parameters\n",
    "    h = param_energy[0]\n",
    "    beta = param_energy[1]\n",
    "    eta = param_energy[2]\n",
    "    \n",
    "    width = dim[0]\n",
    "    height = dim[1]\n",
    "    \n",
    "    ## the sum variables we need for computing the energy equation\n",
    "    sum_xi = 0\n",
    "    sum_xixj = 0\n",
    "    sum_xiyi = 0\n",
    "    \n",
    "    ## compute sum of xi\n",
    "    for xi in output:\n",
    "        sum_xi += xi\n",
    "    \n",
    "    ## compute sum of xiyi\n",
    "    i = 0\n",
    "    for xi in output:\n",
    "        sum_xiyi += xi * (pixels[i])\n",
    "        i += 1\n",
    "    \n",
    "    ## compute sum of xixj\n",
    "    i = 0\n",
    "    for xi in output: \n",
    "        for xj in get_nbr(output, i, width, height):\n",
    "            sum_xixj += xi * xj\n",
    "        i += 1\n",
    "    \n",
    "    return h * sum_xi - beta * sum_xixj - eta * sum_xiyi"
   ]
  },
  {
   "cell_type": "markdown",
   "metadata": {},
   "source": [
    "  According to simulated annealing algorithm, if given appropriate heuristic, the final energy we get should always end at the global optimal, aka the min energy.  \n",
    "  However, there does exist some uncertainty in real life practice, where there is no guarantee to always get the most optimal answer. We can first have a really simple example to test our output:"
   ]
  },
  {
   "cell_type": "code",
   "execution_count": 5,
   "metadata": {},
   "outputs": [
    {
     "data": {
      "text/plain": [
       "[-1, -1, -1, -1, -1, -1, -1, -1, -1]"
      ]
     },
     "execution_count": 5,
     "metadata": {},
     "output_type": "execute_result"
    }
   ],
   "source": [
    "param_anneal = [1, 0.001, 0.999]\n",
    "param_energy = [0, 1, 2.1]\n",
    "## assuming the noise is around 10%, and this is supposed to be a very simplified 3x3 all-white image \n",
    "p = [-1,-1,-1,1,-1,-1,-1,-1,-1]\n",
    "dim = [3, 3]\n",
    "anneal(p, dim, param_anneal, param_energy)"
   ]
  },
  {
   "cell_type": "code",
   "execution_count": 6,
   "metadata": {},
   "outputs": [
    {
     "data": {
      "text/plain": [
       "-38.7"
      ]
     },
     "execution_count": 6,
     "metadata": {},
     "output_type": "execute_result"
    }
   ],
   "source": [
    "__MRF_denoise__(p, dim, param_anneal, param_energy)"
   ]
  },
  {
   "cell_type": "markdown",
   "metadata": {},
   "source": [
    "  According to the output above, we can see that the final output in this case is just the local minimum.  \n",
    "  Feel free to try the output, it should return the same results each time. We can practice on some more complexed images in the next part.  "
   ]
  },
  {
   "cell_type": "markdown",
   "metadata": {},
   "source": [
    "## 1.3 Illustrate the model by plot of the image as it is being de-noised at the beginning, middle, and end of the updating.  Choose images that aren't too high resolution so that the individual pixels are visible as squaures.  You may also do a live plot in a notebook to show it updating continuously, but make sure you have the static plots too in case the dynamic plot has portability issues."
   ]
  },
  {
   "cell_type": "markdown",
   "metadata": {},
   "source": [
    "To demonstrate this part, I will be using the a txt file `pepe.txt` as the input pixels. The image was found online and converted to binary pixels via https://www.dcode.fr/binary-image. The original text file has all `black` pixels as `0` and `white` pixels `1`. We may change that to what we need later on. \n",
    "\n",
    "Let's start with importing the pixel and inspect the initial image:"
   ]
  },
  {
   "cell_type": "code",
   "execution_count": 7,
   "metadata": {},
   "outputs": [],
   "source": [
    "from PIL import Image\n",
    "from numpy import *\n",
    "import numpy as np\n",
    "\n",
    "## import the primitive pixel file, get total length\n",
    "with open(\"pepe.txt\") as t:\n",
    "    text = t.read()\n",
    "    \n",
    "## the dimensions of the image\n",
    "width = 0\n",
    "height = 0\n",
    "pixels = []\n",
    "\n",
    "## import as 1D array\n",
    "with open(\"pepe.txt\") as txt:\n",
    "    for char in range(len(text)):\n",
    "        letter = txt.read(1)\n",
    "        if letter.isdigit():\n",
    "            pixels.append(int(letter))\n",
    "        elif letter == '\\n':\n",
    "            height += 1\n",
    "\n",
    "pixels = array(pixels)\n",
    "width = len(pixels) / height\n",
    "\n",
    "## create image with Pillow\n",
    "img = Image.new('1', (width, height))\n",
    "pixel = img.load()\n",
    "\n",
    "## pass pixels in the 1D array over the pixel of the image\n",
    "index = 0\n",
    "for i in range(height):\n",
    "    for j in range(width):\n",
    "        pixel[j, i] = pixels[index]\n",
    "        index += 1\n",
    "        \n",
    "img.show()\n",
    "img.save('goodpepe.png')"
   ]
  },
  {
   "cell_type": "markdown",
   "metadata": {},
   "source": [
    "![original pepe image](goodpepe.png)\n",
    "Alright, now we have our original sad pepe. The next step is to read from the image and do the denoising. We want to arbitrarily flip some bits to make sure we have the \"noises\" in the image. Suppose we are having a noise rate of at most 10% of total pixels!"
   ]
  },
  {
   "cell_type": "code",
   "execution_count": 8,
   "metadata": {},
   "outputs": [
    {
     "name": "stdout",
     "output_type": "stream",
     "text": [
      "1\n"
     ]
    }
   ],
   "source": [
    "## Our good pepe\n",
    "pic = Image.open('goodpepe.png')\n",
    "## make sure this is a binary image\n",
    "print pic.mode\n",
    "pix = pic.load()\n",
    "\n",
    "## the observed pixel array with noises\n",
    "observe = []\n",
    "## total number of noises allowed, in this case is 0.1 * total pixels \n",
    "max_noises = int(0.1 * len(pixels))\n",
    "## index of noise pixels\n",
    "noise = []\n",
    "\n",
    "## first append the pixels as usual\n",
    "index = 0\n",
    "for i in range(height):\n",
    "    for j in range(width):\n",
    "        ## to make sure we have +1 for whites and -1 for blacks\n",
    "        observe.append(int(pix[j, i] / 255) * 2 - 1)\n",
    "        \n",
    "## we allow repeated indices in this case, since the noise won't always be exactly 10% in real life\n",
    "for i in range(max_noises):\n",
    "    noise.append(random.randint(0, len(pixels) - 1))\n",
    "      \n",
    "## flip the bits!\n",
    "for pix in noise:\n",
    "    observe[pix] = 0 - observe[pix]\n",
    "    \n",
    "observe = array(observe)"
   ]
  },
  {
   "cell_type": "markdown",
   "metadata": {},
   "source": [
    "Now let's take a look the image with noises:"
   ]
  },
  {
   "cell_type": "code",
   "execution_count": 9,
   "metadata": {},
   "outputs": [],
   "source": [
    "## create image with Pillow\n",
    "badimg = Image.new('1', (width, height))\n",
    "badpixel = badimg.load()\n",
    "\n",
    "## pass pixels in the 1D array over the pixel of the image\n",
    "index = 0\n",
    "for i in range(height):\n",
    "    for j in range(width):\n",
    "        badpixel[j, i] = observe[index]\n",
    "        index += 1\n",
    "        \n",
    "badimg.show()\n",
    "badimg.save('badpepe.png')"
   ]
  },
  {
   "cell_type": "markdown",
   "metadata": {},
   "source": [
    "![noisy pepe image](badpepe.png)\n",
    "\n",
    "Awesome, we have the ugly pepe as expected. Don't feel bad about pepe, let's take a look at how our MRF denoising algorithm can change the situation.\n",
    "\n",
    "To make sure we can also see the image in the middle of the updating, let's first make a few modification on our MRF method from the previous part. What we will do is to break the simulated annealing to two steps, from the original temperature to the half, take a look at the result, and then continue to go from the half to the min temperature. "
   ]
  },
  {
   "cell_type": "code",
   "execution_count": 10,
   "metadata": {},
   "outputs": [],
   "source": [
    "def show_denoise (pixels, dim, param_anneal, param_energy, imgname):\n",
    "    \n",
    "    pixels = pixels[:]\n",
    "    \n",
    "    width = dim[0]\n",
    "    height = dim[1]\n",
    "    \n",
    "    output = anneal(pixels, dim, param_anneal, param_energy)\n",
    "    \n",
    "    ## create image with Pillow\n",
    "    betterimg = Image.new('1', (width, height))\n",
    "    betterpixel = betterimg.load()\n",
    "\n",
    "    ## pass pixels in the 1D array over the pixel of the image\n",
    "    index = 0\n",
    "    for i in range(height):\n",
    "        for j in range(width):\n",
    "            betterpixel[j, i] = output[index]\n",
    "            index += 1\n",
    "        \n",
    "    betterimg.show()\n",
    "    betterimg.save(imgname)\n",
    "    \n",
    "    ## setup parameters\n",
    "    h = param_energy[0]\n",
    "    beta = param_energy[1]\n",
    "    eta = param_energy[2]\n",
    "\n",
    "    ## the sum variables we need for computing the energy equation\n",
    "    sum_xi = 0\n",
    "    sum_xixj = 0\n",
    "    sum_xiyi = 0\n",
    "    \n",
    "    ## compute sum of xi\n",
    "    for xi in output:\n",
    "        sum_xi += xi\n",
    "    \n",
    "    ## compute sum of xiyi\n",
    "    i = 0\n",
    "    for xi in output:\n",
    "        sum_xiyi += xi * (pixels[i])\n",
    "        i += 1\n",
    "    \n",
    "    ## compute sum of xixj\n",
    "    i = 0\n",
    "    for xi in output: \n",
    "        for xj in get_nbr(output, i, width, height):\n",
    "            sum_xixj += xi * xj\n",
    "        i += 1\n",
    "    result =  h * sum_xi - beta * sum_xixj - eta * sum_xiyi\n",
    "    print 'The global minimum is: '  \n",
    "    print result\n",
    "    return output"
   ]
  },
  {
   "cell_type": "code",
   "execution_count": 11,
   "metadata": {},
   "outputs": [],
   "source": [
    "dimpepe = [width, height]\n",
    "param_anneal = [1, 0.001, 0.999]"
   ]
  },
  {
   "cell_type": "code",
   "execution_count": 12,
   "metadata": {},
   "outputs": [
    {
     "name": "stdout",
     "output_type": "stream",
     "text": [
      "The global minimum is: \n",
      "-6184.0\n"
     ]
    }
   ],
   "source": [
    "param_first = [1, (1 + 0.01) / 2, 0.99]\n",
    "param_energy = [0, 1, 2.1]\n",
    "## Half of the updating\n",
    "betterpixel = show_denoise(observe, dimpepe, param_first, param_energy, 'betterpepe.png')"
   ]
  },
  {
   "cell_type": "markdown",
   "metadata": {},
   "source": [
    "Let's take a look at our pepe half way through the updating:\n",
    "![better pepe image](betterpepe.png)\n",
    "\n",
    "At least it looks better isn't it"
   ]
  },
  {
   "cell_type": "code",
   "execution_count": 13,
   "metadata": {},
   "outputs": [
    {
     "ename": "OverflowError",
     "evalue": "math range error",
     "output_type": "error",
     "traceback": [
      "\u001b[1;31m\u001b[0m",
      "\u001b[1;31mOverflowError\u001b[0mTraceback (most recent call last)",
      "\u001b[1;32m<ipython-input-13-05f47edea381>\u001b[0m in \u001b[0;36m<module>\u001b[1;34m()\u001b[0m\n\u001b[0;32m      3\u001b[0m \u001b[0mparam_second\u001b[0m \u001b[1;33m=\u001b[0m \u001b[1;33m[\u001b[0m\u001b[1;33m(\u001b[0m\u001b[1;36m1\u001b[0m \u001b[1;33m+\u001b[0m \u001b[1;36m0.01\u001b[0m\u001b[1;33m)\u001b[0m \u001b[1;33m/\u001b[0m \u001b[1;36m2\u001b[0m\u001b[1;33m,\u001b[0m \u001b[1;36m0.01\u001b[0m\u001b[1;33m,\u001b[0m \u001b[1;36m0.99\u001b[0m\u001b[1;33m]\u001b[0m\u001b[1;33m\u001b[0m\u001b[0m\n\u001b[0;32m      4\u001b[0m \u001b[1;31m## Updating completely done\u001b[0m\u001b[1;33m\u001b[0m\u001b[1;33m\u001b[0m\u001b[0m\n\u001b[1;32m----> 5\u001b[1;33m \u001b[0mnewpixel\u001b[0m \u001b[1;33m=\u001b[0m \u001b[0mshow_denoise\u001b[0m\u001b[1;33m(\u001b[0m\u001b[0mbetterpixel\u001b[0m\u001b[1;33m,\u001b[0m \u001b[0mdimpepe\u001b[0m\u001b[1;33m,\u001b[0m \u001b[0mparam_second\u001b[0m\u001b[1;33m,\u001b[0m \u001b[0mparam_energy\u001b[0m\u001b[1;33m,\u001b[0m \u001b[1;34m'sadpepe.png'\u001b[0m\u001b[1;33m)\u001b[0m\u001b[1;33m\u001b[0m\u001b[0m\n\u001b[0m",
      "\u001b[1;32m<ipython-input-10-672c90d43dbd>\u001b[0m in \u001b[0;36mshow_denoise\u001b[1;34m(pixels, dim, param_anneal, param_energy, imgname)\u001b[0m\n\u001b[0;32m      6\u001b[0m     \u001b[0mheight\u001b[0m \u001b[1;33m=\u001b[0m \u001b[0mdim\u001b[0m\u001b[1;33m[\u001b[0m\u001b[1;36m1\u001b[0m\u001b[1;33m]\u001b[0m\u001b[1;33m\u001b[0m\u001b[0m\n\u001b[0;32m      7\u001b[0m \u001b[1;33m\u001b[0m\u001b[0m\n\u001b[1;32m----> 8\u001b[1;33m     \u001b[0moutput\u001b[0m \u001b[1;33m=\u001b[0m \u001b[0manneal\u001b[0m\u001b[1;33m(\u001b[0m\u001b[0mpixels\u001b[0m\u001b[1;33m,\u001b[0m \u001b[0mdim\u001b[0m\u001b[1;33m,\u001b[0m \u001b[0mparam_anneal\u001b[0m\u001b[1;33m,\u001b[0m \u001b[0mparam_energy\u001b[0m\u001b[1;33m)\u001b[0m\u001b[1;33m\u001b[0m\u001b[0m\n\u001b[0m\u001b[0;32m      9\u001b[0m \u001b[1;33m\u001b[0m\u001b[0m\n\u001b[0;32m     10\u001b[0m     \u001b[1;31m## create image with Pillow\u001b[0m\u001b[1;33m\u001b[0m\u001b[1;33m\u001b[0m\u001b[0m\n",
      "\u001b[1;32m<ipython-input-3-aa2c6a881f25>\u001b[0m in \u001b[0;36manneal\u001b[1;34m(pixels, dim, param_anneal, param_energy)\u001b[0m\n\u001b[0;32m     32\u001b[0m         \u001b[0mnbr\u001b[0m \u001b[1;33m=\u001b[0m \u001b[0mget_nbr\u001b[0m\u001b[1;33m(\u001b[0m\u001b[0moutput\u001b[0m\u001b[1;33m,\u001b[0m \u001b[0mk\u001b[0m\u001b[1;33m,\u001b[0m \u001b[0mwidth\u001b[0m\u001b[1;33m,\u001b[0m \u001b[0mheight\u001b[0m\u001b[1;33m)\u001b[0m\u001b[1;33m\u001b[0m\u001b[0m\n\u001b[0;32m     33\u001b[0m         \u001b[0mdiff\u001b[0m \u001b[1;33m=\u001b[0m \u001b[0menergy_diff\u001b[0m\u001b[1;33m(\u001b[0m\u001b[0moutput\u001b[0m\u001b[1;33m,\u001b[0m \u001b[0mnbr\u001b[0m\u001b[1;33m,\u001b[0m \u001b[0mk\u001b[0m\u001b[1;33m,\u001b[0m \u001b[0mpixels\u001b[0m\u001b[1;33m[\u001b[0m\u001b[0mk\u001b[0m\u001b[1;33m]\u001b[0m\u001b[1;33m,\u001b[0m \u001b[0mh\u001b[0m\u001b[1;33m,\u001b[0m \u001b[0mbeta\u001b[0m\u001b[1;33m,\u001b[0m \u001b[0meta\u001b[0m\u001b[1;33m)\u001b[0m\u001b[1;33m\u001b[0m\u001b[0m\n\u001b[1;32m---> 34\u001b[1;33m         \u001b[0map\u001b[0m \u001b[1;33m=\u001b[0m \u001b[0maccept\u001b[0m\u001b[1;33m(\u001b[0m\u001b[0mdiff\u001b[0m\u001b[1;33m[\u001b[0m\u001b[1;36m0\u001b[0m\u001b[1;33m]\u001b[0m\u001b[1;33m,\u001b[0m \u001b[0mT\u001b[0m\u001b[1;33m)\u001b[0m\u001b[1;33m\u001b[0m\u001b[0m\n\u001b[0m\u001b[0;32m     35\u001b[0m         \u001b[1;32mif\u001b[0m \u001b[0map\u001b[0m \u001b[1;33m>\u001b[0m \u001b[0mrandom\u001b[0m\u001b[1;33m.\u001b[0m\u001b[0mrandom\u001b[0m\u001b[1;33m(\u001b[0m\u001b[1;33m)\u001b[0m\u001b[1;33m:\u001b[0m\u001b[1;33m\u001b[0m\u001b[0m\n\u001b[0;32m     36\u001b[0m             \u001b[0moutput\u001b[0m\u001b[1;33m[\u001b[0m\u001b[0mk\u001b[0m\u001b[1;33m]\u001b[0m \u001b[1;33m=\u001b[0m \u001b[1;36m0\u001b[0m \u001b[1;33m-\u001b[0m \u001b[0moutput\u001b[0m\u001b[1;33m[\u001b[0m\u001b[0mk\u001b[0m\u001b[1;33m]\u001b[0m\u001b[1;33m\u001b[0m\u001b[0m\n",
      "\u001b[1;32m<ipython-input-3-aa2c6a881f25>\u001b[0m in \u001b[0;36maccept\u001b[1;34m(delta, T)\u001b[0m\n\u001b[0;32m      5\u001b[0m \u001b[1;32mdef\u001b[0m \u001b[0maccept\u001b[0m \u001b[1;33m(\u001b[0m\u001b[0mdelta\u001b[0m\u001b[1;33m,\u001b[0m \u001b[0mT\u001b[0m\u001b[1;33m)\u001b[0m\u001b[1;33m:\u001b[0m\u001b[1;33m\u001b[0m\u001b[0m\n\u001b[0;32m      6\u001b[0m     \u001b[1;31m## have a buffer to prevent math overflow\u001b[0m\u001b[1;33m\u001b[0m\u001b[1;33m\u001b[0m\u001b[0m\n\u001b[1;32m----> 7\u001b[1;33m     \u001b[1;32mreturn\u001b[0m \u001b[0mmath\u001b[0m\u001b[1;33m.\u001b[0m\u001b[0mexp\u001b[0m\u001b[1;33m(\u001b[0m \u001b[1;33m-\u001b[0m \u001b[0mdelta\u001b[0m \u001b[1;33m/\u001b[0m \u001b[0mT\u001b[0m\u001b[1;33m)\u001b[0m\u001b[1;33m\u001b[0m\u001b[0m\n\u001b[0m\u001b[0;32m      8\u001b[0m \u001b[1;33m\u001b[0m\u001b[0m\n\u001b[0;32m      9\u001b[0m \u001b[1;31m## simulated annealing algorithm\u001b[0m\u001b[1;33m\u001b[0m\u001b[1;33m\u001b[0m\u001b[0m\n",
      "\u001b[1;31mOverflowError\u001b[0m: math range error"
     ]
    }
   ],
   "source": [
    "## notice: can sometimes have math out of range error due to difference value overflow.\n",
    "## under such condition, just rerun the cell a couple of times and it should be good\n",
    "param_second = [(1 + 0.01) / 2, 0.01, 0.99]\n",
    "## Updating completely done\n",
    "newpixel = show_denoise(betterpixel, dimpepe, param_second, param_energy, 'sadpepe.png')"
   ]
  },
  {
   "cell_type": "markdown",
   "metadata": {},
   "source": [
    "![sad pepe image](sadpepe.png)\n",
    "Finally we have the pepe after the whole updating. Actually I'm not sure if it's just me or the pepe really seems sader than the original image. We also lost some important details of the pepe. \n",
    "\n",
    "Anyways, our algorithm works, and that's the most important. "
   ]
  },
  {
   "cell_type": "markdown",
   "metadata": {},
   "source": [
    "## 1.4 Experiment with different settings of the energy equation parameters and explain your results."
   ]
  },
  {
   "cell_type": "markdown",
   "metadata": {},
   "source": [
    "According to the energy equation, $\\eta$ is a positive constant to determine how happy we are to allow difference with original observation, $\\beta$ is a positive constant to determine the tendency of neighbouring pixels to be the same, and $h$ is a positive constant to determine the tendency that the pixels are black/white. \n",
    "\n",
    "For my previous section, I used the regular $(\\eta = 2.1, \\beta = 1.0, h = 0)$ parameter as suggested in Bishop. Here let's try out a few more possibilities. "
   ]
  },
  {
   "cell_type": "markdown",
   "metadata": {},
   "source": [
    "### Case One: Higher $\\beta$ "
   ]
  },
  {
   "cell_type": "code",
   "execution_count": null,
   "metadata": {},
   "outputs": [],
   "source": [
    "param_energy1 = [0, 2, 2.1]\n",
    "\n",
    "## notice: can sometimes have math out of range error due to difference value overflow.\n",
    "## under such condition, just rerun the cell a couple of times and it should be good\n",
    "show_denoise(observe, dimpepe, param_anneal, param_energy1, 'exp1.png')"
   ]
  },
  {
   "cell_type": "markdown",
   "metadata": {},
   "source": [
    "![pepe with larger beta](exp1.png)\n",
    "\n",
    "Just as we predicted, larger $\\beta$ value increase the tendency to infer higher similarity between neighbouring pixels, and in this case we have a pepe with no freckle at all. However, the problem is that we can also lose many details by allowing larger $\\beta$ value. "
   ]
  },
  {
   "cell_type": "markdown",
   "metadata": {},
   "source": [
    "### Case Two: Higher $h$"
   ]
  },
  {
   "cell_type": "code",
   "execution_count": null,
   "metadata": {},
   "outputs": [],
   "source": [
    "param_energy2 = [0.2, 1, 2.1]\n",
    "\n",
    "## notice: can sometimes have math out of range error due to difference value overflow.\n",
    "## under such condition, just rerun the cell a couple of times and it should be good\n",
    "show_denoise(observe, dimpepe, param_anneal, param_energy2, 'exp2.png')"
   ]
  },
  {
   "cell_type": "markdown",
   "metadata": {},
   "source": [
    "![pepe with larger beta](exp2.png)\n",
    "In this case the result is a little bit similar to what we have in the previous case, since by allowing a higher $h$, the occurence of noises is also undermined by the promotion of white color instead of the black. In this way, black noises are more likely to be eliminated in first place, and then white noises in the black are those left to be descented since they are surrounded by neigboured black pixels. Therefore the image also provides better consistency, but less details, which is more like large color lumps piled together...."
   ]
  },
  {
   "cell_type": "markdown",
   "metadata": {},
   "source": [
    "### Case Three: Higher $\\eta$"
   ]
  },
  {
   "cell_type": "code",
   "execution_count": null,
   "metadata": {},
   "outputs": [],
   "source": [
    "param_energy3 = [0, 1, 6]\n",
    "\n",
    "p3 = show_denoise(observe, dimpepe, param_anneal, param_energy3, 'exp3.png')"
   ]
  },
  {
   "cell_type": "markdown",
   "metadata": {},
   "source": [
    "![pepe with larger eta](exp3.png)\n",
    "This time the output looks quite different from what we have for the previous two cases, since a higher $\\eta$, given everything else unchanged, indicates that we are more happy with changing from the original observation, which can potentially have new noises that are different from the noises we had originally. Still, most of the scattered noises are eliminated since we promote changing. "
   ]
  },
  {
   "cell_type": "markdown",
   "metadata": {},
   "source": [
    "### Case Four: $\\beta = 0$\n",
    "\n",
    "In Bishop we covered the case if $\\beta = 0$ will just produce the originial solution since it is not willing to change if not stimulated by neighbouring differences."
   ]
  },
  {
   "cell_type": "code",
   "execution_count": 14,
   "metadata": {},
   "outputs": [
    {
     "name": "stdout",
     "output_type": "stream",
     "text": [
      "The global minimum is: \n",
      "-3024.0\n"
     ]
    },
    {
     "data": {
      "text/plain": [
       "array([1, 1, 1, ..., 1, 1, 1])"
      ]
     },
     "execution_count": 14,
     "metadata": {},
     "output_type": "execute_result"
    }
   ],
   "source": [
    "param_energy4 = [0, 0, 2.1]\n",
    "show_denoise(observe, dimpepe, param_anneal, param_energy4, 'exp4.png')"
   ]
  },
  {
   "cell_type": "markdown",
   "metadata": {},
   "source": [
    "![pepe with zero beta](exp4.png)\n",
    "We may confirm with our result over here. "
   ]
  },
  {
   "cell_type": "markdown",
   "metadata": {},
   "source": [
    "## 1.5  Generalize the energy equation so that the model considers more than just pairs of pixels.  Explain your rationale behind this new model. Illustrate it with denoising examples (other types of images) that are not well-handled by the previous model."
   ]
  },
  {
   "cell_type": "markdown",
   "metadata": {},
   "source": [
    "In general, the major problem with the model we have right now is that it only supports binary pixel inputs, which is very rare in real life. Even the binary image provided by Pillow has more continuous value than $1$ and $-1$, which would force us to have a harder threshold. \n",
    "\n",
    "Still, binary images are very rare, so let's try to have grey-scaled images also supported by our algorithm by having more continuously valued inputs. \n",
    "\n",
    "As usual, let's start with having the new energy function setup. To support greyscaled images, the function should be able to identify continuous differences. "
   ]
  },
  {
   "cell_type": "markdown",
   "metadata": {},
   "source": [
    "Since we will be using 8-bits greyscale with the Pillow package, our algorithm only need to support one value indicating the pixel color ranging from 0 to 255, the larger the value the \"whiter\" the pixel. Therefore, in order to still determine the difference, we can simply solve for the value of $|x_i - x_j|$ as well as $|x_i - y_i|$ in the original equation. Furthermore, since we are doing the gradient descent, which means lower $E$ is desirable, we should flip the sign from minus to plus so as smaller values following the sign are better. \n",
    "\n",
    "So the new energy equation $E(\\mathbf{x}, \\mathbf{y})$ will be:\n",
    "\n",
    "$$ \n",
    " E(\\mathbf{x}, \\mathbf{y}) = h \\sum_i x_i + \\beta \\sum_{i, j} |x_i - x_j| + \\eta \\sum_i |x_i - y_i|\n",
    "$$\n",
    "And deriving from the above equation we shall obtain the difference function as our heuristic again: \n",
    "$$\n",
    "E' - E = h(x_k' - x_k) + 2 \\beta \\sum_{j \\in nbr(k)} (|x_k' - x_j| - |x_k - x_j|) + \\eta (|x_k' - y_k| - |x_k - y_k|)\n",
    "$$\n",
    "\n",
    "Now we may implement the difference function for greyscale input images:"
   ]
  },
  {
   "cell_type": "code",
   "execution_count": 160,
   "metadata": {},
   "outputs": [],
   "source": [
    "## we maintain most of the same input parameters as we did for the previous one, \n",
    "## since the basic structure is not changed, except for this time we also need the new xk value: xl\n",
    "def grey_energy_diff (pixels, nbr, k, xl, yk, h, beta, eta):\n",
    "    output = [0, k]\n",
    "    a = h * (xl - pixels[k])\n",
    "    b = 0\n",
    "    c = eta * (abs(xl - yk) - abs(pixels[k] - yk))\n",
    "    \n",
    "    for xj in nbr:\n",
    "        b += abs(xl - xj) - abs(pixels[k] - xj)\n",
    "    output[0] += a + 2 * beta * b + eta * c\n",
    "    return output"
   ]
  },
  {
   "cell_type": "markdown",
   "metadata": {},
   "source": [
    "Now our simulated annealing algorithm also needs to be generalized since the way we change the value is rather different now. Instead of flipping the value, now we need to indicate a random integer ranging from 0 to 1 (I will map 8 bits pixels to $[0, 1]$ as continuous values later on. This is to have smaller energy difference so as to prevent value overflow)."
   ]
  },
  {
   "cell_type": "code",
   "execution_count": 171,
   "metadata": {},
   "outputs": [],
   "source": [
    "## a helper to determine the probability of acceptance\n",
    "def gaccept (delta, T):\n",
    "    ## have a buffer to prevent math overflow\n",
    "    return math.exp( -  delta / T)\n",
    "\n",
    "## simulated annealing algorithm for greyscaled input images\n",
    "def grey_anneal(pixels, dim, param_anneal, param_energy):\n",
    "    \n",
    "    ## setting up the parameters\n",
    "    T = param_anneal[0]\n",
    "    T_min = param_anneal[1]\n",
    "    alpha = param_anneal[2]\n",
    "    \n",
    "    h = param_energy[0]\n",
    "    beta = param_energy[1]\n",
    "    eta = param_energy[2]\n",
    "    \n",
    "    width = dim[0]\n",
    "    height = dim[1]\n",
    "    \n",
    "    ## the result we want\n",
    "    output = pixels[:]\n",
    "    \n",
    "    ## continue annealing as long as the temperature is higher than the terminate value\n",
    "    while T > T_min:\n",
    "        for i in range(500):\n",
    "            ## randomly pick an index k from the pixels\n",
    "            k = random.randint(0, len(output) - 1)\n",
    "            ## retrieve the neighbours of k\n",
    "            nbr = get_nbr(output, k, width, height)\n",
    "            ## randomly generate a new value for xk to compare with the original one\n",
    "            xl = math.exp( - output[k])\n",
    "            diff = grey_energy_diff(output, nbr, k, xl, pixels[k], h, beta, eta)\n",
    "            ap = gaccept(diff[0], T)\n",
    "            if ap > random.random():\n",
    "                output[k] = xl\n",
    "        T = T * alpha\n",
    "    return output"
   ]
  },
  {
   "cell_type": "markdown",
   "metadata": {},
   "source": [
    "  And right now we might go on and do the setup for our greyscaled image.  \n",
    "  I will still use the pepe this time since I'm in the mood.  "
   ]
  },
  {
   "cell_type": "code",
   "execution_count": 172,
   "metadata": {},
   "outputs": [
    {
     "name": "stdout",
     "output_type": "stream",
     "text": [
      "L\n"
     ]
    }
   ],
   "source": [
    "## Our grey pepe\n",
    "gpic = Image.open('greypepe.png').convert('L')\n",
    "gpic.save('gpepe.png')\n",
    "## make sure this is an 8-bit greyscaled image\n",
    "print gpic.mode\n",
    "gpix = gpic.load()"
   ]
  },
  {
   "cell_type": "markdown",
   "metadata": {},
   "source": [
    "![grey pepe](gpepe.png)"
   ]
  },
  {
   "cell_type": "markdown",
   "metadata": {},
   "source": [
    "Same as last time, we still need to convert the pixel matrix to a 1D array, and we will convert the 8-bits values to floating numbers from $[0, 1]$ as well:"
   ]
  },
  {
   "cell_type": "code",
   "execution_count": 173,
   "metadata": {},
   "outputs": [],
   "source": [
    "from PIL import Image\n",
    "from numpy import *\n",
    "import numpy as np\n",
    "## to force division to give float results\n",
    "from __future__ import division\n",
    "\n",
    "np.set_printoptions(threshold=np.nan)\n",
    "\n",
    "## the dimensions of the image\n",
    "gwidth = gpic.size[0]\n",
    "gheight = gpic.size[1]\n",
    "gpixels = []\n",
    "\n",
    "for i in range(gheight):\n",
    "    for j in range(gwidth):\n",
    "        ## simplify 8-bit pixels\n",
    "        gpixels.append(gpix[j, i] / 255)\n",
    "\n",
    "gpixels = array(gpixels)"
   ]
  },
  {
   "cell_type": "markdown",
   "metadata": {},
   "source": [
    "In order to test our results, I will randomly add noises that will not exceed 10% of the total pixels as last time:"
   ]
  },
  {
   "cell_type": "code",
   "execution_count": 174,
   "metadata": {},
   "outputs": [],
   "source": [
    "## initialize the observed pixel array without noises\n",
    "gobserve = gpixels[:]\n",
    "## total number of noises allowed, in this case is 0.1 * total pixels \n",
    "gmax_noises = int(0.1 * len(gpixels))\n",
    "## index of noise pixels\n",
    "gnoise = []\n",
    "\n",
    "## we allow repeated indices in this case, since the noise won't always be exactly 10% in real life\n",
    "for i in range(gmax_noises):\n",
    "    gnoise.append(random.randint(0, len(gpixels) - 1))\n",
    "    \n",
    "## set random value for these pixels!\n",
    "for pix in gnoise:\n",
    "    gobserve[pix] = random.random()\n",
    "    "
   ]
  },
  {
   "cell_type": "markdown",
   "metadata": {},
   "source": [
    "Now let's take a look the image with noises:"
   ]
  },
  {
   "cell_type": "code",
   "execution_count": 175,
   "metadata": {
    "scrolled": true
   },
   "outputs": [],
   "source": [
    "gbadimg = Image.new('L', (gwidth, gheight))\n",
    "gbadpixel = gbadimg.load()\n",
    "\n",
    "## pass pixels in the 1D array over the pixel of the image\n",
    "index = 0\n",
    "for i in range(gheight):\n",
    "    for j in range(gwidth):\n",
    "        ## we still need to convert back to normal values\n",
    "        gbadpixel[j, i] = int(gobserve[index] * 255)\n",
    "        index += 1\n",
    "        \n",
    "gbadimg.show()\n",
    "gbadimg.save('gbadpepe.png')"
   ]
  },
  {
   "cell_type": "markdown",
   "metadata": {},
   "source": [
    "![bad grey pepe](gbadpepe.png)\n",
    "\n",
    "So once again, we are having this noisy ugly grey pepe. Let's take a look at how our updated algorithm can save this poor little frog. "
   ]
  },
  {
   "cell_type": "code",
   "execution_count": 176,
   "metadata": {},
   "outputs": [],
   "source": [
    "def grey_show_denoise (pixels, dim, param_anneal, param_energy, imgname):\n",
    "    \n",
    "    width = dim[0]\n",
    "    height = dim[1]\n",
    "    \n",
    "    output = grey_anneal(gobserve, dim, param_anneal, param_energy)\n",
    "    \n",
    "    betterimg = Image.new('L', (width, height))\n",
    "    betterpixel = betterimg.load()\n",
    "\n",
    "    ## pass pixels in the 1D array over the pixel of the image\n",
    "    index = 0\n",
    "    for i in range(height):\n",
    "        for j in range(width):\n",
    "            ## we still need to convert back to normal values\n",
    "            betterpixel[j, i] = int(output[index] * 255)\n",
    "            index += 1\n",
    "        \n",
    "    betterimg.show()\n",
    "    betterimg.save(imgname)\n",
    "    \n",
    "    ## setup parameters\n",
    "    h = param_energy[0]\n",
    "    beta = param_energy[1]\n",
    "    eta = param_energy[2]\n",
    "\n",
    "    ## the sum variables we need for computing the energy equation\n",
    "    a = 0\n",
    "    b = 0\n",
    "    c = 0\n",
    "    \n",
    "    ## compute sum of xi\n",
    "    for xi in output:\n",
    "        a += xi\n",
    "    \n",
    "    ## compute sum of |xi - yi|\n",
    "    i = 0\n",
    "    for xi in output:\n",
    "        c += abs(xi - pixels[i])\n",
    "        i += 1\n",
    "    \n",
    "    ## compute sum of |xi - xj|\n",
    "    i = 0\n",
    "    for xi in output: \n",
    "        for xj in get_nbr(output, i, width, height):\n",
    "            b += abs(xi - xj)\n",
    "        i += 1\n",
    "    result =  h * a + beta * b + eta * c\n",
    "    print 'The global minimum is: '  \n",
    "    print result\n",
    "    return output"
   ]
  },
  {
   "cell_type": "code",
   "execution_count": 179,
   "metadata": {},
   "outputs": [],
   "source": [
    "dimg = [gwidth, gheight]\n",
    "param_anneal = [1, 0.000001, 0.99999999]\n",
    "param_energy = [0, 10, 10]"
   ]
  },
  {
   "cell_type": "markdown",
   "metadata": {},
   "source": [
    "*Warning: do not run the following cell without full preparation: to improve the accuracy of my algorithm, I made the iterations extremely large, and it might crash the pc... Save all your working progress before running this cell.*"
   ]
  },
  {
   "cell_type": "code",
   "execution_count": null,
   "metadata": {},
   "outputs": [],
   "source": [
    "o = grey_show_denoise(gobserve, dimg, param_anneal, param_energy, 'gsadpepe.png')"
   ]
  },
  {
   "cell_type": "code",
   "execution_count": null,
   "metadata": {},
   "outputs": [],
   "source": []
  },
  {
   "cell_type": "code",
   "execution_count": null,
   "metadata": {},
   "outputs": [],
   "source": []
  },
  {
   "cell_type": "code",
   "execution_count": null,
   "metadata": {},
   "outputs": [],
   "source": []
  }
 ],
 "metadata": {
  "kernelspec": {
   "display_name": "Python 2",
   "language": "python",
   "name": "python2"
  },
  "language_info": {
   "codemirror_mode": {
    "name": "ipython",
    "version": 2
   },
   "file_extension": ".py",
   "mimetype": "text/x-python",
   "name": "python",
   "nbconvert_exporter": "python",
   "pygments_lexer": "ipython2",
   "version": "2.7.15"
  }
 },
 "nbformat": 4,
 "nbformat_minor": 2
}
