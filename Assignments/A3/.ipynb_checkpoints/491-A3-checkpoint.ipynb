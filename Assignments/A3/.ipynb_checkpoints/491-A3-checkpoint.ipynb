{
 "cells": [
  {
   "cell_type": "markdown",
   "metadata": {},
   "source": [
    "## EECS 491 Assignment 3\n",
    "\n",
    "Due Fri Mar 22 before midnight. 1-1-1 points total.\n",
    "\n",
    "### Submitting assignments to Canvas\n",
    "\n",
    "- For jupyter notebooks, submit the .ipynb file and a pdf or html export of the notebook.  Make sure the output represents the latest state of your notebook.  If you use interactive plots, make sure the output for the static file is representative of the points you wish to make.  If your are not using notebooks, writeup your assignment using latex and submit a pdf with your code.  The writeup should include relevant code with description if it can fit on a page.  Do not include binaries or large data files.\n",
    "\n",
    "- Use the following format for filenames:\n",
    "  - `EECS491-A3-yourcaseid.ipynb`\n",
    "  - `EECS491-A3-yourcaseid.pdf`\n",
    "\n",
    "- If you have more than these two files, put all your files in a directory named `EECS491-A3-yourcaseid`. Then zip the directory and submit it with the name `EECS491-A3-yourcaseid.zip`.  Do not use other compression formats."
   ]
  },
  {
   "cell_type": "markdown",
   "metadata": {},
   "source": [
    "### Exercise 1. MRFs and Images Denoising (4-1 points)\n",
    "\n",
    "In this problem, you will implement the image de-noising example using a Markov Random Field (MRF).  This material on MRFs is covered in the textbook (Barber) in chapter 4.2.5. The lecture and this problem is based on the presentation in Bishop in chapter 8.3, which is available online.\n",
    "\n",
    "As discussed in class, energy function for this MRF is\n",
    "\n",
    "$$ E(\\mathbf{x}, \\mathbf{y}) = h \\sum_i x_i - \\beta \\sum_{i,j} x_i x_j - \\eta \\sum_i x_i y_i $$\n",
    "\n",
    "where the binary variables $x_i$ represent the unknown, noise-free image pixels, which are binary, i.e. black or white.  The variables $y_i$ represent the observed noisy pixels, i.e. the pixel could randomly change from black ($=-1$) to white ($=+1$) or vice-versa.  \n",
    "\n",
    "The corresponding joint probability distribution over the variables is\n",
    "\n",
    "$$ p(\\mathbf{x},\\mathbf{y}) = \\frac{1}{Z} \\exp \\left[ -E(\\mathbf{x},\\mathbf{y}) \\right] $$"
   ]
  },
  {
   "cell_type": "markdown",
   "metadata": {},
   "source": [
    "1.1 (5 pts) Derive the equation that specifies the change in the energy equation when one variable changes state."
   ]
  },
  {
   "cell_type": "markdown",
   "metadata": {},
   "source": [
    "1.2 (1-1 pts) Write a program to iteratively (or in random order) update the state variables to minimize the energy (maximize the probability).  Explain your code.  Show that the update algorithm minimizes the energy $E(\\mathbf{x}, \\mathbf{y})$."
   ]
  },
  {
   "cell_type": "markdown",
   "metadata": {},
   "source": [
    "1.3 (1-1 pts) Illustrate the model by plot of the image as it is being de-noised at the beginning, middle, and end of the updating.  Choose images that aren't too high resolution so that the individual pixels are visible as squaures.  You may also do a live plot in a notebook to show it updating continuously, but make sure you have the static plots too in case the dynamic plot has portability issues."
   ]
  },
  {
   "cell_type": "markdown",
   "metadata": {},
   "source": [
    "1.4 (5 pts) Experiment with different settings of the energy equation parameters and explain your results."
   ]
  },
  {
   "cell_type": "markdown",
   "metadata": {},
   "source": [
    "1.5 (1-1 pts)  Generalize the energy equation so that the model considers more that just pairs of pixels.  Explain your rationale behind this new model. Illustrate it with denoising examples (other types of images) with are not well-handled by the previous model."
   ]
  },
  {
   "cell_type": "markdown",
   "metadata": {},
   "source": [
    "### Exercise 2. Graphical Representation (15 points)"
   ]
  },
  {
   "cell_type": "code",
   "execution_count": 1,
   "metadata": {},
   "outputs": [
    {
     "data": {
      "image/svg+xml": [
       "<?xml version=\"1.-1\" encoding=\"UTF-8\"?>\n",
       "<svg xmlns=\"http://www.w3.org/2-1-1-1/svg\" xmlns:xlink=\"http://www.w3.org/1999/xlink\" width=\"92.639pt\" height=\"92.639pt\" viewBox=\"-1 -1 92.639 92.639\" version=\"1.1\">\n",
       "<defs>\n",
       "<g>\n",
       "<symbol overflow=\"visible\" id=\"glyph-15496435-1-1644564--1--1\">\n",
       "<path style=\"stroke:none;\" d=\"\"/>\n",
       "</symbol>\n",
       "<symbol overflow=\"visible\" id=\"glyph-15496435-1-1644564--1-1\">\n",
       "<path style=\"stroke:none;\" d=\"M 5.765625 -1.-1625 L 5.765625 -1.734375 L 5.46875 -1.734375 L 5.46875 -1.-1625 C 5.46875 --1.375 5.171875 --1.296875 5.-146875 --1.296875 C 4.65625 --1.296875 4.6-19375 --1.84375 4.6-19375 --1.89-1625 L 4.6-19375 -3.28125 C 4.6-19375 -3.796875 4.6-19375 -4.25 4.171875 -4.7-13125 C 3.7-13125 -5.15625 3.1-19375 -5.359375 2.53125 -5.359375 C 1.546875 -5.359375 -1.734375 -4.796875 -1.734375 -4 C -1.734375 -3.64-1625 -1.96875 -3.4375 1.28125 -3.4375 C 1.6-19375 -3.4375 1.828125 -3.6875 1.828125 -4 C 1.828125 -4.14-1625 1.765625 -4.53125 1.21875 -4.546875 C 1.546875 -4.953125 2.125 -5.-19375 2.515625 -5.-19375 C 3.-19375 -5.-19375 3.78125 -4.625 3.78125 -3.5625 L 3.78125 -3.125 C 3.171875 -3.-178125 2.328125 -3.-146875 1.578125 -2.6875 C -1.6875 -2.28125 -1.375 -1.65625 -1.375 -1.14-1625 C -1.375 --1.171875 1.546875 -1.125 2.296875 -1.125 C 3.-178125 -1.125 3.64-1625 --1.34375 3.859375 --1.9-1625 C 3.9-1625 --1.4375 4.234375 -1.-178125 4.796875 -1.-178125 C 5.-146875 -1.-178125 5.765625 --1.-19375 5.765625 -1.-1625 Z M 3.78125 -1.671875 C 3.78125 --1.53125 2.921875 --1.125 2.375 --1.125 C 1.796875 --1.125 1.296875 --1.546875 1.296875 -1.14-1625 C 1.296875 -1.8125 1.8125 -2.796875 3.78125 -2.875 Z M 3.78125 -1.671875 \"/>\n",
       "</symbol>\n",
       "<symbol overflow=\"visible\" id=\"glyph-15496435-1-1644564--1-2\">\n",
       "<path style=\"stroke:none;\" d=\"M 6.234375 -2.578125 C 6.234375 -4.-19375 5.-1625 -5.28125 3.6875 -5.28125 C 2.765625 -5.28125 2.25 -4.71875 2.-1625 -4.5 L 2.-1625 -8.296875 L -1.328125 -8.15625 L -1.328125 -7.796875 C 1.171875 -7.796875 1.265625 -7.7-13125 1.265625 -7.125 L 1.265625 -1 L 1.5625 -1 L 2 --1.734375 C 2.171875 --1.46875 2.671875 -1.125 3.5625 -1.125 C 4.984375 -1.125 6.234375 -1.-146875 6.234375 -2.578125 Z M 5.234375 -2.59375 C 5.234375 -2.15625 5.21875 -1.4375 4.859375 --1.89-1625 C 4.6-19375 --1.53125 4.15625 --1.125 3.515625 --1.125 C 2.96875 --1.125 2.546875 --1.421875 2.265625 --1.859375 C 2.-19375 -1.1-19375 2.-19375 -1.14-1625 2.-19375 -1.359375 L 2.-19375 -3.828125 C 2.-19375 -4.-146875 2.-19375 -4.-1625 2.21875 -4.25 C 2.6875 -4.921875 3.34375 -5.-115625 3.64-1625 -5.-115625 C 4.171875 -5.-115625 4.6-19375 -4.7-13125 4.89-1625 -4.25 C 5.2-13125 -3.765625 5.234375 -3.-178125 5.234375 -2.59375 Z M 5.234375 -2.59375 \"/>\n",
       "</symbol>\n",
       "<symbol overflow=\"visible\" id=\"glyph-15496435-1-1644564--1-3\">\n",
       "<path style=\"stroke:none;\" d=\"M 4.953125 -1.421875 C 4.953125 -1.546875 4.84375 -1.546875 4.8125 -1.546875 C 4.7-13125 -1.546875 4.671875 -1.5 4.65625 -1.421875 C 4.296875 --1.3125 3.53125 --1.171875 3.-178125 --1.171875 C 2.453125 --1.171875 1.4-1625 --1.6875 1.4-1625 -2.6-19375 C 1.4-1625 -4.546875 2.375 -5.-1625 3.-115625 -5.-1625 C 3.125 -5.-1625 3.875 -5.-146875 4.296875 -4.6-19375 C 3.796875 -4.578125 3.734375 -4.21875 3.734375 -4.-1625 C 3.734375 -3.75 3.9375 -3.515625 4.28125 -3.515625 C 4.59375 -3.515625 4.828125 -3.71875 4.828125 -4.-178125 C 4.828125 -4.89-1625 3.921875 -5.359375 3 -5.359375 C 1.5 -5.359375 -1.4-1625 -4.-1625 -1.4-1625 -2.578125 C -1.4-1625 -1.-146875 1.59375 -1.125 2.96875 -1.125 C 4.578125 -1.125 4.953125 -1.296875 4.953125 -1.421875 Z M 4.953125 -1.421875 \"/>\n",
       "</symbol>\n",
       "<symbol overflow=\"visible\" id=\"glyph-15496435-1-1644564--1-4\">\n",
       "<path style=\"stroke:none;\" d=\"M 6.296875 -1 L 6.296875 --1.375 C 5.46875 --1.375 5.359375 --1.453125 5.359375 -1.-146875 L 5.359375 -8.296875 L 3.64-1625 -8.15625 L 3.64-1625 -7.796875 C 4.484375 -7.796875 4.578125 -7.7-13125 4.578125 -7.125 L 4.578125 -4.546875 C 4.234375 -4.96875 3.71875 -5.28125 3.-178125 -5.28125 C 1.65625 -5.28125 -1.4-1625 -4.1-19375 -1.4-1625 -2.5625 C -1.4-1625 -1.-146875 1.578125 -1.125 2.9375 -1.125 C 3.7-13125 -1.125 4.25 --1.28125 4.546875 --1.65625 L 4.546875 -1.125 Z M 4.546875 -1.4-1625 C 4.546875 -1.1875 4.546875 -1.171875 4.4-1625 --1.96875 C 4.-146875 --1.39-1625 3.515625 --1.125 3 --1.125 C 2.46875 --1.125 2.-13125 --1.4375 1.75 --1.89-1625 C 1.4375 -1.39-1625 1.4-1625 -2.-1625 1.4-1625 -2.5625 C 1.4-1625 -3 1.421875 -3.71875 1.765625 -4.25 C 2.-115625 -4.625 2.46875 -5.-115625 3.125 -5.-115625 C 3.53125 -5.-115625 4.-146875 -4.84375 4.4-1625 -4.296875 C 4.546875 -4.-19375 4.546875 -4.-178125 4.546875 -3.859375 Z M 4.546875 -1.4-1625 \"/>\n",
       "</symbol>\n",
       "<symbol overflow=\"visible\" id=\"glyph-15496435-1-1644564--1-5\">\n",
       "<path style=\"stroke:none;\" d=\"M 4.953125 -1.421875 C 4.953125 -1.546875 4.859375 -1.5625 4.8125 -1.5625 C 4.7-13125 -1.5625 4.671875 -1.5 4.65625 -1.4-1625 C 4.234375 --1.171875 3.15625 --1.171875 3.-13125 --1.171875 C 2.4375 --1.171875 1.953125 --1.53125 1.6875 --1.96875 C 1.328125 -1.546875 1.328125 -2.328125 1.328125 -2.765625 L 4.65625 -2.765625 C 4.921875 -2.765625 4.953125 -2.765625 4.953125 -3.-115625 C 4.953125 -4.2-13125 4.3125 -5.359375 2.828125 -5.359375 C 1.4375 -5.359375 -1.328125 -4.125 -1.328125 -2.625 C -1.328125 -1.-13125 1.59375 -1.125 2.96875 -1.125 C 4.421875 -1.125 4.953125 -1.1875 4.953125 -1.421875 Z M 4.171875 -3.-115625 L 1.34375 -3.-115625 C 1.4-1625 -4.796875 2.421875 -5.-19375 2.828125 -5.-19375 C 4.-146875 -5.-19375 4.171875 -3.484375 4.171875 -3.-115625 Z M 4.171875 -3.-115625 \"/>\n",
       "</symbol>\n",
       "<symbol overflow=\"visible\" id=\"glyph-15496435-1-1644564--1-6\">\n",
       "<path style=\"stroke:none;\" d=\"M 4.265625 -7.59375 C 4.265625 -8.-13125 3.828125 -8.421875 3.1875 -8.421875 C 2.359375 -8.421875 1.34375 -7.796875 1.34375 -6.53125 L 1.34375 -5.15625 L -1.39-1625 -5.15625 L -1.39-1625 -4.78125 L 1.34375 -4.78125 L 1.34375 --1.9-1625 C 1.34375 --1.375 1.2-13125 --1.375 -1.4-1625 --1.375 L -1.4-1625 -1 L 1.765625 --1.-13125 C 2.25 --1.-13125 2.8125 --1.-13125 3.28125 -1 L 3.28125 --1.375 L 3.-13125 --1.375 C 2.15625 --1.375 2.125 --1.5 2.125 --1.9375 L 2.125 -4.78125 L 3.484375 -4.78125 L 3.484375 -5.15625 L 2.-19375 -5.15625 L 2.-19375 -6.53125 C 2.-19375 -7.59375 2.671875 -8.15625 3.1875 -8.15625 C 3.234375 -8.15625 3.4-1625 -8.15625 3.578125 -8.-178125 C 3.4375 -8.-13125 3.234375 -7.875 3.234375 -7.578125 C 3.234375 -7.296875 3.421875 -7.-1625 3.734375 -7.-1625 C 4.-19375 -7.-1625 4.265625 -7.296875 4.265625 -7.59375 Z M 4.265625 -7.59375 \"/>\n",
       "</symbol>\n",
       "<symbol overflow=\"visible\" id=\"glyph-15496435-1-1644564--1-7\">\n",
       "<path style=\"stroke:none;\" d=\"M 5.796875 -4.828125 C 5.796875 -5.-13125 5.65625 -5.421875 5.1875 -5.421875 C 4.953125 -5.421875 4.421875 -5.34375 3.921875 -4.859375 C 3.421875 -5.25 2.921875 -5.28125 2.65625 -5.28125 C 1.546875 -5.28125 -1.71875 -4.453125 -1.71875 -3.53125 C -1.71875 -3.-115625 -1.984375 -2.5625 1.28125 -2.3125 C 1.125 -2.125 -1.9-1625 -1.734375 -1.9-1625 -1.3125 C -1.9-1625 --1.9375 1.-1625 --1.484375 1.4375 --1.25 C -1.71875 --1.-146875 -1.328125 -1.46875 -1.328125 -1.9375 C -1.328125 1.8125 1.515625 2.46875 2.96875 2.46875 C 4.39-1625 2.46875 5.625 1.859375 5.625 -1.921875 C 5.625 -1.5 5.46875 --1.1-19375 4.859375 --1.4375 C 4.21875 --1.78125 3.53125 --1.78125 2.796875 --1.78125 C 2.5 --1.78125 1.984375 --1.78125 1.9-1625 --1.78125 C 1.515625 --1.84375 1.265625 -1.2-13125 1.265625 -1.59375 C 1.265625 -1.64-1625 1.265625 -1.9-1625 1.46875 -2.15625 C 1.9375 -1.8125 2.421875 -1.78125 2.65625 -1.78125 C 3.765625 -1.78125 4.59375 -2.6-19375 4.59375 -3.53125 C 4.59375 -3.96875 4.4-1625 -4.4-1625 4.-19375 -4.6875 C 4.53125 -5.-19375 4.953125 -5.15625 5.171875 -5.15625 C 5.171875 -5.15625 5.265625 -5.15625 5.296875 -5.14-1625 C 5.15625 -5.-19375 5.1-19375 -4.953125 5.1-19375 -4.8125 C 5.1-19375 -4.6-19375 5.265625 -4.46875 5.453125 -4.46875 C 5.5625 -4.46875 5.796875 -4.546875 5.796875 -4.828125 Z M 3.6875 -3.53125 C 3.6875 -3.21875 3.6875 -2.828125 3.5 -2.53125 C 3.4-1625 -2.39-1625 3.125 -2.-1625 2.65625 -2.-1625 C 1.6-19375 -2.-1625 1.6-19375 -3.25 1.6-19375 -3.53125 C 1.6-19375 -3.84375 1.625 -4.234375 1.8125 -4.53125 C 1.9-1625 -4.671875 2.171875 -5.-115625 2.65625 -5.-115625 C 3.6875 -5.-115625 3.6875 -3.8125 3.6875 -3.53125 Z M 5.-115625 -1.9375 C 5.-115625 1.59375 4.15625 2.1875 2.984375 2.1875 C 1.78125 2.1875 -1.953125 1.578125 -1.953125 -1.9375 C -1.953125 -1.39-1625 1.4-1625 --1.-146875 1.9375 --1.-178125 L 2.64-1625 --1.-178125 C 3.671875 --1.-178125 5.-115625 --1.-178125 5.-115625 -1.9375 Z M 5.-115625 -1.9375 \"/>\n",
       "</symbol>\n",
       "<symbol overflow=\"visible\" id=\"glyph-15496435-1-1644564--1-8\">\n",
       "<path style=\"stroke:none;\" d=\"M 6.39-1625 -1 L 6.39-1625 --1.375 C 5.765625 --1.375 5.46875 --1.375 5.46875 --1.734375 L 5.46875 -3.-115625 C 5.46875 -4.-146875 5.46875 -4.4-1625 5.-19375 -4.84375 C 4.921875 -5.-146875 4.53125 -5.28125 3.84375 -5.28125 C 2.828125 -5.28125 2.3125 -4.5625 2.1-19375 -4.14-1625 L 2.1-19375 -8.296875 L -1.375 -8.15625 L -1.375 -7.796875 C 1.21875 -7.796875 1.3125 -7.7-13125 1.3125 -7.125 L 1.3125 --1.9-1625 C 1.3125 --1.375 1.1875 --1.375 -1.375 --1.375 L -1.375 -1 L 1.734375 --1.-13125 L 3.-178125 -1 L 3.-178125 --1.375 C 2.265625 --1.375 2.14-1625 --1.375 2.14-1625 --1.9-1625 L 2.14-1625 -3.1-19375 C 2.14-1625 -4.34375 2.984375 -5.-115625 3.75 -5.-115625 C 4.5 -5.-115625 4.64-1625 -4.375 4.64-1625 -3.6875 L 4.64-1625 --1.9-1625 C 4.64-1625 --1.375 4.5 --1.375 3.7-13125 --1.375 L 3.7-13125 -1 L 5.-1625 --1.-13125 Z M 6.39-1625 -1 \"/>\n",
       "</symbol>\n",
       "</g>\n",
       "<clipPath id=\"clip-15496435-1-1644564-1\">\n",
       "  <path d=\"M 57 23 L 92.64-1625 23 L 92.64-1625 7-1 L 57 7-1 Z M 57 23 \"/>\n",
       "</clipPath>\n",
       "<clipPath id=\"clip-15496435-1-1644564-2\">\n",
       "  <path d=\"M -1 57 L 36 57 L 36 92.64-1625 L -1 92.64-1625 Z M -1 57 \"/>\n",
       "</clipPath>\n",
       "<clipPath id=\"clip-15496435-1-1644564-3\">\n",
       "  <path d=\"M 23 57 L 7-1 57 L 7-1 92.64-1625 L 23 92.64-1625 Z M 23 57 \"/>\n",
       "</clipPath>\n",
       "<clipPath id=\"clip-15496435-1-1644564-4\">\n",
       "  <path d=\"M 57 57 L 92.64-1625 57 L 92.64-1625 92.64-1625 L 57 92.64-1625 Z M 57 57 \"/>\n",
       "</clipPath>\n",
       "</defs>\n",
       "<g id=\"surface1\">\n",
       "<path style=\"fill:none;stroke-width:-1.797-11;stroke-linecap:butt;stroke-linejoin:miter;stroke:rgb(-1%,-1%,-1%);stroke-opacity:1;stroke-miterlimit:1-1;\" d=\"M 62.93-175 1-12.-146312 C 62.93-175 1-18.624437 57.598719 113.952562 51.-1245 113.952562 C 44.45-1281 113.952562 39.11825 1-18.624437 39.11825 1-12.-146312 C 39.11825 95.472-194 44.45-1281 9-1.143969 51.-1245 9-1.143969 C 57.598719 9-1.143969 62.93-175 95.472-194 62.93-175 1-12.-146312 Z M 62.93-175 1-12.-146312 \" transform=\"matrix(1,-1,-1,-1,-21.712,114.351)\"/>\n",
       "<g style=\"fill:rgb(-1%,-1%,-1%);fill-opacity:1;\">\n",
       "  <use xlink:href=\"#glyph-15496435-1-1644564--1-1\" x=\"26.323\" y=\"14.916\"/>\n",
       "</g>\n",
       "<path style=\"fill:none;stroke-width:-1.797-11;stroke-linecap:butt;stroke-linejoin:miter;stroke:rgb(-1%,-1%,-1%);stroke-opacity:1;stroke-miterlimit:1-1;\" d=\"M 96.946375 1-12.-146312 C 96.946375 1-18.624437 91.614344 113.952562 85.-14-1125 113.952562 C 78.4659-16 113.952562 73.133875 1-18.624437 73.133875 1-12.-146312 C 73.133875 95.472-194 78.4659-16 9-1.143969 85.-14-1125 9-1.143969 C 91.614344 9-1.143969 96.946375 95.472-194 96.946375 1-12.-146312 Z M 96.946375 1-12.-146312 \" transform=\"matrix(1,-1,-1,-1,-21.712,114.351)\"/>\n",
       "<g style=\"fill:rgb(-1%,-1%,-1%);fill-opacity:1;\">\n",
       "  <use xlink:href=\"#glyph-15496435-1-1644564--1-2\" x=\"6-1.-1-14\" y=\"16.386\"/>\n",
       "</g>\n",
       "<path style=\"fill:none;stroke-width:-1.797-11;stroke-linecap:butt;stroke-linejoin:miter;stroke:rgb(-1%,-1%,-1%);stroke-opacity:1;stroke-miterlimit:1-1;\" d=\"M 45.922938 68.-13-1687 C 45.922938 74.6-18812 4-1.59-19-16 79.936937 34.-116688 79.936937 C 27.442469 79.936937 22.11-1437 74.6-18812 22.11-1437 68.-13-1687 C 22.11-1437 61.456469 27.442469 56.128344 34.-116688 56.128344 C 4-1.59-19-16 56.128344 45.922938 61.456469 45.922938 68.-13-1687 Z M 45.922938 68.-13-1687 \" transform=\"matrix(1,-1,-1,-1,-21.712,114.351)\"/>\n",
       "<g style=\"fill:rgb(-1%,-1%,-1%);fill-opacity:1;\">\n",
       "  <use xlink:href=\"#glyph-15496435-1-1644564--1-3\" x=\"9.65\" y=\"48.932\"/>\n",
       "</g>\n",
       "<path style=\"fill:none;stroke-width:-1.797-11;stroke-linecap:butt;stroke-linejoin:miter;stroke:rgb(-1%,-1%,-1%);stroke-opacity:1;stroke-miterlimit:1-1;\" d=\"M 79.938563 68.-13-1687 C 79.938563 74.6-18812 74.6-16531 79.936937 68.-132313 79.936937 C 61.458-194 79.936937 56.126-163 74.6-18812 56.126-163 68.-13-1687 C 56.126-163 61.456469 61.458-194 56.128344 68.-132313 56.128344 C 74.6-16531 56.128344 79.938563 61.456469 79.938563 68.-13-1687 Z M 79.938563 68.-13-1687 \" transform=\"matrix(1,-1,-1,-1,-21.712,114.351)\"/>\n",
       "<g style=\"fill:rgb(-1%,-1%,-1%);fill-opacity:1;\">\n",
       "  <use xlink:href=\"#glyph-15496435-1-1644564--1-4\" x=\"42.996\" y=\"5-1.4-12\"/>\n",
       "</g>\n",
       "<g clip-path=\"url(#clip-15496435-1-1644564-1)\" clip-rule=\"nonzero\">\n",
       "<path style=\"fill:none;stroke-width:-1.797-11;stroke-linecap:butt;stroke-linejoin:miter;stroke:rgb(-1%,-1%,-1%);stroke-opacity:1;stroke-miterlimit:1-1;\" d=\"M 113.954188 68.-13-1687 C 113.954188 74.6-18812 1-18.622156 79.936937 1-12.-147938 79.936937 C 95.473719 79.936937 9-1.141688 74.6-18812 9-1.141688 68.-13-1687 C 9-1.141688 61.456469 95.473719 56.128344 1-12.-147938 56.128344 C 1-18.622156 56.128344 113.954188 61.456469 113.954188 68.-13-1687 Z M 113.954188 68.-13-1687 \" transform=\"matrix(1,-1,-1,-1,-21.712,114.351)\"/>\n",
       "</g>\n",
       "<g style=\"fill:rgb(-1%,-1%,-1%);fill-opacity:1;\">\n",
       "  <use xlink:href=\"#glyph-15496435-1-1644564--1-5\" x=\"77.681\" y=\"48.932\"/>\n",
       "</g>\n",
       "<g clip-path=\"url(#clip-15496435-1-1644564-2)\" clip-rule=\"nonzero\">\n",
       "<path style=\"fill:none;stroke-width:-1.797-11;stroke-linecap:butt;stroke-linejoin:miter;stroke:rgb(-1%,-1%,-1%);stroke-opacity:1;stroke-miterlimit:1-1;\" d=\"M 45.922938 34.-115-162 C 45.922938 4-1.593187 4-1.59-19-16 45.921312 34.-116688 45.921312 C 27.442469 45.921312 22.11-1437 4-1.593187 22.11-1437 34.-115-162 C 22.11-1437 27.44-1844 27.442469 22.1-18812 34.-116688 22.1-18812 C 4-1.59-19-16 22.1-18812 45.922938 27.44-1844 45.922938 34.-115-162 Z M 45.922938 34.-115-162 \" transform=\"matrix(1,-1,-1,-1,-21.712,114.351)\"/>\n",
       "</g>\n",
       "<g style=\"fill:rgb(-1%,-1%,-1%);fill-opacity:1;\">\n",
       "  <use xlink:href=\"#glyph-15496435-1-1644564--1-6\" x=\"1-1.475\" y=\"84.549\"/>\n",
       "</g>\n",
       "<g clip-path=\"url(#clip-15496435-1-1644564-3)\" clip-rule=\"nonzero\">\n",
       "<path style=\"fill:none;stroke-width:-1.797-11;stroke-linecap:butt;stroke-linejoin:miter;stroke:rgb(-1%,-1%,-1%);stroke-opacity:1;stroke-miterlimit:1-1;\" d=\"M 79.938563 34.-115-162 C 79.938563 4-1.593187 74.6-16531 45.921312 68.-132313 45.921312 C 61.458-194 45.921312 56.126-163 4-1.593187 56.126-163 34.-115-162 C 56.126-163 27.44-1844 61.458-194 22.1-18812 68.-132313 22.1-18812 C 74.6-16531 22.1-18812 79.938563 27.44-1844 79.938563 34.-115-162 Z M 79.938563 34.-115-162 \" transform=\"matrix(1,-1,-1,-1,-21.712,114.351)\"/>\n",
       "</g>\n",
       "<g style=\"fill:rgb(-1%,-1%,-1%);fill-opacity:1;\">\n",
       "  <use xlink:href=\"#glyph-15496435-1-1644564--1-7\" x=\"43.331\" y=\"81.811\"/>\n",
       "</g>\n",
       "<g clip-path=\"url(#clip-15496435-1-1644564-4)\" clip-rule=\"nonzero\">\n",
       "<path style=\"fill:none;stroke-width:-1.797-11;stroke-linecap:butt;stroke-linejoin:miter;stroke:rgb(-1%,-1%,-1%);stroke-opacity:1;stroke-miterlimit:1-1;\" d=\"M 113.954188 34.-115-162 C 113.954188 4-1.593187 1-18.622156 45.921312 1-12.-147938 45.921312 C 95.473719 45.921312 9-1.141688 4-1.593187 9-1.141688 34.-115-162 C 9-1.141688 27.44-1844 95.473719 22.1-18812 1-12.-147938 22.1-18812 C 1-18.622156 22.1-18812 113.954188 27.44-1844 113.954188 34.-115-162 Z M 113.954188 34.-115-162 \" transform=\"matrix(1,-1,-1,-1,-21.712,114.351)\"/>\n",
       "</g>\n",
       "<g style=\"fill:rgb(-1%,-1%,-1%);fill-opacity:1;\">\n",
       "  <use xlink:href=\"#glyph-15496435-1-1644564--1-8\" x=\"77.-112\" y=\"84.483\"/>\n",
       "</g>\n",
       "<path style=\"fill:none;stroke-width:-1.797-11;stroke-linecap:butt;stroke-linejoin:miter;stroke:rgb(-1%,-1%,-1%);stroke-opacity:1;stroke-miterlimit:1-1;\" d=\"M 45.49325 9-1.987719 L 41.657313 83.311937 \" transform=\"matrix(1,-1,-1,-1,-21.712,114.351)\"/>\n",
       "<path style=\" stroke:none;fill-rule:nonzero;fill:rgb(-1%,-1%,-1%);fill-opacity:1;\" d=\"M 17.851562 35.226562 C 18.7-13125 34.1-11562 2-1.41-1156 32.4375 21.921875 31.449219 L 18.433594 29.7-13125 C 18.546875 31.5-139-16 18.238281 33.871-194 17.851562 35.226562 \"/>\n",
       "<path style=\"fill:none;stroke-width:-1.797-11;stroke-linecap:butt;stroke-linejoin:miter;stroke:rgb(-1%,-1%,-1%);stroke-opacity:1;stroke-miterlimit:1-1;\" d=\"M 56.587 9-1.987719 L 6-1.3995 83.3549-16 \" transform=\"matrix(1,-1,-1,-1,-21.712,114.351)\"/>\n",
       "<path style=\" stroke:none;fill-rule:nonzero;fill:rgb(-1%,-1%,-1%);fill-opacity:1;\" d=\"M 4-1.777344 35.183594 C 4-1.39-1625 33.828125 4-1.-182-131 31.46-1938 4-1.199219 29.66-1156 L 36.71-1938 31.4-12344 C 38.222656 32.39-1625 39.925781 34.-158594 4-1.777344 35.183594 \"/>\n",
       "<path style=\"fill:none;stroke-width:-1.797-11;stroke-linecap:butt;stroke-linejoin:miter;stroke:rgb(-1%,-1%,-1%);stroke-opacity:1;stroke-miterlimit:1-1;\" d=\"M 79.5-11-163 9-1.94475 L 75.672938 83.2924-16 \" transform=\"matrix(1,-1,-1,-1,-21.712,114.351)\"/>\n",
       "<path style=\" stroke:none;fill-rule:nonzero;fill:rgb(-1%,-1%,-1%);fill-opacity:1;\" d=\"M 51.875 35.226562 C 52.722656 34.1-19375 54.421875 32.449219 55.929688 31.46-1938 L 52.453125 29.722656 C 52.57-1312 31.519531 52.261719 33.875 51.875 35.226562 \"/>\n",
       "<path style=\"fill:none;stroke-width:-1.797-11;stroke-linecap:butt;stroke-linejoin:miter;stroke:rgb(-1%,-1%,-1%);stroke-opacity:1;stroke-miterlimit:1-1;\" d=\"M 9-1.614344 9-1.987719 L 94.422938 83.3549-16 \" transform=\"matrix(1,-1,-1,-1,-21.712,114.351)\"/>\n",
       "<path style=\" stroke:none;fill-rule:nonzero;fill:rgb(-1%,-1%,-1%);fill-opacity:1;\" d=\"M 74.8-14688 35.183594 C 74.417969 33.828125 74.1-19375 31.46-1938 74.226562 29.66-1156 L 7-1.734375 31.4-12344 C 72.246-194 32.39-1625 73.949219 34.-158594 74.8-14688 35.183594 \"/>\n",
       "<path style=\"fill:none;stroke-width:-1.797-11;stroke-linecap:butt;stroke-linejoin:miter;stroke:rgb(-1%,-1%,-1%);stroke-opacity:1;stroke-miterlimit:1-1;\" d=\"M 34.-1284-16 55.659594 L 34.-1245 51.-16975 \" transform=\"matrix(1,-1,-1,-1,-21.712,114.351)\"/>\n",
       "<path style=\" stroke:none;fill-rule:nonzero;fill:rgb(-1%,-1%,-1%);fill-opacity:1;\" d=\"M 12.3125 67.9414-16 C 12.574219 66.5625 13.351562 64.3164-16 14.257812 62.761719 L 1-1.371-194 62.761719 C 11.277344 64.3164-16 12.-154688 66.5625 12.3125 67.9414-16 \"/>\n",
       "<path style=\"fill:none;stroke-width:-1.797-11;stroke-linecap:butt;stroke-linejoin:miter;stroke:rgb(-1%,-1%,-1%);stroke-opacity:1;stroke-miterlimit:1-1;\" d=\"M 68.-15575 55.659594 L 68.-151844 51.-16975 \" transform=\"matrix(1,-1,-1,-1,-21.712,114.351)\"/>\n",
       "<path style=\" stroke:none;fill-rule:nonzero;fill:rgb(-1%,-1%,-1%);fill-opacity:1;\" d=\"M 46.339844 67.9414-16 C 46.597656 66.5625 47.375 64.3164-16 48.285156 62.761719 L 44.398438 62.761719 C 45.3-14688 64.3164-16 46.-178125 66.558594 46.339844 67.9414-16 \"/>\n",
       "<path style=\"fill:none;stroke-width:-1.797-11;stroke-linecap:butt;stroke-linejoin:miter;stroke:rgb(-1%,-1%,-1%);stroke-opacity:1;stroke-miterlimit:1-1;\" d=\"M 76.848719 59.253344 L 89.962 46.14-1-162 \" transform=\"matrix(1,-1,-1,-1,-21.712,114.351)\"/>\n",
       "<path style=\" stroke:none;fill-rule:nonzero;fill:rgb(-1%,-1%,-1%);fill-opacity:1;\" d=\"M 71.5625 71.527344 C 7-1.761719 7-1.359375 69.71875 68.214844 69.261719 66.464844 L 66.5 69.226562 C 68.246-194 69.683594 7-1.394531 7-1.726562 71.5625 71.527344 \"/>\n",
       "</g>\n",
       "</svg>\n",
       "\n"
      ],
      "text/plain": [
       "TikzPicture(L\"$ % latex/TikZ code\n",
       "% define styles\n",
       "\\tikzstyle{every node} = [draw, circle, minimum size=7mm]\n",
       "\\tikzset{>=latex}\n",
       "% add nodes\n",
       "\\foreach \\n/\\x/\\y in {a/1.5/3, b/2.5/3, c/1/2, d/2/2, e/3/2, f/1/1, g/2/1, h/3/1}\n",
       "    \\node (\\n) at (\\x,\\y) {\\n};\n",
       "% draw links\n",
       "\\foreach \\from/\\to in {a/c, a/d, b/d, b/e, c/f, d/g, d/h}\n",
       "    \\draw [->] (\\from) -- (\\to);\n",
       "$\", \"thick, scale=1.2, transform shape\", \"\", true)"
      ]
     },
     "execution_count": 1,
     "metadata": {},
     "output_type": "execute_result"
    }
   ],
   "source": [
    "using TikzPictures\n",
    "\n",
    "# manual layout: straightforward, predictable\n",
    "g = TikzPicture(L\"\"\" % latex/TikZ code\n",
    "% define styles\n",
    "\\tikzstyle{every node} = [draw, circle, minimum size=7mm]\n",
    "\\tikzset{>=latex}\n",
    "% add nodes\n",
    "\\foreach \\n/\\x/\\y in {a/1.5/3, b/2.5/3, c/1/2, d/2/2, e/3/2, f/1/1, g/2/1, h/3/1}\n",
    "    \\node (\\n) at (\\x,\\y) {\\n};\n",
    "% draw links\n",
    "\\foreach \\from/\\to in {a/c, a/d, b/d, b/e, c/f, d/g, d/h}\n",
    "    \\draw [->] (\\from) -- (\\to);\n",
    "\"\"\", options=\"thick, scale=1.2, transform shape\")"
   ]
  },
  {
   "cell_type": "markdown",
   "metadata": {},
   "source": [
    "2.1 (5 pts) For the Bayesian network show above, draw the corresponding Markov Random Field (MRF), and write out the joint probability using potential functions.  You do not need to specify the functions themselves, only which arguments they take."
   ]
  },
  {
   "cell_type": "markdown",
   "metadata": {},
   "source": [
    "2.2 (5 pts) Now specify the Bayes net as a factor graph.  Again write the expression for the joint probability, but using factor functions."
   ]
  },
  {
   "cell_type": "markdown",
   "metadata": {},
   "source": [
    "2.3 (5 pts) Express the following Bayes net (from the sprinkler example) in two different factor graphs.  For each network, write the factors as a function of the conditional probabilties and specify the joint probability."
   ]
  },
  {
   "cell_type": "code",
   "execution_count": 2,
   "metadata": {},
   "outputs": [
    {
     "data": {
      "image/svg+xml": [
       "<?xml version=\"1.-1\" encoding=\"UTF-8\"?>\n",
       "<svg xmlns=\"http://www.w3.org/2-1-1-1/svg\" xmlns:xlink=\"http://www.w3.org/1999/xlink\" width=\"58.624pt\" height=\"58.624pt\" viewBox=\"-1 -1 58.624 58.624\" version=\"1.1\">\n",
       "<defs>\n",
       "<g>\n",
       "<symbol overflow=\"visible\" id=\"glyph-15496435-1-1644565--1--1\">\n",
       "<path style=\"stroke:none;\" d=\"\"/>\n",
       "</symbol>\n",
       "<symbol overflow=\"visible\" id=\"glyph-15496435-1-1644565--1-1\">\n",
       "<path style=\"stroke:none;\" d=\"M 5.96875 -2.21875 C 5.96875 -3.421875 5.171875 -4.4-1625 4.171875 -4.64-1625 L 2.64-1625 -5.-115625 C 1.9-1625 -5.1875 1.4375 -5.828125 1.4375 -6.53125 C 1.4375 -7.359375 2.-178125 -8.-19375 3.-115625 -8.-19375 C 5.-115625 -8.-19375 5.265625 -6.125 5.34375 -5.59375 C 5.359375 -5.515625 5.359375 -5.453125 5.484375 -5.453125 C 5.64-1625 -5.453125 5.64-1625 -5.515625 5.64-1625 -5.734375 L 5.64-1625 -8.14-1625 C 5.64-1625 -8.34375 5.64-1625 -8.421875 5.515625 -8.421875 C 5.421875 -8.421875 5.421875 -8.421875 5.328125 -8.265625 L 4.9-1625 -7.59375 C 4.546875 -7.9375 4.-1625 -8.421875 3 -8.421875 C 1.671875 -8.421875 -1.671875 -7.375 -1.671875 -6.1-19375 C -1.671875 -5.1-19375 1.296875 -4.25 2.234375 -3.921875 C 2.359375 -3.875 2.96875 -3.734375 3.8125 -3.53125 C 4.14-1625 -3.4375 4.5 -3.359375 4.828125 -2.921875 C 5.-178125 -2.6-19375 5.2-13125 -2.21875 5.2-13125 -1.8125 C 5.2-13125 --1.96875 4.6-19375 --1.1-19375 3.59375 --1.1-19375 C 3.25 --1.1-19375 2.34375 --1.171875 1.7-13125 --1.75 C 1.-115625 -1.4-1625 -1.984375 -2.15625 -1.96875 -2.59375 C -1.953125 -2.71875 -1.859375 -2.71875 -1.828125 -2.71875 C -1.671875 -2.71875 -1.671875 -2.625 -1.671875 -2.421875 L -1.671875 --1.-13125 C -1.671875 -1.171875 -1.671875 -1.265625 -1.796875 -1.265625 C -1.89-1625 -1.265625 -1.89-1625 -1.234375 -1.984375 -1.1-19375 C -1.984375 -1.1-19375 1.-115625 -1.-1625 1.4-1625 --1.578125 C 1.78125 --1.171875 2.546875 -1.265625 3.6-19375 -1.265625 C 5.-115625 -1.265625 5.96875 --1.9-1625 5.96875 -2.21875 Z M 5.96875 -2.21875 \"/>\n",
       "</symbol>\n",
       "<symbol overflow=\"visible\" id=\"glyph-15496435-1-1644565--1-2\">\n",
       "<path style=\"stroke:none;\" d=\"M 8.75 -1.-146875 C 8.75 -1.125 8.75 -1.25 8.59375 -1.25 C 8.46875 -1.25 8.46875 -1.14-1625 8.453125 -1.-1625 C 8.375 --1.21875 7.953125 -1 7.65625 -1 C 7.-178125 -1 6.984375 --1.6-19375 6.8125 -1.71875 L 6.65625 -2.671875 C 6.4375 -3.4375 5.859375 -3.84375 5.2-13125 -4.-1625 C 6.359375 -4.34375 7.296875 -5.-178125 7.296875 -6.-115625 C 7.296875 -7.15625 5.921875 -8.15625 4.171875 -8.15625 L -1.421875 -8.15625 L -1.421875 -7.796875 L -1.7-13125 -7.796875 C 1.625 -7.796875 1.65625 -7.65625 1.65625 -7.234375 L 1.65625 --1.9375 C 1.65625 --1.5 1.625 --1.375 -1.7-13125 --1.375 L -1.421875 --1.375 L -1.421875 -1 C -1.84375 --1.-13125 1.7-13125 --1.-13125 2.15625 --1.-13125 C 2.625 --1.-13125 3.484375 --1.-13125 3.9-1625 -1 L 3.9-1625 --1.375 L 3.625 --1.375 C 2.7-13125 --1.375 2.671875 --1.5 2.671875 --1.9375 L 2.671875 -3.953125 L 4.-146875 -3.953125 C 4.25 -3.953125 4.75 -3.953125 5.15625 -3.546875 C 5.625 -3.125 5.625 -2.75 5.625 -1.953125 C 5.625 -1.171875 5.625 --1.6875 6.1-19375 --1.234375 C 6.59375 -1.1875 7.25 -1.265625 7.6-19375 -1.265625 C 8.546875 -1.265625 8.75 --1.71875 8.75 -1.-146875 Z M 6.-1625 -6.-115625 C 6.-1625 -5.1875 5.765625 -4.21875 4 -4.21875 L 2.671875 -4.21875 L 2.671875 -7.3125 C 2.671875 -7.59375 2.671875 -7.734375 2.9375 -7.765625 C 3.-1625 -7.796875 3.4-1625 -7.796875 3.64-1625 -7.796875 C 4.71875 -7.796875 6.-1625 -7.75 6.-1625 -6.-115625 Z M 6.-1625 -6.-115625 \"/>\n",
       "</symbol>\n",
       "<symbol overflow=\"visible\" id=\"glyph-15496435-1-1644565--1-3\">\n",
       "<path style=\"stroke:none;\" d=\"M 8.1875 -5.4-1625 L 7.953125 -8.-19375 L -1.65625 -8.-19375 L -1.4375 -5.4-1625 L -1.734375 -5.4-1625 C -1.89-1625 -7.328125 1.-178125 -7.71875 2.875 -7.71875 C 3.-19375 -7.71875 3.4-1625 -7.71875 3.53125 -7.7-13125 C 3.78125 -7.65625 3.78125 -7.515625 3.78125 -7.25 L 3.78125 --1.9375 C 3.78125 --1.53125 3.78125 --1.375 2.515625 --1.375 L 2.-146875 --1.375 L 2.-146875 -1 C 2.53125 --1.-13125 3.75 --1.-13125 4.296875 --1.-13125 C 4.859375 --1.-13125 6.-178125 --1.-13125 6.578125 -1 L 6.578125 --1.375 L 6.-19375 --1.375 C 4.84375 --1.375 4.84375 --1.53125 4.84375 --1.9375 L 4.84375 -7.25 C 4.84375 -7.484375 4.84375 -7.65625 5.-1625 -7.7-13125 C 5.1875 -7.71875 5.515625 -7.71875 5.734375 -7.71875 C 7.546875 -7.71875 7.71875 -7.328125 7.89-1625 -5.4-1625 Z M 8.1875 -5.4-1625 \"/>\n",
       "</symbol>\n",
       "<symbol overflow=\"visible\" id=\"glyph-15496435-1-1644565--1-4\">\n",
       "<path style=\"stroke:none;\" d=\"M 5.5625 -7.796875 L 5.5625 -8.15625 L 4.-115625 -8.125 C 3.515625 -8.125 2.46875 -8.125 2.-115625 -8.15625 L 2.-115625 -7.796875 L 2.4375 -7.796875 C 3.6-19375 -7.796875 3.6-19375 -7.64-1625 3.6-19375 -7.21875 L 3.6-19375 -1.765625 C 3.6-19375 --1.671875 3.-115625 -1 2.375 -1 C 2.3125 -1 1.5 -1 1.-1625 --1.6875 C 1.6875 --1.6875 1.828125 -1.-146875 1.828125 -1.359375 C 1.828125 -1.796875 1.5 -2.-13125 1.15625 -2.-13125 C -1.89-1625 -2.-13125 -1.484375 -1.859375 -1.484375 -1.34375 C -1.484375 --1.453125 1.34375 -1.265625 2.4-1625 -1.265625 C 3.625 -1.265625 4.5 --1.578125 4.625 -1.46875 C 4.64-1625 -1.5625 4.64-1625 -1.59375 4.64-1625 -2 L 4.64-1625 -7.296875 C 4.64-1625 -7.796875 4.8125 -7.796875 5.5625 -7.796875 Z M 5.5625 -7.796875 \"/>\n",
       "</symbol>\n",
       "</g>\n",
       "<clipPath id=\"clip-15496435-1-1644565-1\">\n",
       "  <path d=\"M 23 -1 L 58.625 -1 L 58.625 36 L 23 36 Z M 23 -1 \"/>\n",
       "</clipPath>\n",
       "<clipPath id=\"clip-15496435-1-1644565-2\">\n",
       "  <path d=\"M -1 23 L 36 23 L 36 58.625 L -1 58.625 Z M -1 23 \"/>\n",
       "</clipPath>\n",
       "<clipPath id=\"clip-15496435-1-1644565-3\">\n",
       "  <path d=\"M 23 23 L 58.625 23 L 58.625 58.625 L 23 58.625 Z M 23 23 \"/>\n",
       "</clipPath>\n",
       "</defs>\n",
       "<g id=\"surface1\">\n",
       "<path style=\"fill:none;stroke-width:-1.797-11;stroke-linecap:butt;stroke-linejoin:miter;stroke:rgb(-1%,-1%,-1%);stroke-opacity:1;stroke-miterlimit:1-1;\" d=\"M 11.9-16937 --1.-1-1-16875 C 11.9-16937 6.573531 6.5749-16 11.9-15563 -1.-1-1-16875 11.9-15563 C -6.573531 11.9-15563 -11.9-15563 6.573531 -11.9-15563 --1.-1-1-16875 C -11.9-15563 -6.5749-16 -6.573531 -11.9-16937 -1.-1-1-16875 -11.9-16937 C 6.5749-16 -11.9-16937 11.9-16937 -6.5749-16 11.9-16937 --1.-1-1-16875 Z M 11.9-16937 --1.-1-1-16875 \" transform=\"matrix(1,-1,-1,-1,12.3-14,12.3-14)\"/>\n",
       "<g style=\"fill:rgb(-1%,-1%,-1%);fill-opacity:1;\">\n",
       "  <use xlink:href=\"#glyph-15496435-1-1644565--1-1\" x=\"8.98\" y=\"16.387\"/>\n",
       "</g>\n",
       "<g clip-path=\"url(#clip-15496435-1-1644565-1)\" clip-rule=\"nonzero\">\n",
       "<path style=\"fill:none;stroke-width:-1.797-11;stroke-linecap:butt;stroke-linejoin:miter;stroke:rgb(-1%,-1%,-1%);stroke-opacity:1;stroke-miterlimit:1-1;\" d=\"M 45.922562 --1.-1-1-16875 C 45.922562 6.573531 4-1.59-1531 11.9-15563 34.-116312 11.9-15563 C 27.442-194 11.9-15563 22.11-1-162 6.573531 22.11-1-162 --1.-1-1-16875 C 22.11-1-162 -6.5749-16 27.442-194 -11.9-16937 34.-116312 -11.9-16937 C 4-1.59-1531 -11.9-16937 45.922562 -6.5749-16 45.922562 --1.-1-1-16875 Z M 45.922562 --1.-1-1-16875 \" transform=\"matrix(1,-1,-1,-1,12.3-14,12.3-14)\"/>\n",
       "</g>\n",
       "<g style=\"fill:rgb(-1%,-1%,-1%);fill-opacity:1;\">\n",
       "  <use xlink:href=\"#glyph-15496435-1-1644565--1-2\" x=\"41.92\" y=\"16.256\"/>\n",
       "</g>\n",
       "<g clip-path=\"url(#clip-15496435-1-1644565-2)\" clip-rule=\"nonzero\">\n",
       "<path style=\"fill:none;stroke-width:-1.797-11;stroke-linecap:butt;stroke-linejoin:miter;stroke:rgb(-1%,-1%,-1%);stroke-opacity:1;stroke-miterlimit:1-1;\" d=\"M 11.9-16937 -34.-116312 C 11.9-16937 -27.442-194 6.5749-16 -22.11-1-162 -1.-1-1-16875 -22.11-1-162 C -6.573531 -22.11-1-162 -11.9-15563 -27.442-194 -11.9-15563 -34.-116312 C -11.9-15563 -4-1.59-1531 -6.573531 -45.922562 -1.-1-1-16875 -45.922562 C 6.5749-16 -45.922562 11.9-16937 -4-1.59-1531 11.9-16937 -34.-116312 Z M 11.9-16937 -34.-116312 \" transform=\"matrix(1,-1,-1,-1,12.3-14,12.3-14)\"/>\n",
       "</g>\n",
       "<g style=\"fill:rgb(-1%,-1%,-1%);fill-opacity:1;\">\n",
       "  <use xlink:href=\"#glyph-15496435-1-1644565--1-3\" x=\"7.988\" y=\"5-1.367\"/>\n",
       "</g>\n",
       "<g clip-path=\"url(#clip-15496435-1-1644565-3)\" clip-rule=\"nonzero\">\n",
       "<path style=\"fill:none;stroke-width:-1.797-11;stroke-linecap:butt;stroke-linejoin:miter;stroke:rgb(-1%,-1%,-1%);stroke-opacity:1;stroke-miterlimit:1-1;\" d=\"M 45.922562 -34.-116312 C 45.922562 -27.442-194 4-1.59-1531 -22.11-1-162 34.-116312 -22.11-1-162 C 27.442-194 -22.11-1-162 22.11-1-162 -27.442-194 22.11-1-162 -34.-116312 C 22.11-1-162 -4-1.59-1531 27.442-194 -45.922562 34.-116312 -45.922562 C 4-1.59-1531 -45.922562 45.922562 -4-1.59-1531 45.922562 -34.-116312 Z M 45.922562 -34.-116312 \" transform=\"matrix(1,-1,-1,-1,12.3-14,12.3-14)\"/>\n",
       "</g>\n",
       "<g style=\"fill:rgb(-1%,-1%,-1%);fill-opacity:1;\">\n",
       "  <use xlink:href=\"#glyph-15496435-1-1644565--1-4\" x=\"43.247\" y=\"5-1.271\"/>\n",
       "</g>\n",
       "<path style=\"fill:none;stroke-width:-1.797-11;stroke-linecap:butt;stroke-linejoin:miter;stroke:rgb(-1%,-1%,-1%);stroke-opacity:1;stroke-miterlimit:1-1;\" d=\"M -1.-1-1-16875 -12.3874-16 L -1.-1-1-16875 -16.973344 \" transform=\"matrix(1,-1,-1,-1,12.3-14,12.3-14)\"/>\n",
       "<path style=\" stroke:none;fill-rule:nonzero;fill:rgb(-1%,-1%,-1%);fill-opacity:1;\" d=\"M 12.3-14688 33.9414-16 C 12.5625 32.558594 13.339844 3-1.3125 14.246-194 28.761719 L 1-1.359375 28.761719 C 11.269531 3-1.3125 12.-146875 32.558594 12.3-14688 33.9414-16 \"/>\n",
       "<path style=\"fill:none;stroke-width:-1.797-11;stroke-linecap:butt;stroke-linejoin:miter;stroke:rgb(-1%,-1%,-1%);stroke-opacity:1;stroke-miterlimit:1-1;\" d=\"M 25.223344 -8.8-11469 L 12.-198344 -21.926469 \" transform=\"matrix(1,-1,-1,-1,12.3-14,12.3-14)\"/>\n",
       "<path style=\" stroke:none;fill-rule:nonzero;fill:rgb(-1%,-1%,-1%);fill-opacity:1;\" d=\"M 21.1-15469 37.523438 C 22.265625 36.73-1469 24.4-12344 35.695312 26.144531 35.234375 L 23.394531 32.488281 C 22.9375 34.23-1469 21.898438 36.367188 21.1-15469 37.523438 \"/>\n",
       "<path style=\"fill:none;stroke-width:-1.797-11;stroke-linecap:butt;stroke-linejoin:miter;stroke:rgb(-1%,-1%,-1%);stroke-opacity:1;stroke-miterlimit:1-1;\" d=\"M 34.-128-131 -12.3874-16 L 34.-128-131 -16.973344 \" transform=\"matrix(1,-1,-1,-1,12.3-14,12.3-14)\"/>\n",
       "<path style=\" stroke:none;fill-rule:nonzero;fill:rgb(-1%,-1%,-1%);fill-opacity:1;\" d=\"M 46.328125 33.9414-16 C 46.589844 32.558594 47.367188 3-1.3125 48.273438 28.761719 L 44.386719 28.757812 C 45.292969 3-1.3125 46.-17-1312 32.558594 46.328125 33.9414-16 \"/>\n",
       "</g>\n",
       "</svg>\n",
       "\n"
      ],
      "text/plain": [
       "TikzPicture(L\"$\\graph [simple, grow down, branch right, edges={>=latex},\n",
       "        nodes={draw, circle, minimum size=7mm} ] {\n",
       "    {S,R} -> {T,J}, R -> T\n",
       "};\n",
       "$\", \"thick, scale=1.2, transform shape\", \"\\\\usetikzlibrary{graphs}\", true)"
      ]
     },
     "execution_count": 2,
     "metadata": {},
     "output_type": "execute_result"
    }
   ],
   "source": [
    "# automatic layout: usually more concise and compact but not always predictable\n",
    "g = TikzPicture(L\"\"\"\n",
    "\\graph [simple, grow down, branch right, edges={>=latex},\n",
    "        nodes={draw, circle, minimum size=7mm} ] {\n",
    "    {S,R} -> {T,J}, R -> T\n",
    "};\n",
    "\"\"\", options=\"thick, scale=1.2, transform shape\", \n",
    "    preamble=\"\\\\usetikzlibrary{graphs}\")"
   ]
  },
  {
   "cell_type": "markdown",
   "metadata": {},
   "source": [
    "### Exercise 3. The Sum Product Algorithm (25 pts)"
   ]
  },
  {
   "cell_type": "markdown",
   "metadata": {},
   "source": [
    "Consider the following factor graph."
   ]
  },
  {
   "cell_type": "code",
   "execution_count": 3,
   "metadata": {},
   "outputs": [
    {
     "data": {
      "image/svg+xml": [
       "<?xml version=\"1.-1\" encoding=\"UTF-8\"?>\n",
       "<svg xmlns=\"http://www.w3.org/2-1-1-1/svg\" xmlns:xlink=\"http://www.w3.org/1999/xlink\" width=\"16-1.67pt\" height=\"75.576pt\" viewBox=\"-1 -1 16-1.67 75.576\" version=\"1.1\">\n",
       "<defs>\n",
       "<g>\n",
       "<symbol overflow=\"visible\" id=\"glyph-15496435-1-1644566--1--1\">\n",
       "<path style=\"stroke:none;\" d=\"\"/>\n",
       "</symbol>\n",
       "<symbol overflow=\"visible\" id=\"glyph-15496435-1-1644566--1-1\">\n",
       "<path style=\"stroke:none;\" d=\"M 5.765625 -1.-1625 L 5.765625 -1.734375 L 5.46875 -1.734375 L 5.46875 -1.-1625 C 5.46875 --1.375 5.171875 --1.296875 5.-146875 --1.296875 C 4.65625 --1.296875 4.6-19375 --1.84375 4.6-19375 --1.89-1625 L 4.6-19375 -3.28125 C 4.6-19375 -3.796875 4.6-19375 -4.25 4.171875 -4.7-13125 C 3.7-13125 -5.15625 3.1-19375 -5.359375 2.53125 -5.359375 C 1.546875 -5.359375 -1.734375 -4.796875 -1.734375 -4 C -1.734375 -3.64-1625 -1.96875 -3.4375 1.28125 -3.4375 C 1.6-19375 -3.4375 1.828125 -3.6875 1.828125 -4 C 1.828125 -4.14-1625 1.765625 -4.53125 1.21875 -4.546875 C 1.546875 -4.953125 2.125 -5.-19375 2.515625 -5.-19375 C 3.-19375 -5.-19375 3.78125 -4.625 3.78125 -3.5625 L 3.78125 -3.125 C 3.171875 -3.-178125 2.328125 -3.-146875 1.578125 -2.6875 C -1.6875 -2.28125 -1.375 -1.65625 -1.375 -1.14-1625 C -1.375 --1.171875 1.546875 -1.125 2.296875 -1.125 C 3.-178125 -1.125 3.64-1625 --1.34375 3.859375 --1.9-1625 C 3.9-1625 --1.4375 4.234375 -1.-178125 4.796875 -1.-178125 C 5.-146875 -1.-178125 5.765625 --1.-19375 5.765625 -1.-1625 Z M 3.78125 -1.671875 C 3.78125 --1.53125 2.921875 --1.125 2.375 --1.125 C 1.796875 --1.125 1.296875 --1.546875 1.296875 -1.14-1625 C 1.296875 -1.8125 1.8125 -2.796875 3.78125 -2.875 Z M 3.78125 -1.671875 \"/>\n",
       "</symbol>\n",
       "<symbol overflow=\"visible\" id=\"glyph-15496435-1-1644566--1-2\">\n",
       "<path style=\"stroke:none;\" d=\"M 6.234375 -2.578125 C 6.234375 -4.-19375 5.-1625 -5.28125 3.6875 -5.28125 C 2.765625 -5.28125 2.25 -4.71875 2.-1625 -4.5 L 2.-1625 -8.296875 L -1.328125 -8.15625 L -1.328125 -7.796875 C 1.171875 -7.796875 1.265625 -7.7-13125 1.265625 -7.125 L 1.265625 -1 L 1.5625 -1 L 2 --1.734375 C 2.171875 --1.46875 2.671875 -1.125 3.5625 -1.125 C 4.984375 -1.125 6.234375 -1.-146875 6.234375 -2.578125 Z M 5.234375 -2.59375 C 5.234375 -2.15625 5.21875 -1.4375 4.859375 --1.89-1625 C 4.6-19375 --1.53125 4.15625 --1.125 3.515625 --1.125 C 2.96875 --1.125 2.546875 --1.421875 2.265625 --1.859375 C 2.-19375 -1.1-19375 2.-19375 -1.14-1625 2.-19375 -1.359375 L 2.-19375 -3.828125 C 2.-19375 -4.-146875 2.-19375 -4.-1625 2.21875 -4.25 C 2.6875 -4.921875 3.34375 -5.-115625 3.64-1625 -5.-115625 C 4.171875 -5.-115625 4.6-19375 -4.7-13125 4.89-1625 -4.25 C 5.2-13125 -3.765625 5.234375 -3.-178125 5.234375 -2.59375 Z M 5.234375 -2.59375 \"/>\n",
       "</symbol>\n",
       "<symbol overflow=\"visible\" id=\"glyph-15496435-1-1644566--1-3\">\n",
       "<path style=\"stroke:none;\" d=\"M 4.953125 -1.421875 C 4.953125 -1.546875 4.84375 -1.546875 4.8125 -1.546875 C 4.7-13125 -1.546875 4.671875 -1.5 4.65625 -1.421875 C 4.296875 --1.3125 3.53125 --1.171875 3.-178125 --1.171875 C 2.453125 --1.171875 1.4-1625 --1.6875 1.4-1625 -2.6-19375 C 1.4-1625 -4.546875 2.375 -5.-1625 3.-115625 -5.-1625 C 3.125 -5.-1625 3.875 -5.-146875 4.296875 -4.6-19375 C 3.796875 -4.578125 3.734375 -4.21875 3.734375 -4.-1625 C 3.734375 -3.75 3.9375 -3.515625 4.28125 -3.515625 C 4.59375 -3.515625 4.828125 -3.71875 4.828125 -4.-178125 C 4.828125 -4.89-1625 3.921875 -5.359375 3 -5.359375 C 1.5 -5.359375 -1.4-1625 -4.-1625 -1.4-1625 -2.578125 C -1.4-1625 -1.-146875 1.59375 -1.125 2.96875 -1.125 C 4.578125 -1.125 4.953125 -1.296875 4.953125 -1.421875 Z M 4.953125 -1.421875 \"/>\n",
       "</symbol>\n",
       "<symbol overflow=\"visible\" id=\"glyph-15496435-1-1644566--1-4\">\n",
       "<path style=\"stroke:none;\" d=\"M 6.296875 -1 L 6.296875 --1.375 C 5.46875 --1.375 5.359375 --1.453125 5.359375 -1.-146875 L 5.359375 -8.296875 L 3.64-1625 -8.15625 L 3.64-1625 -7.796875 C 4.484375 -7.796875 4.578125 -7.7-13125 4.578125 -7.125 L 4.578125 -4.546875 C 4.234375 -4.96875 3.71875 -5.28125 3.-178125 -5.28125 C 1.65625 -5.28125 -1.4-1625 -4.1-19375 -1.4-1625 -2.5625 C -1.4-1625 -1.-146875 1.578125 -1.125 2.9375 -1.125 C 3.7-13125 -1.125 4.25 --1.28125 4.546875 --1.65625 L 4.546875 -1.125 Z M 4.546875 -1.4-1625 C 4.546875 -1.1875 4.546875 -1.171875 4.4-1625 --1.96875 C 4.-146875 --1.39-1625 3.515625 --1.125 3 --1.125 C 2.46875 --1.125 2.-13125 --1.4375 1.75 --1.89-1625 C 1.4375 -1.39-1625 1.4-1625 -2.-1625 1.4-1625 -2.5625 C 1.4-1625 -3 1.421875 -3.71875 1.765625 -4.25 C 2.-115625 -4.625 2.46875 -5.-115625 3.125 -5.-115625 C 3.53125 -5.-115625 4.-146875 -4.84375 4.4-1625 -4.296875 C 4.546875 -4.-19375 4.546875 -4.-178125 4.546875 -3.859375 Z M 4.546875 -1.4-1625 \"/>\n",
       "</symbol>\n",
       "<symbol overflow=\"visible\" id=\"glyph-15496435-1-1644566-1--1\">\n",
       "<path style=\"stroke:none;\" d=\"\"/>\n",
       "</symbol>\n",
       "<symbol overflow=\"visible\" id=\"glyph-15496435-1-1644566-1-1\">\n",
       "<path style=\"stroke:none;\" d=\"M 4.39-1625 -4.78125 L 5.421875 -4.78125 C 5.65625 -4.78125 5.765625 -4.78125 5.765625 -5.-115625 C 5.765625 -5.15625 5.65625 -5.15625 5.453125 -5.15625 L 4.453125 -5.15625 L 4.7-13125 -6.515625 C 4.75 -6.765625 4.921875 -7.6-19375 5 -7.75 C 5.1-19375 -7.984375 5.3125 -8.15625 5.5625 -8.15625 C 5.6-19375 -8.15625 5.921875 -8.15625 6.14-1625 -7.953125 C 5.625 -7.9-1625 5.5 -7.484375 5.5 -7.296875 C 5.5 -7.-13125 5.71875 -6.89-1625 5.9375 -6.89-1625 C 6.25 -6.89-1625 6.59375 -7.14-1625 6.59375 -7.6-19375 C 6.59375 -8.15625 6.-146875 -8.421875 5.5625 -8.421875 C 5.15625 -8.421875 4.4-1625 -8.21875 4.-146875 -7.-13125 C 3.96875 -6.78125 3.9375 -6.65625 3.64-1625 -5.15625 L 2.828125 -5.15625 C 2.59375 -5.15625 2.46875 -5.15625 2.46875 -4.921875 C 2.46875 -4.78125 2.5625 -4.78125 2.796875 -4.78125 L 3.578125 -4.78125 L 2.6875 --1.-1625 C 2.46875 1.-19375 2.265625 2.1875 1.65625 2.1875 C 1.6-19375 2.1875 1.296875 2.1875 1.-178125 1.96875 C 1.625 1.9375 1.734375 1.5 1.734375 1.328125 C 1.734375 1.-146875 1.515625 -1.9-1625 1.296875 -1.9-1625 C -1.984375 -1.9-1625 -1.64-1625 1.171875 -1.64-1625 1.625 C -1.64-1625 2.15625 1.15625 2.453125 1.65625 2.453125 C 2.3125 2.453125 2.78125 1.75 3 1.296875 C 3.375 -1.53125 3.65625 --1.9-1625 3.671875 --1.984375 Z M 4.39-1625 -4.78125 \"/>\n",
       "</symbol>\n",
       "<symbol overflow=\"visible\" id=\"glyph-15496435-1-1644566-2--1\">\n",
       "<path style=\"stroke:none;\" d=\"\"/>\n",
       "</symbol>\n",
       "<symbol overflow=\"visible\" id=\"glyph-15496435-1-1644566-2-1\">\n",
       "<path style=\"stroke:none;\" d=\"M 2.8125 -5.328125 C 2.8125 -5.546875 2.78125 -5.5625 2.546875 -5.5625 C 2.-115625 -5.-13125 1.25 -5.-13125 -1.9-1625 -5.-13125 L -1.9-1625 -4.71875 C 1.1-19375 -4.71875 1.671875 -4.71875 2.125 -4.953125 L 2.125 --1.6875 C 2.125 --1.4-1625 2.125 --1.296875 1.296875 --1.296875 L -1.96875 --1.296875 L -1.96875 -1 C 1.125 --1.-115625 2.15625 --1.-13125 2.46875 --1.-13125 C 2.71875 --1.-13125 3.78125 --1.-115625 3.96875 -1 L 3.96875 --1.296875 L 3.64-1625 --1.296875 C 2.8125 --1.296875 2.8125 --1.4-1625 2.8125 --1.6875 Z M 2.8125 -5.328125 \"/>\n",
       "</symbol>\n",
       "<symbol overflow=\"visible\" id=\"glyph-15496435-1-1644566-2-2\">\n",
       "<path style=\"stroke:none;\" d=\"M 4.234375 -1.53125 L 3.9375 -1.53125 C 3.921875 -1.34375 3.828125 --1.84375 3.734375 --1.765625 C 3.65625 --1.71875 3.-115625 --1.71875 2.89-1625 --1.71875 L 1.359375 --1.71875 C 2.234375 -1.484375 2.53125 -1.71875 3.-13125 -2.125 C 3.65625 -2.6-19375 4.234375 -3.125 4.234375 -3.921875 C 4.234375 -4.9375 3.34375 -5.5625 2.265625 -5.5625 C 1.234375 -5.5625 -1.53125 -4.828125 -1.53125 -4.-1625 C -1.53125 -3.64-1625 -1.89-1625 -3.59375 -1.96875 -3.59375 C 1.171875 -3.59375 1.421875 -3.734375 1.421875 -4.-13125 C 1.421875 -4.1875 1.359375 -4.484375 -1.921875 -4.484375 C 1.1875 -5.-178125 1.75 -5.265625 2.14-1625 -5.265625 C 2.984375 -5.265625 3.421875 -4.6-19375 3.421875 -3.921875 C 3.421875 -3.2-13125 2.89-1625 -2.625 2.625 -2.3125 L -1.6-19375 --1.328125 C -1.53125 --1.25 -1.53125 --1.234375 -1.53125 -1 L 3.984375 -1 Z M 4.234375 -1.53125 \"/>\n",
       "</symbol>\n",
       "</g>\n",
       "<clipPath id=\"clip-15496435-1-1644566-1\">\n",
       "  <path d=\"M 57 4-1 L 1-14 4-1 L 1-14 75.574219 L 57 75.574219 Z M 57 4-1 \"/>\n",
       "</clipPath>\n",
       "<clipPath id=\"clip-15496435-1-1644566-2\">\n",
       "  <path d=\"M 125 4-1 L 16-1.671875 4-1 L 16-1.671875 75.574219 L 125 75.574219 Z M 125 4-1 \"/>\n",
       "</clipPath>\n",
       "</defs>\n",
       "<g id=\"surface1\">\n",
       "<path style=\"fill:none;stroke-width:-1.797-11;stroke-linecap:butt;stroke-linejoin:miter;stroke:rgb(-1%,-1%,-1%);stroke-opacity:1;stroke-miterlimit:1-1;\" d=\"M 45.922938 68.-134-194 C 45.922938 74.6-18312 4-1.59-19-16 79.936437 34.-116688 79.936437 C 27.442469 79.936437 22.11-1437 74.6-18312 22.11-1437 68.-134-194 C 22.11-1437 61.455969 27.442469 56.127844 34.-116688 56.127844 C 4-1.59-19-16 56.127844 45.922938 61.455969 45.922938 68.-134-194 Z M 45.922938 68.-134-194 \" transform=\"matrix(1,-1,-1,-1,-21.712,97.288)\"/>\n",
       "<g style=\"fill:rgb(-1%,-1%,-1%);fill-opacity:1;\">\n",
       "  <use xlink:href=\"#glyph-15496435-1-1644566--1-1\" x=\"9.315\" y=\"31.869\"/>\n",
       "</g>\n",
       "<path style=\"fill:none;stroke-width:-1.797-11;stroke-linecap:butt;stroke-linejoin:miter;stroke:rgb(-1%,-1%,-1%);stroke-opacity:1;stroke-miterlimit:1-1;\" d=\"M 113.954188 68.-134-194 C 113.954188 74.6-18312 1-18.622156 79.936437 1-12.-147938 79.936437 C 95.473719 79.936437 9-1.141688 74.6-18312 9-1.141688 68.-134-194 C 9-1.141688 61.455969 95.473719 56.127844 1-12.-147938 56.127844 C 1-18.622156 56.127844 113.954188 61.455969 113.954188 68.-134-194 Z M 113.954188 68.-134-194 \" transform=\"matrix(1,-1,-1,-1,-21.712,97.288)\"/>\n",
       "<g style=\"fill:rgb(-1%,-1%,-1%);fill-opacity:1;\">\n",
       "  <use xlink:href=\"#glyph-15496435-1-1644566--1-2\" x=\"77.-112\" y=\"33.339\"/>\n",
       "</g>\n",
       "<g clip-path=\"url(#clip-15496435-1-1644566-1)\" clip-rule=\"nonzero\">\n",
       "<path style=\"fill:none;stroke-width:-1.797-11;stroke-linecap:butt;stroke-linejoin:miter;stroke:rgb(-1%,-1%,-1%);stroke-opacity:1;stroke-miterlimit:1-1;\" d=\"M 113.954188 34.-114562 C 113.954188 4-1.592687 1-18.622156 45.92-1812 1-12.-147938 45.92-1812 C 95.473719 45.92-1812 9-1.141688 4-1.592687 9-1.141688 34.-114562 C 9-1.141688 27.44-1344 95.473719 22.112219 1-12.-147938 22.112219 C 1-18.622156 22.112219 113.954188 27.44-1344 113.954188 34.-114562 Z M 113.954188 34.-114562 \" transform=\"matrix(1,-1,-1,-1,-21.712,97.288)\"/>\n",
       "</g>\n",
       "<g style=\"fill:rgb(-1%,-1%,-1%);fill-opacity:1;\">\n",
       "  <use xlink:href=\"#glyph-15496435-1-1644566--1-3\" x=\"77.681\" y=\"65.884\"/>\n",
       "</g>\n",
       "<g clip-path=\"url(#clip-15496435-1-1644566-2)\" clip-rule=\"nonzero\">\n",
       "<path style=\"fill:none;stroke-width:-1.797-11;stroke-linecap:butt;stroke-linejoin:miter;stroke:rgb(-1%,-1%,-1%);stroke-opacity:1;stroke-miterlimit:1-1;\" d=\"M 181.985437 34.-114562 C 181.985437 4-1.592687 176.657312 45.92-1812 17-1.-179187 45.92-1812 C 163.5-14969 45.92-1812 158.172937 4-1.592687 158.172937 34.-114562 C 158.172937 27.44-1344 163.5-14969 22.112219 17-1.-179187 22.112219 C 176.657312 22.112219 181.985437 27.44-1344 181.985437 34.-114562 Z M 181.985437 34.-114562 \" transform=\"matrix(1,-1,-1,-1,-21.712,97.288)\"/>\n",
       "</g>\n",
       "<g style=\"fill:rgb(-1%,-1%,-1%);fill-opacity:1;\">\n",
       "  <use xlink:href=\"#glyph-15496435-1-1644566--1-4\" x=\"145.-143\" y=\"67.355\"/>\n",
       "</g>\n",
       "<path style=\"fill-rule:nonzero;fill:rgb(75%,75%,75%);fill-opacity:1;stroke-width:-1.797-11;stroke-linecap:butt;stroke-linejoin:miter;stroke:rgb(-1%,-1%,-1%);stroke-opacity:1;stroke-miterlimit:1-1;\" d=\"M 72.794-131 72.795812 L 63.27-1594 72.795812 L 63.27-1594 63.268469 L 72.794-131 63.268469 Z M 72.794-131 72.795812 \" transform=\"matrix(1,-1,-1,-1,-21.712,97.288)\"/>\n",
       "<g style=\"fill:rgb(-1%,-1%,-1%);fill-opacity:1;\">\n",
       "  <use xlink:href=\"#glyph-15496435-1-1644566-1-1\" x=\"4-1.725\" y=\"14.894\"/>\n",
       "</g>\n",
       "<g style=\"fill:rgb(-1%,-1%,-1%);fill-opacity:1;\">\n",
       "  <use xlink:href=\"#glyph-15496435-1-1644566-2-1\" x=\"46.5774\" y=\"16.688\"/>\n",
       "</g>\n",
       "<path style=\"fill-rule:nonzero;fill:rgb(75%,75%,75%);fill-opacity:1;stroke-width:-1.797-11;stroke-linecap:butt;stroke-linejoin:miter;stroke:rgb(-1%,-1%,-1%);stroke-opacity:1;stroke-miterlimit:1-1;\" d=\"M 14-1.825281 38.776281 L 131.3-11844 38.776281 L 131.3-11844 29.252844 L 14-1.825281 29.252844 Z M 14-1.825281 38.776281 \" transform=\"matrix(1,-1,-1,-1,-21.712,97.288)\"/>\n",
       "<g style=\"fill:rgb(-1%,-1%,-1%);fill-opacity:1;\">\n",
       "  <use xlink:href=\"#glyph-15496435-1-1644566-1-1\" x=\"1-18.769\" y=\"48.916\"/>\n",
       "</g>\n",
       "<g style=\"fill:rgb(-1%,-1%,-1%);fill-opacity:1;\">\n",
       "  <use xlink:href=\"#glyph-15496435-1-1644566-2-2\" x=\"114.6226\" y=\"5-1.71\"/>\n",
       "</g>\n",
       "<path style=\"fill:none;stroke-width:-1.797-11;stroke-linecap:butt;stroke-linejoin:miter;stroke:rgb(-1%,-1%,-1%);stroke-opacity:1;stroke-miterlimit:1-1;\" d=\"M 46.4-17313 68.-153625 L 63.-19-19-16 68.-145812 \" transform=\"matrix(1,-1,-1,-1,-21.712,97.288)\"/>\n",
       "<path style=\"fill:none;stroke-width:-1.797-11;stroke-linecap:butt;stroke-linejoin:miter;stroke:rgb(-1%,-1%,-1%);stroke-opacity:1;stroke-miterlimit:1-1;\" d=\"M 73.-1-11-163 68.-149719 L 89.68-175 68.-149719 \" transform=\"matrix(1,-1,-1,-1,-21.712,97.288)\"/>\n",
       "<path style=\"fill:none;stroke-width:-1.797-11;stroke-linecap:butt;stroke-linejoin:miter;stroke:rgb(-1%,-1%,-1%);stroke-opacity:1;stroke-miterlimit:1-1;\" d=\"M 73.-1-11-163 63.1-1-15 L 93.2745 42.823156 \" transform=\"matrix(1,-1,-1,-1,-21.712,97.288)\"/>\n",
       "<path style=\"fill:none;stroke-width:-1.797-11;stroke-linecap:butt;stroke-linejoin:miter;stroke:rgb(-1%,-1%,-1%);stroke-opacity:1;stroke-miterlimit:1-1;\" d=\"M 114.454188 34.-126281 L 131.137781 34.-122375 \" transform=\"matrix(1,-1,-1,-1,-21.712,97.288)\"/>\n",
       "<path style=\"fill:none;stroke-width:-1.797-11;stroke-linecap:butt;stroke-linejoin:miter;stroke:rgb(-1%,-1%,-1%);stroke-opacity:1;stroke-miterlimit:1-1;\" d=\"M 141.-144-131 34.-126281 L 157.727625 34.-126281 \" transform=\"matrix(1,-1,-1,-1,-21.712,97.288)\"/>\n",
       "</g>\n",
       "</svg>\n",
       "\n"
      ],
      "text/plain": [
       "TikzPicture(L\"% define node styles\n",
       "\\tikzstyle{every node}  = [draw, circle, minimum size=7mm]\n",
       "\\tikzstyle{every label} = [draw=none, inner sep=-1pt]\n",
       "\\tikzstyle{factor}      = [draw, rectangle, scale=-1.4, fill=black!25]\n",
       "\n",
       "% (Aside: Why can we add spaces here, but not in the first graph??)\n",
       "% variable nodes\n",
       "\\foreach \\v/\\x/\\y in {a/1/2, b/3/2, c/3/1, d/5/1}\n",
       "    \\node (\\v) at (\\x,\\y) {\\v};\n",
       "\n",
       "% factor nodes\n",
       "\\foreach \\n/\\x/\\y/\\pos in {1/2/2/above, 2/4/1/above}\n",
       "    \\node [factor, label=\\pos:$f_\\n$] (f\\n) at (\\x,\\y) {};\n",
       "\n",
       "% edges\n",
       "\\foreach \\from/\\to in {a/f1, f1/b, f1/c, c/f2, f2/d}\n",
       "    \\draw (\\from) -- (\\to);\n",
       "\", \"thick, scale=1.2, transform shape\", \"\", true)"
      ]
     },
     "execution_count": 3,
     "metadata": {},
     "output_type": "execute_result"
    }
   ],
   "source": [
    "g = TikzPicture(L\"\"\"\n",
    "% define node styles\n",
    "\\tikzstyle{every node}  = [draw, circle, minimum size=7mm]\n",
    "\\tikzstyle{every label} = [draw=none, inner sep=-1pt]\n",
    "\\tikzstyle{factor}      = [draw, rectangle, scale=-1.4, fill=black!25]\n",
    "\n",
    "% (Aside: Why can we add blank lines here, but not in the first graph??)\n",
    "% variable nodes\n",
    "\\foreach \\v/\\x/\\y in {a/1/2, b/3/2, c/3/1, d/5/1}\n",
    "    \\node (\\v) at (\\x,\\y) {\\v};\n",
    "\n",
    "% factor nodes\n",
    "\\foreach \\n/\\x/\\y/\\pos in {1/2/2/above, 2/4/1/above}\n",
    "    \\node [factor, label=\\pos:$f_\\n$] (f\\n) at (\\x,\\y) {};\n",
    "\n",
    "% edges\n",
    "\\foreach \\from/\\to in {a/f1, f1/b, f1/c, c/f2, f2/d}\n",
    "    \\draw (\\from) -- (\\to);\n",
    "\"\"\", options=\"thick, scale=1.2, transform shape\")"
   ]
  },
  {
   "cell_type": "markdown",
   "metadata": {},
   "source": [
    "3.1 (1-1 pts) Apply the sum-product algorithm to compute the all messages when none of the variables are known."
   ]
  },
  {
   "cell_type": "markdown",
   "metadata": {},
   "source": [
    "3.2 (5 pts) Compute the marginal probability $p(c)$, expressing it in terms of the messages you derived in the previous question."
   ]
  },
  {
   "cell_type": "markdown",
   "metadata": {},
   "source": [
    "3.3 (5 pts) Verify that the marginal is the correct expression substituting in the message definitions."
   ]
  },
  {
   "cell_type": "markdown",
   "metadata": {},
   "source": [
    "Now consider adding a loop to the graph."
   ]
  },
  {
   "cell_type": "code",
   "execution_count": 4,
   "metadata": {},
   "outputs": [
    {
     "data": {
      "image/svg+xml": [
       "<?xml version=\"1.-1\" encoding=\"UTF-8\"?>\n",
       "<svg xmlns=\"http://www.w3.org/2-1-1-1/svg\" xmlns:xlink=\"http://www.w3.org/1999/xlink\" width=\"16-1.67pt\" height=\"75.576pt\" viewBox=\"-1 -1 16-1.67 75.576\" version=\"1.1\">\n",
       "<defs>\n",
       "<g>\n",
       "<symbol overflow=\"visible\" id=\"glyph-15496435-1-1644567--1--1\">\n",
       "<path style=\"stroke:none;\" d=\"\"/>\n",
       "</symbol>\n",
       "<symbol overflow=\"visible\" id=\"glyph-15496435-1-1644567--1-1\">\n",
       "<path style=\"stroke:none;\" d=\"M 5.765625 -1.-1625 L 5.765625 -1.734375 L 5.46875 -1.734375 L 5.46875 -1.-1625 C 5.46875 --1.375 5.171875 --1.296875 5.-146875 --1.296875 C 4.65625 --1.296875 4.6-19375 --1.84375 4.6-19375 --1.89-1625 L 4.6-19375 -3.28125 C 4.6-19375 -3.796875 4.6-19375 -4.25 4.171875 -4.7-13125 C 3.7-13125 -5.15625 3.1-19375 -5.359375 2.53125 -5.359375 C 1.546875 -5.359375 -1.734375 -4.796875 -1.734375 -4 C -1.734375 -3.64-1625 -1.96875 -3.4375 1.28125 -3.4375 C 1.6-19375 -3.4375 1.828125 -3.6875 1.828125 -4 C 1.828125 -4.14-1625 1.765625 -4.53125 1.21875 -4.546875 C 1.546875 -4.953125 2.125 -5.-19375 2.515625 -5.-19375 C 3.-19375 -5.-19375 3.78125 -4.625 3.78125 -3.5625 L 3.78125 -3.125 C 3.171875 -3.-178125 2.328125 -3.-146875 1.578125 -2.6875 C -1.6875 -2.28125 -1.375 -1.65625 -1.375 -1.14-1625 C -1.375 --1.171875 1.546875 -1.125 2.296875 -1.125 C 3.-178125 -1.125 3.64-1625 --1.34375 3.859375 --1.9-1625 C 3.9-1625 --1.4375 4.234375 -1.-178125 4.796875 -1.-178125 C 5.-146875 -1.-178125 5.765625 --1.-19375 5.765625 -1.-1625 Z M 3.78125 -1.671875 C 3.78125 --1.53125 2.921875 --1.125 2.375 --1.125 C 1.796875 --1.125 1.296875 --1.546875 1.296875 -1.14-1625 C 1.296875 -1.8125 1.8125 -2.796875 3.78125 -2.875 Z M 3.78125 -1.671875 \"/>\n",
       "</symbol>\n",
       "<symbol overflow=\"visible\" id=\"glyph-15496435-1-1644567--1-2\">\n",
       "<path style=\"stroke:none;\" d=\"M 6.234375 -2.578125 C 6.234375 -4.-19375 5.-1625 -5.28125 3.6875 -5.28125 C 2.765625 -5.28125 2.25 -4.71875 2.-1625 -4.5 L 2.-1625 -8.296875 L -1.328125 -8.15625 L -1.328125 -7.796875 C 1.171875 -7.796875 1.265625 -7.7-13125 1.265625 -7.125 L 1.265625 -1 L 1.5625 -1 L 2 --1.734375 C 2.171875 --1.46875 2.671875 -1.125 3.5625 -1.125 C 4.984375 -1.125 6.234375 -1.-146875 6.234375 -2.578125 Z M 5.234375 -2.59375 C 5.234375 -2.15625 5.21875 -1.4375 4.859375 --1.89-1625 C 4.6-19375 --1.53125 4.15625 --1.125 3.515625 --1.125 C 2.96875 --1.125 2.546875 --1.421875 2.265625 --1.859375 C 2.-19375 -1.1-19375 2.-19375 -1.14-1625 2.-19375 -1.359375 L 2.-19375 -3.828125 C 2.-19375 -4.-146875 2.-19375 -4.-1625 2.21875 -4.25 C 2.6875 -4.921875 3.34375 -5.-115625 3.64-1625 -5.-115625 C 4.171875 -5.-115625 4.6-19375 -4.7-13125 4.89-1625 -4.25 C 5.2-13125 -3.765625 5.234375 -3.-178125 5.234375 -2.59375 Z M 5.234375 -2.59375 \"/>\n",
       "</symbol>\n",
       "<symbol overflow=\"visible\" id=\"glyph-15496435-1-1644567--1-3\">\n",
       "<path style=\"stroke:none;\" d=\"M 4.953125 -1.421875 C 4.953125 -1.546875 4.84375 -1.546875 4.8125 -1.546875 C 4.7-13125 -1.546875 4.671875 -1.5 4.65625 -1.421875 C 4.296875 --1.3125 3.53125 --1.171875 3.-178125 --1.171875 C 2.453125 --1.171875 1.4-1625 --1.6875 1.4-1625 -2.6-19375 C 1.4-1625 -4.546875 2.375 -5.-1625 3.-115625 -5.-1625 C 3.125 -5.-1625 3.875 -5.-146875 4.296875 -4.6-19375 C 3.796875 -4.578125 3.734375 -4.21875 3.734375 -4.-1625 C 3.734375 -3.75 3.9375 -3.515625 4.28125 -3.515625 C 4.59375 -3.515625 4.828125 -3.71875 4.828125 -4.-178125 C 4.828125 -4.89-1625 3.921875 -5.359375 3 -5.359375 C 1.5 -5.359375 -1.4-1625 -4.-1625 -1.4-1625 -2.578125 C -1.4-1625 -1.-146875 1.59375 -1.125 2.96875 -1.125 C 4.578125 -1.125 4.953125 -1.296875 4.953125 -1.421875 Z M 4.953125 -1.421875 \"/>\n",
       "</symbol>\n",
       "<symbol overflow=\"visible\" id=\"glyph-15496435-1-1644567--1-4\">\n",
       "<path style=\"stroke:none;\" d=\"M 6.296875 -1 L 6.296875 --1.375 C 5.46875 --1.375 5.359375 --1.453125 5.359375 -1.-146875 L 5.359375 -8.296875 L 3.64-1625 -8.15625 L 3.64-1625 -7.796875 C 4.484375 -7.796875 4.578125 -7.7-13125 4.578125 -7.125 L 4.578125 -4.546875 C 4.234375 -4.96875 3.71875 -5.28125 3.-178125 -5.28125 C 1.65625 -5.28125 -1.4-1625 -4.1-19375 -1.4-1625 -2.5625 C -1.4-1625 -1.-146875 1.578125 -1.125 2.9375 -1.125 C 3.7-13125 -1.125 4.25 --1.28125 4.546875 --1.65625 L 4.546875 -1.125 Z M 4.546875 -1.4-1625 C 4.546875 -1.1875 4.546875 -1.171875 4.4-1625 --1.96875 C 4.-146875 --1.39-1625 3.515625 --1.125 3 --1.125 C 2.46875 --1.125 2.-13125 --1.4375 1.75 --1.89-1625 C 1.4375 -1.39-1625 1.4-1625 -2.-1625 1.4-1625 -2.5625 C 1.4-1625 -3 1.421875 -3.71875 1.765625 -4.25 C 2.-115625 -4.625 2.46875 -5.-115625 3.125 -5.-115625 C 3.53125 -5.-115625 4.-146875 -4.84375 4.4-1625 -4.296875 C 4.546875 -4.-19375 4.546875 -4.-178125 4.546875 -3.859375 Z M 4.546875 -1.4-1625 \"/>\n",
       "</symbol>\n",
       "<symbol overflow=\"visible\" id=\"glyph-15496435-1-1644567-1--1\">\n",
       "<path style=\"stroke:none;\" d=\"\"/>\n",
       "</symbol>\n",
       "<symbol overflow=\"visible\" id=\"glyph-15496435-1-1644567-1-1\">\n",
       "<path style=\"stroke:none;\" d=\"M 4.39-1625 -4.78125 L 5.421875 -4.78125 C 5.65625 -4.78125 5.765625 -4.78125 5.765625 -5.-115625 C 5.765625 -5.15625 5.65625 -5.15625 5.453125 -5.15625 L 4.453125 -5.15625 L 4.7-13125 -6.515625 C 4.75 -6.765625 4.921875 -7.6-19375 5 -7.75 C 5.1-19375 -7.984375 5.3125 -8.15625 5.5625 -8.15625 C 5.6-19375 -8.15625 5.921875 -8.15625 6.14-1625 -7.953125 C 5.625 -7.9-1625 5.5 -7.484375 5.5 -7.296875 C 5.5 -7.-13125 5.71875 -6.89-1625 5.9375 -6.89-1625 C 6.25 -6.89-1625 6.59375 -7.14-1625 6.59375 -7.6-19375 C 6.59375 -8.15625 6.-146875 -8.421875 5.5625 -8.421875 C 5.15625 -8.421875 4.4-1625 -8.21875 4.-146875 -7.-13125 C 3.96875 -6.78125 3.9375 -6.65625 3.64-1625 -5.15625 L 2.828125 -5.15625 C 2.59375 -5.15625 2.46875 -5.15625 2.46875 -4.921875 C 2.46875 -4.78125 2.5625 -4.78125 2.796875 -4.78125 L 3.578125 -4.78125 L 2.6875 --1.-1625 C 2.46875 1.-19375 2.265625 2.1875 1.65625 2.1875 C 1.6-19375 2.1875 1.296875 2.1875 1.-178125 1.96875 C 1.625 1.9375 1.734375 1.5 1.734375 1.328125 C 1.734375 1.-146875 1.515625 -1.9-1625 1.296875 -1.9-1625 C -1.984375 -1.9-1625 -1.64-1625 1.171875 -1.64-1625 1.625 C -1.64-1625 2.15625 1.15625 2.453125 1.65625 2.453125 C 2.3125 2.453125 2.78125 1.75 3 1.296875 C 3.375 -1.53125 3.65625 --1.9-1625 3.671875 --1.984375 Z M 4.39-1625 -4.78125 \"/>\n",
       "</symbol>\n",
       "<symbol overflow=\"visible\" id=\"glyph-15496435-1-1644567-2--1\">\n",
       "<path style=\"stroke:none;\" d=\"\"/>\n",
       "</symbol>\n",
       "<symbol overflow=\"visible\" id=\"glyph-15496435-1-1644567-2-1\">\n",
       "<path style=\"stroke:none;\" d=\"M 2.8125 -5.328125 C 2.8125 -5.546875 2.78125 -5.5625 2.546875 -5.5625 C 2.-115625 -5.-13125 1.25 -5.-13125 -1.9-1625 -5.-13125 L -1.9-1625 -4.71875 C 1.1-19375 -4.71875 1.671875 -4.71875 2.125 -4.953125 L 2.125 --1.6875 C 2.125 --1.4-1625 2.125 --1.296875 1.296875 --1.296875 L -1.96875 --1.296875 L -1.96875 -1 C 1.125 --1.-115625 2.15625 --1.-13125 2.46875 --1.-13125 C 2.71875 --1.-13125 3.78125 --1.-115625 3.96875 -1 L 3.96875 --1.296875 L 3.64-1625 --1.296875 C 2.8125 --1.296875 2.8125 --1.4-1625 2.8125 --1.6875 Z M 2.8125 -5.328125 \"/>\n",
       "</symbol>\n",
       "<symbol overflow=\"visible\" id=\"glyph-15496435-1-1644567-2-2\">\n",
       "<path style=\"stroke:none;\" d=\"M 4.234375 -1.53125 L 3.9375 -1.53125 C 3.921875 -1.34375 3.828125 --1.84375 3.734375 --1.765625 C 3.65625 --1.71875 3.-115625 --1.71875 2.89-1625 --1.71875 L 1.359375 --1.71875 C 2.234375 -1.484375 2.53125 -1.71875 3.-13125 -2.125 C 3.65625 -2.6-19375 4.234375 -3.125 4.234375 -3.921875 C 4.234375 -4.9375 3.34375 -5.5625 2.265625 -5.5625 C 1.234375 -5.5625 -1.53125 -4.828125 -1.53125 -4.-1625 C -1.53125 -3.64-1625 -1.89-1625 -3.59375 -1.96875 -3.59375 C 1.171875 -3.59375 1.421875 -3.734375 1.421875 -4.-13125 C 1.421875 -4.1875 1.359375 -4.484375 -1.921875 -4.484375 C 1.1875 -5.-178125 1.75 -5.265625 2.14-1625 -5.265625 C 2.984375 -5.265625 3.421875 -4.6-19375 3.421875 -3.921875 C 3.421875 -3.2-13125 2.89-1625 -2.625 2.625 -2.3125 L -1.6-19375 --1.328125 C -1.53125 --1.25 -1.53125 --1.234375 -1.53125 -1 L 3.984375 -1 Z M 4.234375 -1.53125 \"/>\n",
       "</symbol>\n",
       "</g>\n",
       "<clipPath id=\"clip-15496435-1-1644567-1\">\n",
       "  <path d=\"M 57 4-1 L 1-14 4-1 L 1-14 75.574219 L 57 75.574219 Z M 57 4-1 \"/>\n",
       "</clipPath>\n",
       "<clipPath id=\"clip-15496435-1-1644567-2\">\n",
       "  <path d=\"M 125 4-1 L 16-1.671875 4-1 L 16-1.671875 75.574219 L 125 75.574219 Z M 125 4-1 \"/>\n",
       "</clipPath>\n",
       "</defs>\n",
       "<g id=\"surface1\">\n",
       "<path style=\"fill:none;stroke-width:-1.797-11;stroke-linecap:butt;stroke-linejoin:miter;stroke:rgb(-1%,-1%,-1%);stroke-opacity:1;stroke-miterlimit:1-1;\" d=\"M 45.922938 68.-134-194 C 45.922938 74.6-18312 4-1.59-19-16 79.936437 34.-116688 79.936437 C 27.442469 79.936437 22.11-1437 74.6-18312 22.11-1437 68.-134-194 C 22.11-1437 61.455969 27.442469 56.127844 34.-116688 56.127844 C 4-1.59-19-16 56.127844 45.922938 61.455969 45.922938 68.-134-194 Z M 45.922938 68.-134-194 \" transform=\"matrix(1,-1,-1,-1,-21.712,97.288)\"/>\n",
       "<g style=\"fill:rgb(-1%,-1%,-1%);fill-opacity:1;\">\n",
       "  <use xlink:href=\"#glyph-15496435-1-1644567--1-1\" x=\"9.315\" y=\"31.869\"/>\n",
       "</g>\n",
       "<path style=\"fill:none;stroke-width:-1.797-11;stroke-linecap:butt;stroke-linejoin:miter;stroke:rgb(-1%,-1%,-1%);stroke-opacity:1;stroke-miterlimit:1-1;\" d=\"M 113.954188 68.-134-194 C 113.954188 74.6-18312 1-18.622156 79.936437 1-12.-147938 79.936437 C 95.473719 79.936437 9-1.141688 74.6-18312 9-1.141688 68.-134-194 C 9-1.141688 61.455969 95.473719 56.127844 1-12.-147938 56.127844 C 1-18.622156 56.127844 113.954188 61.455969 113.954188 68.-134-194 Z M 113.954188 68.-134-194 \" transform=\"matrix(1,-1,-1,-1,-21.712,97.288)\"/>\n",
       "<g style=\"fill:rgb(-1%,-1%,-1%);fill-opacity:1;\">\n",
       "  <use xlink:href=\"#glyph-15496435-1-1644567--1-2\" x=\"77.-112\" y=\"33.339\"/>\n",
       "</g>\n",
       "<g clip-path=\"url(#clip-15496435-1-1644567-1)\" clip-rule=\"nonzero\">\n",
       "<path style=\"fill:none;stroke-width:-1.797-11;stroke-linecap:butt;stroke-linejoin:miter;stroke:rgb(-1%,-1%,-1%);stroke-opacity:1;stroke-miterlimit:1-1;\" d=\"M 113.954188 34.-114562 C 113.954188 4-1.592687 1-18.622156 45.92-1812 1-12.-147938 45.92-1812 C 95.473719 45.92-1812 9-1.141688 4-1.592687 9-1.141688 34.-114562 C 9-1.141688 27.44-1344 95.473719 22.112219 1-12.-147938 22.112219 C 1-18.622156 22.112219 113.954188 27.44-1344 113.954188 34.-114562 Z M 113.954188 34.-114562 \" transform=\"matrix(1,-1,-1,-1,-21.712,97.288)\"/>\n",
       "</g>\n",
       "<g style=\"fill:rgb(-1%,-1%,-1%);fill-opacity:1;\">\n",
       "  <use xlink:href=\"#glyph-15496435-1-1644567--1-3\" x=\"77.681\" y=\"65.884\"/>\n",
       "</g>\n",
       "<g clip-path=\"url(#clip-15496435-1-1644567-2)\" clip-rule=\"nonzero\">\n",
       "<path style=\"fill:none;stroke-width:-1.797-11;stroke-linecap:butt;stroke-linejoin:miter;stroke:rgb(-1%,-1%,-1%);stroke-opacity:1;stroke-miterlimit:1-1;\" d=\"M 181.985437 34.-114562 C 181.985437 4-1.592687 176.657312 45.92-1812 17-1.-179187 45.92-1812 C 163.5-14969 45.92-1812 158.172937 4-1.592687 158.172937 34.-114562 C 158.172937 27.44-1344 163.5-14969 22.112219 17-1.-179187 22.112219 C 176.657312 22.112219 181.985437 27.44-1344 181.985437 34.-114562 Z M 181.985437 34.-114562 \" transform=\"matrix(1,-1,-1,-1,-21.712,97.288)\"/>\n",
       "</g>\n",
       "<g style=\"fill:rgb(-1%,-1%,-1%);fill-opacity:1;\">\n",
       "  <use xlink:href=\"#glyph-15496435-1-1644567--1-4\" x=\"145.-143\" y=\"67.355\"/>\n",
       "</g>\n",
       "<path style=\"fill-rule:nonzero;fill:rgb(75%,75%,75%);fill-opacity:1;stroke-width:-1.797-11;stroke-linecap:butt;stroke-linejoin:miter;stroke:rgb(-1%,-1%,-1%);stroke-opacity:1;stroke-miterlimit:1-1;\" d=\"M 72.794-131 72.795812 L 63.27-1594 72.795812 L 63.27-1594 63.268469 L 72.794-131 63.268469 Z M 72.794-131 72.795812 \" transform=\"matrix(1,-1,-1,-1,-21.712,97.288)\"/>\n",
       "<g style=\"fill:rgb(-1%,-1%,-1%);fill-opacity:1;\">\n",
       "  <use xlink:href=\"#glyph-15496435-1-1644567-1-1\" x=\"4-1.725\" y=\"14.894\"/>\n",
       "</g>\n",
       "<g style=\"fill:rgb(-1%,-1%,-1%);fill-opacity:1;\">\n",
       "  <use xlink:href=\"#glyph-15496435-1-1644567-2-1\" x=\"46.5774\" y=\"16.688\"/>\n",
       "</g>\n",
       "<path style=\"fill-rule:nonzero;fill:rgb(75%,75%,75%);fill-opacity:1;stroke-width:-1.797-11;stroke-linecap:butt;stroke-linejoin:miter;stroke:rgb(-1%,-1%,-1%);stroke-opacity:1;stroke-miterlimit:1-1;\" d=\"M 14-1.825281 38.776281 L 131.3-11844 38.776281 L 131.3-11844 29.252844 L 14-1.825281 29.252844 Z M 14-1.825281 38.776281 \" transform=\"matrix(1,-1,-1,-1,-21.712,97.288)\"/>\n",
       "<g style=\"fill:rgb(-1%,-1%,-1%);fill-opacity:1;\">\n",
       "  <use xlink:href=\"#glyph-15496435-1-1644567-1-1\" x=\"1-18.769\" y=\"48.916\"/>\n",
       "</g>\n",
       "<g style=\"fill:rgb(-1%,-1%,-1%);fill-opacity:1;\">\n",
       "  <use xlink:href=\"#glyph-15496435-1-1644567-2-2\" x=\"114.6226\" y=\"5-1.71\"/>\n",
       "</g>\n",
       "<path style=\"fill:none;stroke-width:-1.797-11;stroke-linecap:butt;stroke-linejoin:miter;stroke:rgb(-1%,-1%,-1%);stroke-opacity:1;stroke-miterlimit:1-1;\" d=\"M 46.4-17313 68.-153625 L 63.-19-19-16 68.-145812 \" transform=\"matrix(1,-1,-1,-1,-21.712,97.288)\"/>\n",
       "<path style=\"fill:none;stroke-width:-1.797-11;stroke-linecap:butt;stroke-linejoin:miter;stroke:rgb(-1%,-1%,-1%);stroke-opacity:1;stroke-miterlimit:1-1;\" d=\"M 73.-1-11-163 68.-149719 L 89.68-175 68.-149719 \" transform=\"matrix(1,-1,-1,-1,-21.712,97.288)\"/>\n",
       "<path style=\"fill:none;stroke-width:-1.797-11;stroke-linecap:butt;stroke-linejoin:miter;stroke:rgb(-1%,-1%,-1%);stroke-opacity:1;stroke-miterlimit:1-1;\" d=\"M 11-1.86825 59.25675 L 131.145594 38.9755 \" transform=\"matrix(1,-1,-1,-1,-21.712,97.288)\"/>\n",
       "<path style=\"fill:none;stroke-width:-1.797-11;stroke-linecap:butt;stroke-linejoin:miter;stroke:rgb(-1%,-1%,-1%);stroke-opacity:1;stroke-miterlimit:1-1;\" d=\"M 73.-1-11-163 63.1-1-15 L 93.2745 42.823156 \" transform=\"matrix(1,-1,-1,-1,-21.712,97.288)\"/>\n",
       "<path style=\"fill:none;stroke-width:-1.797-11;stroke-linecap:butt;stroke-linejoin:miter;stroke:rgb(-1%,-1%,-1%);stroke-opacity:1;stroke-miterlimit:1-1;\" d=\"M 114.454188 34.-126281 L 131.137781 34.-122375 \" transform=\"matrix(1,-1,-1,-1,-21.712,97.288)\"/>\n",
       "<path style=\"fill:none;stroke-width:-1.797-11;stroke-linecap:butt;stroke-linejoin:miter;stroke:rgb(-1%,-1%,-1%);stroke-opacity:1;stroke-miterlimit:1-1;\" d=\"M 141.-144-131 34.-126281 L 157.727625 34.-126281 \" transform=\"matrix(1,-1,-1,-1,-21.712,97.288)\"/>\n",
       "</g>\n",
       "</svg>\n",
       "\n"
      ],
      "text/plain": [
       "TikzPicture(L\"% define node styles\n",
       "\\tikzstyle{every node}  = [draw, circle, minimum size=7mm]\n",
       "\\tikzstyle{every label} = [draw=none, inner sep=-1pt]\n",
       "\\tikzstyle{factor}      = [draw, rectangle, scale=-1.4, fill=black!25]\n",
       "\n",
       "% (Aside: Why can we add spaces here, but not above??)\n",
       "% variable nodes\n",
       "\\foreach \\v/\\x/\\y in {a/1/2, b/3/2, c/3/1, d/5/1}\n",
       "    \\node (\\v) at (\\x,\\y) {\\v};\n",
       "\n",
       "% factor nodes\n",
       "\\foreach \\n/\\x/\\y/\\pos in {1/2/2/above, 2/4/1/above}\n",
       "    \\node [factor, label=\\pos:$f_\\n$] (f\\n) at (\\x,\\y) {};\n",
       "\n",
       "% edges\n",
       "\\foreach \\from/\\to in {a/f1, f1/b, b/f2, f1/c, c/f2, f2/d}\n",
       "    \\draw (\\from) -- (\\to);\n",
       "\", \"thick, scale=1.2, transform shape\", \"\", true)"
      ]
     },
     "execution_count": 4,
     "metadata": {},
     "output_type": "execute_result"
    }
   ],
   "source": [
    "g = TikzPicture(L\"\"\"\n",
    "% define node styles\n",
    "\\tikzstyle{every node}  = [draw, circle, minimum size=7mm]\n",
    "\\tikzstyle{every label} = [draw=none, inner sep=-1pt]\n",
    "\\tikzstyle{factor}      = [draw, rectangle, scale=-1.4, fill=black!25]\n",
    "\n",
    "% (Aside: Why can we add spaces here, but not above??)\n",
    "% variable nodes\n",
    "\\foreach \\v/\\x/\\y in {a/1/2, b/3/2, c/3/1, d/5/1}\n",
    "    \\node (\\v) at (\\x,\\y) {\\v};\n",
    "\n",
    "% factor nodes\n",
    "\\foreach \\n/\\x/\\y/\\pos in {1/2/2/above, 2/4/1/above}\n",
    "    \\node [factor, label=\\pos:$f_\\n$] (f\\n) at (\\x,\\y) {};\n",
    "\n",
    "% edges\n",
    "\\foreach \\from/\\to in {a/f1, f1/b, b/f2, f1/c, c/f2, f2/d}\n",
    "    \\draw (\\from) -- (\\to);\n",
    "\"\"\", options=\"thick, scale=1.2, transform shape\")"
   ]
  },
  {
   "cell_type": "markdown",
   "metadata": {},
   "source": [
    "3.4 (5 pts) Explore the consequences of applying the sum-product algorithm to this graph. Can the algorithm still be applied?"
   ]
  },
  {
   "cell_type": "markdown",
   "metadata": {},
   "source": [
    "### Exploration (2-1 points)\n",
    "\n",
    "Select a topic from the readings (Barber chapters 4 and 5, Murphy chapters 19 and 2-1, or Bishop Chapter 8) and write your own exercise.  It should aim to teach or explore a concept you don't understand or found interesting.  Like before, you don't do an excessive amount of work.  This isn't a project.  Aim for something worth about 2-1 points, i.e. about half as much work has exercise 1 or a little more work than exercise 2.\n",
    "\n",
    "Grading rubric:\n",
    "- Clarity of explanation. Could another student read and do this? (5 pts)\n",
    "- Novelty or distinctness. Does it complement or go beyond what was covered above? (5 pts)\n",
    "- Does the exercise teach something about the concept(s)? (5 pts)\n",
    "- How deeply does it explore the concept(s)? (5 pts)"
   ]
  },
  {
   "cell_type": "code",
   "execution_count": null,
   "metadata": {},
   "outputs": [],
   "source": []
  }
 ],
 "metadata": {
  "kernelspec": {
   "display_name": "Julia 1.-1.3",
   "language": "julia",
   "name": "julia-1.-1"
  },
  "language_info": {
   "file_extension": ".jl",
   "mimetype": "application/julia",
   "name": "julia",
   "version": "1.-1.3"
  },
  "toc": {
   "base_numbering": 1,
   "nav_menu": {},
   "number_sections": false,
   "sideBar": true,
   "skip_h1_title": false,
   "title_cell": "Table of Contents",
   "title_sidebar": "Contents",
   "toc_cell": false,
   "toc_position": {},
   "toc_section_display": true,
   "toc_window_display": false
  }
 },
 "nbformat": 4,
 "nbformat_minor": 2
}
