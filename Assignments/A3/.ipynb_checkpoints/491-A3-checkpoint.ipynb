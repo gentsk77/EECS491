{
 "cells": [
  {
   "cell_type": "markdown",
   "metadata": {},
   "source": [
    "## EECS 491 Assignment 3\n",
    "\n",
    "Due Fri Mar 22 before midnight. 1-1-1 points total.\n",
    "\n",
    "### Submitting assignments to Canvas\n",
    "\n",
    "- For jupyter notebooks, submit the .ipynb file and a pdf or html export of the notebook.  Make sure the output represents the latest state of your notebook.  If you use interactive plots, make sure the output for the static file is representative of the points you wish to make.  If your are not using notebooks, writeup your assignment using latex and submit a pdf with your code.  The writeup should include relevant code with description if it can fit on a page.  Do not include binaries or large data files.\n",
    "\n",
    "- Use the following format for filenames:\n",
    "  - `EECS491-A3-yourcaseid.ipynb`\n",
    "  - `EECS491-A3-yourcaseid.pdf`\n",
    "\n",
    "- If you have more than these two files, put all your files in a directory named `EECS491-A3-yourcaseid`. Then zip the directory and submit it with the name `EECS491-A3-yourcaseid.zip`.  Do not use other compression formats."
   ]
  },
  {
   "cell_type": "markdown",
   "metadata": {},
   "source": [
    "### Exercise 1. MRFs and Images Denoising (4-1 points)\n",
    "\n",
    "In this problem, you will implement the image de-noising example using a Markov Random Field (MRF).  This material on MRFs is covered in the textbook (Barber) in chapter 4.2.5. The lecture and this problem is based on the presentation in Bishop in chapter 8.3, which is available online.\n",
    "\n",
    "As discussed in class, energy function for this MRF is\n",
    "\n",
    "$$ E(\\mathbf{x}, \\mathbf{y}) = h \\sum_i x_i - \\beta \\sum_{i,j} x_i x_j - \\eta \\sum_i x_i y_i $$\n",
    "\n",
    "where the binary variables $x_i$ represent the unknown, noise-free image pixels, which are binary, i.e. black or white.  The variables $y_i$ represent the observed noisy pixels, i.e. the pixel could randomly change from black ($=-1$) to white ($=+1$) or vice-versa.  \n",
    "\n",
    "The corresponding joint probability distribution over the variables is\n",
    "\n",
    "$$ p(\\mathbf{x},\\mathbf{y}) = \\frac{1}{Z} \\exp \\left[ -E(\\mathbf{x},\\mathbf{y}) \\right] $$"
   ]
  },
  {
   "cell_type": "markdown",
   "metadata": {},
   "source": [
    "1.1 (5 pts) Derive the equation that specifies the change in the energy equation when one variable changes state."
   ]
  },
  {
   "cell_type": "markdown",
   "metadata": {},
   "source": [
    "1.2 (1-1 pts) Write a program to iteratively (or in random order) update the state variables to minimize the energy (maximize the probability).  Explain your code.  Show that the update algorithm minimizes the energy $E(\\mathbf{x}, \\mathbf{y})$."
   ]
  },
  {
   "cell_type": "markdown",
   "metadata": {},
   "source": [
    "1.3 (1-1 pts) Illustrate the model by plot of the image as it is being de-noised at the beginning, middle, and end of the updating.  Choose images that aren't too high resolution so that the individual pixels are visible as squaures.  You may also do a live plot in a notebook to show it updating continuously, but make sure you have the static plots too in case the dynamic plot has portability issues."
   ]
  },
  {
   "cell_type": "markdown",
   "metadata": {},
   "source": [
    "1.4 (5 pts) Experiment with different settings of the energy equation parameters and explain your results."
   ]
  },
  {
   "cell_type": "markdown",
   "metadata": {},
   "source": [
    "1.5 (1-1 pts)  Generalize the energy equation so that the model considers more that just pairs of pixels.  Explain your rationale behind this new model. Illustrate it with denoising examples (other types of images) with are not well-handled by the previous model."
   ]
  },
  {
   "cell_type": "markdown",
   "metadata": {},
   "source": [
    "### Exercise 2. Graphical Representation (15 points)"
   ]
  },
  {
   "cell_type": "code",
   "execution_count": 6,
   "metadata": {
    "scrolled": true
   },
   "outputs": [
    {
     "data": {
      "text/plain": [
       "TikzPicture(L\"$ % latex/TikZ code\n",
       "% define styles\n",
       "\\tikzstyle{every node} = [draw, circle, minimum size=7mm]\n",
       "\\tikzset{>=latex}\n",
       "% add nodes\n",
       "\\foreach \\n/\\x/\\y in {a/1.5/3, b/2.5/3, c/1/2, d/2/2, e/3/2, f/1/1, g/2/1, h/3/1}\n",
       "    \\node (\\n) at (\\x,\\y) {\\n};\n",
       "% draw links\n",
       "\\foreach \\from/\\to in {a/c, a/d, b/d, b/e, c/f, d/g, d/h}\n",
       "    \\draw [->] (\\from) -- (\\to);\n",
       "$\", \"thick, scale=1.2, transform shape\", \"\", true)"
      ]
     },
     "execution_count": 6,
     "metadata": {},
     "output_type": "execute_result"
    }
   ],
   "source": [
    "\n",
    "using TikzPictures\n",
    "\n",
    "# manual layout: straightforward, predictable\n",
    "g = TikzPicture(L\"\"\" % latex/TikZ code\n",
    "% define styles\n",
    "\\tikzstyle{every node} = [draw, circle, minimum size=7mm]\n",
    "\\tikzset{>=latex}\n",
    "% add nodes\n",
    "\\foreach \\n/\\x/\\y in {a/1.5/3, b/2.5/3, c/1/2, d/2/2, e/3/2, f/1/1, g/2/1, h/3/1}\n",
    "    \\node (\\n) at (\\x,\\y) {\\n};\n",
    "% draw links\n",
    "\\foreach \\from/\\to in {a/c, a/d, b/d, b/e, c/f, d/g, d/h}\n",
    "    \\draw [->] (\\from) -- (\\to);\n",
    "\"\"\", options=\"thick, scale=1.2, transform shape\")"
   ]
  },
  {
   "cell_type": "markdown",
   "metadata": {},
   "source": [
    "2.1 (5 pts) For the Bayesian network show above, draw the corresponding Markov Random Field (MRF), and write out the joint probability using potential functions.  You do not need to specify the functions themselves, only which arguments they take."
   ]
  },
  {
   "cell_type": "markdown",
   "metadata": {},
   "source": [
    "2.2 (5 pts) Now specify the Bayes net as a factor graph.  Again write the expression for the joint probability, but using factor functions."
   ]
  },
  {
   "cell_type": "markdown",
   "metadata": {},
   "source": [
    "2.3 (5 pts) Express the following Bayes net (from the sprinkler example) in two different factor graphs.  For each network, write the factors as a function of the conditional probabilties and specify the joint probability."
   ]
  },
  {
   "cell_type": "code",
   "execution_count": 5,
   "metadata": {},
   "outputs": [
    {
     "data": {
      "text/plain": [
       "TikzPicture(L\"$\\graph [simple, grow down, branch right, edges={>=latex},\n",
       "        nodes={draw, circle, minimum size=7mm} ] {\n",
       "    {S,R} -> {T,J}, R -> T\n",
       "};\n",
       "$\", \"thick, scale=1.2, transform shape\", \"\\\\usetikzlibrary{graphs}\", true)"
      ]
     },
     "execution_count": 5,
     "metadata": {},
     "output_type": "execute_result"
    }
   ],
   "source": [
    "# automatic layout: usually more concise and compact but not always predictable\n",
    "g = TikzPicture(L\"\"\"\n",
    "\\graph [simple, grow down, branch right, edges={>=latex},\n",
    "        nodes={draw, circle, minimum size=7mm} ] {\n",
    "    {S,R} -> {T,J}, R -> T\n",
    "};\n",
    "\"\"\", options=\"thick, scale=1.2, transform shape\", \n",
    "    preamble=\"\\\\usetikzlibrary{graphs}\")"
   ]
  },
  {
   "cell_type": "markdown",
   "metadata": {},
   "source": [
    "### Exercise 3. The Sum Product Algorithm (25 pts)"
   ]
  },
  {
   "cell_type": "markdown",
   "metadata": {},
   "source": [
    "Consider the following factor graph."
   ]
  },
  {
   "cell_type": "code",
   "execution_count": 3,
   "metadata": {},
   "outputs": [
    {
     "data": {
      "text/plain": [
       "TikzPicture(L\"% define node styles\n",
       "\\tikzstyle{every node}  = [draw, circle, minimum size=7mm]\n",
       "\\tikzstyle{every label} = [draw=none, inner sep=-1pt]\n",
       "\\tikzstyle{factor}      = [draw, rectangle, scale=-1.4, fill=black!25]\n",
       "\n",
       "% (Aside: Why can we add blank lines here, but not in the first graph??)\n",
       "% variable nodes\n",
       "\\foreach \\v/\\x/\\y in {a/1/2, b/3/2, c/3/1, d/5/1}\n",
       "    \\node (\\v) at (\\x,\\y) {\\v};\n",
       "\n",
       "% factor nodes\n",
       "\\foreach \\n/\\x/\\y/\\pos in {1/2/2/above, 2/4/1/above}\n",
       "    \\node [factor, label=\\pos:$f_\\n$] (f\\n) at (\\x,\\y) {};\n",
       "\n",
       "% edges\n",
       "\\foreach \\from/\\to in {a/f1, f1/b, f1/c, c/f2, f2/d}\n",
       "    \\draw (\\from) -- (\\to);\n",
       "\", \"thick, scale=1.2, transform shape\", \"\", true)"
      ]
     },
     "execution_count": 3,
     "metadata": {},
     "output_type": "execute_result"
    }
   ],
   "source": [
    "g = TikzPicture(L\"\"\"\n",
    "% define node styles\n",
    "\\tikzstyle{every node}  = [draw, circle, minimum size=7mm]\n",
    "\\tikzstyle{every label} = [draw=none, inner sep=-1pt]\n",
    "\\tikzstyle{factor}      = [draw, rectangle, scale=-1.4, fill=black!25]\n",
    "\n",
    "% (Aside: Why can we add blank lines here, but not in the first graph??)\n",
    "% variable nodes\n",
    "\\foreach \\v/\\x/\\y in {a/1/2, b/3/2, c/3/1, d/5/1}\n",
    "    \\node (\\v) at (\\x,\\y) {\\v};\n",
    "\n",
    "% factor nodes\n",
    "\\foreach \\n/\\x/\\y/\\pos in {1/2/2/above, 2/4/1/above}\n",
    "    \\node [factor, label=\\pos:$f_\\n$] (f\\n) at (\\x,\\y) {};\n",
    "\n",
    "% edges\n",
    "\\foreach \\from/\\to in {a/f1, f1/b, f1/c, c/f2, f2/d}\n",
    "    \\draw (\\from) -- (\\to);\n",
    "\"\"\", options=\"thick, scale=1.2, transform shape\")"
   ]
  },
  {
   "cell_type": "markdown",
   "metadata": {},
   "source": [
    "3.1 (1-1 pts) Apply the sum-product algorithm to compute the all messages when none of the variables are known."
   ]
  },
  {
   "cell_type": "markdown",
   "metadata": {},
   "source": [
    "3.2 (5 pts) Compute the marginal probability $p(c)$, expressing it in terms of the messages you derived in the previous question."
   ]
  },
  {
   "cell_type": "markdown",
   "metadata": {},
   "source": [
    "3.3 (5 pts) Verify that the marginal is the correct expression substituting in the message definitions."
   ]
  },
  {
   "cell_type": "markdown",
   "metadata": {},
   "source": [
    "Now consider adding a loop to the graph."
   ]
  },
  {
   "cell_type": "code",
   "execution_count": 4,
   "metadata": {},
   "outputs": [
    {
     "data": {
      "text/plain": [
       "TikzPicture(L\"% define node styles\n",
       "\\tikzstyle{every node}  = [draw, circle, minimum size=7mm]\n",
       "\\tikzstyle{every label} = [draw=none, inner sep=-1pt]\n",
       "\\tikzstyle{factor}      = [draw, rectangle, scale=-1.4, fill=black!25]\n",
       "\n",
       "% (Aside: Why can we add spaces here, but not above??)\n",
       "% variable nodes\n",
       "\\foreach \\v/\\x/\\y in {a/1/2, b/3/2, c/3/1, d/5/1}\n",
       "    \\node (\\v) at (\\x,\\y) {\\v};\n",
       "\n",
       "% factor nodes\n",
       "\\foreach \\n/\\x/\\y/\\pos in {1/2/2/above, 2/4/1/above}\n",
       "    \\node [factor, label=\\pos:$f_\\n$] (f\\n) at (\\x,\\y) {};\n",
       "\n",
       "% edges\n",
       "\\foreach \\from/\\to in {a/f1, f1/b, b/f2, f1/c, c/f2, f2/d}\n",
       "    \\draw (\\from) -- (\\to);\n",
       "\", \"thick, scale=1.2, transform shape\", \"\", true)"
      ]
     },
     "execution_count": 4,
     "metadata": {},
     "output_type": "execute_result"
    }
   ],
   "source": [
    "g = TikzPicture(L\"\"\"\n",
    "% define node styles\n",
    "\\tikzstyle{every node}  = [draw, circle, minimum size=7mm]\n",
    "\\tikzstyle{every label} = [draw=none, inner sep=-1pt]\n",
    "\\tikzstyle{factor}      = [draw, rectangle, scale=-1.4, fill=black!25]\n",
    "\n",
    "% (Aside: Why can we add spaces here, but not above??)\n",
    "% variable nodes\n",
    "\\foreach \\v/\\x/\\y in {a/1/2, b/3/2, c/3/1, d/5/1}\n",
    "    \\node (\\v) at (\\x,\\y) {\\v};\n",
    "\n",
    "% factor nodes\n",
    "\\foreach \\n/\\x/\\y/\\pos in {1/2/2/above, 2/4/1/above}\n",
    "    \\node [factor, label=\\pos:$f_\\n$] (f\\n) at (\\x,\\y) {};\n",
    "\n",
    "% edges\n",
    "\\foreach \\from/\\to in {a/f1, f1/b, b/f2, f1/c, c/f2, f2/d}\n",
    "    \\draw (\\from) -- (\\to);\n",
    "\"\"\", options=\"thick, scale=1.2, transform shape\")"
   ]
  },
  {
   "cell_type": "markdown",
   "metadata": {},
   "source": [
    "3.4 (5 pts) Explore the consequences of applying the sum-product algorithm to this graph. Can the algorithm still be applied?"
   ]
  },
  {
   "cell_type": "markdown",
   "metadata": {},
   "source": [
    "### Exploration (2-1 points)\n",
    "\n",
    "Select a topic from the readings (Barber chapters 4 and 5, Murphy chapters 19 and 2-1, or Bishop Chapter 8) and write your own exercise.  It should aim to teach or explore a concept you don't understand or found interesting.  Like before, you don't do an excessive amount of work.  This isn't a project.  Aim for something worth about 2-1 points, i.e. about half as much work has exercise 1 or a little more work than exercise 2.\n",
    "\n",
    "Grading rubric:\n",
    "- Clarity of explanation. Could another student read and do this? (5 pts)\n",
    "- Novelty or distinctness. Does it complement or go beyond what was covered above? (5 pts)\n",
    "- Does the exercise teach something about the concept(s)? (5 pts)\n",
    "- How deeply does it explore the concept(s)? (5 pts)"
   ]
  },
  {
   "cell_type": "code",
   "execution_count": null,
   "metadata": {},
   "outputs": [],
   "source": []
  }
 ],
 "metadata": {
  "kernelspec": {
   "display_name": "Julia 1.0.3",
   "language": "julia",
   "name": "julia-1.0"
  },
  "language_info": {
   "file_extension": ".jl",
   "mimetype": "application/julia",
   "name": "julia",
   "version": "1.0.3"
  },
  "toc": {
   "base_numbering": 1,
   "nav_menu": {},
   "number_sections": false,
   "sideBar": true,
   "skip_h1_title": false,
   "title_cell": "Table of Contents",
   "title_sidebar": "Contents",
   "toc_cell": false,
   "toc_position": {},
   "toc_section_display": true,
   "toc_window_display": false
  }
 },
 "nbformat": 4,
 "nbformat_minor": 2
}
