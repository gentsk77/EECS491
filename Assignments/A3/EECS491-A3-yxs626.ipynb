{
 "cells": [
  {
   "cell_type": "markdown",
   "metadata": {},
   "source": [
    "## EECS 491 Assignment 3\n",
    "\n",
    "  Yue Shu  \n",
    "  Spring 2019  \n",
    "  Prof. Lewicki  "
   ]
  },
  {
   "cell_type": "markdown",
   "metadata": {},
   "source": [
    "# Exercise 1. MRFs and Images Denoising\n",
    "\n",
    "In this problem, you will implement the image de-noising example using a Markov Random Field (MRF).  This material on MRFs is covered in the textbook (Barber) in chapter 4.2.5. The lecture and this problem is based on the presentation in Bishop in chapter 8.3, which is available online.\n",
    "\n",
    "As discussed in class, energy function for this MRF is\n",
    "\n",
    "$$ E(\\mathbf{x}, \\mathbf{y}) = h \\sum_i x_i - \\beta \\sum_{i,j} x_i x_j - \\eta \\sum_i x_i y_i $$\n",
    "\n",
    "where the binary variables $x_i$ represent the unknown, noise-free image pixels, which are binary, i.e. black or white.  The variables $y_i$ represent the observed noisy pixels, i.e. the pixel could randomly change from black ($=-1$) to white ($=+1$) or vice-versa.  \n",
    "\n",
    "The corresponding joint probability distribution over the variables is\n",
    "\n",
    "$$ p(\\mathbf{x},\\mathbf{y}) = \\frac{1}{Z} \\exp \\left[ -E(\\mathbf{x},\\mathbf{y}) \\right] $$\n",
    "\n",
    "## 1.1 Derive the equation that specifies the change in the energy equation when one variable changes state."
   ]
  },
  {
   "cell_type": "markdown",
   "metadata": {},
   "source": [
    "Started with the original energy function equation $E$, we have: \n",
    "\n",
    "$$ E(\\mathbf{x}, \\mathbf{y}) = h \\sum_i x_i - \\beta \\sum_{i,j} x_i x_j - \\eta \\sum_i x_i y_i $$\n",
    "\n",
    "  Now let $x_k'$ denote the state of $x_k$ after changing, and $E'$ denotes the new energy equation.\n",
    "  Since each pixel of the image we're discussing here is a binary variable, we may simply assume that the change of one variable is either from $+1$ to $-1$ or vice-versa. By flipping the state of $x_i$, we simply flip by sign and thus obtain $x_i' = -x_i$.\n",
    "\n",
    "  Therefore, to calculate the difference in the energy equation, we simply substract $E'$ from $E$ as below:\n",
    "\n",
    "  $$ E' - E =    E(\\mathbf{x}', \\mathbf{y}) -   E(\\mathbf{x}, \\mathbf{y}) $$ \n",
    "  $$ =  h * (x_0 + ... + x_k' + ... + x_n) - \\beta * (x_0x_1 + ... + x_0x_k' + ... + x_0x_n + ... + x_k'x_0 + ... + x_k'x_n + ... $$\n",
    "  $$ + x_nx_0 + ... + x_nx_k' + ... + x_nx_{n-1}) - \\eta * (x_0y_0 + ... + x_k'y_k + ... + x_ny_n) $$\n",
    "  $$ - (h * (x_0 + ... + x_k + ... + x_n) - \\beta * (x_0x_1 + ... + x_0x_k + ... + x_0x_n + ... + x_kx_0 + ... + x_kx_n + ... $$\n",
    "  $$ + x_nx_0 + ... + x_nx_k + ... + x_nx_{n-1}) - \\eta * (x_0y_0 + ... + x_ky_k + ... + x_ny_n)) $$\n",
    "  $$ = h * (x_0 + ... - x_k + ... + x_n) - \\beta * (x_0x_1 + ... - x_0x_k + ... + x_0x_n + ... - x_kx_0 + ... - x_kx_n + ... $$\n",
    "  $$ + x_nx_0 + ... - x_nx_k + ... + x_nx_{n-1}) - \\eta * (x_0y_0 + ... - x_ky_k + ... + x_ny_n) $$\n",
    "  $$ - (h * (x_0 + ... + x_k + ... + x_n) - \\beta * (x_0x_1 + ... + x_0x_k + ... + x_0x_n + ... + x_kx_0 + ... + x_kx_n + ... $$\n",
    "  $$ + x_nx_0 + ... + x_nx_k + ... + x_nx_{n-1}) - \\eta * (x_0y_0 + ... + x_ky_k + ... + x_ny_n)) $$\n",
    "  $$ E' - E = -2hx_k + 2\\beta (2 \\sum_i x_i x_k) + 2 \\eta x_k y_k = -2hx_k + 4\\beta \\sum_i x_i x_k + 2 \\eta x_k y_k\n",
    "  $$\n",
    "\n",
    "And the final equation $E' - E$ that specifies the change in the energy equation when one variable $x_k$ changes state is:\n",
    "\n",
    "$$ E' - E = -2hx_k + 4\\beta \\sum_i x_i x_k + 2 \\eta x_k y_k $$"
   ]
  },
  {
   "cell_type": "markdown",
   "metadata": {},
   "source": []
  },
  {
   "cell_type": "markdown",
   "metadata": {},
   "source": []
  },
  {
   "cell_type": "markdown",
   "metadata": {},
   "source": []
  },
  {
   "cell_type": "markdown",
   "metadata": {},
   "source": []
  },
  {
   "cell_type": "markdown",
   "metadata": {},
   "source": []
  },
  {
   "cell_type": "markdown",
   "metadata": {},
   "source": []
  },
  {
   "cell_type": "markdown",
   "metadata": {},
   "source": []
  },
  {
   "cell_type": "code",
   "execution_count": null,
   "metadata": {},
   "outputs": [],
   "source": []
  },
  {
   "cell_type": "code",
   "execution_count": null,
   "metadata": {},
   "outputs": [],
   "source": []
  },
  {
   "cell_type": "code",
   "execution_count": null,
   "metadata": {},
   "outputs": [],
   "source": []
  },
  {
   "cell_type": "code",
   "execution_count": null,
   "metadata": {},
   "outputs": [],
   "source": []
  },
  {
   "cell_type": "code",
   "execution_count": null,
   "metadata": {},
   "outputs": [],
   "source": []
  },
  {
   "cell_type": "code",
   "execution_count": null,
   "metadata": {},
   "outputs": [],
   "source": []
  },
  {
   "cell_type": "code",
   "execution_count": null,
   "metadata": {},
   "outputs": [],
   "source": []
  },
  {
   "cell_type": "code",
   "execution_count": null,
   "metadata": {},
   "outputs": [],
   "source": []
  },
  {
   "cell_type": "code",
   "execution_count": null,
   "metadata": {},
   "outputs": [],
   "source": []
  }
 ],
 "metadata": {
  "kernelspec": {
   "display_name": "Python 2",
   "language": "python",
   "name": "python2"
  },
  "language_info": {
   "codemirror_mode": {
    "name": "ipython",
    "version": 2
   },
   "file_extension": ".py",
   "mimetype": "text/x-python",
   "name": "python",
   "nbconvert_exporter": "python",
   "pygments_lexer": "ipython2",
   "version": "2.7.15"
  }
 },
 "nbformat": 4,
 "nbformat_minor": 2
}
