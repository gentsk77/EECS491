{
 "cells": [
  {
   "cell_type": "markdown",
   "metadata": {},
   "source": [
    "## EECS 491 Assignment 1\n",
    "Yue Shu"
   ]
  },
  {
   "cell_type": "markdown",
   "metadata": {},
   "source": [
    "# Q1. Basic Probability"
   ]
  },
  {
   "cell_type": "markdown",
   "metadata": {},
   "source": [
    "## 1.1 \n",
    "**Prove\n",
    "\\begin{equation}\n",
    "p(x,y|z) = p(x|z)p(y|x,z)\n",
    "\\end{equation}**"
   ]
  },
  {
   "cell_type": "markdown",
   "metadata": {},
   "source": [
    "*Proof:* \n",
    "$$ p(x,y|z) = \\frac{p(x,y,z)}{p(z)} $$\n",
    "$$ p(x,y,z) = p(y|x,z)p(x,z) $$\n",
    "$$ p(x,y|z) = \\frac{p(y|x,z)p(x,z)}{p(z)} $$\n",
    "$$ \\frac{p(x,z)}{p(z)} = p(x|z) $$\n",
    "$$ p(x,y|z) = p(y|x,z)p(x|z) $$\n",
    "Therefore, \n",
    "\\begin{equation}\n",
    "p(x,y|z) = p(x|z)p(y|x,z)\n",
    "\\end{equation}"
   ]
  },
  {
   "cell_type": "markdown",
   "metadata": {},
   "source": [
    "## 1.2 \n",
    "**Prove**  \n",
    "\\begin{equation}\n",
    "p(x|y,z) = \\frac{p(y|x,z)p(x|z)}{p(y|z)}\n",
    "\\end{equation}"
   ]
  },
  {
   "cell_type": "markdown",
   "metadata": {},
   "source": [
    "*Proof:* \n",
    "$$ p(x|y,z) = \\frac{p(x,y,z)}{p(y,z)} $$\n",
    "$$ p(x,y,z) = p(y|x,z)p(x,z) $$\n",
    "$$ p(x|y,z) = \\frac{p(y|x,z)p(x,z)}{p(y,z)} $$\n",
    "$$ p(x,z) = p(x|z)p(z) $$\n",
    "$$ p(y,z) = p(y|z)p(z) $$\n",
    "Therefore, \n",
    "$$ p(x|y,z) = \\frac{p(y|x,z)p(x|z)p(z)}{p(y|z)p(z)} = \\frac{p(y|x,z)p(x|z)}{p(y|z)}$$"
   ]
  },
  {
   "cell_type": "markdown",
   "metadata": {},
   "source": [
    "# Q2. Independence"
   ]
  },
  {
   "cell_type": "markdown",
   "metadata": {},
   "source": [
    "## 2.1 \n",
    "**Show that independence is not transitive, i.e. \n",
    "$a ⫫ b ∧ b ⫫ c ⇏ a ⫫ c$. Define a joint probability distribution $p(a,b,c)$ for which the previous expression holds and provide an interpretation.**"
   ]
  },
  {
   "cell_type": "markdown",
   "metadata": {},
   "source": [
    "*Proof:* \n",
    "\n",
    "  Let's define a probability distribution set as follow: $p(a) = 0.4$, $p(b) = 0.8$, $p(c) = 0.3$,  \n",
    "  while $p(a ∧ b) = 0.32$, $p(b ∧ c) = 0.24$, $p(a ∧ c) = 0.1$, $p(a ∧ b ∧ c) = 0.12$.\n",
    "\n",
    "According to the definition of proposition independence, $x$ and $y$ are independent if and only if $p(x ∧ y) = p(x) * p(y)$.\n",
    "\n",
    "Therefore, by the defined joint probability distribution, $a ⫫ b ∧ b ⫫ c$ since $p(a ∧ b) = 0.32 = p(a) * p(b)$ and $p(b ∧ c) = 0.24 = p(b) * p(c)$, whereas $a \\not\\!\\perp\\!\\!\\!\\perp c$ since $p(a ∧ c) = 0.1 \\neq p(a) * p(c) = 0.12$.\n",
    "\n",
    "Finally, we can also see that  $p(a ∧ b ∧ c) = 0.12 \\neq p(a) * p(b) * p(c) = 0.96$, which further proves that this is not an independent set.\n",
    "\n",
    "Therefore, we may conclude that independence is not transitive, i.e. $a ⫫ b ∧ b ⫫ c ⇏ a ⫫ c$."
   ]
  },
  {
   "cell_type": "markdown",
   "metadata": {},
   "source": [
    "## 2.2\n",
    "**Show that conditional independence does not imply marginal independence, i.e. $a ⫫ b | c ⇏ a ⫫ b$. Again provide an example.**"
   ]
  },
  {
   "cell_type": "markdown",
   "metadata": {},
   "source": [
    "*Proof:* \n",
    "\n",
    "  Let's define a conditional probability distribution set as follow: $p(a) = 0.4$, $p(b) = 0.8$, $p(a ∧ b) = 0.28$.  \n",
    "  Also, $p(a|c) = 0.5$, $p(b|c) = 0.6$, $p(a ∧ b|c) = 0.3$.\n",
    "  \n",
    "By definition of conditional independence, $a ⫫ b | c ⇔ (a | c) ⫫ (b | c) ⇔ p(a|c) * p(b|c) = p(a ∧ b|c)$.\n",
    "\n",
    "Therefore, by the defined conditional probability distribution, $a ⫫ b | c$ since $p(a|c) * p(b|c) = 0.3 = p(a ∧ b|c)$.\n",
    "\n",
    "However, $a \\not\\!\\perp\\!\\!\\!\\perp b$ since $p(a ∧ b) = 0.28 \\neq p(a) * p(b) = 0.32$.\n",
    "\n",
    "Therefore, we shall conclude that conditional independence does not imply marginal independence, i.e. $a ⫫ b | c ⇏ a ⫫ b$."
   ]
  },
  {
   "cell_type": "markdown",
   "metadata": {},
   "source": [
    "# Q3. Inspector Clouseau re-revisited"
   ]
  },
  {
   "cell_type": "markdown",
   "metadata": {},
   "source": [
    "## 3.1"
   ]
  },
  {
   "cell_type": "markdown",
   "metadata": {},
   "source": [
    "**Write a program to evaluate $p(B|K)$ in Example 1.3 in Barber. Write your code and choose your data representations so that it is easy to use it to solve the remaining questions. Show that it correctly computes the value in the example.** "
   ]
  },
  {
   "cell_type": "markdown",
   "metadata": {},
   "source": [
    "Let's first define the variables we will be using in the program to make it clear:\n",
    "\n",
    "  `pb`: $p(B = murderer)$  \n",
    "  `pm`: $p(M = murderer)$  \n",
    "  `pKBM`: $p(K,B,M)$  \n",
    "  `pnm`: $p(M = not~murderer)$  \n",
    "  And for conditional probabilities, `_` in a variable is equivalent to `|`, for example, `pa_b` means $p(a|b)$, `pab_c` means $p(a,b|c)$.  "
   ]
  },
  {
   "cell_type": "code",
   "execution_count": 1,
   "metadata": {},
   "outputs": [
    {
     "name": "stdout",
     "output_type": "stream",
     "text": [
      "The answer to problem 3.1, p(B|K) = <0.7281553398058251, 0.27184466019417475>.\n"
     ]
    }
   ],
   "source": [
    "pb = 0.6\n",
    "pm = 0.2\n",
    "pk_nbnm = 0.3\n",
    "pk_nbm = 0.2\n",
    "pk_bnm = 0.6\n",
    "pk_bm = 0.1\n",
    "## Calculating the value of p(B|K) according to equation 1.2.7 in Example 1.3 in Barber\n",
    "def __pB_K__(pB, pk_Bm, pk_Bnm):\n",
    "    pB_K = (pB * (pk_Bm * pm + pk_Bnm * (1 - pm))) / (pb * (pk_bm * pm + pk_bnm * (1 - pm)) + \n",
    "                                                      (1 - pb) * (pk_nbm * pm + pk_nbnm * (1 - pm)))\n",
    "    return pB_K\n",
    "## The value of p(B = murderer|K)\n",
    "pb_k = __pB_K__(pb, pk_bm, pk_bnm)\n",
    "## The value of p(B = not murderer|K)\n",
    "pnb_k = __pB_K__(1 - pb, pk_nbm, pk_nbnm)\n",
    "print(\"The answer to problem 3.1, p(B|K) = <\" + str(pb_k) + \", \" + str(pnb_k) + \">.\")"
   ]
  },
  {
   "cell_type": "markdown",
   "metadata": {},
   "source": [
    "  According to equation 1.2.8 in Example 1.3, the result of $p(B = murderer|knife~used)$ is rounded to 0.73, which conforms with the answer we just got above. Also, the normalized results of $p(b|K)$ and $p(\\neg b|K)$ sum to 1 correctly.  \n",
    "  Therefore, my function correctly computes the value in the example."
   ]
  },
  {
   "cell_type": "markdown",
   "metadata": {},
   "source": [
    "## 3.2 "
   ]
  },
  {
   "cell_type": "markdown",
   "metadata": {},
   "source": [
    "**Define a different distribution for $p(K|M,B)$.  Your new distribution should result in the outcome that $p(B|K)$ is either $<0.1$ or $>0.9$, i.e. reasonably strong evidence.  Use the original values of $p(B)$ and $p(M)$ from the example.  Provide (invent) a reasonble justification for the value of each entry in $p(K|M,B)$.** "
   ]
  },
  {
   "cell_type": "markdown",
   "metadata": {},
   "source": [
    "  Let's suppose that we have reasonably strong evidence implying the guilty of the Butler.  \n",
    "  To make that happen, we need to ensure that the Butler is more likely to use knife as a murder weapon rather than the Maid.\n",
    "  \n",
    "  `pk_nbnm = 0.05`: it is very unlikely that the knife is used by someone else other than the two suspects we have since this is a locked room murder and the murderer cannot escape!  \n",
    "  `pk_nbm = 0.2`: it is less likely that the Maid would use the knife as a murder weapon since she might be too weak to stab the knife into the victim.  \n",
    "  `pk_bnm = 0.75`: it is very likely that the strong merciless Butler would use the knife as a murder weapon.  \n",
    "  `pk_bm = 0.3`: it is possible that the two conspiracies would use the knife as murder weapon together.\n",
    "  \n",
    "Now that we have the values, let's plug them in and see the outcome: "
   ]
  },
  {
   "cell_type": "code",
   "execution_count": 2,
   "metadata": {},
   "outputs": [
    {
     "name": "stdout",
     "output_type": "stream",
     "text": [
      "The answer to problem 3.2, p(B|K) = <0.9252336448598131, 0.07476635514018691>.\n"
     ]
    }
   ],
   "source": [
    "pk_nbnm = 0.05\n",
    "pk_nbm = 0.2\n",
    "pk_bnm = 0.75\n",
    "pk_bm = 0.3\n",
    "## The value of p(B = murderer|K)\n",
    "pb_k = __pB_K__(pb, pk_bm, pk_bnm)\n",
    "## The value of p(B = not murderer|K)\n",
    "pnb_k = __pB_K__(1 - pb, pk_nbm, pk_nbnm)\n",
    "print(\"The answer to problem 3.2, p(B|K) = <\" + str(pb_k) + \", \" + str(pnb_k) + \">.\")"
   ]
  },
  {
   "cell_type": "markdown",
   "metadata": {},
   "source": [
    "Now we have reasonably strong evidence that the Butler is the murderer, as we wish. Guess who's the dirty cop?"
   ]
  },
  {
   "cell_type": "markdown",
   "metadata": {},
   "source": [
    "## 3.3"
   ]
  },
  {
   "cell_type": "markdown",
   "metadata": {},
   "source": [
    "**Derive the equation for $p(M|K)$.** "
   ]
  },
  {
   "cell_type": "markdown",
   "metadata": {},
   "source": [
    "We can derive the equation for $p(M|K)$ following the equation 1.2.7 in Example 1.3 in the textbook as follow:  \n",
    "\n",
    "$$ p(M|K) = \\sum_{b} p(M,b|K) = \\sum_{b} \\frac{p(M,b,K)}{p(K)} = \\frac{\\sum_{b} p(K|M,b)p(M,b)}{\\sum_{b, m} p(K|b,m)p(b,m)} $$\n",
    "$$ p(M|K) = \\frac{p(M)\\sum_{b} p(K|M,b)p(b)}{\\sum_{m} p(m) \\sum_{b} p(K|b,m)p(b)} $$ \n",
    "\n",
    "And then we shall derive a function according to the equation above to calculate $p(M|K)$:"
   ]
  },
  {
   "cell_type": "code",
   "execution_count": 3,
   "metadata": {},
   "outputs": [],
   "source": [
    "def __pM_K__(pM, pk_bM, pk_nbM):\n",
    "    pM_K = (pM * (pk_bM * pb + pk_nbM * (1 - pb))) / (pm * (pk_bm * pb + pk_nbm * (1 - pb)) + \n",
    "                                                      (1 - pm) * (pk_bnm * pb + pk_nbnm * (1 - pb)))\n",
    "    return pM_K"
   ]
  },
  {
   "cell_type": "markdown",
   "metadata": {},
   "source": [
    "## 3.4"
   ]
  },
  {
   "cell_type": "markdown",
   "metadata": {},
   "source": [
    "**Calculate it's value for both the original $p(K|M,B)$ and the one you defined yourself. Is it possible to provide a summary of the main factors that contributed to the value?  Why/Why not?  Explain.** "
   ]
  },
  {
   "cell_type": "markdown",
   "metadata": {},
   "source": [
    "### Original entry\n",
    "Let's first take a look at the result calculated with the original $p(K|M,B)$:"
   ]
  },
  {
   "cell_type": "code",
   "execution_count": 4,
   "metadata": {},
   "outputs": [
    {
     "name": "stdout",
     "output_type": "stream",
     "text": [
      "The answer to problem 3.4.1, p(M|K) = <0.06796116504854369, 0.9320388349514562>.\n"
     ]
    }
   ],
   "source": [
    "## The original value set\n",
    "pk_nbnm = 0.3\n",
    "pk_nbm = 0.2\n",
    "pk_bnm = 0.6\n",
    "pk_bm = 0.1\n",
    "\n",
    "## The value of p(M = murderer|K)\n",
    "pm_k = __pM_K__(pm, pk_bm, pk_nbm)\n",
    "## The value of p(M = not murderer|K)\n",
    "pnm_k = __pM_K__(1 - pm, pk_bnm, pk_nbnm)\n",
    "\n",
    "print(\"The answer to problem 3.4.1, p(M|K) = <\" + str(pm_k) + \", \" + str(pnm_k) + \">.\")"
   ]
  },
  {
   "cell_type": "markdown",
   "metadata": {},
   "source": [
    "### Modified entry\n",
    "Let's now take a look at the result calculated with my modified $p(K|M,B)$:"
   ]
  },
  {
   "cell_type": "code",
   "execution_count": 5,
   "metadata": {},
   "outputs": [
    {
     "name": "stdout",
     "output_type": "stream",
     "text": [
      "The answer to problem 3.4.2, p(M|K) = <0.12149532710280375, 0.8785046728971962>.\n"
     ]
    }
   ],
   "source": [
    "## The modified value set\n",
    "pk_nbnm = 0.05\n",
    "pk_nbm = 0.2\n",
    "pk_bnm = 0.75\n",
    "pk_bm = 0.3\n",
    "\n",
    "## The value of p(M = murderer|K)\n",
    "pm_k = __pM_K__(pm, pk_bm, pk_nbm)\n",
    "## The value of p(M = not murderer|K)\n",
    "pnm_k = __pM_K__(1 - pm, pk_bnm, pk_nbnm)\n",
    "\n",
    "print(\"The answer to problem 3.4.2, p(M|K) = <\" + str(pm_k) + \", \" + str(pnm_k) + \">.\")"
   ]
  },
  {
   "cell_type": "markdown",
   "metadata": {},
   "source": [
    "  If we compare the two results, we shall see that the probability that the Maid was the murderer is actually higher in our modified condition!  \n",
    "  Besides a slightly higher value of $p(k|b,\\neg m)$ in our modified dataset, the two major differences between the originial and modified $p(K|M,B)$ is that our modified dataset has a smaller $p(k|\\neg b, \\neg m)$ and a larger $p(k|b,m)$.  \n",
    "  Since it's not so favorable to look for main factors while there are too many variables in the dataset, I will make a few more comparisons variating one single entry from the original dataset each time. "
   ]
  },
  {
   "cell_type": "markdown",
   "metadata": {},
   "source": [
    "### Trial One: smaller  $p(k|\\neg b, \\neg m)$\n",
    "Variating only the $p(k|\\neg b, \\neg m)$ to be $1/3$ of the original value slightly increases the probability of $p(m|k)$ as shown below:"
   ]
  },
  {
   "cell_type": "code",
   "execution_count": 6,
   "metadata": {},
   "outputs": [
    {
     "name": "stdout",
     "output_type": "stream",
     "text": [
      "The result of trial one is p(M|K) = <0.08045977011494251, 0.9195402298850575>.\n"
     ]
    }
   ],
   "source": [
    "pk_nbnm = 0.1\n",
    "pk_nbm = 0.2\n",
    "pk_bnm = 0.6\n",
    "pk_bm = 0.1\n",
    "\n",
    "## The value of p(M = murderer|K)\n",
    "pm_k = __pM_K__(pm, pk_bm, pk_nbm)\n",
    "## The value of p(M = not murderer|K)\n",
    "pnm_k = __pM_K__(1 - pm, pk_bnm, pk_nbnm)\n",
    "\n",
    "print(\"The result of trial one is p(M|K) = <\" + str(pm_k) + \", \" + str(pnm_k) + \">.\")"
   ]
  },
  {
   "cell_type": "markdown",
   "metadata": {},
   "source": [
    "### Trial Two: larger $p(k|b,\\neg m)$\n",
    "Increasing only the $p(k|b,\\neg m)$ by $1/3$ of the original value slightly decreases the probability of $p(m|k)$ as shown below:"
   ]
  },
  {
   "cell_type": "code",
   "execution_count": 7,
   "metadata": {},
   "outputs": [
    {
     "name": "stdout",
     "output_type": "stream",
     "text": [
      "The result of trial two is p(M|K) = <0.05511811023622048, 0.9448818897637795>.\n"
     ]
    }
   ],
   "source": [
    "pk_nbnm = 0.3\n",
    "pk_nbm = 0.2\n",
    "pk_bnm = 0.8\n",
    "pk_bm = 0.1\n",
    "\n",
    "## The value of p(M = murderer|K)\n",
    "pm_k = __pM_K__(pm, pk_bm, pk_nbm)\n",
    "## The value of p(M = not murderer|K)\n",
    "pnm_k = __pM_K__(1 - pm, pk_bnm, pk_nbnm)\n",
    "\n",
    "print(\"The result of trial two is p(M|K) = <\" + str(pm_k) + \", \" + str(pnm_k) + \">.\")"
   ]
  },
  {
   "cell_type": "markdown",
   "metadata": {},
   "source": [
    "### Trial Three: larger $p(k|b,m)$\n",
    "Increasing only the $p(k|b,m)$ by $1/3$ of the original value slightly increases the probability of $p(m|k)$ as shown below:"
   ]
  },
  {
   "cell_type": "code",
   "execution_count": 8,
   "metadata": {},
   "outputs": [
    {
     "name": "stdout",
     "output_type": "stream",
     "text": [
      "The result of trial three is p(M|K) = <0.07603464870067374, 0.9239653512993262>.\n"
     ]
    }
   ],
   "source": [
    "pk_nbnm = 0.3\n",
    "pk_nbm = 0.2\n",
    "pk_bnm = 0.6\n",
    "pk_bm = 0.13\n",
    "\n",
    "## The value of p(M = murderer|K)\n",
    "pm_k = __pM_K__(pm, pk_bm, pk_nbm)\n",
    "## The value of p(M = not murderer|K)\n",
    "pnm_k = __pM_K__(1 - pm, pk_bnm, pk_nbnm)\n",
    "\n",
    "print(\"The result of trial three is p(M|K) = <\" + str(pm_k) + \", \" + str(pnm_k) + \">.\")"
   ]
  },
  {
   "cell_type": "markdown",
   "metadata": {},
   "source": [
    "### Trial Four: larger $p(k|\\neg b,m)$\n",
    "Increasing only the $p(k|\\neg b,m)$ by $1/3$ of the original value slightly increases the probability of $p(m|k)$ as shown below:"
   ]
  },
  {
   "cell_type": "code",
   "execution_count": 9,
   "metadata": {},
   "outputs": [
    {
     "name": "stdout",
     "output_type": "stream",
     "text": [
      "The result of trial four is p(M|K) = <0.07869481765834933, 0.9213051823416507>.\n"
     ]
    }
   ],
   "source": [
    "pk_nbnm = 0.3\n",
    "pk_nbm = 0.26\n",
    "pk_bnm = 0.6\n",
    "pk_bm = 0.1\n",
    "\n",
    "## The value of p(M = murderer|K)\n",
    "pm_k = __pM_K__(pm, pk_bm, pk_nbm)\n",
    "## The value of p(M = not murderer|K)\n",
    "pnm_k = __pM_K__(1 - pm, pk_bnm, pk_nbnm)\n",
    "\n",
    "print(\"The result of trial four is p(M|K) = <\" + str(pm_k) + \", \" + str(pnm_k) + \">.\")"
   ]
  },
  {
   "cell_type": "markdown",
   "metadata": {},
   "source": [
    "### Conclusion\n",
    "  As we can see from the four trials above, variating the entries of $p(K|B,M)$ by $1/3$ contributes to the same extent of variance to the fianl result we get. Therefore, all four are the factors that contributed to the value, or in other words, none of the entires is the main factor that affects the value.  \n",
    "  In fact, $p(M)$ is the main factor to the value as we also can conclude from the equation we derived from part 3.3. "
   ]
  },
  {
   "cell_type": "markdown",
   "metadata": {},
   "source": [
    "# Q4. Biased views"
   ]
  },
  {
   "cell_type": "markdown",
   "metadata": {},
   "source": [
    "## 4.1\n",
    "**Write a program that calculates the posterior distribution of the $\\theta$ (probability of heads) from the Binomial distribution given $y$ heads out of $n$ trials.  Feel free to use a package where the necessary distributions are defined as primitives.**"
   ]
  },
  {
   "cell_type": "markdown",
   "metadata": {},
   "source": [
    "First of all let's derive all the equations and expressions we need:\n",
    "\n",
    "  The `likelihood` (probability of getting $y$ heads out of n trials with a heads probability of $\\theta $):\n",
    "  $$ p(y | \\theta, n) = {n \\choose y} \\theta^y (1 - \\theta)^{n-y}$$\n",
    "  The `prior` (what is our \"view\" on the coin bias):\n",
    "  $$ p(\\theta|n) $$ \n",
    "  The `normalizing constant`:\n",
    "  $$ p(y|n) = \\int_{0}^1 p(y|\\theta,n)p(\\theta|n)d\\theta = \\frac{1}{n + 1}$$\n",
    "  And then we shall come up with the equation of the `posterior distribution` of $\\theta$ given uninformative prior:\n",
    "  $$ p(\\theta|y,n) = {n \\choose y} \\theta^y (1 - \\theta)^{n - y}(n + 1) $$\n",
    "  \n",
    "Now we shall derive a function of the posterior distribution according to the equation we just had:"
   ]
  },
  {
   "cell_type": "code",
   "execution_count": 10,
   "metadata": {},
   "outputs": [],
   "source": [
    "import numpy as np\n",
    "import scipy.stats\n",
    "from scipy.stats import binom\n",
    "\n",
    "def __posterior__ (y, n, theta, prior):\n",
    "    likelihood = binom.pmf(y, n, theta)\n",
    "    posterior = likelihood * (n + 1) * prior\n",
    "    return posterior"
   ]
  },
  {
   "cell_type": "markdown",
   "metadata": {},
   "source": [
    "## 4.2\n",
    "**Imagine three different views on the coin bias:**\n",
    "- **\"I believe strongly that the coin is biased to either mostly heads or mostly tails.\"**\n",
    "- **\"I believe strongly that the coin is unbiased\".**\n",
    "- **\"I don't know anything about the bias of the coin.\"**\n",
    "\n",
    "**Define and plot prior distributions that expresses each of these beliefs.  Provide a brief explanation.**"
   ]
  },
  {
   "cell_type": "markdown",
   "metadata": {},
   "source": [
    "### Strong belief that the coin is biased\n",
    "  We know that our coin is very biased in one way or the other, although we have no idea in which way yet.  \n",
    "  In this case, we shall need a beta function with the shape of its graph similar to a \"U\". A Jeffreys prior may be a good example, where $\\alpha = 0.5,~\\beta = 0.5$.\n",
    "  \n",
    "Now let's plot the PDF of our beta distribution!"
   ]
  },
  {
   "cell_type": "code",
   "execution_count": 25,
   "metadata": {},
   "outputs": [
    {
     "data": {
      "image/png": "[encoded data removed]",
      "text/plain": [
       "<Figure size 432x288 with 1 Axes>"
      ]
     },
     "metadata": {
      "needs_background": "light"
     },
     "output_type": "display_data"
    }
   ],
   "source": [
    "import matplotlib.pyplot as plt\n",
    "import matplotlib as mpl\n",
    "\n",
    "def __prior__(alpha, beta):\n",
    "    x = np.linspace(0, 1, 100)\n",
    "    y = scipy.stats.beta.pdf(x, alpha, beta)\n",
    "    fig, ax = plt.subplots()\n",
    "    ax.plot(x, y)\n",
    "    ax.set_xlabel(r\"$\\theta$\")\n",
    "    ax.set_ylabel(r\"$p(\\theta)$\")\n",
    "    ax.set_title(\"PDF of beta distribution ({},{})\".format(alpha,beta));\n",
    "    \n",
    "__prior__(0.5, 0.5)"
   ]
  },
  {
   "cell_type": "markdown",
   "metadata": {},
   "source": [
    "From the graph above, we shall see very high probability distribution on both sides of heads and tails, implying that this is a very biased coin just as how we believed. "
   ]
  },
  {
   "cell_type": "markdown",
   "metadata": {},
   "source": [
    "### Strong belief that the coin is unbaised"
   ]
  },
  {
   "cell_type": "markdown",
   "metadata": {},
   "source": [
    "  In this case we have very strong belief that the coin is unbiased, probably because we have seen our friend tossing it many times, and the probability of heads converges to 0.5.  \n",
    "  Anyways, we base our belief on the prior knowledge about the coin, so we should have very large values for both of the $\\alpha$ and $\\beta$ accordingly. Let's assume $\\alpha = 100,~\\beta = 100$ \n",
    "  \n",
    "The PDF of our beta distribution should look like the following image:"
   ]
  },
  {
   "cell_type": "code",
   "execution_count": 26,
   "metadata": {},
   "outputs": [
    {
     "data": {
      "image/png": "[encoded data removed]",
      "text/plain": [
       "<Figure size 432x288 with 1 Axes>"
      ]
     },
     "metadata": {
      "needs_background": "light"
     },
     "output_type": "display_data"
    }
   ],
   "source": [
    "__prior__(100, 100)"
   ]
  },
  {
   "cell_type": "markdown",
   "metadata": {},
   "source": [
    "From the graph above, we shall see the distribution centered at $\\theta = 0.5$, meaning equal probability of getting heads and tails, which conforms with our belief that this is a very unbiased coin. "
   ]
  },
  {
   "cell_type": "markdown",
   "metadata": {},
   "source": [
    "### No informative knowledge abot the bias of the coin"
   ]
  },
  {
   "cell_type": "markdown",
   "metadata": {},
   "source": [
    "  Very sadly, in this case we have no informative prior knowledge about the prior.  \n",
    "  To make sense of that, the value of our $\\alpha$ and $\\beta$ should represent our first trial on this coin. Therefore, we should have $\\alpha = 1,~\\beta = 1$  \n",
    "  \n",
    "Let's take a look at our PDF of beta distribution with no prior knowledge:"
   ]
  },
  {
   "cell_type": "code",
   "execution_count": 27,
   "metadata": {},
   "outputs": [
    {
     "data": {
      "image/png": "[encoded data removed]",
      "text/plain": [
       "<Figure size 432x288 with 1 Axes>"
      ]
     },
     "metadata": {
      "needs_background": "light"
     },
     "output_type": "display_data"
    }
   ],
   "source": [
    "__prior__(1, 1)"
   ]
  },
  {
   "cell_type": "markdown",
   "metadata": {},
   "source": [
    "In this case, we shall see a flat distribution, meaning that all biases are equally likely, which conforms with the fact that we have no informative knowledge about the prior. "
   ]
  },
  {
   "cell_type": "markdown",
   "metadata": {},
   "source": [
    "## 4.3"
   ]
  },
  {
   "cell_type": "markdown",
   "metadata": {},
   "source": []
  },
  {
   "cell_type": "markdown",
   "metadata": {},
   "source": []
  }
 ],
 "metadata": {
  "kernelspec": {
   "display_name": "Python 3",
   "language": "python",
   "name": "python3"
  },
  "language_info": {
   "codemirror_mode": {
    "name": "ipython",
    "version": 3
   },
   "file_extension": ".py",
   "mimetype": "text/x-python",
   "name": "python",
   "nbconvert_exporter": "python",
   "pygments_lexer": "ipython3",
   "version": "3.7.0"
  }
 },
 "nbformat": 4,
 "nbformat_minor": 2
}
