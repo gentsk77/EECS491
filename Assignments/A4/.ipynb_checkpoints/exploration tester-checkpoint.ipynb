{
 "cells": [
  {
   "cell_type": "code",
   "execution_count": 1,
   "metadata": {},
   "outputs": [
    {
     "data": {
      "text/html": [
       "<div>\n",
       "<style scoped>\n",
       "    .dataframe tbody tr th:only-of-type {\n",
       "        vertical-align: middle;\n",
       "    }\n",
       "\n",
       "    .dataframe tbody tr th {\n",
       "        vertical-align: top;\n",
       "    }\n",
       "\n",
       "    .dataframe thead th {\n",
       "        text-align: right;\n",
       "    }\n",
       "</style>\n",
       "<table border=\"1\" class=\"dataframe\">\n",
       "  <thead>\n",
       "    <tr style=\"text-align: right;\">\n",
       "      <th></th>\n",
       "      <th>sepal_len</th>\n",
       "      <th>sepal_wid</th>\n",
       "      <th>petal_len</th>\n",
       "      <th>petal_wid</th>\n",
       "      <th>class</th>\n",
       "    </tr>\n",
       "  </thead>\n",
       "  <tbody>\n",
       "    <tr>\n",
       "      <th>145</th>\n",
       "      <td>6.7</td>\n",
       "      <td>3.0</td>\n",
       "      <td>5.2</td>\n",
       "      <td>2.3</td>\n",
       "      <td>Iris-virginica</td>\n",
       "    </tr>\n",
       "    <tr>\n",
       "      <th>146</th>\n",
       "      <td>6.3</td>\n",
       "      <td>2.5</td>\n",
       "      <td>5.0</td>\n",
       "      <td>1.9</td>\n",
       "      <td>Iris-virginica</td>\n",
       "    </tr>\n",
       "    <tr>\n",
       "      <th>147</th>\n",
       "      <td>6.5</td>\n",
       "      <td>3.0</td>\n",
       "      <td>5.2</td>\n",
       "      <td>2.0</td>\n",
       "      <td>Iris-virginica</td>\n",
       "    </tr>\n",
       "    <tr>\n",
       "      <th>148</th>\n",
       "      <td>6.2</td>\n",
       "      <td>3.4</td>\n",
       "      <td>5.4</td>\n",
       "      <td>2.3</td>\n",
       "      <td>Iris-virginica</td>\n",
       "    </tr>\n",
       "    <tr>\n",
       "      <th>149</th>\n",
       "      <td>5.9</td>\n",
       "      <td>3.0</td>\n",
       "      <td>5.1</td>\n",
       "      <td>1.8</td>\n",
       "      <td>Iris-virginica</td>\n",
       "    </tr>\n",
       "  </tbody>\n",
       "</table>\n",
       "</div>"
      ],
      "text/plain": [
       "     sepal_len  sepal_wid  petal_len  petal_wid           class\n",
       "145        6.7        3.0        5.2        2.3  Iris-virginica\n",
       "146        6.3        2.5        5.0        1.9  Iris-virginica\n",
       "147        6.5        3.0        5.2        2.0  Iris-virginica\n",
       "148        6.2        3.4        5.4        2.3  Iris-virginica\n",
       "149        5.9        3.0        5.1        1.8  Iris-virginica"
      ]
     },
     "execution_count": 1,
     "metadata": {},
     "output_type": "execute_result"
    }
   ],
   "source": [
    "\n",
    "import pandas as pd\n",
    "\n",
    "df = pd.read_csv(\n",
    "    filepath_or_buffer='https://archive.ics.uci.edu/ml/machine-learning-databases/iris/iris.data', \n",
    "    header=None, \n",
    "    sep=',')\n",
    "\n",
    "df.columns=['sepal_len', 'sepal_wid', 'petal_len', 'petal_wid', 'class']\n",
    "df.dropna(how=\"all\", inplace=True) # drops the empty line at file-end\n",
    "\n",
    "df.tail()"
   ]
  },
  {
   "cell_type": "code",
   "execution_count": 2,
   "metadata": {},
   "outputs": [],
   "source": [
    "# split data table into data X and class labels y\n",
    "\n",
    "X = df.iloc[:,0:4].values\n",
    "y = df.iloc[:,4].values"
   ]
  },
  {
   "cell_type": "code",
   "execution_count": 3,
   "metadata": {},
   "outputs": [
    {
     "name": "stdout",
     "output_type": "stream",
     "text": [
      "High five! You successfully sent some data to your account on plotly. View your plot in your browser at https://plot.ly/~gentsk77/0 or inside your plot.ly account where it is named 'exploratory-vis-histogram'\n"
     ]
    },
    {
     "name": "stderr",
     "output_type": "stream",
     "text": [
      "C:\\ProgramData\\Anaconda3\\lib\\site-packages\\IPython\\core\\display.py:689: UserWarning:\n",
      "\n",
      "Consider using IPython.display.IFrame instead\n",
      "\n"
     ]
    },
    {
     "data": {
      "text/html": [
       "<iframe id=\"igraph\" scrolling=\"no\" style=\"border:none;\" seamless=\"seamless\" src=\"https://plot.ly/~gentsk77/0.embed\" height=\"525px\" width=\"100%\"></iframe>"
      ],
      "text/plain": [
       "<plotly.tools.PlotlyDisplay object>"
      ]
     },
     "execution_count": 3,
     "metadata": {},
     "output_type": "execute_result"
    }
   ],
   "source": [
    "import plotly.plotly as py\n",
    "\n",
    "# plotting histograms\n",
    "data = []\n",
    "\n",
    "legend = {0:False, 1:False, 2:False, 3:True}\n",
    "\n",
    "colors = {'Iris-setosa': '#0D76BF', \n",
    "          'Iris-versicolor': '#00cc96', \n",
    "          'Iris-virginica': '#EF553B'}\n",
    "\n",
    "for col in range(4):\n",
    "    for key in colors:\n",
    "        trace = dict(\n",
    "            type='histogram',\n",
    "            x=list(X[y==key, col]),\n",
    "            opacity=0.75,\n",
    "            xaxis='x%s' %(col+1),\n",
    "            marker=dict(color=colors[key]),\n",
    "            name=key,\n",
    "            showlegend=legend[col]\n",
    "        )\n",
    "        data.append(trace)\n",
    "\n",
    "layout = dict(\n",
    "    barmode='overlay',\n",
    "    xaxis=dict(domain=[0, 0.25], title='sepal length (cm)'),\n",
    "    xaxis2=dict(domain=[0.3, 0.5], title='sepal width (cm)'),\n",
    "    xaxis3=dict(domain=[0.55, 0.75], title='petal length (cm)'),\n",
    "    xaxis4=dict(domain=[0.8, 1], title='petal width (cm)'),\n",
    "    yaxis=dict(title='count'),\n",
    "    title='Distribution of the different Iris flower features'\n",
    ")\n",
    "\n",
    "fig = dict(data=data, layout=layout)\n",
    "py.iplot(fig, filename='exploratory-vis-histogram')"
   ]
  },
  {
   "cell_type": "code",
   "execution_count": 4,
   "metadata": {},
   "outputs": [],
   "source": [
    "from sklearn.preprocessing import StandardScaler\n",
    "X_std = StandardScaler().fit_transform(X)"
   ]
  },
  {
   "cell_type": "code",
   "execution_count": 5,
   "metadata": {},
   "outputs": [
    {
     "name": "stdout",
     "output_type": "stream",
     "text": [
      "Covariance matrix \n",
      "[[ 1.00671141 -0.11010327  0.87760486  0.82344326]\n",
      " [-0.11010327  1.00671141 -0.42333835 -0.358937  ]\n",
      " [ 0.87760486 -0.42333835  1.00671141  0.96921855]\n",
      " [ 0.82344326 -0.358937    0.96921855  1.00671141]]\n"
     ]
    }
   ],
   "source": [
    "\n",
    "import numpy as np\n",
    "mean_vec = np.mean(X_std, axis=0)\n",
    "cov_mat = (X_std - mean_vec).T.dot((X_std - mean_vec)) / (X_std.shape[0]-1)\n",
    "print('Covariance matrix \\n%s' %cov_mat)"
   ]
  },
  {
   "cell_type": "code",
   "execution_count": 6,
   "metadata": {},
   "outputs": [
    {
     "name": "stdout",
     "output_type": "stream",
     "text": [
      "Eigenvectors \n",
      "[[ 0.52237162 -0.37231836 -0.72101681  0.26199559]\n",
      " [-0.26335492 -0.92555649  0.24203288 -0.12413481]\n",
      " [ 0.58125401 -0.02109478  0.14089226 -0.80115427]\n",
      " [ 0.56561105 -0.06541577  0.6338014   0.52354627]]\n",
      "\n",
      "Eigenvalues \n",
      "[2.93035378 0.92740362 0.14834223 0.02074601]\n"
     ]
    }
   ],
   "source": [
    "cov_mat = np.cov(X_std.T)\n",
    "\n",
    "eig_vals, eig_vecs = np.linalg.eig(cov_mat)\n",
    "\n",
    "print('Eigenvectors \\n%s' %eig_vecs)\n",
    "print('\\nEigenvalues \\n%s' %eig_vals)"
   ]
  },
  {
   "cell_type": "code",
   "execution_count": 7,
   "metadata": {},
   "outputs": [
    {
     "name": "stdout",
     "output_type": "stream",
     "text": [
      "2.9303537755893165\n",
      "0.9274036215173417\n",
      "0.1483422264816399\n",
      "0.02074601399559571\n"
     ]
    }
   ],
   "source": [
    "## have all the eigenvalues and eigenvectors listed in pairs\n",
    "eig_pairs = [(np.abs(eig_vals[i]), eig_vecs[:,i]) for i in range(len(eig_vals))]\n",
    "\n",
    "## Sort the pairs in decreasing order\n",
    "eig_pairs.sort()\n",
    "eig_pairs.reverse()\n",
    "\n",
    "for p in eig_pairs:\n",
    "    print(p[0])"
   ]
  },
  {
   "cell_type": "code",
   "execution_count": 8,
   "metadata": {},
   "outputs": [
    {
     "name": "stderr",
     "output_type": "stream",
     "text": [
      "C:\\ProgramData\\Anaconda3\\lib\\site-packages\\IPython\\core\\display.py:689: UserWarning:\n",
      "\n",
      "Consider using IPython.display.IFrame instead\n",
      "\n"
     ]
    },
    {
     "data": {
      "text/html": [
       "<iframe id=\"igraph\" scrolling=\"no\" style=\"border:none;\" seamless=\"seamless\" src=\"https://plot.ly/~gentsk77/2.embed\" height=\"525px\" width=\"100%\"></iframe>"
      ],
      "text/plain": [
       "<plotly.tools.PlotlyDisplay object>"
      ]
     },
     "execution_count": 8,
     "metadata": {},
     "output_type": "execute_result"
    }
   ],
   "source": [
    "tot = sum(eig_vals)\n",
    "var_exp = [(i / tot)*100 for i in sorted(eig_vals, reverse=True)]\n",
    "cum_var_exp = np.cumsum(var_exp)\n",
    "\n",
    "trace1 = dict(\n",
    "    type='bar',\n",
    "    x=['PC %s' %i for i in range(1,5)],\n",
    "    y=var_exp,\n",
    "    name='Individual'\n",
    ")\n",
    "\n",
    "trace2 = dict(\n",
    "    type='scatter',\n",
    "    x=['PC %s' %i for i in range(1,5)], \n",
    "    y=cum_var_exp,\n",
    "    name='Cumulative'\n",
    ")\n",
    "\n",
    "data = [trace1, trace2]\n",
    "\n",
    "layout=dict(\n",
    "    title='Explained variance by different principal components',\n",
    "    yaxis=dict(\n",
    "        title='Explained variance in percent'\n",
    "    ),\n",
    "    annotations=list([\n",
    "        dict(\n",
    "            x=1.16,\n",
    "            y=1.05,\n",
    "            xref='paper',\n",
    "            yref='paper',\n",
    "            text='Explained Variance',\n",
    "            showarrow=False,\n",
    "        )\n",
    "    ])\n",
    ")\n",
    "\n",
    "fig = dict(data=data, layout=layout)\n",
    "py.iplot(fig, filename='selecting-principal-components')"
   ]
  },
  {
   "cell_type": "code",
   "execution_count": 9,
   "metadata": {},
   "outputs": [
    {
     "name": "stdout",
     "output_type": "stream",
     "text": [
      "Matrix W:\n",
      " [[ 0.52237162 -0.37231836]\n",
      " [-0.26335492 -0.92555649]\n",
      " [ 0.58125401 -0.02109478]\n",
      " [ 0.56561105 -0.06541577]]\n"
     ]
    }
   ],
   "source": [
    "matrix_w = np.hstack((eig_pairs[0][1].reshape(4,1), \n",
    "                      eig_pairs[1][1].reshape(4,1)))\n",
    "\n",
    "print('Matrix W:\\n', matrix_w)"
   ]
  },
  {
   "cell_type": "code",
   "execution_count": 20,
   "metadata": {},
   "outputs": [
    {
     "name": "stderr",
     "output_type": "stream",
     "text": [
      "C:\\ProgramData\\Anaconda3\\lib\\site-packages\\IPython\\core\\display.py:689: UserWarning:\n",
      "\n",
      "Consider using IPython.display.IFrame instead\n",
      "\n"
     ]
    },
    {
     "data": {
      "text/html": [
       "<iframe id=\"igraph\" scrolling=\"no\" style=\"border:none;\" seamless=\"seamless\" src=\"https://plot.ly/~gentsk77/8.embed\" height=\"525px\" width=\"100%\"></iframe>"
      ],
      "text/plain": [
       "<plotly.tools.PlotlyDisplay object>"
      ]
     },
     "execution_count": 20,
     "metadata": {},
     "output_type": "execute_result"
    }
   ],
   "source": [
    "data = []\n",
    "\n",
    "for name, col in zip(('Iris-setosa', 'Iris-versicolor', 'Iris-virginica'), colors.values()):\n",
    "    trace = dict(\n",
    "        type='scatter',\n",
    "        x=Y[y==name,0],\n",
    "        y=Y[y==name,1],\n",
    "        mode='markers',\n",
    "        name=name,\n",
    "        marker=dict(\n",
    "            color=col,\n",
    "            size=12,\n",
    "            line=dict(\n",
    "                color='rgba(217, 217, 217, 0.14)',\n",
    "                width=0.5),\n",
    "            opacity=0.8)\n",
    "    )\n",
    "    data.append(trace)\n",
    "\n",
    "layout = dict(\n",
    "    showlegend=True,\n",
    "    scene=dict(\n",
    "        xaxis=dict(title='PC1'),\n",
    "        yaxis=dict(title='PC2')\n",
    "    )\n",
    ")\n",
    "\n",
    "fig = dict(data=data, layout=layout)\n",
    "py.iplot(fig, filename='projection-matrix')"
   ]
  },
  {
   "cell_type": "code",
   "execution_count": 21,
   "metadata": {},
   "outputs": [],
   "source": [
    "## compute the posterior of each data point \n",
    "def expectation(data, gmm):\n",
    "    numerator = np.zeros((len(gmm), data.shape[0]))\n",
    "    denominator = np.zeros((len(gmm), data.shape[0]))\n",
    "    for k in range(len(gmm)):\n",
    "        numerator[k] = gmm[k][\"prior\"] * multivariate_normal.pdf(data, gmm[k][\"mean\"], gmm[k][\"covariance\"])\n",
    "        for j in range(len(gmm)):\n",
    "            denominator[k] += gmm[j][\"prior\"] * multivariate_normal.pdf(data, gmm[j][\"mean\"], gmm[j][\"covariance\"])\n",
    "    return np.divide(numerator, denominator)\n",
    "\n",
    "## compute new mean, covariance, and class prior for each class\n",
    "def maximization(posterior, data, gmm):\n",
    "    N = np.zeros(len(gmm))\n",
    "    for k in range(N.shape[0]):\n",
    "        N[k] = np.sum(posterior[k])\n",
    "    \n",
    "    mu = np.zeros((len(gmm), len(gmm[0][\"mean\"])))\n",
    "    for k in range(mu.shape[0]):\n",
    "        for n in range(data.shape[0]):\n",
    "            mu[k] += posterior[k, n] * data[n] \n",
    "        gmm[k][\"mean\"] = 1 / N[k] * mu[k]\n",
    "        \n",
    "    prior = np.zeros(len(gmm))\n",
    "    for k in range(prior.shape[0]):\n",
    "        prior[k] = np.divide(N[k], N.sum())\n",
    "        gmm[k][\"prior\"] = prior[k]\n",
    "        \n",
    "    return gmm"
   ]
  },
  {
   "cell_type": "code",
   "execution_count": 22,
   "metadata": {},
   "outputs": [],
   "source": [
    "import csv, copy\n",
    "import numpy as np\n",
    "import matplotlib.pyplot as plt\n",
    "from scipy.stats import chi2, multivariate_normal\n",
    "\n",
    "%matplotlib inline"
   ]
  },
  {
   "cell_type": "code",
   "execution_count": 23,
   "metadata": {},
   "outputs": [],
   "source": [
    "## plot the gaussian model \n",
    "def plotGaussianModel2D(mu, sigma, pltopt = 'k'):\n",
    "    if sigma.any():\n",
    "        ## setup eclipse parameter\n",
    "        c = chi2.ppf(0.9, 2) \n",
    "        ## setup eigenvector and eigenvalues\n",
    "        eigenValue, eigenVector = np.linalg.eig(sigma)\n",
    "\n",
    "        t = np.linspace(0, 2*np.pi, 100) # draw 100 points\n",
    "        u = [np.cos(t), np.sin(t)]\n",
    "        w = c * eigenVector.dot(np.diag(np.sqrt(eigenValue)).dot(u))\n",
    "        z = w.T + mu\n",
    "        \n",
    "    else:\n",
    "        z = mu\n",
    "    \n",
    "    plt.plot(z[:,0], z[:,1], pltopt)\n",
    "    \n",
    "def colorPicker(index):\n",
    "    colors = 'rgbcmyk'\n",
    "    return colors[np.remainder(index, len(colors))]\n",
    "\n",
    "def gmmplot(data, gmm):\n",
    "    # plot data points\n",
    "    plt.scatter(data[:, 0], data[:, 1], s = 4)\n",
    "    # plot gmm\n",
    "    for index, model in enumerate(gmm):\n",
    "        plotGaussianModel2D(model['mean'], model['covariance'], colorPicker(index))"
   ]
  },
  {
   "cell_type": "code",
   "execution_count": 52,
   "metadata": {},
   "outputs": [],
   "source": [
    "## the gmm parameters\n",
    "mu = np.asarray([[2, 0], [-4, -2.5], [0, 2]]).astype('float')\n",
    "\n",
    "sigma = np.asarray([[[0.25, 0], [0, 0.15]], \n",
    "                    [[0.25, 0.1], [0.1, 0.3]]]).astype('float')"
   ]
  },
  {
   "cell_type": "code",
   "execution_count": 53,
   "metadata": {},
   "outputs": [],
   "source": [
    "gmm = [{'mean': mu[m], 'covariance': sigma[m], 'prior': 1.0 / 2} for m in range(2)]"
   ]
  },
  {
   "cell_type": "code",
   "execution_count": 54,
   "metadata": {},
   "outputs": [
    {
     "data": {
      "image/png": "[encoded data removed]",
      "text/plain": [
       "<Figure size 432x288 with 1 Axes>"
      ]
     },
     "metadata": {
      "needs_background": "light"
     },
     "output_type": "display_data"
    }
   ],
   "source": [
    "Y = X_std.dot(matrix_w)\n",
    "\n",
    "gmmplot(Y, gmm)"
   ]
  },
  {
   "cell_type": "code",
   "execution_count": 55,
   "metadata": {},
   "outputs": [],
   "source": [
    "## k = 1\n",
    "gmm1 = [{'mean': mu[m], 'covariance': sigma[m], 'prior': 1.0 / 1} for m in range(1)]\n",
    "## k = 2\n",
    "gmm2 = [{'mean': mu[m], 'covariance': sigma[m], 'prior': 1.0 / 2} for m in range(2)]\n",
    "\n",
    "gmms = [gmm1, gmm2]"
   ]
  },
  {
   "cell_type": "code",
   "execution_count": 56,
   "metadata": {},
   "outputs": [],
   "source": [
    "## helper function to plot three different gmms, each with 3 plots\n",
    "def __plot__ (gmms, data):\n",
    "    ## counter for printing \n",
    "    k = 1\n",
    "    \n",
    "    for gmmm in gmms:\n",
    "        ## init new plot each time\n",
    "        plt.figure(figsize=(16, 8))\n",
    "        ## index for subplot\n",
    "        i = 1\n",
    "        ## copy the gmm data to avoid errors\n",
    "        gmm = copy.deepcopy(gmmm)\n",
    "        \n",
    "        ## plot and print the init stage of our model\n",
    "        plt.subplot(230 + i)\n",
    "        gmmplot(data, gmm)\n",
    "        print(\"Plot \", k, \":\", gmm)\n",
    "        i += 1\n",
    "        k += 1\n",
    "\n",
    "        # perform the EM algorithm on the model\n",
    "        for j in range(5):\n",
    "            posterior = expectation(data, gmm)\n",
    "            gmm = maximization(posterior, data, gmm)\n",
    "            ## plot and print in the middle of the training \n",
    "            if (j == 3):\n",
    "                plt.subplot(230 + i)\n",
    "                gmmplot(data, gmm)\n",
    "                print(\"Plot \", k,\":\", gmm)\n",
    "                i += 1\n",
    "                k += 1\n",
    "        \n",
    "        ## plot and print the final stage\n",
    "        plt.subplot(230 + i)\n",
    "        gmmplot(data, gmm)\n",
    "        print(\"Plot \", k, \":\", gmm)\n",
    "        i += 1\n",
    "        k+= 1"
   ]
  },
  {
   "cell_type": "code",
   "execution_count": 57,
   "metadata": {},
   "outputs": [
    {
     "name": "stdout",
     "output_type": "stream",
     "text": [
      "Plot  1 : [{'mean': array([2., 0.]), 'covariance': array([[0.25, 0.  ],\n",
      "       [0.  , 0.15]]), 'prior': 1.0}]\n",
      "Plot  2 : [{'mean': array([3.21224528e-16, 7.09802587e-16]), 'covariance': array([[0.25, 0.  ],\n",
      "       [0.  , 0.15]]), 'prior': 1.0}]\n",
      "Plot  3 : [{'mean': array([3.21224528e-16, 7.09802587e-16]), 'covariance': array([[0.25, 0.  ],\n",
      "       [0.  , 0.15]]), 'prior': 1.0}]\n",
      "Plot  4 : [{'mean': array([2., 0.]), 'covariance': array([[0.25, 0.  ],\n",
      "       [0.  , 0.15]]), 'prior': 0.5}, {'mean': array([-4. , -2.5]), 'covariance': array([[0.25, 0.1 ],\n",
      "       [0.1 , 0.3 ]]), 'prior': 0.5}]\n",
      "Plot  5 : [{'mean': array([1.17886365, 0.05861632]), 'covariance': array([[0.25, 0.  ],\n",
      "       [0.  , 0.15]]), 'prior': 0.6357383053014335}, {'mean': array([-2.05744603, -0.10230184]), 'covariance': array([[0.25, 0.1 ],\n",
      "       [0.1 , 0.3 ]]), 'prior': 0.36426169469856656}]\n",
      "Plot  6 : [{'mean': array([1.17946303, 0.05784   ]), 'covariance': array([[0.25, 0.  ],\n",
      "       [0.  , 0.15]]), 'prior': 0.635394963606969}, {'mean': array([-2.055443  , -0.10079742]), 'covariance': array([[0.25, 0.1 ],\n",
      "       [0.1 , 0.3 ]]), 'prior': 0.364605036393031}]\n"
     ]
    },
    {
     "data": {
      "image/png": "[encoded data removed]",
      "text/plain": [
       "<Figure size 1152x576 with 3 Axes>"
      ]
     },
     "metadata": {
      "needs_background": "light"
     },
     "output_type": "display_data"
    },
    {
     "data": {
      "image/png": "[encoded data removed]",
      "text/plain": [
       "<Figure size 1152x576 with 3 Axes>"
      ]
     },
     "metadata": {
      "needs_background": "light"
     },
     "output_type": "display_data"
    }
   ],
   "source": [
    "__plot__(gmms, Y)"
   ]
  },
  {
   "cell_type": "code",
   "execution_count": null,
   "metadata": {},
   "outputs": [],
   "source": []
  }
 ],
 "metadata": {
  "kernelspec": {
   "display_name": "Python 3",
   "language": "python",
   "name": "python3"
  },
  "language_info": {
   "codemirror_mode": {
    "name": "ipython",
    "version": 3
   },
   "file_extension": ".py",
   "mimetype": "text/x-python",
   "name": "python",
   "nbconvert_exporter": "python",
   "pygments_lexer": "ipython3",
   "version": "3.7.2"
  }
 },
 "nbformat": 4,
 "nbformat_minor": 2
}
