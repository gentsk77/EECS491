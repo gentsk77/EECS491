{
 "cells": [
  {
   "cell_type": "markdown",
   "metadata": {},
   "source": [
    "## EECS 491 Assignment 3\n",
    "\n",
    "  Yue Shu  \n",
    "  Spring 2019  \n",
    "  Prof. Lewicki  \n",
    "  "
   ]
  },
  {
   "cell_type": "markdown",
   "metadata": {},
   "source": [
    "# Exercise 1. Multivariate Gaussians\n",
    "\n",
    "## 1.1 Consider the 2D normal distribution \n",
    "\n",
    "**$$ p(x,y) \\sim \\mathcal{N}(\\mathbf{\\mu}, \\mathbf{\\Sigma}) $$**\n",
    "\n",
    "**Define three separate 2D covariance matrices $\\mathbf{\\Sigma}$ for each of the following cases: $x$ and $y$ are uncorrelated; $x$ and $y$ are correlated; and $x$ and $y$ are anti-correlated.**"
   ]
  },
  {
   "cell_type": "markdown",
   "metadata": {},
   "source": [
    "The covariance matrix $\\Sigma$ could be defined as below in general:\n",
    "\n",
    "$$  \n",
    "\\Sigma =  \\begin{bmatrix} \\Sigma_{x x} \\space \\Sigma_{x y} \\\\ \\Sigma_{y x} \\space \\Sigma_{y y} \\end{bmatrix}\n",
    "$$"
   ]
  },
  {
   "cell_type": "markdown",
   "metadata": {},
   "source": [
    "### $x$ and $y$ are uncorrelated\n",
    "\n",
    "Since $x$ and $y$ are uncorrelated, we may conclude that $\\Sigma_{x y} = \\Sigma_{y x} = 0$, and thus the convariance matrix should be defined as:\n",
    "\n",
    "$$  \n",
    "\\Sigma =  \\begin{bmatrix} var(x) \\space \\space \\space \\space 0 \\\\ 0 \\space \\space \\space \\space var(y) \\end{bmatrix}\n",
    "$$\n",
    "\n",
    "### $x$ and $y$ are correlated\n",
    "\n",
    "Since $x$ and $y$ are positively correlated, we may conclude that $\\Sigma_{x y} > 0$, $\\Sigma_{y x} > 0$, and thus the convariance matrix should be defined as:\n",
    "\n",
    "$$  \n",
    "\\Sigma =  \\begin{bmatrix} var(x) \\space \\space \\space \\space \\Sigma_{x y} \\\\ \\Sigma_{y x} \\space \\space \\space \\space var(y) \\end{bmatrix}, \\Sigma_{x y} > 0, \\Sigma_{y x} > 0\n",
    "$$\n",
    "\n",
    "### $x$ and $y$ are anti-correlated\n",
    "\n",
    "Since $x$ and $y$ are negatively correlated, we may conclude that $\\Sigma_{x y} < 0$, $\\Sigma_{y x} < 0$, and thus the convariance matrix should be defined as:\n",
    "\n",
    "$$  \n",
    "\\Sigma =  \\begin{bmatrix} var(x) \\space \\space \\space \\space \\Sigma_{x y} \\\\ \\Sigma_{y x} \\space \\space \\space \\space var(y) \\end{bmatrix}, \\Sigma_{x y} < 0, \\Sigma_{y x} < 0\n",
    "$$"
   ]
  },
  {
   "cell_type": "markdown",
   "metadata": {},
   "source": [
    "## 1.2 Compute the principal axes for each of these distributions, i.e. the eigenvectors of the covariance matrices."
   ]
  },
  {
   "cell_type": "markdown",
   "metadata": {},
   "source": [
    "The expression of eigenvector and eigenvalue is \n",
    "\n",
    "$$\n",
    "\\mathbf{A} \\mathbf{v} = \\lambda \\mathbf{v}\n",
    "$$\n",
    "\n",
    "### $x$ and $y$ are uncorrelated\n",
    "\n",
    "$$\n",
    "\\begin{bmatrix} var(x) \\space \\space \\space \\space 0 \\\\ 0 \\space \\space \\space \\space var(y) \\end{bmatrix} \\mathbf{v} = \\lambda \\mathbf{v}\n",
    "$$\n",
    "\n",
    "$$\n",
    "\\begin{bmatrix} var(x) \\space \\space \\space \\space 0 \\\\ 0 \\space \\space \\space \\space var(y) \\end{bmatrix} \\mathbf{v} = \\lambda \\mathbf{v}\n",
    "$$\n",
    "\n",
    "$$\n",
    "\\begin{bmatrix} var(x) \\space \\space \\space \\space 0 \\\\ 0 \\space \\space \\space \\space var(y) \\end{bmatrix} \\begin{bmatrix} v_1 \\\\ v_2 \\end{bmatrix} = \\begin{bmatrix} \\lambda v_1 \\\\ \\lambda v_2 \\end{bmatrix}\n",
    "$$\n",
    "\n",
    "$$\n",
    "\\begin{bmatrix} var(x) v_1 \\\\ var(y) v_2 \\end{bmatrix}  = \\begin{bmatrix} \\lambda v_1 \\\\ \\lambda v_2 \\end{bmatrix}\n",
    "$$\n",
    "\n",
    "Therefore, if $var(x) \\neq var(y)$, we may conclude that the eigenvector does not exist. \n",
    "\n",
    "However, if $var(x) = var(y)$, which means $\\lambda = var(x) = var(y)$, then any vector would suffice. "
   ]
  },
  {
   "cell_type": "markdown",
   "metadata": {},
   "source": [
    "### $x$ and $y$ are correlated\n",
    "\n"
   ]
  },
  {
   "cell_type": "markdown",
   "metadata": {},
   "source": []
  },
  {
   "cell_type": "markdown",
   "metadata": {},
   "source": []
  }
 ],
 "metadata": {
  "kernelspec": {
   "display_name": "Python 3",
   "language": "python",
   "name": "python3"
  },
  "language_info": {
   "codemirror_mode": {
    "name": "ipython",
    "version": 3
   },
   "file_extension": ".py",
   "mimetype": "text/x-python",
   "name": "python",
   "nbconvert_exporter": "python",
   "pygments_lexer": "ipython3",
   "version": "3.7.1"
  }
 },
 "nbformat": 4,
 "nbformat_minor": 2
}
