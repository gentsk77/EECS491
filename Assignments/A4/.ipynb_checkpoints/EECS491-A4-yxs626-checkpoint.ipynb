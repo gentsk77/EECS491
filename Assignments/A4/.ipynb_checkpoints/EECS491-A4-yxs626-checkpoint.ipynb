{
 "cells": [
  {
   "cell_type": "markdown",
   "metadata": {},
   "source": [
    "## EECS 491 Assignment 4\n",
    "\n",
    "  Yue Shu  \n",
    "  Spring 2019  \n",
    "  Prof. Lewicki  "
   ]
  },
  {
   "cell_type": "markdown",
   "metadata": {},
   "source": [
    "# Exercise 1. Multivariate Gaussians\n",
    "\n",
    "## 1.1 Consider the 2D normal distribution \n",
    "\n",
    "**$$ p(x,y) \\sim \\mathcal{N}(\\mathbf{\\mu}, \\mathbf{\\Sigma}) $$**\n",
    "\n",
    "**Define three separate 2D covariance matrices $\\mathbf{\\Sigma}$ for each of the following cases: $x$ and $y$ are uncorrelated; $x$ and $y$ are correlated; and $x$ and $y$ are anti-correlated.**"
   ]
  },
  {
   "cell_type": "markdown",
   "metadata": {},
   "source": [
    "The covariance matrix $\\Sigma$ could be defined as below in general:\n",
    "\n",
    "$$  \n",
    "\\Sigma =  \\begin{bmatrix} \\Sigma_{x x} & \\Sigma_{x y} \\\\ \\Sigma_{y x} & \\Sigma_{y y} \\end{bmatrix}\n",
    "$$"
   ]
  },
  {
   "cell_type": "markdown",
   "metadata": {},
   "source": [
    "### $x$ and $y$ are uncorrelated\n",
    "\n",
    "Since $x$ and $y$ are uncorrelated, we may conclude that $\\Sigma_{x y} = \\Sigma_{y x} = 0$, and thus the convariance matrix should be defined as:\n",
    "\n",
    "$$  \n",
    "\\Sigma =  \\begin{bmatrix} var(x) & 0 \\\\ 0 & var(y) \\end{bmatrix}\n",
    "$$\n",
    "\n",
    "### $x$ and $y$ are correlated\n",
    "\n",
    "Since $x$ and $y$ are positively correlated, we may conclude that $\\Sigma_{x y} > 0$, $\\Sigma_{y x} > 0$, and thus the convariance matrix should be defined as:\n",
    "\n",
    "$$  \n",
    "\\Sigma =  \\begin{bmatrix} var(x) & \\Sigma_{x y} \\\\ \\Sigma_{y x} & var(y) \\end{bmatrix}, \\Sigma_{x y} > 0, \\Sigma_{y x} > 0\n",
    "$$\n",
    "\n",
    "### $x$ and $y$ are anti-correlated\n",
    "\n",
    "Since $x$ and $y$ are negatively correlated, we may conclude that $\\Sigma_{x y} < 0$, $\\Sigma_{y x} < 0$, and thus the convariance matrix should be defined as:\n",
    "\n",
    "$$  \n",
    "\\Sigma =  \\begin{bmatrix} var(x) & \\Sigma_{x y} \\\\ \\Sigma_{y x} & var(y) \\end{bmatrix}, \\Sigma_{x y} < 0, \\Sigma_{y x} < 0\n",
    "$$"
   ]
  },
  {
   "cell_type": "markdown",
   "metadata": {},
   "source": [
    "## 1.2 Compute the principal axes for each of these distributions, i.e. the eigenvectors of the covariance matrices."
   ]
  },
  {
   "cell_type": "markdown",
   "metadata": {},
   "source": [
    "The expression of eigenvector and eigenvalue is \n",
    "\n",
    "$$\n",
    "\\mathbf{A} \\mathbf{v} = \\lambda \\mathbf{v}\n",
    "$$\n",
    "\n",
    "### $x$ and $y$ are uncorrelated\n",
    "\n",
    "$$\n",
    "\\begin{bmatrix} var(x) & 0 \\\\ 0 & var(y) \\end{bmatrix} \\mathbf{v} = \\lambda \\mathbf{v}\n",
    "$$\n",
    "\n",
    "$$\n",
    "\\begin{bmatrix} var(x) & 0 \\\\ 0 & var(y) \\end{bmatrix} \\mathbf{v} = \\lambda \\mathbf{v}\n",
    "$$\n",
    "\n",
    "$$\n",
    "\\begin{bmatrix} var(x) & 0 \\\\ 0 & var(y) \\end{bmatrix} \\begin{bmatrix} v_1 \\\\ v_2 \\end{bmatrix} = \\begin{bmatrix} \\lambda v_1 \\\\ \\lambda v_2 \\end{bmatrix}\n",
    "$$\n",
    "\n",
    "$$\n",
    "\\begin{bmatrix} var(x) v_1 \\\\ var(y) v_2 \\end{bmatrix}  = \\begin{bmatrix} \\lambda v_1 \\\\ \\lambda v_2 \\end{bmatrix}\n",
    "$$\n",
    "\n",
    "Therefore, if $var(x) \\neq var(y)$, we may conclude that the eigenvector does not exist. \n",
    "\n",
    "However, if $var(x) = var(y)$, which means $\\lambda = var(x) = var(y)$, then any vector would suffice. "
   ]
  },
  {
   "cell_type": "markdown",
   "metadata": {},
   "source": [
    "### $x$ and $y$ are correlated"
   ]
  },
  {
   "cell_type": "markdown",
   "metadata": {},
   "source": [
    "The steps for positively correlated and negatively correlated $x$ and $y$ should be the same, since the only difference is the sign of the covariance, which is only represented in the actual calculations. \n",
    "\n",
    "$$  \n",
    "\\begin{bmatrix} var(x) & \\Sigma_{x y} \\\\ \\Sigma_{y x} & var(y) \\end{bmatrix}  \\begin{bmatrix} v_1 \\\\ v_2 \\end{bmatrix} = \\begin{bmatrix} \\lambda v_1 \\\\ \\lambda v_2 \\end{bmatrix}\n",
    "$$\n",
    "\n",
    "$$\n",
    "\\begin{bmatrix} var(x) v_1 + \\Sigma_{xy} v_2 \\\\ \\Sigma_{yx} v_1 + var(y) v_2 \\end{bmatrix}  = \\begin{bmatrix} \\lambda v_1 \\\\ \\lambda v_2 \\end{bmatrix}\n",
    "$$\n",
    "\n",
    "$$\n",
    "\\Sigma_{xy} v_2 = (\\lambda - var(x)v_1)v_1\n",
    "$$\n",
    "\n",
    "$$\n",
    "\\Sigma_{yx}v_1 = (\\lambda - var(y) v_2)v_2\n",
    "$$\n",
    "\n",
    "$$\n",
    "\\Sigma_{xy} v_2 = \\lambda v_1 - var(x)v_1^2\n",
    "$$\n",
    "\n",
    "$$\n",
    "v_2 = \\frac{\\lambda v_1 - var(x)v_1^2}{\\Sigma_{xy}}\n",
    "$$\n",
    "\n",
    "$$\n",
    "v_1 = \\frac{\\lambda v_2 - var(y)v_2^2}{\\Sigma_{yx}}\n",
    "$$\n",
    "\n",
    "$$\n",
    "v_1 = \\frac{\\lambda \\frac{\\lambda v_1 - var(x)v_1^2}{\\Sigma_{xy}} - var(y)( \\frac{\\lambda v_1 - var(x)v_1^2}{\\Sigma_{xy}})^2}{\\Sigma_{yx}}\n",
    "$$\n",
    "\n",
    "After $v_1$ is solved, we just go back and solve for $v_2$. I will put a stop here since the process should be pretty trivial and in reality once we've gain the actual covariance matrix it should be pretty straight forward. \n",
    "\n",
    "The steps of solving for the eigenvalue $\\lambda$ should also be quite simple:\n",
    "\n",
    "$$\n",
    "\\Sigma - \\lambda I = \\begin{bmatrix} var(x) & \\Sigma_{x y} \\\\ \\Sigma_{y x} & var(y) \\end{bmatrix} - \\begin{bmatrix} \\lambda & 0 \\\\ 0  &  \\lambda  \\end{bmatrix} = \\begin{bmatrix} var(x) - \\lambda & \\Sigma_{xy} \\\\ \\Sigma_{yx} & var(y) - \\lambda  \\end{bmatrix}\n",
    "$$\n",
    "\n",
    "\n",
    "Then we use the determinant to solve for the eigenvalue:\n",
    "\n",
    "$$\n",
    "var(x)var(y) + \\lambda ^2 - \\lambda var(x) - \\lambda var(y) = \\Sigma_{xy} \\Sigma_{yx}\n",
    "$$\n",
    "\n",
    "\n",
    "$$\n",
    "\\lambda ^2 - ( var(x) + var(y)) \\lambda - \\Sigma_{xy} \\Sigma_{yx} + var(x)var(y) = 0\n",
    "$$\n",
    "\n",
    "$$\n",
    "\\lambda_1 = \\frac{var(x) + var(y) + \\sqrt{( var(x) - var(y))^2 - 4 \\Sigma_{xy} \\Sigma_{yx}}}{2}\n",
    "$$\n",
    "\n",
    "$$\n",
    "\\lambda_2 = \\frac{var(x) + var(y) - \\sqrt{( var(x) - var(y))^2 - 4\\Sigma_{xy} \\Sigma_{yx}}}{2}\n",
    "$$\n",
    "\n",
    "All we should do next is to plug in the two eigenvalues, check which one is valid, and then solve for the corresponding eigenvector. Once again, I will pause my solution here since solving for the eigenvectors without any actual value is quite trivial, and as long as the steps I listed above are strictly followed, the calculation should be quite simple. "
   ]
  },
  {
   "cell_type": "markdown",
   "metadata": {},
   "source": [
    "# Exercise 2. Linear Gaussian Models (20 pts)\n",
    "\n",
    "Consider two multi-dimensional Gaussian random vector variables\n",
    "\n",
    "$$\n",
    "\\newcommand{\\bm}{\\mathbf}\n",
    "\\begin{eqnarray}\n",
    "p(\\bm{x}) &=& \\mathcal{N}(\\bm{x} | \\bm{\\mu_x}, \\bm{\\Sigma}_x) \\\\\n",
    "p(\\bm{z}) &=& \\mathcal{N}(\\bm{z} | \\bm{\\mu_z}, \\bm{\\Sigma}_z)\n",
    "\\end{eqnarray}\n",
    "$$\n",
    "\n",
    "Now consider a third variable that is the sum of the first two:\n",
    "\n",
    "$$\n",
    "\\bm{y} = \\bm{x} + \\bm{z}\n",
    "$$\n"
   ]
  },
  {
   "cell_type": "markdown",
   "metadata": {},
   "source": [
    "## 2.1 What is the expression for the distribution $p(\\bm{y})$?"
   ]
  },
  {
   "cell_type": "markdown",
   "metadata": {},
   "source": [
    "First of all, assuming joint normality of $(\\mathbf{x}, \\mathbf{z})$, then we should have, according to the linear properties of multivariate normal random vectors,\n",
    "\n",
    "$$\n",
    "\\mathbf{y} = \\mathbf{A} \\mathbf{x} + \\mathbf{B} \\mathbf{z} = (\\mathbf{A} \\space \\space \\mathbf{B})  \\begin{pmatrix}\n",
    "    \\mathbf{x} \\\\  \\mathbf{z}\n",
    "\\end{pmatrix}\n",
    "$$\n",
    "\n",
    "where both $\\mathbf{A}$ and $\\mathbf{B}$ are identity matrix $\\mathbf{I}$.\n",
    "\n",
    "And thus \n",
    "\n",
    "$$\n",
    "p(\\mathbf{y}) = p(\\mathbf{A} \\mathbf{x} + \\mathbf{B} \\mathbf{z}) =  \\mathcal{N} (\\mathbf{A} \\mathbf{x} + \\mathbf{B} \\mathbf{y} | (\\mathbf{A} \\space \\space \\space  \\mathbf{B})  \\begin{pmatrix} \\mathbf{\\mu_x} \\\\ \\mathbf{\\mu_z} \\end{pmatrix}, (\\mathbf{A} \\space \\space \\space  \\mathbf{B}) \\mathbf{\\Sigma_{x, z} \\begin{pmatrix} \\mathbf{A^T} \\\\ \\mathbf{B^T} \\end{pmatrix}}\n",
    "$$\n",
    "\n",
    "Then we shall plug in $\\mathbf{A} = \\mathbf{B} = \\mathbf{I}$, and the final expression of $p(\\mathbf{y})$ would be:\n",
    "\n",
    "$$\n",
    "p(\\mathbf{y}) = \\mathcal{N} ( \\mathbf{x} + \\mathbf{z} | \\mathbf{\\mu_x} + \\mathbf{\\mu_z}, \\mathbf{ \\Sigma_{xx} } + \\mathbf{\\Sigma_{xz}^T} + \\mathbf{\\Sigma_{xz} } + \\mathbf{ \\Sigma_{zz}})\n",
    "$$"
   ]
  },
  {
   "cell_type": "markdown",
   "metadata": {},
   "source": [
    "## 2.2 What is the expression for the condidtional distribution $p(\\bm{y|x})$?"
   ]
  },
  {
   "cell_type": "markdown",
   "metadata": {},
   "source": []
  },
  {
   "cell_type": "markdown",
   "metadata": {},
   "source": []
  },
  {
   "cell_type": "markdown",
   "metadata": {},
   "source": [
    "## 2.3 Write code that simulates this data and illustrate the results."
   ]
  },
  {
   "cell_type": "markdown",
   "metadata": {},
   "source": []
  },
  {
   "cell_type": "markdown",
   "metadata": {},
   "source": []
  },
  {
   "cell_type": "markdown",
   "metadata": {},
   "source": []
  },
  {
   "cell_type": "markdown",
   "metadata": {},
   "source": []
  },
  {
   "cell_type": "markdown",
   "metadata": {},
   "source": [
    "# Exercise 3. Dimensionality Reduction and PCA\n",
    "\n",
    "In this quesiton you will use principal component analysis to reduce the dimensionality of your data and analyze the results.\n",
    "\n",
    "##  3.1 Find a set of high dimensional data.  It should be continuous and have at least 6 dimensions, e.g. stats for sports teams, small sound segments or images patches also work.  Note that if the dimensionality of the data is too large, you might run into computational efficiency problems using standard methods.  Describe the data and illustrate it, if appropriate."
   ]
  },
  {
   "cell_type": "markdown",
   "metadata": {},
   "source": [
    "So for this problem I will be using the breast cancer dataset retrieved from the UCI machine learning database (https://archive.ics.uci.edu/ml/datasets/Breast+Cancer+Wisconsin+%28Diagnostic%29). Let's first import the data and briefly take a look at it:"
   ]
  },
  {
   "cell_type": "code",
   "execution_count": 1,
   "metadata": {},
   "outputs": [],
   "source": [
    "import pandas as pd\n",
    "\n",
    "df = pd.read_csv(\n",
    "    filepath_or_buffer='http://archive.ics.uci.edu/ml/machine-learning-databases/breast-cancer-wisconsin/wdbc.data', \n",
    "    header = None, \n",
    "    sep = ',')\n",
    "\n",
    "df.columns=['id', 'diagnosis', 'radius_mean', 'texture_mean', 'perimeter_mean', \n",
    "            'area_mean', 'smoothness_mean', 'compactness_mean', 'concavity_mean', \n",
    "            'concave points_mean', 'symmetry_mean', 'fractal_dimension_mean', 'radius_se', \n",
    "            'texture_se', 'perimeter_se', 'area_se', 'smoothness_se', 'compactness_se', 'concavity_se', \n",
    "            'concave points_se', 'symmetry_se', 'fractal_dimension_se', 'radius_worst', 'texture_worst', \n",
    "            'perimeter_worst', 'area_worst', 'smoothness_worst', 'compactness_worst', 'concavity_worst', \n",
    "            'concave points_worst', 'symmetry_worst', 'fractal_dimension_worst']\n",
    "\n",
    "## drops the empty line if exist\n",
    "df.dropna(how=\"all\", inplace=True)"
   ]
  },
  {
   "cell_type": "markdown",
   "metadata": {},
   "source": [
    "As we can see above, there are 32 columns in the data, where the first column is the `id` number, the second column is the label or class `diagnosis` representing the diagnosis of the breast tissues, where `B` = benign, `M` = malignant. The rest of the columns are different continuously valued attributes as described by the column headers above. A more detailed description on the attributes of the dataset can also be found from the source link I previously provided. \n",
    "\n",
    "To make better sense of how the diagnosis results are related to the attributes, we might visualize the attributes with histograms as below. \n",
    "\n",
    "Notice that for the sake of simplicity and efficiency, we will only look at six attributes for our problem 3, which is `radius_worst`, `texture_worst`, `perimeter_worst`, `area_worst`, `smoothness_worst`, and `compactness_worst`."
   ]
  },
  {
   "cell_type": "code",
   "execution_count": 2,
   "metadata": {},
   "outputs": [],
   "source": [
    "## split the dataset into data X and class labels y\n",
    "## for simplicity, we only include six attributes in total \n",
    "X = df.iloc[:,22:28].values\n",
    "y = df.iloc[:,1].values"
   ]
  },
  {
   "cell_type": "code",
   "execution_count": 3,
   "metadata": {},
   "outputs": [
    {
     "name": "stderr",
     "output_type": "stream",
     "text": [
      "C:\\ProgramData\\Anaconda3\\lib\\site-packages\\IPython\\core\\display.py:689: UserWarning:\n",
      "\n",
      "Consider using IPython.display.IFrame instead\n",
      "\n"
     ]
    },
    {
     "data": {
      "text/html": [
       "<iframe id=\"igraph\" scrolling=\"no\" style=\"border:none;\" seamless=\"seamless\" src=\"https://plot.ly/~gentsk77/6.embed\" height=\"525px\" width=\"100%\"></iframe>"
      ],
      "text/plain": [
       "<plotly.tools.PlotlyDisplay object>"
      ]
     },
     "execution_count": 3,
     "metadata": {},
     "output_type": "execute_result"
    }
   ],
   "source": [
    "import plotly\n",
    "import plotly.plotly as py\n",
    "\n",
    "## I'd like to keep track of the images in my plotly account!\n",
    "plotly.tools.set_credentials_file(username='gentsk77', api_key='p7wUPaAgt4sO8yQvjk7o')\n",
    "\n",
    "## plotting histograms\n",
    "data = []\n",
    "\n",
    "## muted blue for benign, brick red for malignant\n",
    "colors = {'B': '#1f77b4', 'M': '#d62728'}\n",
    "\n",
    "legend = {0:False, 1:False, 2:False, \n",
    "          3:False, 4:False, 5:True}\n",
    "\n",
    "## plot the histograms\n",
    "for col in range(6):\n",
    "    for key in colors:\n",
    "        trace = dict(type = 'histogram',\n",
    "                     x = list(X[y == key, col]),\n",
    "                     opacity = 0.75,\n",
    "                     xaxis = 'x%s' %(col + 1),\n",
    "                     marker = dict(color = colors[key]),\n",
    "                     name = key,\n",
    "                     showlegend = legend[col])\n",
    "        data.append(trace)\n",
    "\n",
    "## arrange the layout\n",
    "layout = dict(\n",
    "    barmode = 'overlay',\n",
    "    xaxis1 = dict(domain = [0, 0.14], title = 'worst radius'),\n",
    "    xaxis2 = dict(domain = [0.17, 0.31], title = 'worst texture'),\n",
    "    xaxis3 = dict(domain = [0.34, 0.48], title = 'worst perimeter'),\n",
    "    xaxis4 = dict(domain = [0.51, 0.65], title = 'worst area'),\n",
    "    xaxis5 = dict(domain = [0.68, 0.82], title = 'worst smoothness'),\n",
    "    xaxis6 = dict(domain = [0.85, 1], title = 'worst compactness'),\n",
    "    yaxis = dict(title = 'count'),\n",
    "    title = 'Distribution of breast cancer attributes')\n",
    "\n",
    "fig = dict(data = data, layout = layout)\n",
    "py.iplot(fig, filename = 'data visualization')"
   ]
  },
  {
   "cell_type": "markdown",
   "metadata": {},
   "source": [
    "## 3.2 Compute the principal components of the data.  Plot a few of the largest eigenvectors and interpret them in terms of how there are modeling the structure of the data."
   ]
  },
  {
   "cell_type": "markdown",
   "metadata": {},
   "source": [
    "To compute the eigenvectors of the data, we need to first have the covariance matrix. Let's start with standardizing the data as below."
   ]
  },
  {
   "cell_type": "code",
   "execution_count": 4,
   "metadata": {},
   "outputs": [],
   "source": [
    "from sklearn.preprocessing import StandardScaler\n",
    "X_std = StandardScaler().fit_transform(X)"
   ]
  },
  {
   "cell_type": "markdown",
   "metadata": {},
   "source": [
    "Then we shall have the covariance matrix as below"
   ]
  },
  {
   "cell_type": "code",
   "execution_count": 5,
   "metadata": {},
   "outputs": [
    {
     "name": "stdout",
     "output_type": "stream",
     "text": [
      "Covariance matrix \n",
      "[[1.00176056 0.36055442 0.9954574  0.98574698 0.21695572 0.47665775]\n",
      " [0.36055442 1.00176056 0.36574102 0.34645116 0.2258263  0.36146761]\n",
      " [0.9954574  0.36574102 1.00176056 0.97929918 0.23719146 0.53033975]\n",
      " [0.98574698 0.34645116 0.97929918 1.00176056 0.20951355 0.43906793]\n",
      " [0.21695572 0.2258263  0.23719146 0.20951355 1.00176056 0.56918685]\n",
      " [0.47665775 0.36146761 0.53033975 0.43906793 0.56918685 1.00176056]]\n"
     ]
    }
   ],
   "source": [
    "import numpy as np\n",
    "mean_vec = np.mean(X_std, axis=0)\n",
    "cov_mat = (X_std - mean_vec).T.dot((X_std - mean_vec)) / (X_std.shape[0]-1)\n",
    "print('Covariance matrix \\n%s' %cov_mat)"
   ]
  },
  {
   "cell_type": "markdown",
   "metadata": {},
   "source": [
    "Now we shall perform an eigendecomposition as below:"
   ]
  },
  {
   "cell_type": "code",
   "execution_count": 6,
   "metadata": {},
   "outputs": [
    {
     "name": "stdout",
     "output_type": "stream",
     "text": [
      "Eigenvectors \n",
      "[[-4.97942824e-01 -2.72489891e-01 -8.40792994e-02  8.57684507e-02\n",
      "   7.20948420e-01  3.78959132e-01]\n",
      " [-2.73102692e-01  2.28015536e-01  9.29096477e-01  1.00836736e-01\n",
      "  -5.95488854e-03 -2.51370999e-04]\n",
      " [-5.04104514e-01 -2.36650175e-01 -9.49259445e-02  4.93865145e-03\n",
      "  -6.88397894e-01  4.54915759e-01]\n",
      " [-4.90377681e-01 -2.91513263e-01 -8.94458489e-02  1.49878619e-01\n",
      "  -5.63234946e-02 -8.00570578e-01]\n",
      " [-2.28045622e-01  7.07536477e-01 -3.05247522e-01  5.94380987e-01\n",
      "  -1.12294382e-02  2.82209008e-02]\n",
      " [-3.61761561e-01  4.81837130e-01 -1.39724240e-01 -7.78908837e-01\n",
      "   5.48435787e-02 -8.79311954e-02]]\n",
      "\n",
      "Eigenvalues \n",
      "[3.62371526 1.21294634 0.76985699 0.38028693 0.00413964 0.01961823]\n"
     ]
    }
   ],
   "source": [
    "cov_mat = np.cov(X_std.T)\n",
    "\n",
    "eig_vals, eig_vecs = np.linalg.eig(cov_mat)\n",
    "\n",
    "print('Eigenvectors \\n%s' %eig_vecs)\n",
    "print('\\nEigenvalues \\n%s' %eig_vals)"
   ]
  },
  {
   "cell_type": "markdown",
   "metadata": {},
   "source": [
    "The largest eigenvalues are already quite obvious, which are the first three with the corresponding largest eigenvectors. This typically means that the three eigenvectors bear the most information about the dataset, and thus contribute the most to the modeling of the data structure. Ultimately, they should be chosen as the principal components while we are trying to reduce the dimension of the data. "
   ]
  },
  {
   "cell_type": "markdown",
   "metadata": {},
   "source": [
    "## 3.3 Plot, in decreasing order, the cumulative percentage of variance each eigenvector accounts for as a function of the eigenvector number.  These values should be in decreasing order of the eigenvalues. Interpret these results."
   ]
  },
  {
   "cell_type": "markdown",
   "metadata": {},
   "source": [
    "We shall first have the eigenvalues and eigenvectors we just computed listed as pairs in the decreasing order so as to compute the cumulative percentage of variance in decreasing order. "
   ]
  },
  {
   "cell_type": "code",
   "execution_count": 7,
   "metadata": {},
   "outputs": [
    {
     "name": "stdout",
     "output_type": "stream",
     "text": [
      "3.623715261672426\n",
      "1.21294633922263\n",
      "0.7698569853011382\n",
      "0.38028692695674704\n",
      "0.019618229300002357\n",
      "0.004139637828750932\n"
     ]
    }
   ],
   "source": [
    "## have all the eigenvalues and eigenvectors listed in pairs\n",
    "eig_pairs = [(np.abs(eig_vals[i]), eig_vecs[:,i]) for i in range(len(eig_vals))]\n",
    "\n",
    "## Sort the pairs in decreasing order\n",
    "eig_pairs.sort()\n",
    "eig_pairs.reverse()\n",
    "\n",
    "for p in eig_pairs:\n",
    "    print(p[0])"
   ]
  },
  {
   "cell_type": "markdown",
   "metadata": {},
   "source": [
    "And then we shall plot the cumulative percentage of the variance each eigenvector acccounts for as a function of the eigenvector number. "
   ]
  },
  {
   "cell_type": "code",
   "execution_count": 8,
   "metadata": {},
   "outputs": [
    {
     "name": "stderr",
     "output_type": "stream",
     "text": [
      "C:\\ProgramData\\Anaconda3\\lib\\site-packages\\IPython\\core\\display.py:689: UserWarning:\n",
      "\n",
      "Consider using IPython.display.IFrame instead\n",
      "\n"
     ]
    },
    {
     "data": {
      "text/html": [
       "<iframe id=\"igraph\" scrolling=\"no\" style=\"border:none;\" seamless=\"seamless\" src=\"https://plot.ly/~gentsk77/4.embed\" height=\"525px\" width=\"100%\"></iframe>"
      ],
      "text/plain": [
       "<plotly.tools.PlotlyDisplay object>"
      ]
     },
     "execution_count": 8,
     "metadata": {},
     "output_type": "execute_result"
    }
   ],
   "source": [
    "tot = sum(eig_vals)\n",
    "var_exp = [(i / tot) * 100 for i in sorted(eig_vals, reverse = True)]\n",
    "cum_var_exp = np.cumsum(var_exp)\n",
    "\n",
    "trace = dict(type = 'scatter',\n",
    "            x = ['eigenvector %s' %i for i in range(1,7)], \n",
    "            y = cum_var_exp)\n",
    "\n",
    "data = [trace]\n",
    "\n",
    "layout = dict(title = 'Cumulative percentage of the variance each eigenvector acccounts for',\n",
    "              yaxis = dict(title = 'Cumulative percentage of variance'))\n",
    "\n",
    "fig = dict(data = data, layout = layout)\n",
    "py.iplot(fig, filename = 'cumulative percentage of variance')"
   ]
  },
  {
   "cell_type": "markdown",
   "metadata": {},
   "source": [
    "Apparently, the first two principal components capture 80.5% of the variance, which means they contain the most information of the dataset. However, it's quite a delimma whether to drop the third principal component or not since it also individually captures almost 13% of the variance. Later on, since we will be performing the reduction of dimensionality to 2-D, it makes better sense to pick the first two principal components instead of three. "
   ]
  },
  {
   "cell_type": "markdown",
   "metadata": {},
   "source": [
    "## 3.4 Plot the original data projected into the space of the two principal eigenvectors (i.e. the eigenvectors with the largest two eigenvalues).  Be sure to either plot relative to the mean, or subtract the mean when you do this.  Interpret your results.  What insights can you draw?  Interpret the dimensions of the two largest principal components.  Which dimensions of the data are correlated?  Or anti-correlated?"
   ]
  },
  {
   "cell_type": "markdown",
   "metadata": {},
   "source": [
    "Let's first reduce our attribute space from 6-dimensional to 2-dimensional subspace since we are only picking two principal eigenvectors:"
   ]
  },
  {
   "cell_type": "code",
   "execution_count": 9,
   "metadata": {},
   "outputs": [
    {
     "data": {
      "text/plain": [
       "array([[-0.49794282, -0.27248989],\n",
       "       [-0.27310269,  0.22801554],\n",
       "       [-0.50410451, -0.23665018],\n",
       "       [-0.49037768, -0.29151326],\n",
       "       [-0.22804562,  0.70753648],\n",
       "       [-0.36176156,  0.48183713]])"
      ]
     },
     "execution_count": 9,
     "metadata": {},
     "output_type": "execute_result"
    }
   ],
   "source": [
    "matrix_w = np.hstack((eig_pairs[0][1].reshape(6,1), \n",
    "                      eig_pairs[1][1].reshape(6,1)))\n",
    "\n",
    "matrix_w"
   ]
  },
  {
   "cell_type": "markdown",
   "metadata": {},
   "source": [
    "Then we may perform the transform:"
   ]
  },
  {
   "cell_type": "code",
   "execution_count": 10,
   "metadata": {},
   "outputs": [
    {
     "data": {
      "text/html": [
       "<iframe id=\"igraph\" scrolling=\"no\" style=\"border:none;\" seamless=\"seamless\" src=\"https://plot.ly/~gentsk77/10.embed\" height=\"525px\" width=\"100%\"></iframe>"
      ],
      "text/plain": [
       "<plotly.tools.PlotlyDisplay object>"
      ]
     },
     "execution_count": 10,
     "metadata": {},
     "output_type": "execute_result"
    }
   ],
   "source": [
    "Y = X_std.dot(matrix_w)\n",
    "\n",
    "data = []\n",
    "\n",
    "for name, col in zip(('B', 'M'), colors.values()):\n",
    "    trace = dict(type='scatter',\n",
    "                 x = Y[y == name, 0],\n",
    "                 y = Y[y == name, 1],\n",
    "                 mode = 'markers',\n",
    "                 name = name,\n",
    "                 marker = dict(color = col, size = 9, opacity = 0.8))\n",
    "    data.append(trace)\n",
    "\n",
    "layout = dict(showlegend = True, \n",
    "              scene = dict(xaxis = dict(title = 'PC1'), \n",
    "                           yaxis = dict(title = 'PC2')))\n",
    "\n",
    "fig = dict(data = data, layout = layout)\n",
    "py.iplot(fig, filename = 'projection')"
   ]
  },
  {
   "cell_type": "markdown",
   "metadata": {},
   "source": [
    "The reduced subspace separate the two diagnosis pretty well, so it should be sufficient to drop the rest of the pcs in fact. \n",
    "\n",
    "Moreover, as both classes are spreading along the x axis, which is the first principal component, we should be able to conclude that both classes are correlated to the first principal component. \n",
    "\n",
    "Respectively, both classes are uncorrelated with the second principal component. "
   ]
  },
  {
   "cell_type": "markdown",
   "metadata": {},
   "source": [
    "# Exercise 4. Gaussian Mixture Models\n",
    "\n",
    "## 4.1 Use the EM equations for multivariate Gaussian mixture model to write a program that implements the Gaussian Mixture Model to estimates from an ensemble of data the means, covariance matrices, and class probabilities.  Choose reasonable values for your initial values and a reasonable stopping criterion.  Explain your code and the steps of the algorithm.  Do not assume a diagonal or isotropic covariance matrices."
   ]
  },
  {
   "cell_type": "markdown",
   "metadata": {},
   "source": [
    "Let's first derive the equations for our EM algorithm by completing the expectation step and maximization step respectively.\n",
    "\n",
    "### Expectation step\n",
    "\n",
    "By Bayesian, we know that \n",
    "\n",
    "$$\n",
    "p(c_k | x^n, \\theta_{1:K}) = \\frac{p(x^n | c_k, \\theta_{1:K}) p(c_k)}{p(x^n)} = \\frac{p(x^n | c_k, \\theta_{1:K}) p(c_k)}{\\Sigma_k p(x^n | c_k, \\theta_{1:K}) p(c_k)}\n",
    "$$\n",
    "\n",
    "Then, by applying the Gaussian distribution, we are given:\n",
    "\n",
    "$$\n",
    "p(c_k | x^n, \\theta_{1:K}) = \\frac{\\mathcal{N}(x^n | c_k, \\theta_{1:K}) p(c_k)}{\\Sigma_k \\mathcal{N}(x^n | c_k, \\theta_{1:K}) p(c_k)}\n",
    "$$"
   ]
  },
  {
   "cell_type": "markdown",
   "metadata": {},
   "source": [
    "### Maximization step\n",
    "\n",
    "From the slides, we have the equation:\n",
    "\n",
    "$$\n",
    "log(p(c_k | x^n, \\theta_{1:K})) = log(\\mathcal{N}(x^n | c_k, \\theta_{1:K}) p(c_k)) - log(\\sum_k \\mathcal{N} (x^n | c_k, \\theta_{1:K}) p(c_k)) \n",
    "$$\n",
    "\n",
    "Then to iteratively maximize and update the mean $\\mu_k$, covariance $\\Sigma_k$, and class prior $p_k$, we use the following equations as our update function during each iteration:\n",
    "\n",
    "$$\n",
    "log(\\mu_k') = \\sum_n log((p_{n, k}) x^n) - log(p_k)\n",
    "$$\n",
    "\n",
    "$$\n",
    "log(\\Sigma_k') = \\sum_n log((p_{n, k}) (x^n - \\mu_k) (x^n - \\mu_k)^T) - log(p_k)\n",
    "$$\n",
    "\n",
    "$$\n",
    "log(p_k') = log(p_k)\n",
    "$$"
   ]
  },
  {
   "cell_type": "markdown",
   "metadata": {},
   "source": [
    "Then we shall go ahead and implement our algorithm as below:"
   ]
  },
  {
   "cell_type": "code",
   "execution_count": 11,
   "metadata": {},
   "outputs": [],
   "source": [
    "## compute the posterior of each data point \n",
    "def expectation(data, gmm):\n",
    "    numerator = np.zeros((len(gmm), data.shape[0]))\n",
    "    denominator = np.zeros((len(gmm), data.shape[0]))\n",
    "    for k in range(len(gmm)):\n",
    "        numerator[k] = gmm[k][\"prior\"] * multivariate_normal.pdf(data, gmm[k][\"mean\"], gmm[k][\"covariance\"])\n",
    "        for j in range(len(gmm)):\n",
    "            denominator[k] += gmm[j][\"prior\"] * multivariate_normal.pdf(data, gmm[j][\"mean\"], gmm[j][\"covariance\"])\n",
    "    return np.divide(numerator, denominator)\n",
    "\n",
    "## compute new mean, covariance, and class prior for each class\n",
    "def maximization(posterior, data, gmm):\n",
    "    N = np.zeros(len(gmm))\n",
    "    for k in range(N.shape[0]):\n",
    "        N[k] = np.sum(posterior[k])\n",
    "    \n",
    "    mu = np.zeros((len(gmm), len(gmm[0][\"mean\"])))\n",
    "    for k in range(mu.shape[0]):\n",
    "        for n in range(data.shape[0]):\n",
    "            mu[k] += posterior[k, n] * data[n] \n",
    "        gmm[k][\"mean\"] = 1 / N[k] * mu[k]\n",
    "        \n",
    "    prior = np.zeros(len(gmm))\n",
    "    for k in range(prior.shape[0]):\n",
    "        prior[k] = np.divide(N[k], N.sum())\n",
    "        gmm[k][\"prior\"] = prior[k]\n",
    "        \n",
    "    return gmm"
   ]
  },
  {
   "cell_type": "markdown",
   "metadata": {},
   "source": [
    "## 4.2 Write code to plot the 3-sigma contours of each Gaussian overlayed on the data (try to find a library function to plot ellipses).  Illustrate with an example."
   ]
  },
  {
   "cell_type": "markdown",
   "metadata": {},
   "source": [
    "Let's first define the function to make the plot as below:"
   ]
  },
  {
   "cell_type": "code",
   "execution_count": 12,
   "metadata": {},
   "outputs": [],
   "source": [
    "import csv, copy\n",
    "import numpy as np\n",
    "import matplotlib.pyplot as plt\n",
    "from scipy.stats import chi2, multivariate_normal\n",
    "\n",
    "%matplotlib inline"
   ]
  },
  {
   "cell_type": "code",
   "execution_count": 13,
   "metadata": {},
   "outputs": [],
   "source": [
    "## plot the gaussian model \n",
    "def plotGaussianModel2D(mu, sigma, pltopt = 'k'):\n",
    "    if sigma.any():\n",
    "        ## setup eclipse parameter\n",
    "        c = chi2.ppf(0.9, 2) \n",
    "        ## setup eigenvector and eigenvalues\n",
    "        eigenValue, eigenVector = np.linalg.eig(sigma)\n",
    "\n",
    "        t = np.linspace(0, 2*np.pi, 100) # draw 100 points\n",
    "        u = [np.cos(t), np.sin(t)]\n",
    "        w = c * eigenVector.dot(np.diag(np.sqrt(eigenValue)).dot(u))\n",
    "        z = w.T + mu\n",
    "        \n",
    "    else:\n",
    "        z = mu\n",
    "    \n",
    "    plt.plot(z[:,0], z[:,1], pltopt)\n",
    "    \n",
    "def colorPicker(index):\n",
    "    colors = 'rgbcmyk'\n",
    "    return colors[np.remainder(index, len(colors))]\n",
    "\n",
    "def gmmplot(data, gmm):\n",
    "    # plot data points\n",
    "    plt.scatter(data[:, 0], data[:, 1], s = 4)\n",
    "    # plot gmm\n",
    "    for index, model in enumerate(gmm):\n",
    "        plotGaussianModel2D(model['mean'], model['covariance'], colorPicker(index))"
   ]
  },
  {
   "cell_type": "markdown",
   "metadata": {},
   "source": [
    "Then we may have our own example and the corresponding comparable experimental data to be matched with."
   ]
  },
  {
   "cell_type": "code",
   "execution_count": 14,
   "metadata": {},
   "outputs": [],
   "source": [
    "## the gmm parameters\n",
    "mu = np.asarray([[5, 70], [3, 80]]).astype('float')\n",
    "\n",
    "sigma = np.asarray([[[1, 0], [0, 3]], \n",
    "                    [[0.5, 0.2], [0.2, 0.6]]]).astype('float')\n",
    "\n",
    "## the experiment data to be compared with \n",
    "mu_test = np.asarray([[2, 70], [5, 80]]).astype('float')\n",
    "\n",
    "sigma_test = np.asarray([[[1, 2], [2, 4.5]], \n",
    "                         [[0.5, 2], [0.2, 3]]]).astype('float')"
   ]
  },
  {
   "cell_type": "code",
   "execution_count": 15,
   "metadata": {},
   "outputs": [
    {
     "name": "stderr",
     "output_type": "stream",
     "text": [
      "C:\\ProgramData\\Anaconda3\\lib\\site-packages\\ipykernel_launcher.py:2: RuntimeWarning:\n",
      "\n",
      "covariance is not symmetric positive-semidefinite.\n",
      "\n"
     ]
    }
   ],
   "source": [
    "mu1 = np.random.multivariate_normal(mu_test[0], sigma_test[0], 50)\n",
    "mu2 = np.random.multivariate_normal(mu_test[1], sigma_test[1], 50)"
   ]
  },
  {
   "cell_type": "code",
   "execution_count": 16,
   "metadata": {},
   "outputs": [
    {
     "data": {
      "image/png": "[encoded data removed]",
      "text/plain": [
       "<Figure size 432x288 with 1 Axes>"
      ]
     },
     "metadata": {
      "needs_background": "light"
     },
     "output_type": "display_data"
    }
   ],
   "source": [
    "## a 2-model gaussian mixture test case\n",
    "gmm = [{'mean': mu[m], 'covariance': sigma[m], 'prior': 1.0 / 2} for m in range(2)]\n",
    "## the data points\n",
    "data = np.concatenate((mu1, mu2), axis = 0)\n",
    "## make the plot and compare the results \n",
    "gmmplot(data, gmm)"
   ]
  },
  {
   "cell_type": "markdown",
   "metadata": {},
   "source": [
    "Awesome, the code is actually working, though not so pretty. We may go ahead and apply our algorithm in the next section to see how the plot would change. "
   ]
  },
  {
   "cell_type": "markdown",
   "metadata": {},
   "source": [
    "## 4.3 Define a two-model Gaussian mixture test case, synthesize the data, and verify that your algorithm infers the (approximately) correct values based on training data sampled from the model and plotting the results."
   ]
  },
  {
   "cell_type": "markdown",
   "metadata": {},
   "source": [
    "As we have already defined our 2-model Gaussian mixture test case `gmm` in the previous section, we just perform our EM algorithm on the dataset and make the plot as below:"
   ]
  },
  {
   "cell_type": "code",
   "execution_count": 17,
   "metadata": {
    "scrolled": true
   },
   "outputs": [
    {
     "data": {
      "image/png": "[encoded data removed]",
      "text/plain": [
       "<Figure size 1152x576 with 2 Axes>"
      ]
     },
     "metadata": {
      "needs_background": "light"
     },
     "output_type": "display_data"
    }
   ],
   "source": [
    "plt.figure(figsize=(16, 8))\n",
    "gmm0 = copy.deepcopy(gmm)\n",
    "\n",
    "## plot the init stage of our model\n",
    "plt.subplot(231)\n",
    "gmmplot(data, gmm0)\n",
    "\n",
    "# perform the EM algorithm on the model\n",
    "for j in range(5):\n",
    "    posterior = expectation(data, gmm0)\n",
    "    gmm0 = maximization(posterior, data, gmm0)\n",
    "        \n",
    "## plot the final stage\n",
    "plt.subplot(232)\n",
    "gmmplot(data, gmm0)"
   ]
  },
  {
   "cell_type": "markdown",
   "metadata": {},
   "source": [
    "Apparently the performance of our algorithm is pretty reasonable!"
   ]
  },
  {
   "cell_type": "markdown",
   "metadata": {},
   "source": [
    "## 4.4 Apply your model to the Old Faithful dataset (supplied with the assignment files).  Run the algorithm for the cases $K=1$, $K=2$, and $K=3$.  For each case, plot the progression of the solutions at the beginning, middle, and final steps in the learning.  For each your plots (you should have 9 total), you should also print out the corresponding values of the mean, covariance, and class probabilities."
   ]
  },
  {
   "cell_type": "markdown",
   "metadata": {},
   "source": [
    "To apply our model to the Old Faithful dataset, let's first import the dataset as below:"
   ]
  },
  {
   "cell_type": "code",
   "execution_count": 18,
   "metadata": {},
   "outputs": [],
   "source": [
    "with open('faithful.txt') as csvfile:\n",
    "    ## read and deliminate the txt file \n",
    "    file = csv.reader(csvfile, delimiter = ' ')\n",
    "    olddata = []\n",
    "    for row in file:\n",
    "        olddata.append(np.array(row).astype(np.float))\n",
    "    \n",
    "    ## put the data in an array\n",
    "    olddata = np.asarray(olddata)\n"
   ]
  },
  {
   "cell_type": "markdown",
   "metadata": {},
   "source": [
    "And then we may go ahead and initialize the model so as to make the plots:"
   ]
  },
  {
   "cell_type": "code",
   "execution_count": 19,
   "metadata": {},
   "outputs": [],
   "source": [
    "## initialize the gmm parameters\n",
    "mu = np.asarray([[3, 50], [4, 70], [6, 60]]).astype('float')\n",
    "sigma = np.asarray([[[1, 0], [0, 3]], \n",
    "                    [[0.4, 0.2], [0.2, 0.5]],\n",
    "                    [[0.3, 0], [0, 2]]]).astype('float')\n",
    "\n",
    "## initialize the gmms\n",
    "## k = 1\n",
    "gmm1 = [{'mean': mu[m], 'covariance': sigma[m], 'prior': 1.0 / 1} for m in range(1)]\n",
    "## k = 2\n",
    "gmm2 = [{'mean': mu[m], 'covariance': sigma[m], 'prior': 1.0 / 2} for m in range(2)]\n",
    "## k = 3\n",
    "gmm3 = [{'mean': mu[m], 'covariance': sigma[m], 'prior': 1.0 / 3} for m in range(3)]\n",
    "\n",
    "gmms = [gmm1, gmm2, gmm3]"
   ]
  },
  {
   "cell_type": "code",
   "execution_count": 20,
   "metadata": {},
   "outputs": [],
   "source": [
    "## helper function to plot three different gmms, each with 3 plots\n",
    "def __plot__ (gmms, data):\n",
    "    ## counter for printing \n",
    "    k = 1\n",
    "    \n",
    "    for gmmm in gmms:\n",
    "        ## init new plot each time\n",
    "        plt.figure(figsize=(16, 8))\n",
    "        ## index for subplot\n",
    "        i = 1\n",
    "        ## copy the gmm data to avoid errors\n",
    "        gmm = copy.deepcopy(gmmm)\n",
    "        \n",
    "        ## plot and print the init stage of our model\n",
    "        plt.subplot(230 + i)\n",
    "        gmmplot(data, gmm)\n",
    "        print(\"Plot \", k, \":\", gmm)\n",
    "        i += 1\n",
    "        k += 1\n",
    "\n",
    "        # perform the EM algorithm on the model\n",
    "        for j in range(5):\n",
    "            posterior = expectation(data, gmm)\n",
    "            gmm = maximization(posterior, data, gmm)\n",
    "            ## plot and print in the middle of the training \n",
    "            if (j == 3):\n",
    "                plt.subplot(230 + i)\n",
    "                gmmplot(data, gmm)\n",
    "                print(\"Plot \", k,\":\", gmm)\n",
    "                i += 1\n",
    "                k += 1\n",
    "        \n",
    "        ## plot and print the final stage\n",
    "        plt.subplot(230 + i)\n",
    "        gmmplot(data, gmm)\n",
    "        print(\"Plot \", k, \":\", gmm)\n",
    "        i += 1\n",
    "        k+= 1"
   ]
  },
  {
   "cell_type": "code",
   "execution_count": 21,
   "metadata": {},
   "outputs": [
    {
     "name": "stdout",
     "output_type": "stream",
     "text": [
      "Plot  1 : [{'mean': array([ 3., 50.]), 'covariance': array([[1., 0.],\n",
      "       [0., 3.]]), 'prior': 1.0}]\n",
      "Plot  2 : [{'mean': array([ 3.48778309, 70.89705882]), 'covariance': array([[1., 0.],\n",
      "       [0., 3.]]), 'prior': 1.0}]\n",
      "Plot  3 : [{'mean': array([ 3.48778309, 70.89705882]), 'covariance': array([[1., 0.],\n",
      "       [0., 3.]]), 'prior': 1.0}]\n",
      "Plot  4 : [{'mean': array([ 3., 50.]), 'covariance': array([[1., 0.],\n",
      "       [0., 3.]]), 'prior': 0.5}, {'mean': array([ 4., 70.]), 'covariance': array([[0.4, 0.2],\n",
      "       [0.2, 0.5]]), 'prior': 0.5}]\n",
      "Plot  5 : [{'mean': array([ 2.84620396, 63.27896441]), 'covariance': array([[1., 0.],\n",
      "       [0., 3.]]), 'prior': 0.5691671475561435}, {'mean': array([ 4.33536413, 80.9612149 ]), 'covariance': array([[0.4, 0.2],\n",
      "       [0.2, 0.5]]), 'prior': 0.4308328524438565}]\n",
      "Plot  6 : [{'mean': array([ 2.74661774, 61.24770526]), 'covariance': array([[1., 0.],\n",
      "       [0., 3.]]), 'prior': 0.5358836647722091}, {'mean': array([ 4.34355647, 82.03851315]), 'covariance': array([[0.4, 0.2],\n",
      "       [0.2, 0.5]]), 'prior': 0.464116335227791}]\n",
      "Plot  7 : [{'mean': array([ 3., 50.]), 'covariance': array([[1., 0.],\n",
      "       [0., 3.]]), 'prior': 0.3333333333333333}, {'mean': array([ 4., 70.]), 'covariance': array([[0.4, 0.2],\n",
      "       [0.2, 0.5]]), 'prior': 0.3333333333333333}, {'mean': array([ 6., 60.]), 'covariance': array([[0.3, 0. ],\n",
      "       [0. , 2. ]]), 'prior': 0.3333333333333333}]\n",
      "Plot  8 : [{'mean': array([ 2.1061183 , 54.87609775]), 'covariance': array([[1., 0.],\n",
      "       [0., 3.]]), 'prior': 0.3711794984124237}, {'mean': array([ 4.13523516, 73.40086521]), 'covariance': array([[0.4, 0.2],\n",
      "       [0.2, 0.5]]), 'prior': 0.15316618228437479}, {'mean': array([ 4.35748586, 82.5928505 ]), 'covariance': array([[0.3, 0. ],\n",
      "       [0. , 2. ]]), 'prior': 0.47565431930320157}]\n",
      "Plot  9 : [{'mean': array([ 2.10516048, 54.86585277]), 'covariance': array([[1., 0.],\n",
      "       [0., 3.]]), 'prior': 0.370889972214986}, {'mean': array([ 4.13363578, 73.36097197]), 'covariance': array([[0.4, 0.2],\n",
      "       [0.2, 0.5]]), 'prior': 0.1517544267401682}, {'mean': array([ 4.35671571, 82.56949721]), 'covariance': array([[0.3, 0. ],\n",
      "       [0. , 2. ]]), 'prior': 0.4773556010448458}]\n"
     ]
    },
    {
     "data": {
      "image/png": "[encoded data removed]",
      "text/plain": [
       "<Figure size 1152x576 with 3 Axes>"
      ]
     },
     "metadata": {
      "needs_background": "light"
     },
     "output_type": "display_data"
    },
    {
     "data": {
      "image/png": "[encoded data removed]",
      "text/plain": [
       "<Figure size 1152x576 with 3 Axes>"
      ]
     },
     "metadata": {
      "needs_background": "light"
     },
     "output_type": "display_data"
    },
    {
     "data": {
      "image/png": "[encoded data removed]",
      "text/plain": [
       "<Figure size 1152x576 with 3 Axes>"
      ]
     },
     "metadata": {
      "needs_background": "light"
     },
     "output_type": "display_data"
    }
   ],
   "source": [
    "__plot__(gmms, olddata)"
   ]
  },
  {
   "cell_type": "markdown",
   "metadata": {},
   "source": [
    "The result looks pretty good!"
   ]
  },
  {
   "cell_type": "markdown",
   "metadata": {},
   "source": [
    "# Exploration"
   ]
  },
  {
   "cell_type": "markdown",
   "metadata": {},
   "source": [
    "## Introduction\n",
    "\n",
    "So in Exercise 3, we have performed PCA on the dataset to reducte data dimensions, while in Exercise 4, we have applied our EM algorithm on a few Gaussian mixture models to train and cluster the data points. In this part, I'd like to combine the two exercises a little bit to see how the two methods can contribute to real data classification in practice. \n",
    "\n",
    "My exploration exercise can be broken down into a few steps as below:\n",
    "\n",
    "1. Choose and inspect the dataset.\n",
    "2. Perform PCA on the dataset to find appropriate principal components so as the \"flatten\" the dimension of our datasets as a preparation for step 3.\n",
    "3. Apply the EM algorithm we came up with in Exercise 4 on the flatten dataset and see how it goes.\n",
    "4. Try to come up with different sets of mean and covariances to fit the dataset. See how different parameters can affect the final training effects of our EM algorithm.\n",
    "\n",
    "Apparently, procedures from step 1 to step 3 are basically similar to what we have done before, so we should be able to reuse our existing code to achieve these steps. Therefore, to make this exploration part a little bit more challenging, I will be spending more time on choosing an appropriate dataset that can fulfill the ultimate goal of this exercise: a dataset complicated enough so that we can possibly perform more experiments in our step 4."
   ]
  },
  {
   "cell_type": "markdown",
   "metadata": {},
   "source": [
    "## Data inspection"
   ]
  },
  {
   "cell_type": "code",
   "execution_count": null,
   "metadata": {},
   "outputs": [],
   "source": []
  },
  {
   "cell_type": "code",
   "execution_count": null,
   "metadata": {},
   "outputs": [],
   "source": []
  },
  {
   "cell_type": "code",
   "execution_count": null,
   "metadata": {},
   "outputs": [],
   "source": []
  },
  {
   "cell_type": "code",
   "execution_count": null,
   "metadata": {},
   "outputs": [],
   "source": []
  }
 ],
 "metadata": {
  "kernelspec": {
   "display_name": "Python 3",
   "language": "python",
   "name": "python3"
  },
  "language_info": {
   "codemirror_mode": {
    "name": "ipython",
    "version": 3
   },
   "file_extension": ".py",
   "mimetype": "text/x-python",
   "name": "python",
   "nbconvert_exporter": "python",
   "pygments_lexer": "ipython3",
   "version": "3.7.2"
  }
 },
 "nbformat": 4,
 "nbformat_minor": 2
}
