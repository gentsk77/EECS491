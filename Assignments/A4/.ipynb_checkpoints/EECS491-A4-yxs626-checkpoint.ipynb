{
 "cells": [
  {
   "cell_type": "markdown",
   "metadata": {},
   "source": [
    "## EECS 491 Assignment 3\n",
    "\n",
    "  Yue Shu  \n",
    "  Spring 2019  \n",
    "  Prof. Lewicki  \n",
    "  "
   ]
  },
  {
   "cell_type": "markdown",
   "metadata": {},
   "source": [
    "# Exercise 1. Multivariate Gaussians\n",
    "\n",
    "## 1.1 Consider the 2D normal distribution \n",
    "\n",
    "**$$ p(x,y) \\sim \\mathcal{N}(\\mathbf{\\mu}, \\mathbf{\\Sigma}) $$**\n",
    "\n",
    "**Define three separate 2D covariance matrices $\\mathbf{\\Sigma}$ for each of the following cases: $x$ and $y$ are uncorrelated; $x$ and $y$ are correlated; and $x$ and $y$ are anti-correlated.**"
   ]
  },
  {
   "cell_type": "markdown",
   "metadata": {},
   "source": [
    "The covariance matrix $\\Sigma$ could be defined as below in general:\n",
    "\n",
    "$$  \n",
    "\\Sigma =  \\begin{bmatrix} \\Sigma_{x x} & \\Sigma_{x y} \\\\ \\Sigma_{y x} & \\Sigma_{y y} \\end{bmatrix}\n",
    "$$"
   ]
  },
  {
   "cell_type": "markdown",
   "metadata": {},
   "source": [
    "### $x$ and $y$ are uncorrelated\n",
    "\n",
    "Since $x$ and $y$ are uncorrelated, we may conclude that $\\Sigma_{x y} = \\Sigma_{y x} = 0$, and thus the convariance matrix should be defined as:\n",
    "\n",
    "$$  \n",
    "\\Sigma =  \\begin{bmatrix} var(x) & 0 \\\\ 0 & var(y) \\end{bmatrix}\n",
    "$$\n",
    "\n",
    "### $x$ and $y$ are correlated\n",
    "\n",
    "Since $x$ and $y$ are positively correlated, we may conclude that $\\Sigma_{x y} > 0$, $\\Sigma_{y x} > 0$, and thus the convariance matrix should be defined as:\n",
    "\n",
    "$$  \n",
    "\\Sigma =  \\begin{bmatrix} var(x) & \\Sigma_{x y} \\\\ \\Sigma_{y x} & var(y) \\end{bmatrix}, \\Sigma_{x y} > 0, \\Sigma_{y x} > 0\n",
    "$$\n",
    "\n",
    "### $x$ and $y$ are anti-correlated\n",
    "\n",
    "Since $x$ and $y$ are negatively correlated, we may conclude that $\\Sigma_{x y} < 0$, $\\Sigma_{y x} < 0$, and thus the convariance matrix should be defined as:\n",
    "\n",
    "$$  \n",
    "\\Sigma =  \\begin{bmatrix} var(x) & \\Sigma_{x y} \\\\ \\Sigma_{y x} & var(y) \\end{bmatrix}, \\Sigma_{x y} < 0, \\Sigma_{y x} < 0\n",
    "$$"
   ]
  },
  {
   "cell_type": "markdown",
   "metadata": {},
   "source": [
    "## 1.2 Compute the principal axes for each of these distributions, i.e. the eigenvectors of the covariance matrices."
   ]
  },
  {
   "cell_type": "markdown",
   "metadata": {},
   "source": [
    "The expression of eigenvector and eigenvalue is \n",
    "\n",
    "$$\n",
    "\\mathbf{A} \\mathbf{v} = \\lambda \\mathbf{v}\n",
    "$$\n",
    "\n",
    "### $x$ and $y$ are uncorrelated\n",
    "\n",
    "$$\n",
    "\\begin{bmatrix} var(x) & 0 \\\\ 0 & var(y) \\end{bmatrix} \\mathbf{v} = \\lambda \\mathbf{v}\n",
    "$$\n",
    "\n",
    "$$\n",
    "\\begin{bmatrix} var(x) & 0 \\\\ 0 & var(y) \\end{bmatrix} \\mathbf{v} = \\lambda \\mathbf{v}\n",
    "$$\n",
    "\n",
    "$$\n",
    "\\begin{bmatrix} var(x) & 0 \\\\ 0 & var(y) \\end{bmatrix} \\begin{bmatrix} v_1 \\\\ v_2 \\end{bmatrix} = \\begin{bmatrix} \\lambda v_1 \\\\ \\lambda v_2 \\end{bmatrix}\n",
    "$$\n",
    "\n",
    "$$\n",
    "\\begin{bmatrix} var(x) v_1 \\\\ var(y) v_2 \\end{bmatrix}  = \\begin{bmatrix} \\lambda v_1 \\\\ \\lambda v_2 \\end{bmatrix}\n",
    "$$\n",
    "\n",
    "Therefore, if $var(x) \\neq var(y)$, we may conclude that the eigenvector does not exist. \n",
    "\n",
    "However, if $var(x) = var(y)$, which means $\\lambda = var(x) = var(y)$, then any vector would suffice. "
   ]
  },
  {
   "cell_type": "markdown",
   "metadata": {},
   "source": [
    "### $x$ and $y$ are correlated"
   ]
  },
  {
   "cell_type": "markdown",
   "metadata": {},
   "source": [
    "The steps for positively correlated and negatively correlated $x$ and $y$ should be the same, since the only difference is the sign of the covariance, which is only represented in the actual calculations. \n",
    "\n",
    "$$  \n",
    "\\begin{bmatrix} var(x) & \\Sigma_{x y} \\\\ \\Sigma_{y x} & var(y) \\end{bmatrix}  \\begin{bmatrix} v_1 \\\\ v_2 \\end{bmatrix} = \\begin{bmatrix} \\lambda v_1 \\\\ \\lambda v_2 \\end{bmatrix}\n",
    "$$\n",
    "\n",
    "$$\n",
    "\\begin{bmatrix} var(x) v_1 + \\Sigma_{xy} v_2 \\\\ \\Sigma_{yx} v_1 + var(y) v_2 \\end{bmatrix}  = \\begin{bmatrix} \\lambda v_1 \\\\ \\lambda v_2 \\end{bmatrix}\n",
    "$$\n",
    "\n",
    "$$\n",
    "\\Sigma_{xy} v_2 = (\\lambda - var(x)v_1)v_1\n",
    "$$\n",
    "\n",
    "$$\n",
    "\\Sigma_{yx}v_1 = (\\lambda - var(y) v_2)v_2\n",
    "$$\n",
    "\n",
    "$$\n",
    "\\Sigma_{xy} v_2 = \\lambda v_1 - var(x)v_1^2\n",
    "$$\n",
    "\n",
    "$$\n",
    "v_2 = \\frac{\\lambda v_1 - var(x)v_1^2}{\\Sigma_{xy}}\n",
    "$$\n",
    "\n",
    "$$\n",
    "v_1 = \\frac{\\lambda v_2 - var(y)v_2^2}{\\Sigma_{yx}}\n",
    "$$\n",
    "\n",
    "$$\n",
    "v_1 = \\frac{\\lambda \\frac{\\lambda v_1 - var(x)v_1^2}{\\Sigma_{xy}} - var(y)( \\frac{\\lambda v_1 - var(x)v_1^2}{\\Sigma_{xy}})^2}{\\Sigma_{yx}}\n",
    "$$\n",
    "\n",
    "After $v_1$ is solved, we just go back and solve for $v_2$. I will put a stop here since the process should be pretty trivial and in reality once we've gain the actual covariance matrix it should be pretty straight forward. \n",
    "\n",
    "The steps of solving for the eigenvalue $\\lambda$ should also be quite simple:\n",
    "\n",
    "$$\n",
    "\\Sigma - \\lambda I = \\begin{bmatrix} var(x) & \\Sigma_{x y} \\\\ \\Sigma_{y x} & var(y) \\end{bmatrix} - \\begin{bmatrix} \\lambda & 0 \\\\ 0  &  \\lambda  \\end{bmatrix} = \\begin{bmatrix} var(x) - \\lambda & \\Sigma_{xy} \\\\ \\Sigma_{yx} & var(y) - \\lambda  \\end{bmatrix}\n",
    "$$\n",
    "\n",
    "\n",
    "Then we use the determinant to solve for the eigenvalue:\n",
    "\n",
    "$$\n",
    "var(x)var(y) + \\lambda ^2 - \\lambda var(x) - \\lambda var(y) = \\Sigma_{xy} \\Sigma_{yx}\n",
    "$$\n",
    "\n",
    "\n",
    "$$\n",
    "\\lambda ^2 - ( var(x) + var(y)) \\lambda - \\Sigma_{xy} \\Sigma_{yx} + var(x)var(y) = 0\n",
    "$$\n",
    "\n",
    "$$\n",
    "\\lambda_1 = \\frac{var(x) + var(y) + \\sqrt{( var(x) - var(y))^2 - 4 \\Sigma_{xy} \\Sigma_{yx}}}{2}\n",
    "$$\n",
    "\n",
    "$$\n",
    "\\lambda_2 = \\frac{var(x) + var(y) - \\sqrt{( var(x) - var(y))^2 - 4\\Sigma_{xy} \\Sigma_{yx}}}{2}\n",
    "$$\n",
    "\n",
    "All we should do next is to plug in the two eigenvalues, check which one is valid, and then solve for the corresponding eigenvector. Once again, I will pause my solution here since solving for the eigenvectors without any actual value is quite trivial, and as long as the steps I listed above are strictly followed, the calculation should be quite simple. "
   ]
  },
  {
   "cell_type": "markdown",
   "metadata": {},
   "source": [
    "# Exercise 2. Linear Gaussian Models (20 pts)\n",
    "\n",
    "Consider two multi-dimensional Gaussian random vector variables\n",
    "\n",
    "$$\n",
    "\\newcommand{\\bm}{\\mathbf}\n",
    "\\begin{eqnarray}\n",
    "p(\\bm{x}) &=& \\mathcal{N}(\\bm{x} | \\bm{\\mu_x}, \\bm{\\Sigma}_x) \\\\\n",
    "p(\\bm{z}) &=& \\mathcal{N}(\\bm{z} | \\bm{\\mu_z}, \\bm{\\Sigma}_z)\n",
    "\\end{eqnarray}\n",
    "$$\n",
    "\n",
    "Now consider a third variable that is the sum of the first two:\n",
    "\n",
    "$$\n",
    "\\bm{y} = \\bm{x} + \\bm{z}\n",
    "$$\n"
   ]
  },
  {
   "cell_type": "markdown",
   "metadata": {},
   "source": [
    "## 2.1 What is the expression for the distribution $p(\\bm{y})$?"
   ]
  },
  {
   "cell_type": "markdown",
   "metadata": {},
   "source": [
    "First of all, assuming joint normality of $(\\mathbf{x}, \\mathbf{z})$, then we should have, according to the linear properties of multivariate normal random vectors,\n",
    "\n",
    "$$\n",
    "\\mathbf{y} = \\mathbf{A} \\mathbf{x} + \\mathbf{B} \\mathbf{z} = (\\mathbf{A} \\space \\space \\mathbf{B})  \\begin{pmatrix}\n",
    "    \\mathbf{x} \\\\  \\mathbf{z}\n",
    "\\end{pmatrix}\n",
    "$$\n",
    "\n",
    "where both $\\mathbf{A}$ and $\\mathbf{B}$ are identity matrix $\\mathbf{I}$.\n",
    "\n",
    "And thus \n",
    "\n",
    "$$\n",
    "p(\\mathbf{y}) = p(\\mathbf{A} \\mathbf{x} + \\mathbf{B} \\mathbf{z}) =  \\mathcal{N} (\\mathbf{A} \\mathbf{x} + \\mathbf{B} \\mathbf{y} | (\\mathbf{A} \\space \\space \\space  \\mathbf{B})  \\begin{pmatrix} \\mathbf{\\mu_x} \\\\ \\mathbf{\\mu_z} \\end{pmatrix}, (\\mathbf{A} \\space \\space \\space  \\mathbf{B}) \\mathbf{\\Sigma_{x, z} \\begin{pmatrix} \\mathbf{A^T} \\\\ \\mathbf{B^T} \\end{pmatrix}}\n",
    "$$\n",
    "\n",
    "Then we shall plug in $\\mathbf{A} = \\mathbf{B} = \\mathbf{I}$, and the final expression of $p(\\mathbf{y})$ would be:\n",
    "\n",
    "$$\n",
    "p(\\mathbf{y}) = \\mathcal{N} ( \\mathbf{x} + \\mathbf{z} | \\mathbf{\\mu_x} + \\mathbf{\\mu_z}, \\mathbf{ \\Sigma_{xx} } + \\mathbf{\\Sigma_{xz}^T} + \\mathbf{\\Sigma_{xz} } + \\mathbf{ \\Sigma_{zz}})\n",
    "$$"
   ]
  },
  {
   "cell_type": "markdown",
   "metadata": {},
   "source": [
    "## 2.2 What is the expression for the condidtional distribution $p(\\bm{y|x})$?"
   ]
  },
  {
   "cell_type": "markdown",
   "metadata": {},
   "source": []
  },
  {
   "cell_type": "markdown",
   "metadata": {},
   "source": []
  },
  {
   "cell_type": "markdown",
   "metadata": {},
   "source": [
    "## 2.3 Write code that simulates this data and illustrate the results."
   ]
  },
  {
   "cell_type": "markdown",
   "metadata": {},
   "source": []
  },
  {
   "cell_type": "markdown",
   "metadata": {},
   "source": []
  },
  {
   "cell_type": "markdown",
   "metadata": {},
   "source": []
  },
  {
   "cell_type": "markdown",
   "metadata": {},
   "source": []
  },
  {
   "cell_type": "markdown",
   "metadata": {},
   "source": []
  }
 ],
 "metadata": {
  "kernelspec": {
   "display_name": "Python 3",
   "language": "python",
   "name": "python3"
  },
  "language_info": {
   "codemirror_mode": {
    "name": "ipython",
    "version": 3
   },
   "file_extension": ".py",
   "mimetype": "text/x-python",
   "name": "python",
   "nbconvert_exporter": "python",
   "pygments_lexer": "ipython3",
   "version": "3.7.2"
  }
 },
 "nbformat": 4,
 "nbformat_minor": 2
}
